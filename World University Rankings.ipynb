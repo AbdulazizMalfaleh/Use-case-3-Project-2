{
 "cells": [
  {
   "cell_type": "code",
   "execution_count": 197,
   "metadata": {},
   "outputs": [],
   "source": [
    "#Import all relevant libraries\n",
    "import numpy as np\n",
    "import pandas as pd\n",
    "import matplotlib.pyplot as plt\n",
    "import seaborn as sns\n",
    "from scipy.stats import zscore\n",
    "import plotly.express as px\n",
    "import plotly.graph_objects as go\n",
    "\n",
    "## This statement allows the visuals to render within your Jupyter Notebook.\n",
    "%matplotlib inline"
   ]
  },
  {
   "cell_type": "markdown",
   "metadata": {},
   "source": [
    "## Loading the data\n",
    "We can now load the dataset into pandas using the read_excel() function. This converts the XLSX file into a Pandas dataframe."
   ]
  },
  {
   "cell_type": "code",
   "execution_count": 198,
   "metadata": {},
   "outputs": [],
   "source": [
    "#Read in the xlsx files and convert to a Pandas dataframe\n",
    "Uni_df = {\"THE\": pd.read_excel('Data/Times_Higher_Education.xlsx'),\n",
    "        \"ARWU\": pd.read_excel('Data/shanghai_Ranking.xlsx'),\n",
    "        \"CWUR\": pd.read_excel('Data/Word_Rank_University.xlsx'),}"
   ]
  },
  {
   "cell_type": "markdown",
   "metadata": {},
   "source": [
    "### Viewing the dataframe\n",
    "We can get a quick sense of the size of our dataset by using the shape method. This returns a tuple with the number of rows and columns in the dataset."
   ]
  },
  {
   "cell_type": "code",
   "execution_count": 199,
   "metadata": {},
   "outputs": [
    {
     "data": {
      "text/plain": [
       "'Times Higher Education'"
      ]
     },
     "metadata": {},
     "output_type": "display_data"
    },
    {
     "data": {
      "text/html": [
       "<div>\n",
       "<style scoped>\n",
       "    .dataframe tbody tr th:only-of-type {\n",
       "        vertical-align: middle;\n",
       "    }\n",
       "\n",
       "    .dataframe tbody tr th {\n",
       "        vertical-align: top;\n",
       "    }\n",
       "\n",
       "    .dataframe thead th {\n",
       "        text-align: right;\n",
       "    }\n",
       "</style>\n",
       "<table border=\"1\" class=\"dataframe\">\n",
       "  <thead>\n",
       "    <tr style=\"text-align: right;\">\n",
       "      <th></th>\n",
       "      <th>Rank</th>\n",
       "      <th>University Name</th>\n",
       "      <th>ranking-institution-title href</th>\n",
       "      <th>Location</th>\n",
       "      <th>sdg-score-multi__number</th>\n",
       "      <th>sdg-score-multi__value</th>\n",
       "      <th>sdg-score-multi__number 2</th>\n",
       "      <th>sdg-score-multi__value 2</th>\n",
       "      <th>sdg-score-multi__number 3</th>\n",
       "      <th>sdg-score-multi__value 3</th>\n",
       "      <th>sdg-score-multi__value 4</th>\n",
       "      <th>scores</th>\n",
       "      <th>sdg-score-multi__number 5</th>\n",
       "      <th>sdg-score-multi__value 5</th>\n",
       "      <th>sdg-score-multi__number 6</th>\n",
       "      <th>sdg-score-multi__value 6</th>\n",
       "      <th>sdg-score-multi__number 7</th>\n",
       "      <th>sdg-score-multi__value 7</th>\n",
       "      <th>sdg-score-multi__number 8</th>\n",
       "      <th>sdg-score-multi__value 8</th>\n",
       "    </tr>\n",
       "  </thead>\n",
       "  <tbody>\n",
       "    <tr>\n",
       "      <th>0</th>\n",
       "      <td>1</td>\n",
       "      <td>Western Sydney University</td>\n",
       "      <td>https://www.timeshighereducation.com/world-uni...</td>\n",
       "      <td>Australia</td>\n",
       "      <td>5.0</td>\n",
       "      <td>80.3</td>\n",
       "      <td>12.0</td>\n",
       "      <td>93.4</td>\n",
       "      <td>15.0</td>\n",
       "      <td>96.7</td>\n",
       "      <td>98.8</td>\n",
       "      <td>99.4</td>\n",
       "      <td>NaN</td>\n",
       "      <td>NaN</td>\n",
       "      <td>NaN</td>\n",
       "      <td>NaN</td>\n",
       "      <td>NaN</td>\n",
       "      <td>NaN</td>\n",
       "      <td>NaN</td>\n",
       "      <td>NaN</td>\n",
       "    </tr>\n",
       "    <tr>\n",
       "      <th>1</th>\n",
       "      <td>2</td>\n",
       "      <td>University of Manchester</td>\n",
       "      <td>https://www.timeshighereducation.com/world-uni...</td>\n",
       "      <td>United Kingdom</td>\n",
       "      <td>15.0</td>\n",
       "      <td>97.4</td>\n",
       "      <td>12.0</td>\n",
       "      <td>92.9</td>\n",
       "      <td>11.0</td>\n",
       "      <td>92.2</td>\n",
       "      <td>94.8</td>\n",
       "      <td>97.5</td>\n",
       "      <td>NaN</td>\n",
       "      <td>NaN</td>\n",
       "      <td>NaN</td>\n",
       "      <td>NaN</td>\n",
       "      <td>NaN</td>\n",
       "      <td>NaN</td>\n",
       "      <td>NaN</td>\n",
       "      <td>NaN</td>\n",
       "    </tr>\n",
       "    <tr>\n",
       "      <th>2</th>\n",
       "      <td>3</td>\n",
       "      <td>Queen’s University</td>\n",
       "      <td>https://www.timeshighereducation.com/world-uni...</td>\n",
       "      <td>Canada</td>\n",
       "      <td>2.0</td>\n",
       "      <td>90.6</td>\n",
       "      <td>16.0</td>\n",
       "      <td>93.4</td>\n",
       "      <td>11.0</td>\n",
       "      <td>91.0</td>\n",
       "      <td>92.6</td>\n",
       "      <td>97.2</td>\n",
       "      <td>NaN</td>\n",
       "      <td>NaN</td>\n",
       "      <td>NaN</td>\n",
       "      <td>NaN</td>\n",
       "      <td>NaN</td>\n",
       "      <td>NaN</td>\n",
       "      <td>NaN</td>\n",
       "      <td>NaN</td>\n",
       "    </tr>\n",
       "    <tr>\n",
       "      <th>3</th>\n",
       "      <td>4</td>\n",
       "      <td>Universiti Sains Malaysia</td>\n",
       "      <td>https://www.timeshighereducation.com/world-uni...</td>\n",
       "      <td>Malaysia</td>\n",
       "      <td>16.0</td>\n",
       "      <td>94.1</td>\n",
       "      <td>2.0</td>\n",
       "      <td>86.4</td>\n",
       "      <td>1.0</td>\n",
       "      <td>84.9</td>\n",
       "      <td>97.8</td>\n",
       "      <td>96.9</td>\n",
       "      <td>NaN</td>\n",
       "      <td>NaN</td>\n",
       "      <td>NaN</td>\n",
       "      <td>NaN</td>\n",
       "      <td>NaN</td>\n",
       "      <td>NaN</td>\n",
       "      <td>NaN</td>\n",
       "      <td>NaN</td>\n",
       "    </tr>\n",
       "    <tr>\n",
       "      <th>4</th>\n",
       "      <td>5</td>\n",
       "      <td>University of Tasmania</td>\n",
       "      <td>https://www.timeshighereducation.com/world-uni...</td>\n",
       "      <td>Australia</td>\n",
       "      <td>13.0</td>\n",
       "      <td>92.8</td>\n",
       "      <td>15.0</td>\n",
       "      <td>96.2</td>\n",
       "      <td>14.0</td>\n",
       "      <td>95.1</td>\n",
       "      <td>96.3</td>\n",
       "      <td>96.6</td>\n",
       "      <td>NaN</td>\n",
       "      <td>NaN</td>\n",
       "      <td>NaN</td>\n",
       "      <td>NaN</td>\n",
       "      <td>NaN</td>\n",
       "      <td>NaN</td>\n",
       "      <td>NaN</td>\n",
       "      <td>NaN</td>\n",
       "    </tr>\n",
       "  </tbody>\n",
       "</table>\n",
       "</div>"
      ],
      "text/plain": [
       "  Rank           University Name   \\\n",
       "0    1  Western Sydney University   \n",
       "1    2   University of Manchester   \n",
       "2    3         Queen’s University   \n",
       "3    4  Universiti Sains Malaysia   \n",
       "4    5     University of Tasmania   \n",
       "\n",
       "                      ranking-institution-title href        Location  \\\n",
       "0  https://www.timeshighereducation.com/world-uni...       Australia   \n",
       "1  https://www.timeshighereducation.com/world-uni...  United Kingdom   \n",
       "2  https://www.timeshighereducation.com/world-uni...          Canada   \n",
       "3  https://www.timeshighereducation.com/world-uni...        Malaysia   \n",
       "4  https://www.timeshighereducation.com/world-uni...       Australia   \n",
       "\n",
       "   sdg-score-multi__number sdg-score-multi__value  sdg-score-multi__number 2  \\\n",
       "0                      5.0                   80.3                       12.0   \n",
       "1                     15.0                   97.4                       12.0   \n",
       "2                      2.0                   90.6                       16.0   \n",
       "3                     16.0                   94.1                        2.0   \n",
       "4                     13.0                   92.8                       15.0   \n",
       "\n",
       "  sdg-score-multi__value 2  sdg-score-multi__number 3  \\\n",
       "0                     93.4                       15.0   \n",
       "1                     92.9                       11.0   \n",
       "2                     93.4                       11.0   \n",
       "3                     86.4                        1.0   \n",
       "4                     96.2                       14.0   \n",
       "\n",
       "  sdg-score-multi__value 3 sdg-score-multi__value 4 scores  \\\n",
       "0                     96.7                     98.8   99.4   \n",
       "1                     92.2                     94.8   97.5   \n",
       "2                     91.0                     92.6   97.2   \n",
       "3                     84.9                     97.8   96.9   \n",
       "4                     95.1                     96.3   96.6   \n",
       "\n",
       "   sdg-score-multi__number 5 sdg-score-multi__value 5  \\\n",
       "0                        NaN                      NaN   \n",
       "1                        NaN                      NaN   \n",
       "2                        NaN                      NaN   \n",
       "3                        NaN                      NaN   \n",
       "4                        NaN                      NaN   \n",
       "\n",
       "   sdg-score-multi__number 6 sdg-score-multi__value 6  \\\n",
       "0                        NaN                      NaN   \n",
       "1                        NaN                      NaN   \n",
       "2                        NaN                      NaN   \n",
       "3                        NaN                      NaN   \n",
       "4                        NaN                      NaN   \n",
       "\n",
       "   sdg-score-multi__number 7 sdg-score-multi__value 7  \\\n",
       "0                        NaN                      NaN   \n",
       "1                        NaN                      NaN   \n",
       "2                        NaN                      NaN   \n",
       "3                        NaN                      NaN   \n",
       "4                        NaN                      NaN   \n",
       "\n",
       "   sdg-score-multi__number 8 sdg-score-multi__value 8  \n",
       "0                        NaN                      NaN  \n",
       "1                        NaN                      NaN  \n",
       "2                        NaN                      NaN  \n",
       "3                        NaN                      NaN  \n",
       "4                        NaN                      NaN  "
      ]
     },
     "metadata": {},
     "output_type": "display_data"
    },
    {
     "data": {
      "text/plain": [
       "'shanghai Ranking'"
      ]
     },
     "metadata": {},
     "output_type": "display_data"
    },
    {
     "data": {
      "text/html": [
       "<div>\n",
       "<style scoped>\n",
       "    .dataframe tbody tr th:only-of-type {\n",
       "        vertical-align: middle;\n",
       "    }\n",
       "\n",
       "    .dataframe tbody tr th {\n",
       "        vertical-align: top;\n",
       "    }\n",
       "\n",
       "    .dataframe thead th {\n",
       "        text-align: right;\n",
       "    }\n",
       "</style>\n",
       "<table border=\"1\" class=\"dataframe\">\n",
       "  <thead>\n",
       "    <tr style=\"text-align: right;\">\n",
       "      <th></th>\n",
       "      <th>Ranking</th>\n",
       "      <th>University Name</th>\n",
       "      <th>National/Regional Rank</th>\n",
       "      <th>Total Score</th>\n",
       "      <th>LOGO</th>\n",
       "      <th>University Detail</th>\n",
       "    </tr>\n",
       "  </thead>\n",
       "  <tbody>\n",
       "    <tr>\n",
       "      <th>0</th>\n",
       "      <td>1</td>\n",
       "      <td>Harvard University</td>\n",
       "      <td>1</td>\n",
       "      <td>100.0</td>\n",
       "      <td>http://www.shanghairanking.com/_uni/logo/032bd...</td>\n",
       "      <td>http://www.shanghairanking.com/institution/har...</td>\n",
       "    </tr>\n",
       "    <tr>\n",
       "      <th>1</th>\n",
       "      <td>2</td>\n",
       "      <td>Stanford University</td>\n",
       "      <td>2</td>\n",
       "      <td>76.8</td>\n",
       "      <td>http://www.shanghairanking.com/_uni/logo/13de8...</td>\n",
       "      <td>http://www.shanghairanking.com/institution/sta...</td>\n",
       "    </tr>\n",
       "    <tr>\n",
       "      <th>2</th>\n",
       "      <td>3</td>\n",
       "      <td>Massachusetts Institute of Technology (MIT)</td>\n",
       "      <td>3</td>\n",
       "      <td>70.1</td>\n",
       "      <td>http://www.shanghairanking.com/_uni/logo/79165...</td>\n",
       "      <td>http://www.shanghairanking.com/institution/mas...</td>\n",
       "    </tr>\n",
       "    <tr>\n",
       "      <th>3</th>\n",
       "      <td>4</td>\n",
       "      <td>University of Cambridge</td>\n",
       "      <td>1</td>\n",
       "      <td>69.6</td>\n",
       "      <td>http://www.shanghairanking.com/_uni/logo/8d986...</td>\n",
       "      <td>http://www.shanghairanking.com/institution/uni...</td>\n",
       "    </tr>\n",
       "    <tr>\n",
       "      <th>4</th>\n",
       "      <td>5</td>\n",
       "      <td>University of California, Berkeley</td>\n",
       "      <td>4</td>\n",
       "      <td>65.3</td>\n",
       "      <td>http://www.shanghairanking.com/_uni/logo/0ff17...</td>\n",
       "      <td>http://www.shanghairanking.com/institution/uni...</td>\n",
       "    </tr>\n",
       "  </tbody>\n",
       "</table>\n",
       "</div>"
      ],
      "text/plain": [
       "  Ranking                              University Name National/Regional Rank  \\\n",
       "0       1                           Harvard University                      1   \n",
       "1       2                          Stanford University                      2   \n",
       "2       3  Massachusetts Institute of Technology (MIT)                      3   \n",
       "3       4                      University of Cambridge                      1   \n",
       "4       5           University of California, Berkeley                      4   \n",
       "\n",
       "   Total Score                                               LOGO  \\\n",
       "0        100.0  http://www.shanghairanking.com/_uni/logo/032bd...   \n",
       "1         76.8  http://www.shanghairanking.com/_uni/logo/13de8...   \n",
       "2         70.1  http://www.shanghairanking.com/_uni/logo/79165...   \n",
       "3         69.6  http://www.shanghairanking.com/_uni/logo/8d986...   \n",
       "4         65.3  http://www.shanghairanking.com/_uni/logo/0ff17...   \n",
       "\n",
       "                                  University Detail   \n",
       "0  http://www.shanghairanking.com/institution/har...  \n",
       "1  http://www.shanghairanking.com/institution/sta...  \n",
       "2  http://www.shanghairanking.com/institution/mas...  \n",
       "3  http://www.shanghairanking.com/institution/uni...  \n",
       "4  http://www.shanghairanking.com/institution/uni...  "
      ]
     },
     "metadata": {},
     "output_type": "display_data"
    },
    {
     "data": {
      "text/plain": [
       "'Word Rank University'"
      ]
     },
     "metadata": {},
     "output_type": "display_data"
    },
    {
     "data": {
      "text/html": [
       "<div>\n",
       "<style scoped>\n",
       "    .dataframe tbody tr th:only-of-type {\n",
       "        vertical-align: middle;\n",
       "    }\n",
       "\n",
       "    .dataframe tbody tr th {\n",
       "        vertical-align: top;\n",
       "    }\n",
       "\n",
       "    .dataframe thead th {\n",
       "        text-align: right;\n",
       "    }\n",
       "</style>\n",
       "<table border=\"1\" class=\"dataframe\">\n",
       "  <thead>\n",
       "    <tr style=\"text-align: right;\">\n",
       "      <th></th>\n",
       "      <th>World Rank</th>\n",
       "      <th>University Names</th>\n",
       "      <th>Location</th>\n",
       "      <th>National Rank</th>\n",
       "      <th>Educational Rank</th>\n",
       "      <th>Employability Rank</th>\n",
       "      <th>Faculty Rank</th>\n",
       "      <th>Research Rank</th>\n",
       "      <th>Score</th>\n",
       "    </tr>\n",
       "  </thead>\n",
       "  <tbody>\n",
       "    <tr>\n",
       "      <th>0</th>\n",
       "      <td>1Top 0.1%</td>\n",
       "      <td>Harvard University\\n  CWUR Rating System:   Ed...</td>\n",
       "      <td>USA</td>\n",
       "      <td>1</td>\n",
       "      <td>1</td>\n",
       "      <td>1</td>\n",
       "      <td>1</td>\n",
       "      <td>1</td>\n",
       "      <td>100.0</td>\n",
       "    </tr>\n",
       "    <tr>\n",
       "      <th>1</th>\n",
       "      <td>2Top 0.1%</td>\n",
       "      <td>Massachusetts Institute of Technology\\n  Educa...</td>\n",
       "      <td>USA</td>\n",
       "      <td>2</td>\n",
       "      <td>4</td>\n",
       "      <td>12</td>\n",
       "      <td>3</td>\n",
       "      <td>9</td>\n",
       "      <td>96.7</td>\n",
       "    </tr>\n",
       "    <tr>\n",
       "      <th>2</th>\n",
       "      <td>3Top 0.1%</td>\n",
       "      <td>Stanford University\\n  Education: A+; Employab...</td>\n",
       "      <td>USA</td>\n",
       "      <td>3</td>\n",
       "      <td>11</td>\n",
       "      <td>4</td>\n",
       "      <td>2</td>\n",
       "      <td>2</td>\n",
       "      <td>95.2</td>\n",
       "    </tr>\n",
       "    <tr>\n",
       "      <th>3</th>\n",
       "      <td>4Top 0.1%</td>\n",
       "      <td>University of Cambridge\\n  Education: A+; Empl...</td>\n",
       "      <td>United Kingdom</td>\n",
       "      <td>1</td>\n",
       "      <td>3</td>\n",
       "      <td>25</td>\n",
       "      <td>5</td>\n",
       "      <td>11</td>\n",
       "      <td>94.1</td>\n",
       "    </tr>\n",
       "    <tr>\n",
       "      <th>4</th>\n",
       "      <td>5Top 0.1%</td>\n",
       "      <td>University of Oxford\\n  Education: A+; Employa...</td>\n",
       "      <td>United Kingdom</td>\n",
       "      <td>2</td>\n",
       "      <td>7</td>\n",
       "      <td>27</td>\n",
       "      <td>9</td>\n",
       "      <td>4</td>\n",
       "      <td>93.3</td>\n",
       "    </tr>\n",
       "  </tbody>\n",
       "</table>\n",
       "</div>"
      ],
      "text/plain": [
       "  World Rank                                   University Names  \\\n",
       "0  1Top 0.1%  Harvard University\\n  CWUR Rating System:   Ed...   \n",
       "1  2Top 0.1%  Massachusetts Institute of Technology\\n  Educa...   \n",
       "2  3Top 0.1%  Stanford University\\n  Education: A+; Employab...   \n",
       "3  4Top 0.1%  University of Cambridge\\n  Education: A+; Empl...   \n",
       "4  5Top 0.1%  University of Oxford\\n  Education: A+; Employa...   \n",
       "\n",
       "        Location   National Rank Educational Rank Employability Rank  \\\n",
       "0             USA              1                1                  1   \n",
       "1             USA              2                4                 12   \n",
       "2             USA              3               11                  4   \n",
       "3  United Kingdom              1                3                 25   \n",
       "4  United Kingdom              2                7                 27   \n",
       "\n",
       "  Faculty Rank Research Rank  Score  \n",
       "0            1             1  100.0  \n",
       "1            3             9   96.7  \n",
       "2            2             2   95.2  \n",
       "3            5            11   94.1  \n",
       "4            9             4   93.3  "
      ]
     },
     "metadata": {},
     "output_type": "display_data"
    }
   ],
   "source": [
    "display(\"Times Higher Education\", Uni_df['THE'].head())\n",
    "display(\"shanghai Ranking\", Uni_df['ARWU'].head())\n",
    "display(\"Word Rank University\", Uni_df['CWUR'].head())"
   ]
  },
  {
   "cell_type": "markdown",
   "metadata": {},
   "source": [
    "## 1. Data Profiling:\n",
    "Data profiling is a comprehensive process of examining the data available in an existing dataset and collecting statistics and information about that data. "
   ]
  },
  {
   "cell_type": "markdown",
   "metadata": {},
   "source": [
    "### What we learned (so far):\n",
    ".We have three data sources each one of them rank the Universities based on different criteria.<br>\n",
    ".In the Times Higher Education dataset we don't know which score is for which.<br>\n",
    ".We have alot of null values in the Times Higher Education dataset.<br>\n",
    ".We have type missmatch where we have scores as objects where they should be integers or floats across all the 3 datasets.<br>\n",
    ".There are uneeded columns that we can drop.\n"
   ]
  },
  {
   "cell_type": "code",
   "execution_count": 200,
   "metadata": {},
   "outputs": [
    {
     "name": "stdout",
     "output_type": "stream",
     "text": [
      "<class 'pandas.core.frame.DataFrame'>\n",
      "RangeIndex: 1591 entries, 0 to 1590\n",
      "Data columns (total 20 columns):\n",
      " #   Column                          Non-Null Count  Dtype  \n",
      "---  ------                          --------------  -----  \n",
      " 0   Rank                            1591 non-null   object \n",
      " 1   University Name                 1591 non-null   object \n",
      " 2   ranking-institution-title href  1500 non-null   object \n",
      " 3   Location                        1500 non-null   object \n",
      " 4   sdg-score-multi__number         867 non-null    float64\n",
      " 5   sdg-score-multi__value          867 non-null    object \n",
      " 6   sdg-score-multi__number 2       826 non-null    float64\n",
      " 7   sdg-score-multi__value 2        825 non-null    object \n",
      " 8   sdg-score-multi__number 3       812 non-null    float64\n",
      " 9   sdg-score-multi__value 3        805 non-null    object \n",
      " 10  sdg-score-multi__value 4        1583 non-null   object \n",
      " 11  scores                          1591 non-null   object \n",
      " 12  sdg-score-multi__number 5       565 non-null    float64\n",
      " 13  sdg-score-multi__value 5        557 non-null    object \n",
      " 14  sdg-score-multi__number 6       498 non-null    float64\n",
      " 15  sdg-score-multi__value 6        496 non-null    object \n",
      " 16  sdg-score-multi__number 7       439 non-null    float64\n",
      " 17  sdg-score-multi__value 7        439 non-null    object \n",
      " 18  sdg-score-multi__number 8       483 non-null    float64\n",
      " 19  sdg-score-multi__value 8        483 non-null    object \n",
      "dtypes: float64(7), object(13)\n",
      "memory usage: 248.7+ KB\n"
     ]
    },
    {
     "data": {
      "text/plain": [
       "'THE'"
      ]
     },
     "metadata": {},
     "output_type": "display_data"
    },
    {
     "data": {
      "text/plain": [
       "None"
      ]
     },
     "metadata": {},
     "output_type": "display_data"
    },
    {
     "name": "stdout",
     "output_type": "stream",
     "text": [
      "<class 'pandas.core.frame.DataFrame'>\n",
      "RangeIndex: 1000 entries, 0 to 999\n",
      "Data columns (total 6 columns):\n",
      " #   Column                  Non-Null Count  Dtype  \n",
      "---  ------                  --------------  -----  \n",
      " 0   Ranking                 1000 non-null   object \n",
      " 1   University Name         1000 non-null   object \n",
      " 2   National/Regional Rank  1000 non-null   object \n",
      " 3   Total Score             1000 non-null   float64\n",
      " 4   LOGO                    1000 non-null   object \n",
      " 5   University Detail       1000 non-null   object \n",
      "dtypes: float64(1), object(5)\n",
      "memory usage: 47.0+ KB\n"
     ]
    },
    {
     "data": {
      "text/plain": [
       "'ARWU'"
      ]
     },
     "metadata": {},
     "output_type": "display_data"
    },
    {
     "data": {
      "text/plain": [
       "None"
      ]
     },
     "metadata": {},
     "output_type": "display_data"
    },
    {
     "name": "stdout",
     "output_type": "stream",
     "text": [
      "<class 'pandas.core.frame.DataFrame'>\n",
      "RangeIndex: 2000 entries, 0 to 1999\n",
      "Data columns (total 9 columns):\n",
      " #   Column              Non-Null Count  Dtype  \n",
      "---  ------              --------------  -----  \n",
      " 0   World Rank          2000 non-null   object \n",
      " 1   University Names    2000 non-null   object \n",
      " 2   Location            2000 non-null   object \n",
      " 3   National Rank       2000 non-null   int64  \n",
      " 4   Educational Rank    2000 non-null   object \n",
      " 5   Employability Rank  2000 non-null   object \n",
      " 6   Faculty Rank        2000 non-null   object \n",
      " 7   Research Rank       2000 non-null   object \n",
      " 8   Score               2000 non-null   float64\n",
      "dtypes: float64(1), int64(1), object(7)\n",
      "memory usage: 140.8+ KB\n"
     ]
    },
    {
     "data": {
      "text/plain": [
       "'CWUR'"
      ]
     },
     "metadata": {},
     "output_type": "display_data"
    },
    {
     "data": {
      "text/plain": [
       "None"
      ]
     },
     "metadata": {},
     "output_type": "display_data"
    }
   ],
   "source": [
    "display(\"THE\", Uni_df['THE'].info())\n",
    "display(\"ARWU\", Uni_df['ARWU'].info())\n",
    "display(\"CWUR\", Uni_df['CWUR'].info())"
   ]
  },
  {
   "cell_type": "code",
   "execution_count": 201,
   "metadata": {},
   "outputs": [
    {
     "data": {
      "text/plain": [
       "'THE'"
      ]
     },
     "metadata": {},
     "output_type": "display_data"
    },
    {
     "data": {
      "text/plain": [
       "(1591, 20)"
      ]
     },
     "metadata": {},
     "output_type": "display_data"
    },
    {
     "data": {
      "text/plain": [
       "'ARWU'"
      ]
     },
     "metadata": {},
     "output_type": "display_data"
    },
    {
     "data": {
      "text/plain": [
       "(1000, 6)"
      ]
     },
     "metadata": {},
     "output_type": "display_data"
    },
    {
     "data": {
      "text/plain": [
       "'CWUR'"
      ]
     },
     "metadata": {},
     "output_type": "display_data"
    },
    {
     "data": {
      "text/plain": [
       "(2000, 9)"
      ]
     },
     "metadata": {},
     "output_type": "display_data"
    }
   ],
   "source": [
    "display(\"THE\", Uni_df['THE'].shape)\n",
    "display(\"ARWU\", Uni_df['ARWU'].shape)\n",
    "display(\"CWUR\", Uni_df['CWUR'].shape)"
   ]
  },
  {
   "cell_type": "code",
   "execution_count": 202,
   "metadata": {},
   "outputs": [
    {
     "data": {
      "text/plain": [
       "'THE'"
      ]
     },
     "metadata": {},
     "output_type": "display_data"
    },
    {
     "data": {
      "text/html": [
       "<div>\n",
       "<style scoped>\n",
       "    .dataframe tbody tr th:only-of-type {\n",
       "        vertical-align: middle;\n",
       "    }\n",
       "\n",
       "    .dataframe tbody tr th {\n",
       "        vertical-align: top;\n",
       "    }\n",
       "\n",
       "    .dataframe thead th {\n",
       "        text-align: right;\n",
       "    }\n",
       "</style>\n",
       "<table border=\"1\" class=\"dataframe\">\n",
       "  <thead>\n",
       "    <tr style=\"text-align: right;\">\n",
       "      <th></th>\n",
       "      <th>sdg-score-multi__number</th>\n",
       "      <th>sdg-score-multi__number 2</th>\n",
       "      <th>sdg-score-multi__number 3</th>\n",
       "      <th>sdg-score-multi__number 5</th>\n",
       "      <th>sdg-score-multi__number 6</th>\n",
       "      <th>sdg-score-multi__number 7</th>\n",
       "      <th>sdg-score-multi__number 8</th>\n",
       "    </tr>\n",
       "  </thead>\n",
       "  <tbody>\n",
       "    <tr>\n",
       "      <th>count</th>\n",
       "      <td>867.000000</td>\n",
       "      <td>826.000000</td>\n",
       "      <td>812.000000</td>\n",
       "      <td>565.000000</td>\n",
       "      <td>498.000000</td>\n",
       "      <td>439.000000</td>\n",
       "      <td>483.000000</td>\n",
       "    </tr>\n",
       "    <tr>\n",
       "      <th>mean</th>\n",
       "      <td>8.193772</td>\n",
       "      <td>8.446731</td>\n",
       "      <td>7.902709</td>\n",
       "      <td>5.488496</td>\n",
       "      <td>6.777108</td>\n",
       "      <td>7.596811</td>\n",
       "      <td>5.962733</td>\n",
       "    </tr>\n",
       "    <tr>\n",
       "      <th>std</th>\n",
       "      <td>4.240660</td>\n",
       "      <td>4.786111</td>\n",
       "      <td>4.403411</td>\n",
       "      <td>3.151375</td>\n",
       "      <td>3.230968</td>\n",
       "      <td>4.278980</td>\n",
       "      <td>3.346928</td>\n",
       "    </tr>\n",
       "    <tr>\n",
       "      <th>min</th>\n",
       "      <td>1.000000</td>\n",
       "      <td>1.000000</td>\n",
       "      <td>1.000000</td>\n",
       "      <td>1.000000</td>\n",
       "      <td>1.000000</td>\n",
       "      <td>1.000000</td>\n",
       "      <td>3.000000</td>\n",
       "    </tr>\n",
       "    <tr>\n",
       "      <th>25%</th>\n",
       "      <td>4.000000</td>\n",
       "      <td>4.000000</td>\n",
       "      <td>5.000000</td>\n",
       "      <td>3.000000</td>\n",
       "      <td>4.000000</td>\n",
       "      <td>4.000000</td>\n",
       "      <td>4.000000</td>\n",
       "    </tr>\n",
       "    <tr>\n",
       "      <th>50%</th>\n",
       "      <td>9.000000</td>\n",
       "      <td>8.000000</td>\n",
       "      <td>8.000000</td>\n",
       "      <td>5.000000</td>\n",
       "      <td>6.000000</td>\n",
       "      <td>7.000000</td>\n",
       "      <td>4.000000</td>\n",
       "    </tr>\n",
       "    <tr>\n",
       "      <th>75%</th>\n",
       "      <td>11.000000</td>\n",
       "      <td>12.000000</td>\n",
       "      <td>11.000000</td>\n",
       "      <td>8.000000</td>\n",
       "      <td>8.000000</td>\n",
       "      <td>10.000000</td>\n",
       "      <td>7.000000</td>\n",
       "    </tr>\n",
       "    <tr>\n",
       "      <th>max</th>\n",
       "      <td>16.000000</td>\n",
       "      <td>16.000000</td>\n",
       "      <td>16.000000</td>\n",
       "      <td>16.000000</td>\n",
       "      <td>16.000000</td>\n",
       "      <td>16.000000</td>\n",
       "      <td>16.000000</td>\n",
       "    </tr>\n",
       "  </tbody>\n",
       "</table>\n",
       "</div>"
      ],
      "text/plain": [
       "       sdg-score-multi__number  sdg-score-multi__number 2  \\\n",
       "count               867.000000                 826.000000   \n",
       "mean                  8.193772                   8.446731   \n",
       "std                   4.240660                   4.786111   \n",
       "min                   1.000000                   1.000000   \n",
       "25%                   4.000000                   4.000000   \n",
       "50%                   9.000000                   8.000000   \n",
       "75%                  11.000000                  12.000000   \n",
       "max                  16.000000                  16.000000   \n",
       "\n",
       "       sdg-score-multi__number 3  sdg-score-multi__number 5  \\\n",
       "count                 812.000000                 565.000000   \n",
       "mean                    7.902709                   5.488496   \n",
       "std                     4.403411                   3.151375   \n",
       "min                     1.000000                   1.000000   \n",
       "25%                     5.000000                   3.000000   \n",
       "50%                     8.000000                   5.000000   \n",
       "75%                    11.000000                   8.000000   \n",
       "max                    16.000000                  16.000000   \n",
       "\n",
       "       sdg-score-multi__number 6  sdg-score-multi__number 7  \\\n",
       "count                 498.000000                 439.000000   \n",
       "mean                    6.777108                   7.596811   \n",
       "std                     3.230968                   4.278980   \n",
       "min                     1.000000                   1.000000   \n",
       "25%                     4.000000                   4.000000   \n",
       "50%                     6.000000                   7.000000   \n",
       "75%                     8.000000                  10.000000   \n",
       "max                    16.000000                  16.000000   \n",
       "\n",
       "       sdg-score-multi__number 8  \n",
       "count                 483.000000  \n",
       "mean                    5.962733  \n",
       "std                     3.346928  \n",
       "min                     3.000000  \n",
       "25%                     4.000000  \n",
       "50%                     4.000000  \n",
       "75%                     7.000000  \n",
       "max                    16.000000  "
      ]
     },
     "metadata": {},
     "output_type": "display_data"
    },
    {
     "data": {
      "text/plain": [
       "'ARWU'"
      ]
     },
     "metadata": {},
     "output_type": "display_data"
    },
    {
     "data": {
      "text/html": [
       "<div>\n",
       "<style scoped>\n",
       "    .dataframe tbody tr th:only-of-type {\n",
       "        vertical-align: middle;\n",
       "    }\n",
       "\n",
       "    .dataframe tbody tr th {\n",
       "        vertical-align: top;\n",
       "    }\n",
       "\n",
       "    .dataframe thead th {\n",
       "        text-align: right;\n",
       "    }\n",
       "</style>\n",
       "<table border=\"1\" class=\"dataframe\">\n",
       "  <thead>\n",
       "    <tr style=\"text-align: right;\">\n",
       "      <th></th>\n",
       "      <th>Total Score</th>\n",
       "    </tr>\n",
       "  </thead>\n",
       "  <tbody>\n",
       "    <tr>\n",
       "      <th>count</th>\n",
       "      <td>1000.000000</td>\n",
       "    </tr>\n",
       "    <tr>\n",
       "      <th>mean</th>\n",
       "      <td>5.943500</td>\n",
       "    </tr>\n",
       "    <tr>\n",
       "      <th>std</th>\n",
       "      <td>12.379624</td>\n",
       "    </tr>\n",
       "    <tr>\n",
       "      <th>min</th>\n",
       "      <td>0.000000</td>\n",
       "    </tr>\n",
       "    <tr>\n",
       "      <th>25%</th>\n",
       "      <td>0.000000</td>\n",
       "    </tr>\n",
       "    <tr>\n",
       "      <th>50%</th>\n",
       "      <td>0.000000</td>\n",
       "    </tr>\n",
       "    <tr>\n",
       "      <th>75%</th>\n",
       "      <td>7.500000</td>\n",
       "    </tr>\n",
       "    <tr>\n",
       "      <th>max</th>\n",
       "      <td>100.000000</td>\n",
       "    </tr>\n",
       "  </tbody>\n",
       "</table>\n",
       "</div>"
      ],
      "text/plain": [
       "       Total Score\n",
       "count  1000.000000\n",
       "mean      5.943500\n",
       "std      12.379624\n",
       "min       0.000000\n",
       "25%       0.000000\n",
       "50%       0.000000\n",
       "75%       7.500000\n",
       "max     100.000000"
      ]
     },
     "metadata": {},
     "output_type": "display_data"
    },
    {
     "data": {
      "text/plain": [
       "'CWUR'"
      ]
     },
     "metadata": {},
     "output_type": "display_data"
    },
    {
     "data": {
      "text/html": [
       "<div>\n",
       "<style scoped>\n",
       "    .dataframe tbody tr th:only-of-type {\n",
       "        vertical-align: middle;\n",
       "    }\n",
       "\n",
       "    .dataframe tbody tr th {\n",
       "        vertical-align: top;\n",
       "    }\n",
       "\n",
       "    .dataframe thead th {\n",
       "        text-align: right;\n",
       "    }\n",
       "</style>\n",
       "<table border=\"1\" class=\"dataframe\">\n",
       "  <thead>\n",
       "    <tr style=\"text-align: right;\">\n",
       "      <th></th>\n",
       "      <th>National Rank</th>\n",
       "      <th>Score</th>\n",
       "    </tr>\n",
       "  </thead>\n",
       "  <tbody>\n",
       "    <tr>\n",
       "      <th>count</th>\n",
       "      <td>2000.000000</td>\n",
       "      <td>2000.00000</td>\n",
       "    </tr>\n",
       "    <tr>\n",
       "      <th>mean</th>\n",
       "      <td>69.245000</td>\n",
       "      <td>71.75555</td>\n",
       "    </tr>\n",
       "    <tr>\n",
       "      <th>std</th>\n",
       "      <td>85.538608</td>\n",
       "      <td>5.03880</td>\n",
       "    </tr>\n",
       "    <tr>\n",
       "      <th>min</th>\n",
       "      <td>1.000000</td>\n",
       "      <td>66.00000</td>\n",
       "    </tr>\n",
       "    <tr>\n",
       "      <th>25%</th>\n",
       "      <td>9.750000</td>\n",
       "      <td>67.90000</td>\n",
       "    </tr>\n",
       "    <tr>\n",
       "      <th>50%</th>\n",
       "      <td>33.000000</td>\n",
       "      <td>70.40000</td>\n",
       "    </tr>\n",
       "    <tr>\n",
       "      <th>75%</th>\n",
       "      <td>89.000000</td>\n",
       "      <td>74.30000</td>\n",
       "    </tr>\n",
       "    <tr>\n",
       "      <th>max</th>\n",
       "      <td>332.000000</td>\n",
       "      <td>100.00000</td>\n",
       "    </tr>\n",
       "  </tbody>\n",
       "</table>\n",
       "</div>"
      ],
      "text/plain": [
       "       National Rank       Score\n",
       "count    2000.000000  2000.00000\n",
       "mean       69.245000    71.75555\n",
       "std        85.538608     5.03880\n",
       "min         1.000000    66.00000\n",
       "25%         9.750000    67.90000\n",
       "50%        33.000000    70.40000\n",
       "75%        89.000000    74.30000\n",
       "max       332.000000   100.00000"
      ]
     },
     "metadata": {},
     "output_type": "display_data"
    }
   ],
   "source": [
    "display(\"THE\", Uni_df['THE'].describe())\n",
    "display(\"ARWU\", Uni_df['ARWU'].describe())\n",
    "display(\"CWUR\", Uni_df['CWUR'].describe())"
   ]
  },
  {
   "cell_type": "code",
   "execution_count": 203,
   "metadata": {},
   "outputs": [
    {
     "data": {
      "text/plain": [
       "'THE'"
      ]
     },
     "metadata": {},
     "output_type": "display_data"
    },
    {
     "data": {
      "text/plain": [
       "Index(['Rank', 'University Name ', 'ranking-institution-title href',\n",
       "       'Location', 'sdg-score-multi__number', 'sdg-score-multi__value',\n",
       "       'sdg-score-multi__number 2', 'sdg-score-multi__value 2',\n",
       "       'sdg-score-multi__number 3', 'sdg-score-multi__value 3',\n",
       "       'sdg-score-multi__value 4', 'scores', 'sdg-score-multi__number 5',\n",
       "       'sdg-score-multi__value 5', 'sdg-score-multi__number 6',\n",
       "       'sdg-score-multi__value 6', 'sdg-score-multi__number 7',\n",
       "       'sdg-score-multi__value 7', 'sdg-score-multi__number 8',\n",
       "       'sdg-score-multi__value 8'],\n",
       "      dtype='object')"
      ]
     },
     "metadata": {},
     "output_type": "display_data"
    },
    {
     "data": {
      "text/plain": [
       "'ARWU'"
      ]
     },
     "metadata": {},
     "output_type": "display_data"
    },
    {
     "data": {
      "text/plain": [
       "Index(['Ranking', 'University Name', 'National/Regional Rank', 'Total Score',\n",
       "       'LOGO', 'University Detail '],\n",
       "      dtype='object')"
      ]
     },
     "metadata": {},
     "output_type": "display_data"
    },
    {
     "data": {
      "text/plain": [
       "'CWUR'"
      ]
     },
     "metadata": {},
     "output_type": "display_data"
    },
    {
     "data": {
      "text/plain": [
       "Index(['World Rank', 'University Names', 'Location ', 'National Rank',\n",
       "       'Educational Rank', 'Employability Rank', 'Faculty Rank',\n",
       "       'Research Rank', 'Score'],\n",
       "      dtype='object')"
      ]
     },
     "metadata": {},
     "output_type": "display_data"
    }
   ],
   "source": [
    "display(\"THE\", Uni_df['THE'].columns)\n",
    "display(\"ARWU\", Uni_df['ARWU'].columns)\n",
    "display(\"CWUR\", Uni_df['CWUR'].columns)"
   ]
  },
  {
   "cell_type": "markdown",
   "metadata": {},
   "source": [
    "### Data Quality Checks\n",
    "Data quality checks involve the process of ensuring that the data is accurate, complete, consistent, relevant, and reliable. \n",
    "\n",
    "\n",
    "**Here are typical steps involved in checking data quality:**"
   ]
  },
  {
   "cell_type": "markdown",
   "metadata": {},
   "source": [
    "#### 1. Reliability:\n",
    "Evaluate the data's source and collection process to determine its trustworthiness."
   ]
  },
  {
   "cell_type": "markdown",
   "metadata": {},
   "source": [
    "##### 1.Times Higher Education(THE):\n",
    "built on 10 million datapoints from over 7,000 institutions in 171 countries; on unrivalled news, insight and intelligence; and on a relationship of trust with universities spanning 50 years.\n",
    "\n",
    "\n",
    "##### 2.Academic Ranking of World Universities(ARWU):\n",
    "The Academic Ranking of World Universities (ARWU) was first published in June 2003 by the Center for World-Class Universities (CWCU). ARWU uses six objective indicators to rank world universities, including the number of alumni and staff winning Nobel Prizes and Fields Medals, number of highly cited researchers selected by Clarivate, number of articles published in journals of Nature and Science, number of articles indexed in Science Citation Index - Expanded and Social Sciences Citation Index, and per capita performance of a university.\n",
    "\n",
    "\n",
    "##### 3.Center for World University Rankings (CWUR):\n",
    "is a leading consulting organization providing policy advice, strategic insights, and consulting services to governments and universities to improve educational and research outcomes.\n",
    "<br>\n",
    "Since 2012, CWUR has been publishing the only academic ranking of global universities that assesses the quality of education, employability, quality of faculty, and research without relying on surveys and university data submissions."
   ]
  },
  {
   "cell_type": "code",
   "execution_count": 204,
   "metadata": {},
   "outputs": [],
   "source": [
    "#Each ranking system has its biases and methodologies, leading to different results. THE and ARWU's focus on research may undervalue other aspects like teaching quality.\n",
    "#Commercial interests in THE rankings could affect its objectivity. However, these rankings also provide valuable insights into university performance."
   ]
  },
  {
   "cell_type": "markdown",
   "metadata": {},
   "source": [
    "#### 2. Timeliness: \n",
    "Ensure the data is up-to-date and reflective of the current situation or the period of interest for the analysis."
   ]
  },
  {
   "cell_type": "code",
   "execution_count": null,
   "metadata": {},
   "outputs": [],
   "source": []
  },
  {
   "cell_type": "markdown",
   "metadata": {},
   "source": [
    "#### 3. Consistency: \n",
    "\n",
    "Confirm that the data is consistent within the dataset and across multiple data sources. For example, the same data point should not have different values in different places.\n"
   ]
  },
  {
   "cell_type": "markdown",
   "metadata": {},
   "source": [
    "Each dataset focuses on ranking universities based on different criterias."
   ]
  },
  {
   "cell_type": "code",
   "execution_count": 205,
   "metadata": {},
   "outputs": [
    {
     "data": {
      "text/plain": [
       "Index(['Rank', 'University Name ', 'ranking-institution-title href',\n",
       "       'Location', 'sdg-score-multi__number', 'sdg-score-multi__value',\n",
       "       'sdg-score-multi__number 2', 'sdg-score-multi__value 2',\n",
       "       'sdg-score-multi__number 3', 'sdg-score-multi__value 3',\n",
       "       'sdg-score-multi__value 4', 'scores', 'sdg-score-multi__number 5',\n",
       "       'sdg-score-multi__value 5', 'sdg-score-multi__number 6',\n",
       "       'sdg-score-multi__value 6', 'sdg-score-multi__number 7',\n",
       "       'sdg-score-multi__value 7', 'sdg-score-multi__number 8',\n",
       "       'sdg-score-multi__value 8'],\n",
       "      dtype='object')"
      ]
     },
     "execution_count": 205,
     "metadata": {},
     "output_type": "execute_result"
    }
   ],
   "source": [
    "Uni_df['THE'].columns"
   ]
  },
  {
   "cell_type": "code",
   "execution_count": 206,
   "metadata": {},
   "outputs": [],
   "source": [
    "Uni_df['THE'].rename(columns={'University Name ': 'University Name', 'scores': 'Total Score'}, inplace=True)"
   ]
  },
  {
   "cell_type": "markdown",
   "metadata": {},
   "source": [
    "#### 4. Relevance: "
   ]
  },
  {
   "cell_type": "code",
   "execution_count": 207,
   "metadata": {},
   "outputs": [
    {
     "data": {
      "text/html": [
       "<div>\n",
       "<style scoped>\n",
       "    .dataframe tbody tr th:only-of-type {\n",
       "        vertical-align: middle;\n",
       "    }\n",
       "\n",
       "    .dataframe tbody tr th {\n",
       "        vertical-align: top;\n",
       "    }\n",
       "\n",
       "    .dataframe thead th {\n",
       "        text-align: right;\n",
       "    }\n",
       "</style>\n",
       "<table border=\"1\" class=\"dataframe\">\n",
       "  <thead>\n",
       "    <tr style=\"text-align: right;\">\n",
       "      <th></th>\n",
       "      <th>Rank</th>\n",
       "      <th>University Name</th>\n",
       "      <th>ranking-institution-title href</th>\n",
       "      <th>Location</th>\n",
       "      <th>sdg-score-multi__number</th>\n",
       "      <th>sdg-score-multi__value</th>\n",
       "      <th>sdg-score-multi__number 2</th>\n",
       "      <th>sdg-score-multi__value 2</th>\n",
       "      <th>sdg-score-multi__number 3</th>\n",
       "      <th>sdg-score-multi__value 3</th>\n",
       "      <th>sdg-score-multi__value 4</th>\n",
       "      <th>Total Score</th>\n",
       "      <th>sdg-score-multi__number 5</th>\n",
       "      <th>sdg-score-multi__value 5</th>\n",
       "      <th>sdg-score-multi__number 6</th>\n",
       "      <th>sdg-score-multi__value 6</th>\n",
       "      <th>sdg-score-multi__number 7</th>\n",
       "      <th>sdg-score-multi__value 7</th>\n",
       "      <th>sdg-score-multi__number 8</th>\n",
       "      <th>sdg-score-multi__value 8</th>\n",
       "    </tr>\n",
       "  </thead>\n",
       "  <tbody>\n",
       "    <tr>\n",
       "      <th>0</th>\n",
       "      <td>1</td>\n",
       "      <td>Western Sydney University</td>\n",
       "      <td>https://www.timeshighereducation.com/world-uni...</td>\n",
       "      <td>Australia</td>\n",
       "      <td>5.0</td>\n",
       "      <td>80.3</td>\n",
       "      <td>12.0</td>\n",
       "      <td>93.4</td>\n",
       "      <td>15.0</td>\n",
       "      <td>96.7</td>\n",
       "      <td>98.8</td>\n",
       "      <td>99.4</td>\n",
       "      <td>NaN</td>\n",
       "      <td>NaN</td>\n",
       "      <td>NaN</td>\n",
       "      <td>NaN</td>\n",
       "      <td>NaN</td>\n",
       "      <td>NaN</td>\n",
       "      <td>NaN</td>\n",
       "      <td>NaN</td>\n",
       "    </tr>\n",
       "  </tbody>\n",
       "</table>\n",
       "</div>"
      ],
      "text/plain": [
       "  Rank            University Name  \\\n",
       "0    1  Western Sydney University   \n",
       "\n",
       "                      ranking-institution-title href   Location  \\\n",
       "0  https://www.timeshighereducation.com/world-uni...  Australia   \n",
       "\n",
       "   sdg-score-multi__number sdg-score-multi__value  sdg-score-multi__number 2  \\\n",
       "0                      5.0                   80.3                       12.0   \n",
       "\n",
       "  sdg-score-multi__value 2  sdg-score-multi__number 3  \\\n",
       "0                     93.4                       15.0   \n",
       "\n",
       "  sdg-score-multi__value 3 sdg-score-multi__value 4 Total Score  \\\n",
       "0                     96.7                     98.8        99.4   \n",
       "\n",
       "   sdg-score-multi__number 5 sdg-score-multi__value 5  \\\n",
       "0                        NaN                      NaN   \n",
       "\n",
       "   sdg-score-multi__number 6 sdg-score-multi__value 6  \\\n",
       "0                        NaN                      NaN   \n",
       "\n",
       "   sdg-score-multi__number 7 sdg-score-multi__value 7  \\\n",
       "0                        NaN                      NaN   \n",
       "\n",
       "   sdg-score-multi__number 8 sdg-score-multi__value 8  \n",
       "0                        NaN                      NaN  "
      ]
     },
     "execution_count": 207,
     "metadata": {},
     "output_type": "execute_result"
    }
   ],
   "source": [
    "Uni_df['THE'].head(1)"
   ]
  },
  {
   "cell_type": "code",
   "execution_count": 208,
   "metadata": {},
   "outputs": [],
   "source": [
    "Uni_df['THE'].drop(['ranking-institution-title href'], axis=1, inplace=True)"
   ]
  },
  {
   "cell_type": "code",
   "execution_count": 209,
   "metadata": {},
   "outputs": [
    {
     "data": {
      "text/html": [
       "<div>\n",
       "<style scoped>\n",
       "    .dataframe tbody tr th:only-of-type {\n",
       "        vertical-align: middle;\n",
       "    }\n",
       "\n",
       "    .dataframe tbody tr th {\n",
       "        vertical-align: top;\n",
       "    }\n",
       "\n",
       "    .dataframe thead th {\n",
       "        text-align: right;\n",
       "    }\n",
       "</style>\n",
       "<table border=\"1\" class=\"dataframe\">\n",
       "  <thead>\n",
       "    <tr style=\"text-align: right;\">\n",
       "      <th></th>\n",
       "      <th>Rank</th>\n",
       "      <th>University Name</th>\n",
       "      <th>Location</th>\n",
       "      <th>sdg-score-multi__number</th>\n",
       "      <th>sdg-score-multi__value</th>\n",
       "      <th>sdg-score-multi__number 2</th>\n",
       "      <th>sdg-score-multi__value 2</th>\n",
       "      <th>sdg-score-multi__number 3</th>\n",
       "      <th>sdg-score-multi__value 3</th>\n",
       "      <th>sdg-score-multi__value 4</th>\n",
       "      <th>Total Score</th>\n",
       "      <th>sdg-score-multi__number 5</th>\n",
       "      <th>sdg-score-multi__value 5</th>\n",
       "      <th>sdg-score-multi__number 6</th>\n",
       "      <th>sdg-score-multi__value 6</th>\n",
       "      <th>sdg-score-multi__number 7</th>\n",
       "      <th>sdg-score-multi__value 7</th>\n",
       "      <th>sdg-score-multi__number 8</th>\n",
       "      <th>sdg-score-multi__value 8</th>\n",
       "    </tr>\n",
       "  </thead>\n",
       "  <tbody>\n",
       "    <tr>\n",
       "      <th>0</th>\n",
       "      <td>1</td>\n",
       "      <td>Western Sydney University</td>\n",
       "      <td>Australia</td>\n",
       "      <td>5.0</td>\n",
       "      <td>80.3</td>\n",
       "      <td>12.0</td>\n",
       "      <td>93.4</td>\n",
       "      <td>15.0</td>\n",
       "      <td>96.7</td>\n",
       "      <td>98.8</td>\n",
       "      <td>99.4</td>\n",
       "      <td>NaN</td>\n",
       "      <td>NaN</td>\n",
       "      <td>NaN</td>\n",
       "      <td>NaN</td>\n",
       "      <td>NaN</td>\n",
       "      <td>NaN</td>\n",
       "      <td>NaN</td>\n",
       "      <td>NaN</td>\n",
       "    </tr>\n",
       "  </tbody>\n",
       "</table>\n",
       "</div>"
      ],
      "text/plain": [
       "  Rank            University Name   Location  sdg-score-multi__number  \\\n",
       "0    1  Western Sydney University  Australia                      5.0   \n",
       "\n",
       "  sdg-score-multi__value  sdg-score-multi__number 2 sdg-score-multi__value 2  \\\n",
       "0                   80.3                       12.0                     93.4   \n",
       "\n",
       "   sdg-score-multi__number 3 sdg-score-multi__value 3  \\\n",
       "0                       15.0                     96.7   \n",
       "\n",
       "  sdg-score-multi__value 4 Total Score  sdg-score-multi__number 5  \\\n",
       "0                     98.8        99.4                        NaN   \n",
       "\n",
       "  sdg-score-multi__value 5  sdg-score-multi__number 6  \\\n",
       "0                      NaN                        NaN   \n",
       "\n",
       "  sdg-score-multi__value 6  sdg-score-multi__number 7  \\\n",
       "0                      NaN                        NaN   \n",
       "\n",
       "  sdg-score-multi__value 7  sdg-score-multi__number 8 sdg-score-multi__value 8  \n",
       "0                      NaN                        NaN                      NaN  "
      ]
     },
     "execution_count": 209,
     "metadata": {},
     "output_type": "execute_result"
    }
   ],
   "source": [
    "Uni_df['THE'].head(1)"
   ]
  },
  {
   "cell_type": "code",
   "execution_count": 210,
   "metadata": {},
   "outputs": [
    {
     "data": {
      "text/plain": [
       "Index(['Ranking', 'University Name', 'National/Regional Rank', 'Total Score',\n",
       "       'LOGO', 'University Detail '],\n",
       "      dtype='object')"
      ]
     },
     "execution_count": 210,
     "metadata": {},
     "output_type": "execute_result"
    }
   ],
   "source": [
    "Uni_df['ARWU'].columns"
   ]
  },
  {
   "cell_type": "code",
   "execution_count": 211,
   "metadata": {},
   "outputs": [],
   "source": [
    "Uni_df['ARWU'].rename(columns={'Ranking': 'Rank', 'National/Regional Rank': 'National Rank'}, inplace=True)"
   ]
  },
  {
   "cell_type": "code",
   "execution_count": 212,
   "metadata": {},
   "outputs": [
    {
     "data": {
      "text/html": [
       "<div>\n",
       "<style scoped>\n",
       "    .dataframe tbody tr th:only-of-type {\n",
       "        vertical-align: middle;\n",
       "    }\n",
       "\n",
       "    .dataframe tbody tr th {\n",
       "        vertical-align: top;\n",
       "    }\n",
       "\n",
       "    .dataframe thead th {\n",
       "        text-align: right;\n",
       "    }\n",
       "</style>\n",
       "<table border=\"1\" class=\"dataframe\">\n",
       "  <thead>\n",
       "    <tr style=\"text-align: right;\">\n",
       "      <th></th>\n",
       "      <th>Rank</th>\n",
       "      <th>University Name</th>\n",
       "      <th>National Rank</th>\n",
       "      <th>Total Score</th>\n",
       "      <th>LOGO</th>\n",
       "      <th>University Detail</th>\n",
       "    </tr>\n",
       "  </thead>\n",
       "  <tbody>\n",
       "    <tr>\n",
       "      <th>0</th>\n",
       "      <td>1</td>\n",
       "      <td>Harvard University</td>\n",
       "      <td>1</td>\n",
       "      <td>100.0</td>\n",
       "      <td>http://www.shanghairanking.com/_uni/logo/032bd...</td>\n",
       "      <td>http://www.shanghairanking.com/institution/har...</td>\n",
       "    </tr>\n",
       "  </tbody>\n",
       "</table>\n",
       "</div>"
      ],
      "text/plain": [
       "  Rank     University Name National Rank  Total Score  \\\n",
       "0    1  Harvard University             1        100.0   \n",
       "\n",
       "                                                LOGO  \\\n",
       "0  http://www.shanghairanking.com/_uni/logo/032bd...   \n",
       "\n",
       "                                  University Detail   \n",
       "0  http://www.shanghairanking.com/institution/har...  "
      ]
     },
     "execution_count": 212,
     "metadata": {},
     "output_type": "execute_result"
    }
   ],
   "source": [
    "Uni_df['ARWU'].head(1)"
   ]
  },
  {
   "cell_type": "code",
   "execution_count": 213,
   "metadata": {},
   "outputs": [],
   "source": [
    "Uni_df['ARWU'].drop(['LOGO', 'University Detail '], axis=1, inplace=True)"
   ]
  },
  {
   "cell_type": "code",
   "execution_count": 214,
   "metadata": {},
   "outputs": [
    {
     "data": {
      "text/plain": [
       "Index(['World Rank', 'University Names', 'Location ', 'National Rank',\n",
       "       'Educational Rank', 'Employability Rank', 'Faculty Rank',\n",
       "       'Research Rank', 'Score'],\n",
       "      dtype='object')"
      ]
     },
     "execution_count": 214,
     "metadata": {},
     "output_type": "execute_result"
    }
   ],
   "source": [
    "Uni_df['CWUR'].columns"
   ]
  },
  {
   "cell_type": "code",
   "execution_count": 215,
   "metadata": {},
   "outputs": [],
   "source": [
    "Uni_df['CWUR'].rename(columns={\"World Rank\": \"Rank\", 'University Names': 'University Name', 'Location ': 'Location', 'Score': 'Total Score'}, inplace=True)"
   ]
  },
  {
   "cell_type": "code",
   "execution_count": 216,
   "metadata": {},
   "outputs": [
    {
     "data": {
      "text/html": [
       "<div>\n",
       "<style scoped>\n",
       "    .dataframe tbody tr th:only-of-type {\n",
       "        vertical-align: middle;\n",
       "    }\n",
       "\n",
       "    .dataframe tbody tr th {\n",
       "        vertical-align: top;\n",
       "    }\n",
       "\n",
       "    .dataframe thead th {\n",
       "        text-align: right;\n",
       "    }\n",
       "</style>\n",
       "<table border=\"1\" class=\"dataframe\">\n",
       "  <thead>\n",
       "    <tr style=\"text-align: right;\">\n",
       "      <th></th>\n",
       "      <th>Rank</th>\n",
       "      <th>University Name</th>\n",
       "      <th>Location</th>\n",
       "      <th>National Rank</th>\n",
       "      <th>Educational Rank</th>\n",
       "      <th>Employability Rank</th>\n",
       "      <th>Faculty Rank</th>\n",
       "      <th>Research Rank</th>\n",
       "      <th>Total Score</th>\n",
       "    </tr>\n",
       "  </thead>\n",
       "  <tbody>\n",
       "    <tr>\n",
       "      <th>0</th>\n",
       "      <td>1Top 0.1%</td>\n",
       "      <td>Harvard University\\n  CWUR Rating System:   Ed...</td>\n",
       "      <td>USA</td>\n",
       "      <td>1</td>\n",
       "      <td>1</td>\n",
       "      <td>1</td>\n",
       "      <td>1</td>\n",
       "      <td>1</td>\n",
       "      <td>100.0</td>\n",
       "    </tr>\n",
       "  </tbody>\n",
       "</table>\n",
       "</div>"
      ],
      "text/plain": [
       "        Rank                                    University Name Location  \\\n",
       "0  1Top 0.1%  Harvard University\\n  CWUR Rating System:   Ed...      USA   \n",
       "\n",
       "   National Rank Educational Rank Employability Rank Faculty Rank  \\\n",
       "0              1                1                  1            1   \n",
       "\n",
       "  Research Rank  Total Score  \n",
       "0             1        100.0  "
      ]
     },
     "execution_count": 216,
     "metadata": {},
     "output_type": "execute_result"
    }
   ],
   "source": [
    "Uni_df['CWUR'].head(1)"
   ]
  },
  {
   "cell_type": "markdown",
   "metadata": {},
   "source": [
    "#### 5. Uniqueness: "
   ]
  },
  {
   "cell_type": "code",
   "execution_count": 217,
   "metadata": {},
   "outputs": [
    {
     "data": {
      "text/plain": [
       "'THE'"
      ]
     },
     "metadata": {},
     "output_type": "display_data"
    },
    {
     "data": {
      "text/plain": [
       "0"
      ]
     },
     "metadata": {},
     "output_type": "display_data"
    },
    {
     "data": {
      "text/plain": [
       "'ARWU'"
      ]
     },
     "metadata": {},
     "output_type": "display_data"
    },
    {
     "data": {
      "text/plain": [
       "0"
      ]
     },
     "metadata": {},
     "output_type": "display_data"
    },
    {
     "data": {
      "text/plain": [
       "'CWUR'"
      ]
     },
     "metadata": {},
     "output_type": "display_data"
    },
    {
     "data": {
      "text/plain": [
       "0"
      ]
     },
     "metadata": {},
     "output_type": "display_data"
    }
   ],
   "source": [
    "display(\"THE\", Uni_df['THE'].duplicated().sum())\n",
    "display(\"ARWU\", Uni_df['ARWU'].duplicated().sum())\n",
    "display(\"CWUR\", Uni_df['CWUR'].duplicated().sum() )"
   ]
  },
  {
   "cell_type": "markdown",
   "metadata": {},
   "source": [
    "#### 6. Completeness: "
   ]
  },
  {
   "cell_type": "code",
   "execution_count": 218,
   "metadata": {},
   "outputs": [
    {
     "name": "stdout",
     "output_type": "stream",
     "text": [
      "sdg-score-multi__number 7    1152\n",
      "sdg-score-multi__value 7     1152\n",
      "sdg-score-multi__value 8     1108\n",
      "sdg-score-multi__number 8    1108\n",
      "sdg-score-multi__value 6     1095\n",
      "sdg-score-multi__number 6    1093\n",
      "sdg-score-multi__value 5     1034\n",
      "sdg-score-multi__number 5    1026\n",
      "sdg-score-multi__value 3      786\n",
      "sdg-score-multi__number 3     779\n",
      "sdg-score-multi__value 2      766\n",
      "sdg-score-multi__number 2     765\n",
      "sdg-score-multi__number       724\n",
      "sdg-score-multi__value        724\n",
      "Location                       91\n",
      "sdg-score-multi__value 4        8\n",
      "Total Score                     0\n",
      "University Name                 0\n",
      "Rank                            0\n",
      "dtype: int64\n",
      "================================\n",
      "Rank               0\n",
      "University Name    0\n",
      "National Rank      0\n",
      "Total Score        0\n",
      "dtype: int64\n",
      "================================\n",
      "Rank                  0\n",
      "University Name       0\n",
      "Location              0\n",
      "National Rank         0\n",
      "Educational Rank      0\n",
      "Employability Rank    0\n",
      "Faculty Rank          0\n",
      "Research Rank         0\n",
      "Total Score           0\n",
      "dtype: int64\n"
     ]
    }
   ],
   "source": [
    "print(Uni_df['THE'].isnull().sum().sort_values(ascending = False))\n",
    "print(\"================================\")\n",
    "print(Uni_df['ARWU'].isnull().sum().sort_values(ascending = False))\n",
    "print(\"================================\")\n",
    "print(Uni_df['CWUR'].isnull().sum().sort_values(ascending = False))"
   ]
  },
  {
   "cell_type": "markdown",
   "metadata": {},
   "source": [
    "#### 7. Check Accuracy:\n"
   ]
  },
  {
   "cell_type": "code",
   "execution_count": null,
   "metadata": {},
   "outputs": [],
   "source": []
  },
  {
   "cell_type": "markdown",
   "metadata": {},
   "source": [
    "## 2. Data Cleaning: "
   ]
  },
  {
   "cell_type": "code",
   "execution_count": 219,
   "metadata": {},
   "outputs": [
    {
     "name": "stdout",
     "output_type": "stream",
     "text": [
      "sdg-score-multi__number 7    1152\n",
      "sdg-score-multi__value 7     1152\n",
      "sdg-score-multi__value 8     1108\n",
      "sdg-score-multi__number 8    1108\n",
      "sdg-score-multi__value 6     1095\n",
      "sdg-score-multi__number 6    1093\n",
      "sdg-score-multi__value 5     1034\n",
      "sdg-score-multi__number 5    1026\n",
      "sdg-score-multi__value 3      786\n",
      "sdg-score-multi__number 3     779\n",
      "sdg-score-multi__value 2      766\n",
      "sdg-score-multi__number 2     765\n",
      "sdg-score-multi__number       724\n",
      "sdg-score-multi__value        724\n",
      "Location                       91\n",
      "sdg-score-multi__value 4        8\n",
      "Total Score                     0\n",
      "University Name                 0\n",
      "Rank                            0\n",
      "dtype: int64\n",
      "================================\n",
      "Rank               0\n",
      "University Name    0\n",
      "National Rank      0\n",
      "Total Score        0\n",
      "dtype: int64\n",
      "================================\n",
      "Rank                  0\n",
      "University Name       0\n",
      "Location              0\n",
      "National Rank         0\n",
      "Educational Rank      0\n",
      "Employability Rank    0\n",
      "Faculty Rank          0\n",
      "Research Rank         0\n",
      "Total Score           0\n",
      "dtype: int64\n"
     ]
    }
   ],
   "source": [
    "print(Uni_df['THE'].isnull().sum().sort_values(ascending = False))\n",
    "print(\"================================\")\n",
    "print(Uni_df['ARWU'].isnull().sum().sort_values(ascending = False))\n",
    "print(\"================================\")\n",
    "print(Uni_df['CWUR'].isnull().sum().sort_values(ascending = False))"
   ]
  },
  {
   "cell_type": "code",
   "execution_count": 220,
   "metadata": {},
   "outputs": [
    {
     "data": {
      "text/html": [
       "<div>\n",
       "<style scoped>\n",
       "    .dataframe tbody tr th:only-of-type {\n",
       "        vertical-align: middle;\n",
       "    }\n",
       "\n",
       "    .dataframe tbody tr th {\n",
       "        vertical-align: top;\n",
       "    }\n",
       "\n",
       "    .dataframe thead th {\n",
       "        text-align: right;\n",
       "    }\n",
       "</style>\n",
       "<table border=\"1\" class=\"dataframe\">\n",
       "  <thead>\n",
       "    <tr style=\"text-align: right;\">\n",
       "      <th></th>\n",
       "      <th>Rank</th>\n",
       "      <th>University Name</th>\n",
       "      <th>Location</th>\n",
       "      <th>sdg-score-multi__number</th>\n",
       "      <th>sdg-score-multi__value</th>\n",
       "      <th>sdg-score-multi__number 2</th>\n",
       "      <th>sdg-score-multi__value 2</th>\n",
       "      <th>sdg-score-multi__number 3</th>\n",
       "      <th>sdg-score-multi__value 3</th>\n",
       "      <th>sdg-score-multi__value 4</th>\n",
       "      <th>Total Score</th>\n",
       "      <th>sdg-score-multi__number 5</th>\n",
       "      <th>sdg-score-multi__value 5</th>\n",
       "      <th>sdg-score-multi__number 6</th>\n",
       "      <th>sdg-score-multi__value 6</th>\n",
       "      <th>sdg-score-multi__number 7</th>\n",
       "      <th>sdg-score-multi__value 7</th>\n",
       "      <th>sdg-score-multi__number 8</th>\n",
       "      <th>sdg-score-multi__value 8</th>\n",
       "    </tr>\n",
       "  </thead>\n",
       "  <tbody>\n",
       "    <tr>\n",
       "      <th>248</th>\n",
       "      <td>201–300</td>\n",
       "      <td>Kazan Federal University</td>\n",
       "      <td>NaN</td>\n",
       "      <td>8.0</td>\n",
       "      <td>74.3</td>\n",
       "      <td>16.0</td>\n",
       "      <td>74.1</td>\n",
       "      <td>4.0</td>\n",
       "      <td>75.6–81.7</td>\n",
       "      <td>NaN</td>\n",
       "      <td>76.8–82.1</td>\n",
       "      <td>NaN</td>\n",
       "      <td>NaN</td>\n",
       "      <td>NaN</td>\n",
       "      <td>NaN</td>\n",
       "      <td>NaN</td>\n",
       "      <td>NaN</td>\n",
       "      <td>NaN</td>\n",
       "      <td>NaN</td>\n",
       "    </tr>\n",
       "    <tr>\n",
       "      <th>276</th>\n",
       "      <td>201–300</td>\n",
       "      <td>Peter the Great St Petersburg Polytechnic Univ...</td>\n",
       "      <td>NaN</td>\n",
       "      <td>9.0</td>\n",
       "      <td>88.9</td>\n",
       "      <td>8.0</td>\n",
       "      <td>66.4–71.5</td>\n",
       "      <td>11.0</td>\n",
       "      <td>67.1–76.0</td>\n",
       "      <td>75.6–81.7</td>\n",
       "      <td>76.8–82.1</td>\n",
       "      <td>NaN</td>\n",
       "      <td>NaN</td>\n",
       "      <td>NaN</td>\n",
       "      <td>NaN</td>\n",
       "      <td>NaN</td>\n",
       "      <td>NaN</td>\n",
       "      <td>NaN</td>\n",
       "      <td>NaN</td>\n",
       "    </tr>\n",
       "    <tr>\n",
       "      <th>285</th>\n",
       "      <td>201–300</td>\n",
       "      <td>RUDN University</td>\n",
       "      <td>NaN</td>\n",
       "      <td>4.0</td>\n",
       "      <td>84.5</td>\n",
       "      <td>8.0</td>\n",
       "      <td>66.4–71.5</td>\n",
       "      <td>5.0</td>\n",
       "      <td>67.7</td>\n",
       "      <td>53.4–61.0</td>\n",
       "      <td>76.8–82.1</td>\n",
       "      <td>NaN</td>\n",
       "      <td>NaN</td>\n",
       "      <td>NaN</td>\n",
       "      <td>NaN</td>\n",
       "      <td>NaN</td>\n",
       "      <td>NaN</td>\n",
       "      <td>NaN</td>\n",
       "      <td>NaN</td>\n",
       "    </tr>\n",
       "    <tr>\n",
       "      <th>303</th>\n",
       "      <td>301–400</td>\n",
       "      <td>Altai State University</td>\n",
       "      <td>NaN</td>\n",
       "      <td>4.0</td>\n",
       "      <td>78.7</td>\n",
       "      <td>8.0</td>\n",
       "      <td>66.4–71.5</td>\n",
       "      <td>16.0</td>\n",
       "      <td>53.4–61.0</td>\n",
       "      <td>NaN</td>\n",
       "      <td>72.7–76.7</td>\n",
       "      <td>NaN</td>\n",
       "      <td>NaN</td>\n",
       "      <td>NaN</td>\n",
       "      <td>NaN</td>\n",
       "      <td>NaN</td>\n",
       "      <td>NaN</td>\n",
       "      <td>NaN</td>\n",
       "      <td>NaN</td>\n",
       "    </tr>\n",
       "    <tr>\n",
       "      <th>310</th>\n",
       "      <td>301–400</td>\n",
       "      <td>Bauman Moscow State Technical University</td>\n",
       "      <td>NaN</td>\n",
       "      <td>4.0</td>\n",
       "      <td>81.1</td>\n",
       "      <td>13.0</td>\n",
       "      <td>56.6–66.3</td>\n",
       "      <td>9.0</td>\n",
       "      <td>73.0–87.2</td>\n",
       "      <td>61.1–70.5</td>\n",
       "      <td>72.7–76.7</td>\n",
       "      <td>NaN</td>\n",
       "      <td>NaN</td>\n",
       "      <td>NaN</td>\n",
       "      <td>NaN</td>\n",
       "      <td>NaN</td>\n",
       "      <td>NaN</td>\n",
       "      <td>NaN</td>\n",
       "      <td>NaN</td>\n",
       "    </tr>\n",
       "    <tr>\n",
       "      <th>...</th>\n",
       "      <td>...</td>\n",
       "      <td>...</td>\n",
       "      <td>...</td>\n",
       "      <td>...</td>\n",
       "      <td>...</td>\n",
       "      <td>...</td>\n",
       "      <td>...</td>\n",
       "      <td>...</td>\n",
       "      <td>...</td>\n",
       "      <td>...</td>\n",
       "      <td>...</td>\n",
       "      <td>...</td>\n",
       "      <td>...</td>\n",
       "      <td>...</td>\n",
       "      <td>...</td>\n",
       "      <td>...</td>\n",
       "      <td>...</td>\n",
       "      <td>...</td>\n",
       "      <td>...</td>\n",
       "    </tr>\n",
       "    <tr>\n",
       "      <th>1545</th>\n",
       "      <td>1001+</td>\n",
       "      <td>Ural State Medical University</td>\n",
       "      <td>NaN</td>\n",
       "      <td>NaN</td>\n",
       "      <td>NaN</td>\n",
       "      <td>NaN</td>\n",
       "      <td>68.3–73.4</td>\n",
       "      <td>3.0</td>\n",
       "      <td>1.5–45.2</td>\n",
       "      <td>22.1–34.3</td>\n",
       "      <td>7.9–53.8</td>\n",
       "      <td>5.0</td>\n",
       "      <td>25.6–39.9</td>\n",
       "      <td>10.0</td>\n",
       "      <td>NaN</td>\n",
       "      <td>NaN</td>\n",
       "      <td>NaN</td>\n",
       "      <td>NaN</td>\n",
       "      <td>NaN</td>\n",
       "    </tr>\n",
       "    <tr>\n",
       "      <th>1560</th>\n",
       "      <td>1001+</td>\n",
       "      <td>V.I. Vernadsky Crimean Federal University (Ver...</td>\n",
       "      <td>NaN</td>\n",
       "      <td>16.0</td>\n",
       "      <td>NaN</td>\n",
       "      <td>8.0</td>\n",
       "      <td>35.7–48.3</td>\n",
       "      <td>9.0</td>\n",
       "      <td>33.9–50.8</td>\n",
       "      <td>1.5–45.2</td>\n",
       "      <td>7.9–53.8</td>\n",
       "      <td>NaN</td>\n",
       "      <td>NaN</td>\n",
       "      <td>NaN</td>\n",
       "      <td>NaN</td>\n",
       "      <td>NaN</td>\n",
       "      <td>NaN</td>\n",
       "      <td>NaN</td>\n",
       "      <td>NaN</td>\n",
       "    </tr>\n",
       "    <tr>\n",
       "      <th>1562</th>\n",
       "      <td>1001+</td>\n",
       "      <td>Volgograd State Technical University</td>\n",
       "      <td>NaN</td>\n",
       "      <td>9.0</td>\n",
       "      <td>51.0–60.2</td>\n",
       "      <td>11.0</td>\n",
       "      <td>20.9–38.4</td>\n",
       "      <td>8.0</td>\n",
       "      <td>57.8–62.2</td>\n",
       "      <td>1.5–45.2</td>\n",
       "      <td>7.9–53.8</td>\n",
       "      <td>NaN</td>\n",
       "      <td>NaN</td>\n",
       "      <td>NaN</td>\n",
       "      <td>NaN</td>\n",
       "      <td>NaN</td>\n",
       "      <td>NaN</td>\n",
       "      <td>NaN</td>\n",
       "      <td>NaN</td>\n",
       "    </tr>\n",
       "    <tr>\n",
       "      <th>1563</th>\n",
       "      <td>1001+</td>\n",
       "      <td>Voronezh State Technical University</td>\n",
       "      <td>NaN</td>\n",
       "      <td>2.0</td>\n",
       "      <td>35.7–48.3</td>\n",
       "      <td>8.0</td>\n",
       "      <td>38.4–48.2</td>\n",
       "      <td>1.0</td>\n",
       "      <td>1.5–45.2</td>\n",
       "      <td>49.5–54.4</td>\n",
       "      <td>7.9–53.8</td>\n",
       "      <td>NaN</td>\n",
       "      <td>NaN</td>\n",
       "      <td>NaN</td>\n",
       "      <td>NaN</td>\n",
       "      <td>NaN</td>\n",
       "      <td>NaN</td>\n",
       "      <td>NaN</td>\n",
       "      <td>NaN</td>\n",
       "    </tr>\n",
       "    <tr>\n",
       "      <th>1582</th>\n",
       "      <td>1001+</td>\n",
       "      <td>Yanka Kupala State University of Grodno</td>\n",
       "      <td>NaN</td>\n",
       "      <td>10.0</td>\n",
       "      <td>40.0–51.7</td>\n",
       "      <td>16.0</td>\n",
       "      <td>20.9–38.4</td>\n",
       "      <td>11.0</td>\n",
       "      <td>NaN</td>\n",
       "      <td>45.3–53.3</td>\n",
       "      <td>7.9–53.8</td>\n",
       "      <td>NaN</td>\n",
       "      <td>NaN</td>\n",
       "      <td>NaN</td>\n",
       "      <td>NaN</td>\n",
       "      <td>NaN</td>\n",
       "      <td>NaN</td>\n",
       "      <td>NaN</td>\n",
       "      <td>NaN</td>\n",
       "    </tr>\n",
       "  </tbody>\n",
       "</table>\n",
       "<p>91 rows × 19 columns</p>\n",
       "</div>"
      ],
      "text/plain": [
       "         Rank                                    University Name Location  \\\n",
       "248   201–300                           Kazan Federal University      NaN   \n",
       "276   201–300  Peter the Great St Petersburg Polytechnic Univ...      NaN   \n",
       "285   201–300                                    RUDN University      NaN   \n",
       "303   301–400                             Altai State University      NaN   \n",
       "310   301–400           Bauman Moscow State Technical University      NaN   \n",
       "...       ...                                                ...      ...   \n",
       "1545    1001+                      Ural State Medical University      NaN   \n",
       "1560    1001+  V.I. Vernadsky Crimean Federal University (Ver...      NaN   \n",
       "1562    1001+               Volgograd State Technical University      NaN   \n",
       "1563    1001+                Voronezh State Technical University      NaN   \n",
       "1582    1001+            Yanka Kupala State University of Grodno      NaN   \n",
       "\n",
       "      sdg-score-multi__number sdg-score-multi__value  \\\n",
       "248                       8.0                   74.3   \n",
       "276                       9.0                   88.9   \n",
       "285                       4.0                   84.5   \n",
       "303                       4.0                   78.7   \n",
       "310                       4.0                   81.1   \n",
       "...                       ...                    ...   \n",
       "1545                      NaN                    NaN   \n",
       "1560                     16.0                    NaN   \n",
       "1562                      9.0              51.0–60.2   \n",
       "1563                      2.0              35.7–48.3   \n",
       "1582                     10.0              40.0–51.7   \n",
       "\n",
       "      sdg-score-multi__number 2 sdg-score-multi__value 2  \\\n",
       "248                        16.0                     74.1   \n",
       "276                         8.0                66.4–71.5   \n",
       "285                         8.0                66.4–71.5   \n",
       "303                         8.0                66.4–71.5   \n",
       "310                        13.0                56.6–66.3   \n",
       "...                         ...                      ...   \n",
       "1545                        NaN                68.3–73.4   \n",
       "1560                        8.0                35.7–48.3   \n",
       "1562                       11.0                20.9–38.4   \n",
       "1563                        8.0                38.4–48.2   \n",
       "1582                       16.0                20.9–38.4   \n",
       "\n",
       "      sdg-score-multi__number 3 sdg-score-multi__value 3  \\\n",
       "248                         4.0                75.6–81.7   \n",
       "276                        11.0                67.1–76.0   \n",
       "285                         5.0                     67.7   \n",
       "303                        16.0                53.4–61.0   \n",
       "310                         9.0                73.0–87.2   \n",
       "...                         ...                      ...   \n",
       "1545                        3.0                 1.5–45.2   \n",
       "1560                        9.0                33.9–50.8   \n",
       "1562                        8.0                57.8–62.2   \n",
       "1563                        1.0                 1.5–45.2   \n",
       "1582                       11.0                      NaN   \n",
       "\n",
       "     sdg-score-multi__value 4 Total Score  sdg-score-multi__number 5  \\\n",
       "248                       NaN   76.8–82.1                        NaN   \n",
       "276                 75.6–81.7   76.8–82.1                        NaN   \n",
       "285                 53.4–61.0   76.8–82.1                        NaN   \n",
       "303                       NaN   72.7–76.7                        NaN   \n",
       "310                 61.1–70.5   72.7–76.7                        NaN   \n",
       "...                       ...         ...                        ...   \n",
       "1545                22.1–34.3    7.9–53.8                        5.0   \n",
       "1560                 1.5–45.2    7.9–53.8                        NaN   \n",
       "1562                 1.5–45.2    7.9–53.8                        NaN   \n",
       "1563                49.5–54.4    7.9–53.8                        NaN   \n",
       "1582                45.3–53.3    7.9–53.8                        NaN   \n",
       "\n",
       "     sdg-score-multi__value 5  sdg-score-multi__number 6  \\\n",
       "248                       NaN                        NaN   \n",
       "276                       NaN                        NaN   \n",
       "285                       NaN                        NaN   \n",
       "303                       NaN                        NaN   \n",
       "310                       NaN                        NaN   \n",
       "...                       ...                        ...   \n",
       "1545                25.6–39.9                       10.0   \n",
       "1560                      NaN                        NaN   \n",
       "1562                      NaN                        NaN   \n",
       "1563                      NaN                        NaN   \n",
       "1582                      NaN                        NaN   \n",
       "\n",
       "     sdg-score-multi__value 6  sdg-score-multi__number 7  \\\n",
       "248                       NaN                        NaN   \n",
       "276                       NaN                        NaN   \n",
       "285                       NaN                        NaN   \n",
       "303                       NaN                        NaN   \n",
       "310                       NaN                        NaN   \n",
       "...                       ...                        ...   \n",
       "1545                      NaN                        NaN   \n",
       "1560                      NaN                        NaN   \n",
       "1562                      NaN                        NaN   \n",
       "1563                      NaN                        NaN   \n",
       "1582                      NaN                        NaN   \n",
       "\n",
       "     sdg-score-multi__value 7  sdg-score-multi__number 8  \\\n",
       "248                       NaN                        NaN   \n",
       "276                       NaN                        NaN   \n",
       "285                       NaN                        NaN   \n",
       "303                       NaN                        NaN   \n",
       "310                       NaN                        NaN   \n",
       "...                       ...                        ...   \n",
       "1545                      NaN                        NaN   \n",
       "1560                      NaN                        NaN   \n",
       "1562                      NaN                        NaN   \n",
       "1563                      NaN                        NaN   \n",
       "1582                      NaN                        NaN   \n",
       "\n",
       "     sdg-score-multi__value 8  \n",
       "248                       NaN  \n",
       "276                       NaN  \n",
       "285                       NaN  \n",
       "303                       NaN  \n",
       "310                       NaN  \n",
       "...                       ...  \n",
       "1545                      NaN  \n",
       "1560                      NaN  \n",
       "1562                      NaN  \n",
       "1563                      NaN  \n",
       "1582                      NaN  \n",
       "\n",
       "[91 rows x 19 columns]"
      ]
     },
     "execution_count": 220,
     "metadata": {},
     "output_type": "execute_result"
    }
   ],
   "source": [
    "#check the Location nulls\n",
    "Uni_df['THE'][Uni_df['THE']['Location'].isnull()]"
   ]
  },
  {
   "cell_type": "code",
   "execution_count": 221,
   "metadata": {},
   "outputs": [
    {
     "data": {
      "text/plain": [
       "Rank                          0\n",
       "University Name               0\n",
       "Location                     91\n",
       "sdg-score-multi__number       8\n",
       "sdg-score-multi__value        8\n",
       "sdg-score-multi__number 2     6\n",
       "sdg-score-multi__value 2      7\n",
       "sdg-score-multi__number 3    12\n",
       "sdg-score-multi__value 3     19\n",
       "sdg-score-multi__value 4      8\n",
       "Total Score                   0\n",
       "sdg-score-multi__number 5    67\n",
       "sdg-score-multi__value 5     75\n",
       "sdg-score-multi__number 6    89\n",
       "sdg-score-multi__value 6     91\n",
       "sdg-score-multi__number 7    91\n",
       "sdg-score-multi__value 7     91\n",
       "sdg-score-multi__number 8    91\n",
       "sdg-score-multi__value 8     91\n",
       "dtype: int64"
      ]
     },
     "execution_count": 221,
     "metadata": {},
     "output_type": "execute_result"
    }
   ],
   "source": [
    "Uni_df['THE'][Uni_df['THE']['Location'].isnull()].isnull().sum()"
   ]
  },
  {
   "cell_type": "code",
   "execution_count": 222,
   "metadata": {},
   "outputs": [
    {
     "name": "stderr",
     "output_type": "stream",
     "text": [
      "C:\\Users\\aabdu\\AppData\\Local\\Temp\\ipykernel_18292\\1398074943.py:1: FutureWarning:\n",
      "\n",
      "A value is trying to be set on a copy of a DataFrame or Series through chained assignment using an inplace method.\n",
      "The behavior will change in pandas 3.0. This inplace method will never work because the intermediate object on which we are setting values always behaves as a copy.\n",
      "\n",
      "For example, when doing 'df[col].method(value, inplace=True)', try using 'df.method({col: value}, inplace=True)' or df[col] = df[col].method(value) instead, to perform the operation inplace on the original object.\n",
      "\n",
      "\n",
      "\n"
     ]
    }
   ],
   "source": [
    "Uni_df['THE']['Location'].fillna('Unknown', inplace=True)"
   ]
  },
  {
   "cell_type": "code",
   "execution_count": 223,
   "metadata": {},
   "outputs": [],
   "source": [
    "# Uni_df['THE'][Uni_df['THE']['Location'].isnull()]"
   ]
  },
  {
   "cell_type": "code",
   "execution_count": 224,
   "metadata": {},
   "outputs": [],
   "source": [
    "# Uni_df['THE'].head(14)"
   ]
  },
  {
   "cell_type": "code",
   "execution_count": 225,
   "metadata": {},
   "outputs": [],
   "source": [
    "# Uni_df['THE'][Uni_df['THE']['Rank'].isnull()]"
   ]
  },
  {
   "cell_type": "code",
   "execution_count": 226,
   "metadata": {},
   "outputs": [],
   "source": [
    "# Uni_df['THE']['Rank'] = Uni_df['THE']['Rank'].map(lambda x :x)"
   ]
  },
  {
   "cell_type": "code",
   "execution_count": 227,
   "metadata": {},
   "outputs": [],
   "source": [
    "# Uni_df['THE'][Uni_df['THE']['Rank'].isnull()]"
   ]
  },
  {
   "cell_type": "code",
   "execution_count": 228,
   "metadata": {},
   "outputs": [
    {
     "data": {
      "text/plain": [
       "0"
      ]
     },
     "execution_count": 228,
     "metadata": {},
     "output_type": "execute_result"
    }
   ],
   "source": [
    "#check for duplicates in the rank for CWUR\n",
    "Uni_df['CWUR']['Rank'].duplicated().sum()"
   ]
  },
  {
   "cell_type": "code",
   "execution_count": 229,
   "metadata": {},
   "outputs": [
    {
     "data": {
      "text/html": [
       "<div>\n",
       "<style scoped>\n",
       "    .dataframe tbody tr th:only-of-type {\n",
       "        vertical-align: middle;\n",
       "    }\n",
       "\n",
       "    .dataframe tbody tr th {\n",
       "        vertical-align: top;\n",
       "    }\n",
       "\n",
       "    .dataframe thead th {\n",
       "        text-align: right;\n",
       "    }\n",
       "</style>\n",
       "<table border=\"1\" class=\"dataframe\">\n",
       "  <thead>\n",
       "    <tr style=\"text-align: right;\">\n",
       "      <th></th>\n",
       "      <th>Rank</th>\n",
       "      <th>University Name</th>\n",
       "      <th>Location</th>\n",
       "      <th>National Rank</th>\n",
       "      <th>Educational Rank</th>\n",
       "      <th>Employability Rank</th>\n",
       "      <th>Faculty Rank</th>\n",
       "      <th>Research Rank</th>\n",
       "      <th>Total Score</th>\n",
       "    </tr>\n",
       "  </thead>\n",
       "  <tbody>\n",
       "    <tr>\n",
       "      <th>0</th>\n",
       "      <td>1Top 0.1%</td>\n",
       "      <td>Harvard University\\n  CWUR Rating System:   Ed...</td>\n",
       "      <td>USA</td>\n",
       "      <td>1</td>\n",
       "      <td>1</td>\n",
       "      <td>1</td>\n",
       "      <td>1</td>\n",
       "      <td>1</td>\n",
       "      <td>100.0</td>\n",
       "    </tr>\n",
       "  </tbody>\n",
       "</table>\n",
       "</div>"
      ],
      "text/plain": [
       "        Rank                                    University Name Location  \\\n",
       "0  1Top 0.1%  Harvard University\\n  CWUR Rating System:   Ed...      USA   \n",
       "\n",
       "   National Rank Educational Rank Employability Rank Faculty Rank  \\\n",
       "0              1                1                  1            1   \n",
       "\n",
       "  Research Rank  Total Score  \n",
       "0             1        100.0  "
      ]
     },
     "execution_count": 229,
     "metadata": {},
     "output_type": "execute_result"
    }
   ],
   "source": [
    "Uni_df['CWUR'].head(1)"
   ]
  },
  {
   "cell_type": "code",
   "execution_count": 230,
   "metadata": {},
   "outputs": [],
   "source": [
    "Uni_df['CWUR'] ['Ratio'] = Uni_df['CWUR']['Rank'].map(lambda x : x.split('Top')[1])\n",
    "Uni_df['CWUR'] ['Rank'] = Uni_df['CWUR']['Rank'].map(lambda x : int(x.split('Top')[0]))"
   ]
  },
  {
   "cell_type": "code",
   "execution_count": 231,
   "metadata": {},
   "outputs": [
    {
     "data": {
      "text/html": [
       "<div>\n",
       "<style scoped>\n",
       "    .dataframe tbody tr th:only-of-type {\n",
       "        vertical-align: middle;\n",
       "    }\n",
       "\n",
       "    .dataframe tbody tr th {\n",
       "        vertical-align: top;\n",
       "    }\n",
       "\n",
       "    .dataframe thead th {\n",
       "        text-align: right;\n",
       "    }\n",
       "</style>\n",
       "<table border=\"1\" class=\"dataframe\">\n",
       "  <thead>\n",
       "    <tr style=\"text-align: right;\">\n",
       "      <th></th>\n",
       "      <th>Rank</th>\n",
       "      <th>University Name</th>\n",
       "      <th>Location</th>\n",
       "      <th>National Rank</th>\n",
       "      <th>Educational Rank</th>\n",
       "      <th>Employability Rank</th>\n",
       "      <th>Faculty Rank</th>\n",
       "      <th>Research Rank</th>\n",
       "      <th>Total Score</th>\n",
       "      <th>Ratio</th>\n",
       "    </tr>\n",
       "  </thead>\n",
       "  <tbody>\n",
       "    <tr>\n",
       "      <th>0</th>\n",
       "      <td>1</td>\n",
       "      <td>Harvard University\\n  CWUR Rating System:   Ed...</td>\n",
       "      <td>USA</td>\n",
       "      <td>1</td>\n",
       "      <td>1</td>\n",
       "      <td>1</td>\n",
       "      <td>1</td>\n",
       "      <td>1</td>\n",
       "      <td>100.0</td>\n",
       "      <td>0.1%</td>\n",
       "    </tr>\n",
       "  </tbody>\n",
       "</table>\n",
       "</div>"
      ],
      "text/plain": [
       "   Rank                                    University Name Location  \\\n",
       "0     1  Harvard University\\n  CWUR Rating System:   Ed...      USA   \n",
       "\n",
       "   National Rank Educational Rank Employability Rank Faculty Rank  \\\n",
       "0              1                1                  1            1   \n",
       "\n",
       "  Research Rank  Total Score  Ratio  \n",
       "0             1        100.0   0.1%  "
      ]
     },
     "execution_count": 231,
     "metadata": {},
     "output_type": "execute_result"
    }
   ],
   "source": [
    "Uni_df['CWUR'].head(1)"
   ]
  },
  {
   "cell_type": "code",
   "execution_count": 232,
   "metadata": {},
   "outputs": [
    {
     "data": {
      "text/plain": [
       "Rank                    int64\n",
       "University Name        object\n",
       "Location               object\n",
       "National Rank           int64\n",
       "Educational Rank       object\n",
       "Employability Rank     object\n",
       "Faculty Rank           object\n",
       "Research Rank          object\n",
       "Total Score           float64\n",
       "Ratio                  object\n",
       "dtype: object"
      ]
     },
     "execution_count": 232,
     "metadata": {},
     "output_type": "execute_result"
    }
   ],
   "source": [
    "Uni_df['CWUR'].dtypes"
   ]
  },
  {
   "cell_type": "code",
   "execution_count": 233,
   "metadata": {},
   "outputs": [
    {
     "data": {
      "text/html": [
       "<div>\n",
       "<style scoped>\n",
       "    .dataframe tbody tr th:only-of-type {\n",
       "        vertical-align: middle;\n",
       "    }\n",
       "\n",
       "    .dataframe tbody tr th {\n",
       "        vertical-align: top;\n",
       "    }\n",
       "\n",
       "    .dataframe thead th {\n",
       "        text-align: right;\n",
       "    }\n",
       "</style>\n",
       "<table border=\"1\" class=\"dataframe\">\n",
       "  <thead>\n",
       "    <tr style=\"text-align: right;\">\n",
       "      <th></th>\n",
       "      <th>Rank</th>\n",
       "      <th>University Name</th>\n",
       "      <th>Location</th>\n",
       "      <th>National Rank</th>\n",
       "      <th>Educational Rank</th>\n",
       "      <th>Employability Rank</th>\n",
       "      <th>Faculty Rank</th>\n",
       "      <th>Research Rank</th>\n",
       "      <th>Total Score</th>\n",
       "      <th>Ratio</th>\n",
       "    </tr>\n",
       "  </thead>\n",
       "  <tbody>\n",
       "    <tr>\n",
       "      <th>35</th>\n",
       "      <td>36</td>\n",
       "      <td>University of California, San Francisco</td>\n",
       "      <td>USA</td>\n",
       "      <td>23</td>\n",
       "      <td>-</td>\n",
       "      <td>1554</td>\n",
       "      <td>15</td>\n",
       "      <td>27</td>\n",
       "      <td>86.0</td>\n",
       "      <td>0.2%</td>\n",
       "    </tr>\n",
       "    <tr>\n",
       "      <th>54</th>\n",
       "      <td>55</td>\n",
       "      <td>University of Chinese Academy of Sciences</td>\n",
       "      <td>China</td>\n",
       "      <td>3</td>\n",
       "      <td>-</td>\n",
       "      <td>1304</td>\n",
       "      <td>-</td>\n",
       "      <td>6</td>\n",
       "      <td>84.3</td>\n",
       "      <td>0.3%</td>\n",
       "    </tr>\n",
       "    <tr>\n",
       "      <th>68</th>\n",
       "      <td>69</td>\n",
       "      <td>Texas A&amp;M University, College Station</td>\n",
       "      <td>USA</td>\n",
       "      <td>39</td>\n",
       "      <td>-</td>\n",
       "      <td>129</td>\n",
       "      <td>72</td>\n",
       "      <td>85</td>\n",
       "      <td>83.4</td>\n",
       "      <td>0.4%</td>\n",
       "    </tr>\n",
       "    <tr>\n",
       "      <th>73</th>\n",
       "      <td>74</td>\n",
       "      <td>Shanghai Jiao Tong University</td>\n",
       "      <td>China</td>\n",
       "      <td>4</td>\n",
       "      <td>-</td>\n",
       "      <td>140</td>\n",
       "      <td>-</td>\n",
       "      <td>29</td>\n",
       "      <td>83.1</td>\n",
       "      <td>0.4%</td>\n",
       "    </tr>\n",
       "    <tr>\n",
       "      <th>84</th>\n",
       "      <td>85</td>\n",
       "      <td>Zhejiang University</td>\n",
       "      <td>China</td>\n",
       "      <td>5</td>\n",
       "      <td>-</td>\n",
       "      <td>351</td>\n",
       "      <td>-</td>\n",
       "      <td>32</td>\n",
       "      <td>82.5</td>\n",
       "      <td>0.5%</td>\n",
       "    </tr>\n",
       "    <tr>\n",
       "      <th>...</th>\n",
       "      <td>...</td>\n",
       "      <td>...</td>\n",
       "      <td>...</td>\n",
       "      <td>...</td>\n",
       "      <td>...</td>\n",
       "      <td>...</td>\n",
       "      <td>...</td>\n",
       "      <td>...</td>\n",
       "      <td>...</td>\n",
       "      <td>...</td>\n",
       "    </tr>\n",
       "    <tr>\n",
       "      <th>1995</th>\n",
       "      <td>1996</td>\n",
       "      <td>Chongqing Jiaotong University</td>\n",
       "      <td>China</td>\n",
       "      <td>314</td>\n",
       "      <td>-</td>\n",
       "      <td>-</td>\n",
       "      <td>-</td>\n",
       "      <td>1917</td>\n",
       "      <td>66.0</td>\n",
       "      <td>9.8%</td>\n",
       "    </tr>\n",
       "    <tr>\n",
       "      <th>1996</th>\n",
       "      <td>1997</td>\n",
       "      <td>University of Arkansas at Little Rock</td>\n",
       "      <td>USA</td>\n",
       "      <td>332</td>\n",
       "      <td>-</td>\n",
       "      <td>1322</td>\n",
       "      <td>-</td>\n",
       "      <td>1920</td>\n",
       "      <td>66.0</td>\n",
       "      <td>9.8%</td>\n",
       "    </tr>\n",
       "    <tr>\n",
       "      <th>1997</th>\n",
       "      <td>1998</td>\n",
       "      <td>Van Yüzüncü Yıl University</td>\n",
       "      <td>Turkey</td>\n",
       "      <td>54</td>\n",
       "      <td>-</td>\n",
       "      <td>-</td>\n",
       "      <td>-</td>\n",
       "      <td>1919</td>\n",
       "      <td>66.0</td>\n",
       "      <td>9.8%</td>\n",
       "    </tr>\n",
       "    <tr>\n",
       "      <th>1998</th>\n",
       "      <td>1999</td>\n",
       "      <td>Bharathidasan University</td>\n",
       "      <td>India</td>\n",
       "      <td>64</td>\n",
       "      <td>-</td>\n",
       "      <td>-</td>\n",
       "      <td>-</td>\n",
       "      <td>1922</td>\n",
       "      <td>66.0</td>\n",
       "      <td>9.8%</td>\n",
       "    </tr>\n",
       "    <tr>\n",
       "      <th>1999</th>\n",
       "      <td>2000</td>\n",
       "      <td>Gebze Technical University</td>\n",
       "      <td>Turkey</td>\n",
       "      <td>55</td>\n",
       "      <td>-</td>\n",
       "      <td>-</td>\n",
       "      <td>-</td>\n",
       "      <td>1923</td>\n",
       "      <td>66.0</td>\n",
       "      <td>9.8%</td>\n",
       "    </tr>\n",
       "  </tbody>\n",
       "</table>\n",
       "<p>1562 rows × 10 columns</p>\n",
       "</div>"
      ],
      "text/plain": [
       "      Rank                            University Name Location  National Rank  \\\n",
       "35      36    University of California, San Francisco      USA             23   \n",
       "54      55  University of Chinese Academy of Sciences    China              3   \n",
       "68      69      Texas A&M University, College Station      USA             39   \n",
       "73      74              Shanghai Jiao Tong University    China              4   \n",
       "84      85                        Zhejiang University    China              5   \n",
       "...    ...                                        ...      ...            ...   \n",
       "1995  1996              Chongqing Jiaotong University    China            314   \n",
       "1996  1997      University of Arkansas at Little Rock      USA            332   \n",
       "1997  1998                 Van Yüzüncü Yıl University   Turkey             54   \n",
       "1998  1999                   Bharathidasan University    India             64   \n",
       "1999  2000                 Gebze Technical University   Turkey             55   \n",
       "\n",
       "     Educational Rank Employability Rank Faculty Rank Research Rank  \\\n",
       "35                  -               1554           15            27   \n",
       "54                  -               1304            -             6   \n",
       "68                  -                129           72            85   \n",
       "73                  -                140            -            29   \n",
       "84                  -                351            -            32   \n",
       "...               ...                ...          ...           ...   \n",
       "1995                -                  -            -          1917   \n",
       "1996                -               1322            -          1920   \n",
       "1997                -                  -            -          1919   \n",
       "1998                -                  -            -          1922   \n",
       "1999                -                  -            -          1923   \n",
       "\n",
       "      Total Score  Ratio  \n",
       "35           86.0   0.2%  \n",
       "54           84.3   0.3%  \n",
       "68           83.4   0.4%  \n",
       "73           83.1   0.4%  \n",
       "84           82.5   0.5%  \n",
       "...           ...    ...  \n",
       "1995         66.0   9.8%  \n",
       "1996         66.0   9.8%  \n",
       "1997         66.0   9.8%  \n",
       "1998         66.0   9.8%  \n",
       "1999         66.0   9.8%  \n",
       "\n",
       "[1562 rows x 10 columns]"
      ]
     },
     "execution_count": 233,
     "metadata": {},
     "output_type": "execute_result"
    }
   ],
   "source": [
    "Uni_df['CWUR'][(Uni_df['CWUR']['Educational Rank']=='-')]"
   ]
  },
  {
   "cell_type": "code",
   "execution_count": 234,
   "metadata": {},
   "outputs": [],
   "source": [
    "Uni_df['CWUR']['Educational Rank'] = Uni_df['CWUR']['Educational Rank'].map(lambda x : 0 if x =='-' else int(x))"
   ]
  },
  {
   "cell_type": "code",
   "execution_count": 235,
   "metadata": {},
   "outputs": [
    {
     "data": {
      "text/plain": [
       "Rank                    int64\n",
       "University Name        object\n",
       "Location               object\n",
       "National Rank           int64\n",
       "Educational Rank        int64\n",
       "Employability Rank     object\n",
       "Faculty Rank           object\n",
       "Research Rank          object\n",
       "Total Score           float64\n",
       "Ratio                  object\n",
       "dtype: object"
      ]
     },
     "execution_count": 235,
     "metadata": {},
     "output_type": "execute_result"
    }
   ],
   "source": [
    "Uni_df['CWUR'].dtypes"
   ]
  },
  {
   "cell_type": "code",
   "execution_count": 236,
   "metadata": {},
   "outputs": [
    {
     "data": {
      "text/html": [
       "<div>\n",
       "<style scoped>\n",
       "    .dataframe tbody tr th:only-of-type {\n",
       "        vertical-align: middle;\n",
       "    }\n",
       "\n",
       "    .dataframe tbody tr th {\n",
       "        vertical-align: top;\n",
       "    }\n",
       "\n",
       "    .dataframe thead th {\n",
       "        text-align: right;\n",
       "    }\n",
       "</style>\n",
       "<table border=\"1\" class=\"dataframe\">\n",
       "  <thead>\n",
       "    <tr style=\"text-align: right;\">\n",
       "      <th></th>\n",
       "      <th>Rank</th>\n",
       "      <th>University Name</th>\n",
       "      <th>Location</th>\n",
       "      <th>National Rank</th>\n",
       "      <th>Educational Rank</th>\n",
       "      <th>Employability Rank</th>\n",
       "      <th>Faculty Rank</th>\n",
       "      <th>Research Rank</th>\n",
       "      <th>Total Score</th>\n",
       "      <th>Ratio</th>\n",
       "    </tr>\n",
       "  </thead>\n",
       "  <tbody>\n",
       "  </tbody>\n",
       "</table>\n",
       "</div>"
      ],
      "text/plain": [
       "Empty DataFrame\n",
       "Columns: [Rank, University Name, Location, National Rank, Educational Rank, Employability Rank, Faculty Rank, Research Rank, Total Score, Ratio]\n",
       "Index: []"
      ]
     },
     "execution_count": 236,
     "metadata": {},
     "output_type": "execute_result"
    }
   ],
   "source": [
    "Uni_df['CWUR'][(Uni_df['CWUR']['Educational Rank']=='-')]"
   ]
  },
  {
   "cell_type": "code",
   "execution_count": 237,
   "metadata": {},
   "outputs": [
    {
     "data": {
      "text/html": [
       "<div>\n",
       "<style scoped>\n",
       "    .dataframe tbody tr th:only-of-type {\n",
       "        vertical-align: middle;\n",
       "    }\n",
       "\n",
       "    .dataframe tbody tr th {\n",
       "        vertical-align: top;\n",
       "    }\n",
       "\n",
       "    .dataframe thead th {\n",
       "        text-align: right;\n",
       "    }\n",
       "</style>\n",
       "<table border=\"1\" class=\"dataframe\">\n",
       "  <thead>\n",
       "    <tr style=\"text-align: right;\">\n",
       "      <th></th>\n",
       "      <th>Rank</th>\n",
       "      <th>University Name</th>\n",
       "      <th>Location</th>\n",
       "      <th>National Rank</th>\n",
       "      <th>Educational Rank</th>\n",
       "      <th>Employability Rank</th>\n",
       "      <th>Faculty Rank</th>\n",
       "      <th>Research Rank</th>\n",
       "      <th>Total Score</th>\n",
       "      <th>Ratio</th>\n",
       "    </tr>\n",
       "  </thead>\n",
       "  <tbody>\n",
       "    <tr>\n",
       "      <th>1995</th>\n",
       "      <td>1996</td>\n",
       "      <td>Chongqing Jiaotong University</td>\n",
       "      <td>China</td>\n",
       "      <td>314</td>\n",
       "      <td>0</td>\n",
       "      <td>-</td>\n",
       "      <td>-</td>\n",
       "      <td>1917</td>\n",
       "      <td>66.0</td>\n",
       "      <td>9.8%</td>\n",
       "    </tr>\n",
       "    <tr>\n",
       "      <th>1996</th>\n",
       "      <td>1997</td>\n",
       "      <td>University of Arkansas at Little Rock</td>\n",
       "      <td>USA</td>\n",
       "      <td>332</td>\n",
       "      <td>0</td>\n",
       "      <td>1322</td>\n",
       "      <td>-</td>\n",
       "      <td>1920</td>\n",
       "      <td>66.0</td>\n",
       "      <td>9.8%</td>\n",
       "    </tr>\n",
       "    <tr>\n",
       "      <th>1997</th>\n",
       "      <td>1998</td>\n",
       "      <td>Van Yüzüncü Yıl University</td>\n",
       "      <td>Turkey</td>\n",
       "      <td>54</td>\n",
       "      <td>0</td>\n",
       "      <td>-</td>\n",
       "      <td>-</td>\n",
       "      <td>1919</td>\n",
       "      <td>66.0</td>\n",
       "      <td>9.8%</td>\n",
       "    </tr>\n",
       "    <tr>\n",
       "      <th>1998</th>\n",
       "      <td>1999</td>\n",
       "      <td>Bharathidasan University</td>\n",
       "      <td>India</td>\n",
       "      <td>64</td>\n",
       "      <td>0</td>\n",
       "      <td>-</td>\n",
       "      <td>-</td>\n",
       "      <td>1922</td>\n",
       "      <td>66.0</td>\n",
       "      <td>9.8%</td>\n",
       "    </tr>\n",
       "    <tr>\n",
       "      <th>1999</th>\n",
       "      <td>2000</td>\n",
       "      <td>Gebze Technical University</td>\n",
       "      <td>Turkey</td>\n",
       "      <td>55</td>\n",
       "      <td>0</td>\n",
       "      <td>-</td>\n",
       "      <td>-</td>\n",
       "      <td>1923</td>\n",
       "      <td>66.0</td>\n",
       "      <td>9.8%</td>\n",
       "    </tr>\n",
       "  </tbody>\n",
       "</table>\n",
       "</div>"
      ],
      "text/plain": [
       "      Rank                        University Name Location  National Rank  \\\n",
       "1995  1996          Chongqing Jiaotong University    China            314   \n",
       "1996  1997  University of Arkansas at Little Rock      USA            332   \n",
       "1997  1998             Van Yüzüncü Yıl University   Turkey             54   \n",
       "1998  1999               Bharathidasan University    India             64   \n",
       "1999  2000             Gebze Technical University   Turkey             55   \n",
       "\n",
       "      Educational Rank Employability Rank Faculty Rank Research Rank  \\\n",
       "1995                 0                  -            -          1917   \n",
       "1996                 0               1322            -          1920   \n",
       "1997                 0                  -            -          1919   \n",
       "1998                 0                  -            -          1922   \n",
       "1999                 0                  -            -          1923   \n",
       "\n",
       "      Total Score  Ratio  \n",
       "1995         66.0   9.8%  \n",
       "1996         66.0   9.8%  \n",
       "1997         66.0   9.8%  \n",
       "1998         66.0   9.8%  \n",
       "1999         66.0   9.8%  "
      ]
     },
     "execution_count": 237,
     "metadata": {},
     "output_type": "execute_result"
    }
   ],
   "source": [
    "Uni_df['CWUR'].tail()"
   ]
  },
  {
   "cell_type": "code",
   "execution_count": 238,
   "metadata": {},
   "outputs": [],
   "source": [
    "Uni_df['CWUR']['Employability Rank'] = Uni_df['CWUR']['Employability Rank'].map(lambda x : 0 if x =='-' else int(x))\n",
    "Uni_df['CWUR']['Faculty Rank'] = Uni_df['CWUR']['Faculty Rank'].map(lambda x : 0 if x =='-' else int(x))\n",
    "Uni_df['CWUR']['Research Rank'] = Uni_df['CWUR']['Research Rank'].map(lambda x : 0 if x =='-' else int(x))"
   ]
  },
  {
   "cell_type": "code",
   "execution_count": 239,
   "metadata": {},
   "outputs": [
    {
     "data": {
      "text/html": [
       "<div>\n",
       "<style scoped>\n",
       "    .dataframe tbody tr th:only-of-type {\n",
       "        vertical-align: middle;\n",
       "    }\n",
       "\n",
       "    .dataframe tbody tr th {\n",
       "        vertical-align: top;\n",
       "    }\n",
       "\n",
       "    .dataframe thead th {\n",
       "        text-align: right;\n",
       "    }\n",
       "</style>\n",
       "<table border=\"1\" class=\"dataframe\">\n",
       "  <thead>\n",
       "    <tr style=\"text-align: right;\">\n",
       "      <th></th>\n",
       "      <th>Rank</th>\n",
       "      <th>University Name</th>\n",
       "      <th>Location</th>\n",
       "      <th>National Rank</th>\n",
       "      <th>Educational Rank</th>\n",
       "      <th>Employability Rank</th>\n",
       "      <th>Faculty Rank</th>\n",
       "      <th>Research Rank</th>\n",
       "      <th>Total Score</th>\n",
       "      <th>Ratio</th>\n",
       "    </tr>\n",
       "  </thead>\n",
       "  <tbody>\n",
       "  </tbody>\n",
       "</table>\n",
       "</div>"
      ],
      "text/plain": [
       "Empty DataFrame\n",
       "Columns: [Rank, University Name, Location, National Rank, Educational Rank, Employability Rank, Faculty Rank, Research Rank, Total Score, Ratio]\n",
       "Index: []"
      ]
     },
     "metadata": {},
     "output_type": "display_data"
    },
    {
     "data": {
      "text/html": [
       "<div>\n",
       "<style scoped>\n",
       "    .dataframe tbody tr th:only-of-type {\n",
       "        vertical-align: middle;\n",
       "    }\n",
       "\n",
       "    .dataframe tbody tr th {\n",
       "        vertical-align: top;\n",
       "    }\n",
       "\n",
       "    .dataframe thead th {\n",
       "        text-align: right;\n",
       "    }\n",
       "</style>\n",
       "<table border=\"1\" class=\"dataframe\">\n",
       "  <thead>\n",
       "    <tr style=\"text-align: right;\">\n",
       "      <th></th>\n",
       "      <th>Rank</th>\n",
       "      <th>University Name</th>\n",
       "      <th>Location</th>\n",
       "      <th>National Rank</th>\n",
       "      <th>Educational Rank</th>\n",
       "      <th>Employability Rank</th>\n",
       "      <th>Faculty Rank</th>\n",
       "      <th>Research Rank</th>\n",
       "      <th>Total Score</th>\n",
       "      <th>Ratio</th>\n",
       "    </tr>\n",
       "  </thead>\n",
       "  <tbody>\n",
       "  </tbody>\n",
       "</table>\n",
       "</div>"
      ],
      "text/plain": [
       "Empty DataFrame\n",
       "Columns: [Rank, University Name, Location, National Rank, Educational Rank, Employability Rank, Faculty Rank, Research Rank, Total Score, Ratio]\n",
       "Index: []"
      ]
     },
     "metadata": {},
     "output_type": "display_data"
    },
    {
     "data": {
      "text/html": [
       "<div>\n",
       "<style scoped>\n",
       "    .dataframe tbody tr th:only-of-type {\n",
       "        vertical-align: middle;\n",
       "    }\n",
       "\n",
       "    .dataframe tbody tr th {\n",
       "        vertical-align: top;\n",
       "    }\n",
       "\n",
       "    .dataframe thead th {\n",
       "        text-align: right;\n",
       "    }\n",
       "</style>\n",
       "<table border=\"1\" class=\"dataframe\">\n",
       "  <thead>\n",
       "    <tr style=\"text-align: right;\">\n",
       "      <th></th>\n",
       "      <th>Rank</th>\n",
       "      <th>University Name</th>\n",
       "      <th>Location</th>\n",
       "      <th>National Rank</th>\n",
       "      <th>Educational Rank</th>\n",
       "      <th>Employability Rank</th>\n",
       "      <th>Faculty Rank</th>\n",
       "      <th>Research Rank</th>\n",
       "      <th>Total Score</th>\n",
       "      <th>Ratio</th>\n",
       "    </tr>\n",
       "  </thead>\n",
       "  <tbody>\n",
       "  </tbody>\n",
       "</table>\n",
       "</div>"
      ],
      "text/plain": [
       "Empty DataFrame\n",
       "Columns: [Rank, University Name, Location, National Rank, Educational Rank, Employability Rank, Faculty Rank, Research Rank, Total Score, Ratio]\n",
       "Index: []"
      ]
     },
     "metadata": {},
     "output_type": "display_data"
    }
   ],
   "source": [
    "display(Uni_df['CWUR'][(Uni_df['CWUR']['Employability Rank']=='-')])\n",
    "display(Uni_df['CWUR'][(Uni_df['CWUR']['Faculty Rank']=='-')])\n",
    "display(Uni_df['CWUR'][(Uni_df['CWUR']['Research Rank']=='-')])\n"
   ]
  },
  {
   "cell_type": "code",
   "execution_count": 240,
   "metadata": {},
   "outputs": [
    {
     "data": {
      "text/html": [
       "<div>\n",
       "<style scoped>\n",
       "    .dataframe tbody tr th:only-of-type {\n",
       "        vertical-align: middle;\n",
       "    }\n",
       "\n",
       "    .dataframe tbody tr th {\n",
       "        vertical-align: top;\n",
       "    }\n",
       "\n",
       "    .dataframe thead th {\n",
       "        text-align: right;\n",
       "    }\n",
       "</style>\n",
       "<table border=\"1\" class=\"dataframe\">\n",
       "  <thead>\n",
       "    <tr style=\"text-align: right;\">\n",
       "      <th></th>\n",
       "      <th>Rank</th>\n",
       "      <th>University Name</th>\n",
       "      <th>Location</th>\n",
       "      <th>National Rank</th>\n",
       "      <th>Educational Rank</th>\n",
       "      <th>Employability Rank</th>\n",
       "      <th>Faculty Rank</th>\n",
       "      <th>Research Rank</th>\n",
       "      <th>Total Score</th>\n",
       "      <th>Ratio</th>\n",
       "    </tr>\n",
       "  </thead>\n",
       "  <tbody>\n",
       "    <tr>\n",
       "      <th>0</th>\n",
       "      <td>1</td>\n",
       "      <td>Harvard University\\n  CWUR Rating System:   Ed...</td>\n",
       "      <td>USA</td>\n",
       "      <td>1</td>\n",
       "      <td>1</td>\n",
       "      <td>1</td>\n",
       "      <td>1</td>\n",
       "      <td>1</td>\n",
       "      <td>100.0</td>\n",
       "      <td>0.1%</td>\n",
       "    </tr>\n",
       "    <tr>\n",
       "      <th>1</th>\n",
       "      <td>2</td>\n",
       "      <td>Massachusetts Institute of Technology\\n  Educa...</td>\n",
       "      <td>USA</td>\n",
       "      <td>2</td>\n",
       "      <td>4</td>\n",
       "      <td>12</td>\n",
       "      <td>3</td>\n",
       "      <td>9</td>\n",
       "      <td>96.7</td>\n",
       "      <td>0.1%</td>\n",
       "    </tr>\n",
       "    <tr>\n",
       "      <th>2</th>\n",
       "      <td>3</td>\n",
       "      <td>Stanford University\\n  Education: A+; Employab...</td>\n",
       "      <td>USA</td>\n",
       "      <td>3</td>\n",
       "      <td>11</td>\n",
       "      <td>4</td>\n",
       "      <td>2</td>\n",
       "      <td>2</td>\n",
       "      <td>95.2</td>\n",
       "      <td>0.1%</td>\n",
       "    </tr>\n",
       "    <tr>\n",
       "      <th>3</th>\n",
       "      <td>4</td>\n",
       "      <td>University of Cambridge\\n  Education: A+; Empl...</td>\n",
       "      <td>United Kingdom</td>\n",
       "      <td>1</td>\n",
       "      <td>3</td>\n",
       "      <td>25</td>\n",
       "      <td>5</td>\n",
       "      <td>11</td>\n",
       "      <td>94.1</td>\n",
       "      <td>0.1%</td>\n",
       "    </tr>\n",
       "    <tr>\n",
       "      <th>4</th>\n",
       "      <td>5</td>\n",
       "      <td>University of Oxford\\n  Education: A+; Employa...</td>\n",
       "      <td>United Kingdom</td>\n",
       "      <td>2</td>\n",
       "      <td>7</td>\n",
       "      <td>27</td>\n",
       "      <td>9</td>\n",
       "      <td>4</td>\n",
       "      <td>93.3</td>\n",
       "      <td>0.1%</td>\n",
       "    </tr>\n",
       "  </tbody>\n",
       "</table>\n",
       "</div>"
      ],
      "text/plain": [
       "   Rank                                    University Name        Location  \\\n",
       "0     1  Harvard University\\n  CWUR Rating System:   Ed...             USA   \n",
       "1     2  Massachusetts Institute of Technology\\n  Educa...             USA   \n",
       "2     3  Stanford University\\n  Education: A+; Employab...             USA   \n",
       "3     4  University of Cambridge\\n  Education: A+; Empl...  United Kingdom   \n",
       "4     5  University of Oxford\\n  Education: A+; Employa...  United Kingdom   \n",
       "\n",
       "   National Rank  Educational Rank  Employability Rank  Faculty Rank  \\\n",
       "0              1                 1                   1             1   \n",
       "1              2                 4                  12             3   \n",
       "2              3                11                   4             2   \n",
       "3              1                 3                  25             5   \n",
       "4              2                 7                  27             9   \n",
       "\n",
       "   Research Rank  Total Score  Ratio  \n",
       "0              1        100.0   0.1%  \n",
       "1              9         96.7   0.1%  \n",
       "2              2         95.2   0.1%  \n",
       "3             11         94.1   0.1%  \n",
       "4              4         93.3   0.1%  "
      ]
     },
     "execution_count": 240,
     "metadata": {},
     "output_type": "execute_result"
    }
   ],
   "source": [
    "Uni_df['CWUR'].head()"
   ]
  },
  {
   "cell_type": "code",
   "execution_count": 241,
   "metadata": {},
   "outputs": [],
   "source": [
    "Uni_df['CWUR']['University Name'] = Uni_df['CWUR']['University Name'].map(lambda x : x.split('\\n')[0])"
   ]
  },
  {
   "cell_type": "code",
   "execution_count": 242,
   "metadata": {},
   "outputs": [
    {
     "data": {
      "text/html": [
       "<div>\n",
       "<style scoped>\n",
       "    .dataframe tbody tr th:only-of-type {\n",
       "        vertical-align: middle;\n",
       "    }\n",
       "\n",
       "    .dataframe tbody tr th {\n",
       "        vertical-align: top;\n",
       "    }\n",
       "\n",
       "    .dataframe thead th {\n",
       "        text-align: right;\n",
       "    }\n",
       "</style>\n",
       "<table border=\"1\" class=\"dataframe\">\n",
       "  <thead>\n",
       "    <tr style=\"text-align: right;\">\n",
       "      <th></th>\n",
       "      <th>Rank</th>\n",
       "      <th>University Name</th>\n",
       "      <th>Location</th>\n",
       "      <th>National Rank</th>\n",
       "      <th>Educational Rank</th>\n",
       "      <th>Employability Rank</th>\n",
       "      <th>Faculty Rank</th>\n",
       "      <th>Research Rank</th>\n",
       "      <th>Total Score</th>\n",
       "      <th>Ratio</th>\n",
       "    </tr>\n",
       "  </thead>\n",
       "  <tbody>\n",
       "    <tr>\n",
       "      <th>0</th>\n",
       "      <td>1</td>\n",
       "      <td>Harvard University</td>\n",
       "      <td>USA</td>\n",
       "      <td>1</td>\n",
       "      <td>1</td>\n",
       "      <td>1</td>\n",
       "      <td>1</td>\n",
       "      <td>1</td>\n",
       "      <td>100.0</td>\n",
       "      <td>0.1%</td>\n",
       "    </tr>\n",
       "    <tr>\n",
       "      <th>1</th>\n",
       "      <td>2</td>\n",
       "      <td>Massachusetts Institute of Technology</td>\n",
       "      <td>USA</td>\n",
       "      <td>2</td>\n",
       "      <td>4</td>\n",
       "      <td>12</td>\n",
       "      <td>3</td>\n",
       "      <td>9</td>\n",
       "      <td>96.7</td>\n",
       "      <td>0.1%</td>\n",
       "    </tr>\n",
       "    <tr>\n",
       "      <th>2</th>\n",
       "      <td>3</td>\n",
       "      <td>Stanford University</td>\n",
       "      <td>USA</td>\n",
       "      <td>3</td>\n",
       "      <td>11</td>\n",
       "      <td>4</td>\n",
       "      <td>2</td>\n",
       "      <td>2</td>\n",
       "      <td>95.2</td>\n",
       "      <td>0.1%</td>\n",
       "    </tr>\n",
       "    <tr>\n",
       "      <th>3</th>\n",
       "      <td>4</td>\n",
       "      <td>University of Cambridge</td>\n",
       "      <td>United Kingdom</td>\n",
       "      <td>1</td>\n",
       "      <td>3</td>\n",
       "      <td>25</td>\n",
       "      <td>5</td>\n",
       "      <td>11</td>\n",
       "      <td>94.1</td>\n",
       "      <td>0.1%</td>\n",
       "    </tr>\n",
       "    <tr>\n",
       "      <th>4</th>\n",
       "      <td>5</td>\n",
       "      <td>University of Oxford</td>\n",
       "      <td>United Kingdom</td>\n",
       "      <td>2</td>\n",
       "      <td>7</td>\n",
       "      <td>27</td>\n",
       "      <td>9</td>\n",
       "      <td>4</td>\n",
       "      <td>93.3</td>\n",
       "      <td>0.1%</td>\n",
       "    </tr>\n",
       "  </tbody>\n",
       "</table>\n",
       "</div>"
      ],
      "text/plain": [
       "   Rank                        University Name        Location  National Rank  \\\n",
       "0     1                     Harvard University             USA              1   \n",
       "1     2  Massachusetts Institute of Technology             USA              2   \n",
       "2     3                    Stanford University             USA              3   \n",
       "3     4                University of Cambridge  United Kingdom              1   \n",
       "4     5                   University of Oxford  United Kingdom              2   \n",
       "\n",
       "   Educational Rank  Employability Rank  Faculty Rank  Research Rank  \\\n",
       "0                 1                   1             1              1   \n",
       "1                 4                  12             3              9   \n",
       "2                11                   4             2              2   \n",
       "3                 3                  25             5             11   \n",
       "4                 7                  27             9              4   \n",
       "\n",
       "   Total Score  Ratio  \n",
       "0        100.0   0.1%  \n",
       "1         96.7   0.1%  \n",
       "2         95.2   0.1%  \n",
       "3         94.1   0.1%  \n",
       "4         93.3   0.1%  "
      ]
     },
     "execution_count": 242,
     "metadata": {},
     "output_type": "execute_result"
    }
   ],
   "source": [
    "Uni_df['CWUR'].head()"
   ]
  },
  {
   "cell_type": "code",
   "execution_count": 243,
   "metadata": {},
   "outputs": [
    {
     "data": {
      "text/plain": [
       "Rank                    int64\n",
       "University Name        object\n",
       "Location               object\n",
       "National Rank           int64\n",
       "Educational Rank        int64\n",
       "Employability Rank      int64\n",
       "Faculty Rank            int64\n",
       "Research Rank           int64\n",
       "Total Score           float64\n",
       "Ratio                  object\n",
       "dtype: object"
      ]
     },
     "execution_count": 243,
     "metadata": {},
     "output_type": "execute_result"
    }
   ],
   "source": [
    "Uni_df['CWUR'].dtypes"
   ]
  },
  {
   "cell_type": "code",
   "execution_count": 244,
   "metadata": {},
   "outputs": [],
   "source": [
    "Uni_df['CWUR']['Ratio'] = Uni_df['CWUR']['Ratio'].map(lambda x : float(x.split('%')[0]))"
   ]
  },
  {
   "cell_type": "code",
   "execution_count": 245,
   "metadata": {},
   "outputs": [
    {
     "data": {
      "text/html": [
       "<div>\n",
       "<style scoped>\n",
       "    .dataframe tbody tr th:only-of-type {\n",
       "        vertical-align: middle;\n",
       "    }\n",
       "\n",
       "    .dataframe tbody tr th {\n",
       "        vertical-align: top;\n",
       "    }\n",
       "\n",
       "    .dataframe thead th {\n",
       "        text-align: right;\n",
       "    }\n",
       "</style>\n",
       "<table border=\"1\" class=\"dataframe\">\n",
       "  <thead>\n",
       "    <tr style=\"text-align: right;\">\n",
       "      <th></th>\n",
       "      <th>Rank</th>\n",
       "      <th>University Name</th>\n",
       "      <th>Location</th>\n",
       "      <th>National Rank</th>\n",
       "      <th>Educational Rank</th>\n",
       "      <th>Employability Rank</th>\n",
       "      <th>Faculty Rank</th>\n",
       "      <th>Research Rank</th>\n",
       "      <th>Total Score</th>\n",
       "      <th>Ratio</th>\n",
       "    </tr>\n",
       "  </thead>\n",
       "  <tbody>\n",
       "    <tr>\n",
       "      <th>0</th>\n",
       "      <td>1</td>\n",
       "      <td>Harvard University</td>\n",
       "      <td>USA</td>\n",
       "      <td>1</td>\n",
       "      <td>1</td>\n",
       "      <td>1</td>\n",
       "      <td>1</td>\n",
       "      <td>1</td>\n",
       "      <td>100.0</td>\n",
       "      <td>0.1</td>\n",
       "    </tr>\n",
       "    <tr>\n",
       "      <th>1</th>\n",
       "      <td>2</td>\n",
       "      <td>Massachusetts Institute of Technology</td>\n",
       "      <td>USA</td>\n",
       "      <td>2</td>\n",
       "      <td>4</td>\n",
       "      <td>12</td>\n",
       "      <td>3</td>\n",
       "      <td>9</td>\n",
       "      <td>96.7</td>\n",
       "      <td>0.1</td>\n",
       "    </tr>\n",
       "    <tr>\n",
       "      <th>2</th>\n",
       "      <td>3</td>\n",
       "      <td>Stanford University</td>\n",
       "      <td>USA</td>\n",
       "      <td>3</td>\n",
       "      <td>11</td>\n",
       "      <td>4</td>\n",
       "      <td>2</td>\n",
       "      <td>2</td>\n",
       "      <td>95.2</td>\n",
       "      <td>0.1</td>\n",
       "    </tr>\n",
       "    <tr>\n",
       "      <th>3</th>\n",
       "      <td>4</td>\n",
       "      <td>University of Cambridge</td>\n",
       "      <td>United Kingdom</td>\n",
       "      <td>1</td>\n",
       "      <td>3</td>\n",
       "      <td>25</td>\n",
       "      <td>5</td>\n",
       "      <td>11</td>\n",
       "      <td>94.1</td>\n",
       "      <td>0.1</td>\n",
       "    </tr>\n",
       "    <tr>\n",
       "      <th>4</th>\n",
       "      <td>5</td>\n",
       "      <td>University of Oxford</td>\n",
       "      <td>United Kingdom</td>\n",
       "      <td>2</td>\n",
       "      <td>7</td>\n",
       "      <td>27</td>\n",
       "      <td>9</td>\n",
       "      <td>4</td>\n",
       "      <td>93.3</td>\n",
       "      <td>0.1</td>\n",
       "    </tr>\n",
       "  </tbody>\n",
       "</table>\n",
       "</div>"
      ],
      "text/plain": [
       "   Rank                        University Name        Location  National Rank  \\\n",
       "0     1                     Harvard University             USA              1   \n",
       "1     2  Massachusetts Institute of Technology             USA              2   \n",
       "2     3                    Stanford University             USA              3   \n",
       "3     4                University of Cambridge  United Kingdom              1   \n",
       "4     5                   University of Oxford  United Kingdom              2   \n",
       "\n",
       "   Educational Rank  Employability Rank  Faculty Rank  Research Rank  \\\n",
       "0                 1                   1             1              1   \n",
       "1                 4                  12             3              9   \n",
       "2                11                   4             2              2   \n",
       "3                 3                  25             5             11   \n",
       "4                 7                  27             9              4   \n",
       "\n",
       "   Total Score  Ratio  \n",
       "0        100.0    0.1  \n",
       "1         96.7    0.1  \n",
       "2         95.2    0.1  \n",
       "3         94.1    0.1  \n",
       "4         93.3    0.1  "
      ]
     },
     "execution_count": 245,
     "metadata": {},
     "output_type": "execute_result"
    }
   ],
   "source": [
    "Uni_df['CWUR'].head()"
   ]
  },
  {
   "cell_type": "code",
   "execution_count": 246,
   "metadata": {},
   "outputs": [
    {
     "data": {
      "text/plain": [
       "[0]"
      ]
     },
     "execution_count": 246,
     "metadata": {},
     "output_type": "execute_result"
    }
   ],
   "source": [
    "[(Uni_df['CWUR']['Educational Rank'] == '-').sum()]"
   ]
  },
  {
   "cell_type": "code",
   "execution_count": 247,
   "metadata": {},
   "outputs": [
    {
     "data": {
      "text/plain": [
       "(2000, 10)"
      ]
     },
     "execution_count": 247,
     "metadata": {},
     "output_type": "execute_result"
    }
   ],
   "source": [
    "Uni_df['CWUR'].shape"
   ]
  },
  {
   "cell_type": "code",
   "execution_count": 248,
   "metadata": {},
   "outputs": [
    {
     "data": {
      "text/plain": [
       "Rank                object\n",
       "University Name     object\n",
       "National Rank       object\n",
       "Total Score        float64\n",
       "dtype: object"
      ]
     },
     "execution_count": 248,
     "metadata": {},
     "output_type": "execute_result"
    }
   ],
   "source": [
    "Uni_df['ARWU'].dtypes"
   ]
  },
  {
   "cell_type": "code",
   "execution_count": 249,
   "metadata": {},
   "outputs": [
    {
     "data": {
      "text/html": [
       "<div>\n",
       "<style scoped>\n",
       "    .dataframe tbody tr th:only-of-type {\n",
       "        vertical-align: middle;\n",
       "    }\n",
       "\n",
       "    .dataframe tbody tr th {\n",
       "        vertical-align: top;\n",
       "    }\n",
       "\n",
       "    .dataframe thead th {\n",
       "        text-align: right;\n",
       "    }\n",
       "</style>\n",
       "<table border=\"1\" class=\"dataframe\">\n",
       "  <thead>\n",
       "    <tr style=\"text-align: right;\">\n",
       "      <th></th>\n",
       "      <th>Rank</th>\n",
       "      <th>University Name</th>\n",
       "      <th>National Rank</th>\n",
       "      <th>Total Score</th>\n",
       "    </tr>\n",
       "  </thead>\n",
       "  <tbody>\n",
       "    <tr>\n",
       "      <th>0</th>\n",
       "      <td>1</td>\n",
       "      <td>Harvard University</td>\n",
       "      <td>1</td>\n",
       "      <td>100.0</td>\n",
       "    </tr>\n",
       "    <tr>\n",
       "      <th>1</th>\n",
       "      <td>2</td>\n",
       "      <td>Stanford University</td>\n",
       "      <td>2</td>\n",
       "      <td>76.8</td>\n",
       "    </tr>\n",
       "    <tr>\n",
       "      <th>2</th>\n",
       "      <td>3</td>\n",
       "      <td>Massachusetts Institute of Technology (MIT)</td>\n",
       "      <td>3</td>\n",
       "      <td>70.1</td>\n",
       "    </tr>\n",
       "    <tr>\n",
       "      <th>3</th>\n",
       "      <td>4</td>\n",
       "      <td>University of Cambridge</td>\n",
       "      <td>1</td>\n",
       "      <td>69.6</td>\n",
       "    </tr>\n",
       "    <tr>\n",
       "      <th>4</th>\n",
       "      <td>5</td>\n",
       "      <td>University of California, Berkeley</td>\n",
       "      <td>4</td>\n",
       "      <td>65.3</td>\n",
       "    </tr>\n",
       "  </tbody>\n",
       "</table>\n",
       "</div>"
      ],
      "text/plain": [
       "  Rank                              University Name National Rank  Total Score\n",
       "0    1                           Harvard University             1        100.0\n",
       "1    2                          Stanford University             2         76.8\n",
       "2    3  Massachusetts Institute of Technology (MIT)             3         70.1\n",
       "3    4                      University of Cambridge             1         69.6\n",
       "4    5           University of California, Berkeley             4         65.3"
      ]
     },
     "execution_count": 249,
     "metadata": {},
     "output_type": "execute_result"
    }
   ],
   "source": [
    "Uni_df['ARWU'].head()"
   ]
  },
  {
   "cell_type": "code",
   "execution_count": 250,
   "metadata": {},
   "outputs": [
    {
     "data": {
      "text/html": [
       "<div>\n",
       "<style scoped>\n",
       "    .dataframe tbody tr th:only-of-type {\n",
       "        vertical-align: middle;\n",
       "    }\n",
       "\n",
       "    .dataframe tbody tr th {\n",
       "        vertical-align: top;\n",
       "    }\n",
       "\n",
       "    .dataframe thead th {\n",
       "        text-align: right;\n",
       "    }\n",
       "</style>\n",
       "<table border=\"1\" class=\"dataframe\">\n",
       "  <thead>\n",
       "    <tr style=\"text-align: right;\">\n",
       "      <th></th>\n",
       "      <th>Rank</th>\n",
       "      <th>University Name</th>\n",
       "      <th>National Rank</th>\n",
       "      <th>Total Score</th>\n",
       "    </tr>\n",
       "  </thead>\n",
       "  <tbody>\n",
       "    <tr>\n",
       "      <th>83</th>\n",
       "      <td>83</td>\n",
       "      <td>Technion-Israel Institute of Technology</td>\n",
       "      <td>2-3</td>\n",
       "      <td>27.2</td>\n",
       "    </tr>\n",
       "    <tr>\n",
       "      <th>85</th>\n",
       "      <td>83</td>\n",
       "      <td>Weizmann Institute of Science</td>\n",
       "      <td>2-3</td>\n",
       "      <td>27.2</td>\n",
       "    </tr>\n",
       "    <tr>\n",
       "      <th>361</th>\n",
       "      <td>301-400</td>\n",
       "      <td>University College Cork</td>\n",
       "      <td>2-3</td>\n",
       "      <td>0.0</td>\n",
       "    </tr>\n",
       "    <tr>\n",
       "      <th>362</th>\n",
       "      <td>301-400</td>\n",
       "      <td>University College Dublin</td>\n",
       "      <td>2-3</td>\n",
       "      <td>0.0</td>\n",
       "    </tr>\n",
       "    <tr>\n",
       "      <th>622</th>\n",
       "      <td>601-700</td>\n",
       "      <td>Hacettepe University</td>\n",
       "      <td>2-3</td>\n",
       "      <td>0.0</td>\n",
       "    </tr>\n",
       "    <tr>\n",
       "      <th>676</th>\n",
       "      <td>601-700</td>\n",
       "      <td>University of Delhi</td>\n",
       "      <td>2-3</td>\n",
       "      <td>0.0</td>\n",
       "    </tr>\n",
       "    <tr>\n",
       "      <th>683</th>\n",
       "      <td>601-700</td>\n",
       "      <td>University of Health Sciences Turkey</td>\n",
       "      <td>2-3</td>\n",
       "      <td>0.0</td>\n",
       "    </tr>\n",
       "    <tr>\n",
       "      <th>696</th>\n",
       "      <td>601-700</td>\n",
       "      <td>Vellore Institute of Technology</td>\n",
       "      <td>2-3</td>\n",
       "      <td>0.0</td>\n",
       "    </tr>\n",
       "  </tbody>\n",
       "</table>\n",
       "</div>"
      ],
      "text/plain": [
       "        Rank                          University Name National Rank  \\\n",
       "83        83  Technion-Israel Institute of Technology           2-3   \n",
       "85        83            Weizmann Institute of Science           2-3   \n",
       "361  301-400                  University College Cork           2-3   \n",
       "362  301-400                University College Dublin           2-3   \n",
       "622  601-700                     Hacettepe University           2-3   \n",
       "676  601-700                      University of Delhi           2-3   \n",
       "683  601-700     University of Health Sciences Turkey           2-3   \n",
       "696  601-700          Vellore Institute of Technology           2-3   \n",
       "\n",
       "     Total Score  \n",
       "83          27.2  \n",
       "85          27.2  \n",
       "361          0.0  \n",
       "362          0.0  \n",
       "622          0.0  \n",
       "676          0.0  \n",
       "683          0.0  \n",
       "696          0.0  "
      ]
     },
     "execution_count": 250,
     "metadata": {},
     "output_type": "execute_result"
    }
   ],
   "source": [
    "Uni_df['ARWU'][Uni_df['ARWU']['National Rank'] == '2-3']"
   ]
  },
  {
   "cell_type": "code",
   "execution_count": 251,
   "metadata": {},
   "outputs": [],
   "source": [
    "Uni_df['ARWU']['National Rank'] = Uni_df['ARWU']['National Rank'].map(lambda x : int(x.split('-')[0]) if '-' in x else int(x))"
   ]
  },
  {
   "cell_type": "code",
   "execution_count": 252,
   "metadata": {},
   "outputs": [
    {
     "data": {
      "text/plain": [
       "Rank                object\n",
       "University Name     object\n",
       "National Rank        int64\n",
       "Total Score        float64\n",
       "dtype: object"
      ]
     },
     "execution_count": 252,
     "metadata": {},
     "output_type": "execute_result"
    }
   ],
   "source": [
    "Uni_df['ARWU'].dtypes"
   ]
  },
  {
   "cell_type": "code",
   "execution_count": 253,
   "metadata": {},
   "outputs": [
    {
     "name": "stderr",
     "output_type": "stream",
     "text": [
      "C:\\Users\\aabdu\\AppData\\Local\\Temp\\ipykernel_18292\\495153695.py:1: FutureWarning:\n",
      "\n",
      "ChainedAssignmentError: behaviour will change in pandas 3.0!\n",
      "You are setting values through chained assignment. Currently this works in certain cases, but when using Copy-on-Write (which will become the default behaviour in pandas 3.0) this will never work to update the original DataFrame or Series, because the intermediate object on which we are setting values will behave as a copy.\n",
      "A typical example is when you are setting values in a column of a DataFrame, like:\n",
      "\n",
      "df[\"col\"][row_indexer] = value\n",
      "\n",
      "Use `df.loc[row_indexer, \"col\"] = values` instead, to perform the assignment in a single step and ensure this keeps updating the original `df`.\n",
      "\n",
      "See the caveats in the documentation: https://pandas.pydata.org/pandas-docs/stable/user_guide/indexing.html#returning-a-view-versus-a-copy\n",
      "\n",
      "\n",
      "C:\\Users\\aabdu\\AppData\\Local\\Temp\\ipykernel_18292\\495153695.py:1: SettingWithCopyWarning:\n",
      "\n",
      "\n",
      "A value is trying to be set on a copy of a slice from a DataFrame\n",
      "\n",
      "See the caveats in the documentation: https://pandas.pydata.org/pandas-docs/stable/user_guide/indexing.html#returning-a-view-versus-a-copy\n",
      "\n"
     ]
    }
   ],
   "source": [
    "Uni_df['ARWU']['Total Score'][100:] = 0"
   ]
  },
  {
   "cell_type": "code",
   "execution_count": 254,
   "metadata": {},
   "outputs": [],
   "source": [
    "#Change the rank type, and when you find a range take the lowest number\n",
    "Uni_df['ARWU']['Rank'] = Uni_df['ARWU']['Rank'].map(lambda x : int(x.split('-')[0]) if '-' in x else int(x))"
   ]
  },
  {
   "cell_type": "code",
   "execution_count": null,
   "metadata": {},
   "outputs": [],
   "source": []
  },
  {
   "cell_type": "code",
   "execution_count": 255,
   "metadata": {},
   "outputs": [
    {
     "data": {
      "text/html": [
       "<div>\n",
       "<style scoped>\n",
       "    .dataframe tbody tr th:only-of-type {\n",
       "        vertical-align: middle;\n",
       "    }\n",
       "\n",
       "    .dataframe tbody tr th {\n",
       "        vertical-align: top;\n",
       "    }\n",
       "\n",
       "    .dataframe thead th {\n",
       "        text-align: right;\n",
       "    }\n",
       "</style>\n",
       "<table border=\"1\" class=\"dataframe\">\n",
       "  <thead>\n",
       "    <tr style=\"text-align: right;\">\n",
       "      <th></th>\n",
       "      <th>Rank</th>\n",
       "      <th>University Name</th>\n",
       "      <th>Location</th>\n",
       "      <th>National Rank</th>\n",
       "      <th>Educational Rank</th>\n",
       "      <th>Employability Rank</th>\n",
       "      <th>Faculty Rank</th>\n",
       "      <th>Research Rank</th>\n",
       "      <th>Total Score</th>\n",
       "      <th>Ratio</th>\n",
       "    </tr>\n",
       "  </thead>\n",
       "  <tbody>\n",
       "    <tr>\n",
       "      <th>0</th>\n",
       "      <td>1</td>\n",
       "      <td>Harvard University</td>\n",
       "      <td>USA</td>\n",
       "      <td>1</td>\n",
       "      <td>1</td>\n",
       "      <td>1</td>\n",
       "      <td>1</td>\n",
       "      <td>1</td>\n",
       "      <td>100.0</td>\n",
       "      <td>0.1</td>\n",
       "    </tr>\n",
       "    <tr>\n",
       "      <th>3</th>\n",
       "      <td>4</td>\n",
       "      <td>University of Cambridge</td>\n",
       "      <td>United Kingdom</td>\n",
       "      <td>1</td>\n",
       "      <td>3</td>\n",
       "      <td>25</td>\n",
       "      <td>5</td>\n",
       "      <td>11</td>\n",
       "      <td>94.1</td>\n",
       "      <td>0.1</td>\n",
       "    </tr>\n",
       "    <tr>\n",
       "      <th>12</th>\n",
       "      <td>13</td>\n",
       "      <td>University of Tokyo</td>\n",
       "      <td>Japan</td>\n",
       "      <td>1</td>\n",
       "      <td>37</td>\n",
       "      <td>6</td>\n",
       "      <td>113</td>\n",
       "      <td>30</td>\n",
       "      <td>89.8</td>\n",
       "      <td>0.1</td>\n",
       "    </tr>\n",
       "    <tr>\n",
       "      <th>20</th>\n",
       "      <td>21</td>\n",
       "      <td>PSL University</td>\n",
       "      <td>France</td>\n",
       "      <td>1</td>\n",
       "      <td>17</td>\n",
       "      <td>31</td>\n",
       "      <td>111</td>\n",
       "      <td>91</td>\n",
       "      <td>88.0</td>\n",
       "      <td>0.2</td>\n",
       "    </tr>\n",
       "    <tr>\n",
       "      <th>22</th>\n",
       "      <td>23</td>\n",
       "      <td>University of Toronto</td>\n",
       "      <td>Canada</td>\n",
       "      <td>1</td>\n",
       "      <td>233</td>\n",
       "      <td>163</td>\n",
       "      <td>23</td>\n",
       "      <td>3</td>\n",
       "      <td>87.7</td>\n",
       "      <td>0.2</td>\n",
       "    </tr>\n",
       "    <tr>\n",
       "      <th>...</th>\n",
       "      <td>...</td>\n",
       "      <td>...</td>\n",
       "      <td>...</td>\n",
       "      <td>...</td>\n",
       "      <td>...</td>\n",
       "      <td>...</td>\n",
       "      <td>...</td>\n",
       "      <td>...</td>\n",
       "      <td>...</td>\n",
       "      <td>...</td>\n",
       "    </tr>\n",
       "    <tr>\n",
       "      <th>1823</th>\n",
       "      <td>1824</td>\n",
       "      <td>Tribhuvan University</td>\n",
       "      <td>Nepal</td>\n",
       "      <td>1</td>\n",
       "      <td>0</td>\n",
       "      <td>0</td>\n",
       "      <td>0</td>\n",
       "      <td>1751</td>\n",
       "      <td>66.6</td>\n",
       "      <td>8.9</td>\n",
       "    </tr>\n",
       "    <tr>\n",
       "      <th>1919</th>\n",
       "      <td>1920</td>\n",
       "      <td>Muhimbili University of Health and Allied Scie...</td>\n",
       "      <td>Tanzania</td>\n",
       "      <td>1</td>\n",
       "      <td>0</td>\n",
       "      <td>0</td>\n",
       "      <td>0</td>\n",
       "      <td>1843</td>\n",
       "      <td>66.2</td>\n",
       "      <td>9.4</td>\n",
       "    </tr>\n",
       "    <tr>\n",
       "      <th>1929</th>\n",
       "      <td>1930</td>\n",
       "      <td>University of Science and Technology Houari Bo...</td>\n",
       "      <td>Algeria</td>\n",
       "      <td>1</td>\n",
       "      <td>0</td>\n",
       "      <td>0</td>\n",
       "      <td>0</td>\n",
       "      <td>1853</td>\n",
       "      <td>66.2</td>\n",
       "      <td>9.5</td>\n",
       "    </tr>\n",
       "    <tr>\n",
       "      <th>1945</th>\n",
       "      <td>1946</td>\n",
       "      <td>An-Najah National University</td>\n",
       "      <td>Palestine</td>\n",
       "      <td>1</td>\n",
       "      <td>0</td>\n",
       "      <td>0</td>\n",
       "      <td>0</td>\n",
       "      <td>1866</td>\n",
       "      <td>66.2</td>\n",
       "      <td>9.5</td>\n",
       "    </tr>\n",
       "    <tr>\n",
       "      <th>1989</th>\n",
       "      <td>1990</td>\n",
       "      <td>Ss. Cyril and Methodius University in Skopje</td>\n",
       "      <td>North Macedonia</td>\n",
       "      <td>1</td>\n",
       "      <td>0</td>\n",
       "      <td>0</td>\n",
       "      <td>0</td>\n",
       "      <td>1912</td>\n",
       "      <td>66.0</td>\n",
       "      <td>9.7</td>\n",
       "    </tr>\n",
       "  </tbody>\n",
       "</table>\n",
       "<p>95 rows × 10 columns</p>\n",
       "</div>"
      ],
      "text/plain": [
       "      Rank                                    University Name  \\\n",
       "0        1                                 Harvard University   \n",
       "3        4                            University of Cambridge   \n",
       "12      13                                University of Tokyo   \n",
       "20      21                                     PSL University   \n",
       "22      23                              University of Toronto   \n",
       "...    ...                                                ...   \n",
       "1823  1824                               Tribhuvan University   \n",
       "1919  1920  Muhimbili University of Health and Allied Scie...   \n",
       "1929  1930  University of Science and Technology Houari Bo...   \n",
       "1945  1946                       An-Najah National University   \n",
       "1989  1990       Ss. Cyril and Methodius University in Skopje   \n",
       "\n",
       "             Location  National Rank  Educational Rank  Employability Rank  \\\n",
       "0                 USA              1                 1                   1   \n",
       "3      United Kingdom              1                 3                  25   \n",
       "12              Japan              1                37                   6   \n",
       "20             France              1                17                  31   \n",
       "22             Canada              1               233                 163   \n",
       "...               ...            ...               ...                 ...   \n",
       "1823            Nepal              1                 0                   0   \n",
       "1919         Tanzania              1                 0                   0   \n",
       "1929          Algeria              1                 0                   0   \n",
       "1945        Palestine              1                 0                   0   \n",
       "1989  North Macedonia              1                 0                   0   \n",
       "\n",
       "      Faculty Rank  Research Rank  Total Score  Ratio  \n",
       "0                1              1        100.0    0.1  \n",
       "3                5             11         94.1    0.1  \n",
       "12             113             30         89.8    0.1  \n",
       "20             111             91         88.0    0.2  \n",
       "22              23              3         87.7    0.2  \n",
       "...            ...            ...          ...    ...  \n",
       "1823             0           1751         66.6    8.9  \n",
       "1919             0           1843         66.2    9.4  \n",
       "1929             0           1853         66.2    9.5  \n",
       "1945             0           1866         66.2    9.5  \n",
       "1989             0           1912         66.0    9.7  \n",
       "\n",
       "[95 rows x 10 columns]"
      ]
     },
     "execution_count": 255,
     "metadata": {},
     "output_type": "execute_result"
    }
   ],
   "source": [
    "#extra question what are the top 1 universties in each region or country\n",
    "Uni_df['CWUR'][Uni_df['CWUR']['National Rank'] == 1]"
   ]
  },
  {
   "cell_type": "code",
   "execution_count": 256,
   "metadata": {},
   "outputs": [
    {
     "data": {
      "text/html": [
       "<div>\n",
       "<style scoped>\n",
       "    .dataframe tbody tr th:only-of-type {\n",
       "        vertical-align: middle;\n",
       "    }\n",
       "\n",
       "    .dataframe tbody tr th {\n",
       "        vertical-align: top;\n",
       "    }\n",
       "\n",
       "    .dataframe thead th {\n",
       "        text-align: right;\n",
       "    }\n",
       "</style>\n",
       "<table border=\"1\" class=\"dataframe\">\n",
       "  <thead>\n",
       "    <tr style=\"text-align: right;\">\n",
       "      <th></th>\n",
       "      <th>Rank</th>\n",
       "      <th>University Name</th>\n",
       "      <th>Location</th>\n",
       "      <th>National Rank</th>\n",
       "      <th>Educational Rank</th>\n",
       "      <th>Employability Rank</th>\n",
       "      <th>Faculty Rank</th>\n",
       "      <th>Research Rank</th>\n",
       "      <th>Total Score</th>\n",
       "      <th>Ratio</th>\n",
       "    </tr>\n",
       "  </thead>\n",
       "  <tbody>\n",
       "    <tr>\n",
       "      <th>244</th>\n",
       "      <td>245</td>\n",
       "      <td>King Abdulaziz University</td>\n",
       "      <td>Saudi Arabia</td>\n",
       "      <td>1</td>\n",
       "      <td>0</td>\n",
       "      <td>1330</td>\n",
       "      <td>0</td>\n",
       "      <td>186</td>\n",
       "      <td>77.8</td>\n",
       "      <td>1.2</td>\n",
       "    </tr>\n",
       "    <tr>\n",
       "      <th>278</th>\n",
       "      <td>279</td>\n",
       "      <td>King Abdullah University of Science and Techno...</td>\n",
       "      <td>Saudi Arabia</td>\n",
       "      <td>2</td>\n",
       "      <td>0</td>\n",
       "      <td>0</td>\n",
       "      <td>171</td>\n",
       "      <td>297</td>\n",
       "      <td>77.2</td>\n",
       "      <td>1.4</td>\n",
       "    </tr>\n",
       "    <tr>\n",
       "      <th>351</th>\n",
       "      <td>352</td>\n",
       "      <td>King Saud University</td>\n",
       "      <td>Saudi Arabia</td>\n",
       "      <td>3</td>\n",
       "      <td>0</td>\n",
       "      <td>344</td>\n",
       "      <td>0</td>\n",
       "      <td>332</td>\n",
       "      <td>76.1</td>\n",
       "      <td>1.8</td>\n",
       "    </tr>\n",
       "    <tr>\n",
       "      <th>656</th>\n",
       "      <td>657</td>\n",
       "      <td>King Fahd University of Petroleum and Minerals</td>\n",
       "      <td>Saudi Arabia</td>\n",
       "      <td>4</td>\n",
       "      <td>0</td>\n",
       "      <td>107</td>\n",
       "      <td>0</td>\n",
       "      <td>792</td>\n",
       "      <td>72.8</td>\n",
       "      <td>3.3</td>\n",
       "    </tr>\n",
       "    <tr>\n",
       "      <th>1310</th>\n",
       "      <td>1311</td>\n",
       "      <td>King Saud bin Abdulaziz University for Health ...</td>\n",
       "      <td>Saudi Arabia</td>\n",
       "      <td>5</td>\n",
       "      <td>0</td>\n",
       "      <td>0</td>\n",
       "      <td>0</td>\n",
       "      <td>1255</td>\n",
       "      <td>68.8</td>\n",
       "      <td>6.4</td>\n",
       "    </tr>\n",
       "    <tr>\n",
       "      <th>1446</th>\n",
       "      <td>1447</td>\n",
       "      <td>King Khalid University</td>\n",
       "      <td>Saudi Arabia</td>\n",
       "      <td>6</td>\n",
       "      <td>0</td>\n",
       "      <td>0</td>\n",
       "      <td>0</td>\n",
       "      <td>1385</td>\n",
       "      <td>68.1</td>\n",
       "      <td>7.1</td>\n",
       "    </tr>\n",
       "    <tr>\n",
       "      <th>1508</th>\n",
       "      <td>1509</td>\n",
       "      <td>Taif University</td>\n",
       "      <td>Saudi Arabia</td>\n",
       "      <td>7</td>\n",
       "      <td>0</td>\n",
       "      <td>0</td>\n",
       "      <td>0</td>\n",
       "      <td>1445</td>\n",
       "      <td>67.9</td>\n",
       "      <td>7.4</td>\n",
       "    </tr>\n",
       "    <tr>\n",
       "      <th>1546</th>\n",
       "      <td>1547</td>\n",
       "      <td>Imam Abdulrahman Bin Faisal University</td>\n",
       "      <td>Saudi Arabia</td>\n",
       "      <td>8</td>\n",
       "      <td>0</td>\n",
       "      <td>0</td>\n",
       "      <td>0</td>\n",
       "      <td>1484</td>\n",
       "      <td>67.7</td>\n",
       "      <td>7.6</td>\n",
       "    </tr>\n",
       "    <tr>\n",
       "      <th>1585</th>\n",
       "      <td>1586</td>\n",
       "      <td>Taibah University</td>\n",
       "      <td>Saudi Arabia</td>\n",
       "      <td>9</td>\n",
       "      <td>0</td>\n",
       "      <td>0</td>\n",
       "      <td>0</td>\n",
       "      <td>1520</td>\n",
       "      <td>67.5</td>\n",
       "      <td>7.8</td>\n",
       "    </tr>\n",
       "    <tr>\n",
       "      <th>1710</th>\n",
       "      <td>1711</td>\n",
       "      <td>Prince Sattam Bin Abdulaziz University</td>\n",
       "      <td>Saudi Arabia</td>\n",
       "      <td>10</td>\n",
       "      <td>0</td>\n",
       "      <td>0</td>\n",
       "      <td>0</td>\n",
       "      <td>1636</td>\n",
       "      <td>67.0</td>\n",
       "      <td>8.4</td>\n",
       "    </tr>\n",
       "    <tr>\n",
       "      <th>1741</th>\n",
       "      <td>1742</td>\n",
       "      <td>Umm Al-Qura University</td>\n",
       "      <td>Saudi Arabia</td>\n",
       "      <td>11</td>\n",
       "      <td>0</td>\n",
       "      <td>0</td>\n",
       "      <td>0</td>\n",
       "      <td>1666</td>\n",
       "      <td>66.9</td>\n",
       "      <td>8.5</td>\n",
       "    </tr>\n",
       "    <tr>\n",
       "      <th>1761</th>\n",
       "      <td>1762</td>\n",
       "      <td>Alfaisal University</td>\n",
       "      <td>Saudi Arabia</td>\n",
       "      <td>12</td>\n",
       "      <td>0</td>\n",
       "      <td>0</td>\n",
       "      <td>0</td>\n",
       "      <td>1688</td>\n",
       "      <td>66.8</td>\n",
       "      <td>8.6</td>\n",
       "    </tr>\n",
       "    <tr>\n",
       "      <th>1810</th>\n",
       "      <td>1811</td>\n",
       "      <td>Jazan University</td>\n",
       "      <td>Saudi Arabia</td>\n",
       "      <td>13</td>\n",
       "      <td>0</td>\n",
       "      <td>0</td>\n",
       "      <td>0</td>\n",
       "      <td>1737</td>\n",
       "      <td>66.6</td>\n",
       "      <td>8.9</td>\n",
       "    </tr>\n",
       "    <tr>\n",
       "      <th>1906</th>\n",
       "      <td>1907</td>\n",
       "      <td>Qassim University</td>\n",
       "      <td>Saudi Arabia</td>\n",
       "      <td>14</td>\n",
       "      <td>0</td>\n",
       "      <td>0</td>\n",
       "      <td>0</td>\n",
       "      <td>1830</td>\n",
       "      <td>66.3</td>\n",
       "      <td>9.3</td>\n",
       "    </tr>\n",
       "    <tr>\n",
       "      <th>1973</th>\n",
       "      <td>1974</td>\n",
       "      <td>University of Tabuk</td>\n",
       "      <td>Saudi Arabia</td>\n",
       "      <td>15</td>\n",
       "      <td>0</td>\n",
       "      <td>0</td>\n",
       "      <td>0</td>\n",
       "      <td>1896</td>\n",
       "      <td>66.1</td>\n",
       "      <td>9.7</td>\n",
       "    </tr>\n",
       "    <tr>\n",
       "      <th>1978</th>\n",
       "      <td>1979</td>\n",
       "      <td>King Faisal University</td>\n",
       "      <td>Saudi Arabia</td>\n",
       "      <td>16</td>\n",
       "      <td>0</td>\n",
       "      <td>0</td>\n",
       "      <td>0</td>\n",
       "      <td>1903</td>\n",
       "      <td>66.0</td>\n",
       "      <td>9.7</td>\n",
       "    </tr>\n",
       "  </tbody>\n",
       "</table>\n",
       "</div>"
      ],
      "text/plain": [
       "      Rank                                    University Name      Location  \\\n",
       "244    245                          King Abdulaziz University  Saudi Arabia   \n",
       "278    279  King Abdullah University of Science and Techno...  Saudi Arabia   \n",
       "351    352                               King Saud University  Saudi Arabia   \n",
       "656    657     King Fahd University of Petroleum and Minerals  Saudi Arabia   \n",
       "1310  1311  King Saud bin Abdulaziz University for Health ...  Saudi Arabia   \n",
       "1446  1447                             King Khalid University  Saudi Arabia   \n",
       "1508  1509                                    Taif University  Saudi Arabia   \n",
       "1546  1547             Imam Abdulrahman Bin Faisal University  Saudi Arabia   \n",
       "1585  1586                                  Taibah University  Saudi Arabia   \n",
       "1710  1711             Prince Sattam Bin Abdulaziz University  Saudi Arabia   \n",
       "1741  1742                             Umm Al-Qura University  Saudi Arabia   \n",
       "1761  1762                                Alfaisal University  Saudi Arabia   \n",
       "1810  1811                                   Jazan University  Saudi Arabia   \n",
       "1906  1907                                  Qassim University  Saudi Arabia   \n",
       "1973  1974                                University of Tabuk  Saudi Arabia   \n",
       "1978  1979                             King Faisal University  Saudi Arabia   \n",
       "\n",
       "      National Rank  Educational Rank  Employability Rank  Faculty Rank  \\\n",
       "244               1                 0                1330             0   \n",
       "278               2                 0                   0           171   \n",
       "351               3                 0                 344             0   \n",
       "656               4                 0                 107             0   \n",
       "1310              5                 0                   0             0   \n",
       "1446              6                 0                   0             0   \n",
       "1508              7                 0                   0             0   \n",
       "1546              8                 0                   0             0   \n",
       "1585              9                 0                   0             0   \n",
       "1710             10                 0                   0             0   \n",
       "1741             11                 0                   0             0   \n",
       "1761             12                 0                   0             0   \n",
       "1810             13                 0                   0             0   \n",
       "1906             14                 0                   0             0   \n",
       "1973             15                 0                   0             0   \n",
       "1978             16                 0                   0             0   \n",
       "\n",
       "      Research Rank  Total Score  Ratio  \n",
       "244             186         77.8    1.2  \n",
       "278             297         77.2    1.4  \n",
       "351             332         76.1    1.8  \n",
       "656             792         72.8    3.3  \n",
       "1310           1255         68.8    6.4  \n",
       "1446           1385         68.1    7.1  \n",
       "1508           1445         67.9    7.4  \n",
       "1546           1484         67.7    7.6  \n",
       "1585           1520         67.5    7.8  \n",
       "1710           1636         67.0    8.4  \n",
       "1741           1666         66.9    8.5  \n",
       "1761           1688         66.8    8.6  \n",
       "1810           1737         66.6    8.9  \n",
       "1906           1830         66.3    9.3  \n",
       "1973           1896         66.1    9.7  \n",
       "1978           1903         66.0    9.7  "
      ]
     },
     "execution_count": 256,
     "metadata": {},
     "output_type": "execute_result"
    }
   ],
   "source": [
    "#extra question what are the top universties in suadi arabia\n",
    "Uni_df['CWUR'][Uni_df['CWUR']['Location'] == 'Saudi Arabia']"
   ]
  },
  {
   "cell_type": "code",
   "execution_count": 257,
   "metadata": {},
   "outputs": [],
   "source": [
    "Uni_df['ARWU'].drop(Uni_df['ARWU'][Uni_df['ARWU']['Total Score'] == 0].index,inplace=True)"
   ]
  },
  {
   "cell_type": "code",
   "execution_count": 258,
   "metadata": {},
   "outputs": [
    {
     "data": {
      "text/html": [
       "<div>\n",
       "<style scoped>\n",
       "    .dataframe tbody tr th:only-of-type {\n",
       "        vertical-align: middle;\n",
       "    }\n",
       "\n",
       "    .dataframe tbody tr th {\n",
       "        vertical-align: top;\n",
       "    }\n",
       "\n",
       "    .dataframe thead th {\n",
       "        text-align: right;\n",
       "    }\n",
       "</style>\n",
       "<table border=\"1\" class=\"dataframe\">\n",
       "  <thead>\n",
       "    <tr style=\"text-align: right;\">\n",
       "      <th></th>\n",
       "      <th>Rank</th>\n",
       "      <th>University Name</th>\n",
       "      <th>National Rank</th>\n",
       "      <th>Total Score</th>\n",
       "    </tr>\n",
       "  </thead>\n",
       "  <tbody>\n",
       "    <tr>\n",
       "      <th>95</th>\n",
       "      <td>96</td>\n",
       "      <td>Huazhong University of Science and Technology</td>\n",
       "      <td>8</td>\n",
       "      <td>26.1</td>\n",
       "    </tr>\n",
       "    <tr>\n",
       "      <th>96</th>\n",
       "      <td>96</td>\n",
       "      <td>The University of Hong Kong</td>\n",
       "      <td>1</td>\n",
       "      <td>26.1</td>\n",
       "    </tr>\n",
       "    <tr>\n",
       "      <th>97</th>\n",
       "      <td>98</td>\n",
       "      <td>Seoul National University</td>\n",
       "      <td>1</td>\n",
       "      <td>25.9</td>\n",
       "    </tr>\n",
       "    <tr>\n",
       "      <th>98</th>\n",
       "      <td>99</td>\n",
       "      <td>Brown University</td>\n",
       "      <td>39</td>\n",
       "      <td>25.8</td>\n",
       "    </tr>\n",
       "    <tr>\n",
       "      <th>99</th>\n",
       "      <td>99</td>\n",
       "      <td>The University of Western Australia</td>\n",
       "      <td>7</td>\n",
       "      <td>25.8</td>\n",
       "    </tr>\n",
       "  </tbody>\n",
       "</table>\n",
       "</div>"
      ],
      "text/plain": [
       "    Rank                                University Name  National Rank  \\\n",
       "95    96  Huazhong University of Science and Technology              8   \n",
       "96    96                    The University of Hong Kong              1   \n",
       "97    98                      Seoul National University              1   \n",
       "98    99                               Brown University             39   \n",
       "99    99            The University of Western Australia              7   \n",
       "\n",
       "    Total Score  \n",
       "95         26.1  \n",
       "96         26.1  \n",
       "97         25.9  \n",
       "98         25.8  \n",
       "99         25.8  "
      ]
     },
     "execution_count": 258,
     "metadata": {},
     "output_type": "execute_result"
    }
   ],
   "source": [
    "Uni_df['ARWU'].tail()"
   ]
  },
  {
   "cell_type": "code",
   "execution_count": null,
   "metadata": {},
   "outputs": [],
   "source": []
  },
  {
   "cell_type": "markdown",
   "metadata": {},
   "source": [
    "## 3. Univariate Analysis: \n",
    "\n",
    "This involves examining single variables to understand their characteristics (distribution, central tendency, dispersion, and shape).\n",
    "\n",
    "We calculate **numerical values** about the data that tells us about the distribution of the data. We also **draw graphs** showing visually how the data is distributed. **To answer the following questions about Features/characteristics of Data:**\n",
    "- Where is the center of the data? (location)\n",
    "- How much does the data vary? (scale)\n",
    "- What is the shape of the data? (shape)\n",
    "\n",
    "**The benefits of this analysis:**\n",
    "Statistics summary gives a high-level idea to identify whether the data has any outliers, data entry error, distribution of data such as the data is normally distributed or left/right skewed\n",
    "\n",
    "**In this step, we will explore variables one by one using following approaches:**"
   ]
  },
  {
   "cell_type": "code",
   "execution_count": 259,
   "metadata": {},
   "outputs": [
    {
     "data": {
      "application/vnd.plotly.v1+json": {
       "config": {
        "plotlyServerURL": "https://plot.ly"
       },
       "data": [
        {
         "alignmentgroup": "True",
         "bingroup": "x",
         "hovertemplate": "Total Score=%{x}<br>count=%{y}<extra></extra>",
         "legendgroup": "",
         "marker": {
          "color": "rgb(102, 197, 204)",
          "pattern": {
           "shape": ""
          }
         },
         "name": "",
         "offsetgroup": "",
         "orientation": "v",
         "showlegend": false,
         "type": "histogram",
         "x": [
          100,
          96.7,
          95.2,
          94.1,
          93.3,
          92.6,
          92.1,
          91.6,
          91.2,
          90.8,
          90.4,
          90.1,
          89.8,
          89.5,
          89.3,
          89.1,
          88.8,
          88.6,
          88.4,
          88.2,
          88,
          87.9,
          87.7,
          87.5,
          87.4,
          87.2,
          87.1,
          87,
          86.8,
          86.7,
          86.6,
          86.4,
          86.3,
          86.2,
          86.1,
          86,
          85.9,
          85.8,
          85.7,
          85.6,
          85.5,
          85.4,
          85.3,
          85.2,
          85.1,
          85,
          84.9,
          84.9,
          84.8,
          84.7,
          84.6,
          84.5,
          84.5,
          84.4,
          84.3,
          84.2,
          84.2,
          84.1,
          84,
          84,
          83.9,
          83.8,
          83.8,
          83.7,
          83.6,
          83.6,
          83.5,
          83.5,
          83.4,
          83.3,
          83.3,
          83.2,
          83.2,
          83.1,
          83,
          83,
          82.9,
          82.9,
          82.8,
          82.8,
          82.7,
          82.7,
          82.6,
          82.6,
          82.5,
          82.5,
          82.4,
          82.4,
          82.3,
          82.3,
          82.2,
          82.2,
          82.1,
          82.1,
          82.1,
          82,
          82,
          81.9,
          81.9,
          81.8,
          81.8,
          81.8,
          81.7,
          81.7,
          81.6,
          81.6,
          81.6,
          81.5,
          81.5,
          81.4,
          81.4,
          81.4,
          81.3,
          81.3,
          81.2,
          81.2,
          81.2,
          81.1,
          81.1,
          81.1,
          81,
          81,
          80.9,
          80.9,
          80.9,
          80.8,
          80.8,
          80.8,
          80.7,
          80.7,
          80.7,
          80.6,
          80.6,
          80.6,
          80.5,
          80.5,
          80.5,
          80.4,
          80.4,
          80.4,
          80.3,
          80.3,
          80.3,
          80.3,
          80.2,
          80.2,
          80.2,
          80.1,
          80.1,
          80.1,
          80,
          80,
          80,
          80,
          79.9,
          79.9,
          79.9,
          79.8,
          79.8,
          79.8,
          79.8,
          79.7,
          79.7,
          79.7,
          79.6,
          79.6,
          79.6,
          79.6,
          79.5,
          79.5,
          79.5,
          79.5,
          79.4,
          79.4,
          79.4,
          79.4,
          79.3,
          79.3,
          79.3,
          79.3,
          79.2,
          79.2,
          79.2,
          79.2,
          79.1,
          79.1,
          79.1,
          79.1,
          79,
          79,
          79,
          79,
          78.9,
          78.9,
          78.9,
          78.9,
          78.8,
          78.8,
          78.8,
          78.8,
          78.7,
          78.7,
          78.7,
          78.7,
          78.7,
          78.6,
          78.6,
          78.6,
          78.6,
          78.5,
          78.5,
          78.5,
          78.5,
          78.5,
          78.4,
          78.4,
          78.4,
          78.4,
          78.3,
          78.3,
          78.3,
          78.3,
          78.3,
          78.2,
          78.2,
          78.2,
          78.2,
          78.2,
          78.1,
          78.1,
          78.1,
          78.1,
          78.1,
          78,
          78,
          78,
          78,
          78,
          77.9,
          77.9,
          77.9,
          77.9,
          77.9,
          77.8,
          77.8,
          77.8,
          77.8,
          77.8,
          77.7,
          77.7,
          77.7,
          77.7,
          77.7,
          77.7,
          77.6,
          77.6,
          77.6,
          77.6,
          77.6,
          77.5,
          77.5,
          77.5,
          77.5,
          77.5,
          77.4,
          77.4,
          77.4,
          77.4,
          77.4,
          77.4,
          77.3,
          77.3,
          77.3,
          77.3,
          77.3,
          77.3,
          77.2,
          77.2,
          77.2,
          77.2,
          77.2,
          77.1,
          77.1,
          77.1,
          77.1,
          77.1,
          77.1,
          77,
          77,
          77,
          77,
          77,
          77,
          76.9,
          76.9,
          76.9,
          76.9,
          76.9,
          76.9,
          76.8,
          76.8,
          76.8,
          76.8,
          76.8,
          76.8,
          76.8,
          76.7,
          76.7,
          76.7,
          76.7,
          76.7,
          76.7,
          76.6,
          76.6,
          76.6,
          76.6,
          76.6,
          76.6,
          76.5,
          76.5,
          76.5,
          76.5,
          76.5,
          76.5,
          76.5,
          76.4,
          76.4,
          76.4,
          76.4,
          76.4,
          76.4,
          76.4,
          76.3,
          76.3,
          76.3,
          76.3,
          76.3,
          76.3,
          76.2,
          76.2,
          76.2,
          76.2,
          76.2,
          76.2,
          76.2,
          76.1,
          76.1,
          76.1,
          76.1,
          76.1,
          76.1,
          76.1,
          76,
          76,
          76,
          76,
          76,
          76,
          76,
          76,
          75.9,
          75.9,
          75.9,
          75.9,
          75.9,
          75.9,
          75.9,
          75.8,
          75.8,
          75.8,
          75.8,
          75.8,
          75.8,
          75.8,
          75.7,
          75.7,
          75.7,
          75.7,
          75.7,
          75.7,
          75.7,
          75.7,
          75.6,
          75.6,
          75.6,
          75.6,
          75.6,
          75.6,
          75.6,
          75.5,
          75.5,
          75.5,
          75.5,
          75.5,
          75.5,
          75.5,
          75.5,
          75.4,
          75.4,
          75.4,
          75.4,
          75.4,
          75.4,
          75.4,
          75.4,
          75.3,
          75.3,
          75.3,
          75.3,
          75.3,
          75.3,
          75.3,
          75.3,
          75.2,
          75.2,
          75.2,
          75.2,
          75.2,
          75.2,
          75.2,
          75.2,
          75.1,
          75.1,
          75.1,
          75.1,
          75.1,
          75.1,
          75.1,
          75.1,
          75.1,
          75,
          75,
          75,
          75,
          75,
          75,
          75,
          75,
          74.9,
          74.9,
          74.9,
          74.9,
          74.9,
          74.9,
          74.9,
          74.9,
          74.9,
          74.8,
          74.8,
          74.8,
          74.8,
          74.8,
          74.8,
          74.8,
          74.8,
          74.7,
          74.7,
          74.7,
          74.7,
          74.7,
          74.7,
          74.7,
          74.7,
          74.7,
          74.6,
          74.6,
          74.6,
          74.6,
          74.6,
          74.6,
          74.6,
          74.6,
          74.6,
          74.5,
          74.5,
          74.5,
          74.5,
          74.5,
          74.5,
          74.5,
          74.5,
          74.5,
          74.5,
          74.4,
          74.4,
          74.4,
          74.4,
          74.4,
          74.4,
          74.4,
          74.4,
          74.4,
          74.3,
          74.3,
          74.3,
          74.3,
          74.3,
          74.3,
          74.3,
          74.3,
          74.3,
          74.2,
          74.2,
          74.2,
          74.2,
          74.2,
          74.2,
          74.2,
          74.2,
          74.2,
          74.2,
          74.1,
          74.1,
          74.1,
          74.1,
          74.1,
          74.1,
          74.1,
          74.1,
          74.1,
          74.1,
          74,
          74,
          74,
          74,
          74,
          74,
          74,
          74,
          74,
          74,
          73.9,
          73.9,
          73.9,
          73.9,
          73.9,
          73.9,
          73.9,
          73.9,
          73.9,
          73.9,
          73.8,
          73.8,
          73.8,
          73.8,
          73.8,
          73.8,
          73.8,
          73.8,
          73.8,
          73.8,
          73.7,
          73.7,
          73.7,
          73.7,
          73.7,
          73.7,
          73.7,
          73.7,
          73.7,
          73.7,
          73.7,
          73.6,
          73.6,
          73.6,
          73.6,
          73.6,
          73.6,
          73.6,
          73.6,
          73.6,
          73.6,
          73.5,
          73.5,
          73.5,
          73.5,
          73.5,
          73.5,
          73.5,
          73.5,
          73.5,
          73.5,
          73.5,
          73.4,
          73.4,
          73.4,
          73.4,
          73.4,
          73.4,
          73.4,
          73.4,
          73.4,
          73.4,
          73.4,
          73.3,
          73.3,
          73.3,
          73.3,
          73.3,
          73.3,
          73.3,
          73.3,
          73.3,
          73.3,
          73.3,
          73.2,
          73.2,
          73.2,
          73.2,
          73.2,
          73.2,
          73.2,
          73.2,
          73.2,
          73.2,
          73.2,
          73.1,
          73.1,
          73.1,
          73.1,
          73.1,
          73.1,
          73.1,
          73.1,
          73.1,
          73.1,
          73.1,
          73.1,
          73,
          73,
          73,
          73,
          73,
          73,
          73,
          73,
          73,
          73,
          73,
          72.9,
          72.9,
          72.9,
          72.9,
          72.9,
          72.9,
          72.9,
          72.9,
          72.9,
          72.9,
          72.9,
          72.9,
          72.8,
          72.8,
          72.8,
          72.8,
          72.8,
          72.8,
          72.8,
          72.8,
          72.8,
          72.8,
          72.8,
          72.8,
          72.7,
          72.7,
          72.7,
          72.7,
          72.7,
          72.7,
          72.7,
          72.7,
          72.7,
          72.7,
          72.7,
          72.7,
          72.6,
          72.6,
          72.6,
          72.6,
          72.6,
          72.6,
          72.6,
          72.6,
          72.6,
          72.6,
          72.6,
          72.6,
          72.6,
          72.5,
          72.5,
          72.5,
          72.5,
          72.5,
          72.5,
          72.5,
          72.5,
          72.5,
          72.5,
          72.5,
          72.5,
          72.4,
          72.4,
          72.4,
          72.4,
          72.4,
          72.4,
          72.4,
          72.4,
          72.4,
          72.4,
          72.4,
          72.4,
          72.4,
          72.3,
          72.3,
          72.3,
          72.3,
          72.3,
          72.3,
          72.3,
          72.3,
          72.3,
          72.3,
          72.3,
          72.3,
          72.3,
          72.2,
          72.2,
          72.2,
          72.2,
          72.2,
          72.2,
          72.2,
          72.2,
          72.2,
          72.2,
          72.2,
          72.2,
          72.2,
          72.1,
          72.1,
          72.1,
          72.1,
          72.1,
          72.1,
          72.1,
          72.1,
          72.1,
          72.1,
          72.1,
          72.1,
          72.1,
          72,
          72,
          72,
          72,
          72,
          72,
          72,
          72,
          72,
          72,
          72,
          72,
          72,
          71.9,
          71.9,
          71.9,
          71.9,
          71.9,
          71.9,
          71.9,
          71.9,
          71.9,
          71.9,
          71.9,
          71.9,
          71.9,
          71.9,
          71.8,
          71.8,
          71.8,
          71.8,
          71.8,
          71.8,
          71.8,
          71.8,
          71.8,
          71.8,
          71.8,
          71.8,
          71.8,
          71.8,
          71.7,
          71.7,
          71.7,
          71.7,
          71.7,
          71.7,
          71.7,
          71.7,
          71.7,
          71.7,
          71.7,
          71.7,
          71.7,
          71.7,
          71.6,
          71.6,
          71.6,
          71.6,
          71.6,
          71.6,
          71.6,
          71.6,
          71.6,
          71.6,
          71.6,
          71.6,
          71.6,
          71.6,
          71.5,
          71.5,
          71.5,
          71.5,
          71.5,
          71.5,
          71.5,
          71.5,
          71.5,
          71.5,
          71.5,
          71.5,
          71.5,
          71.5,
          71.5,
          71.4,
          71.4,
          71.4,
          71.4,
          71.4,
          71.4,
          71.4,
          71.4,
          71.4,
          71.4,
          71.4,
          71.4,
          71.4,
          71.4,
          71.4,
          71.3,
          71.3,
          71.3,
          71.3,
          71.3,
          71.3,
          71.3,
          71.3,
          71.3,
          71.3,
          71.3,
          71.3,
          71.3,
          71.3,
          71.2,
          71.2,
          71.2,
          71.2,
          71.2,
          71.2,
          71.2,
          71.2,
          71.2,
          71.2,
          71.2,
          71.2,
          71.2,
          71.2,
          71.2,
          71.2,
          71.1,
          71.1,
          71.1,
          71.1,
          71.1,
          71.1,
          71.1,
          71.1,
          71.1,
          71.1,
          71.1,
          71.1,
          71.1,
          71.1,
          71.1,
          71,
          71,
          71,
          71,
          71,
          71,
          71,
          71,
          71,
          71,
          71,
          71,
          71,
          71,
          71,
          70.9,
          70.9,
          70.9,
          70.9,
          70.9,
          70.9,
          70.9,
          70.9,
          70.9,
          70.9,
          70.9,
          70.9,
          70.9,
          70.9,
          70.9,
          70.9,
          70.8,
          70.8,
          70.8,
          70.8,
          70.8,
          70.8,
          70.8,
          70.8,
          70.8,
          70.8,
          70.8,
          70.8,
          70.8,
          70.8,
          70.8,
          70.8,
          70.7,
          70.7,
          70.7,
          70.7,
          70.7,
          70.7,
          70.7,
          70.7,
          70.7,
          70.7,
          70.7,
          70.7,
          70.7,
          70.7,
          70.7,
          70.7,
          70.6,
          70.6,
          70.6,
          70.6,
          70.6,
          70.6,
          70.6,
          70.6,
          70.6,
          70.6,
          70.6,
          70.6,
          70.6,
          70.6,
          70.6,
          70.6,
          70.6,
          70.5,
          70.5,
          70.5,
          70.5,
          70.5,
          70.5,
          70.5,
          70.5,
          70.5,
          70.5,
          70.5,
          70.5,
          70.5,
          70.5,
          70.5,
          70.5,
          70.4,
          70.4,
          70.4,
          70.4,
          70.4,
          70.4,
          70.4,
          70.4,
          70.4,
          70.4,
          70.4,
          70.4,
          70.4,
          70.4,
          70.4,
          70.4,
          70.4,
          70.3,
          70.3,
          70.3,
          70.3,
          70.3,
          70.3,
          70.3,
          70.3,
          70.3,
          70.3,
          70.3,
          70.3,
          70.3,
          70.3,
          70.3,
          70.3,
          70.3,
          70.2,
          70.2,
          70.2,
          70.2,
          70.2,
          70.2,
          70.2,
          70.2,
          70.2,
          70.2,
          70.2,
          70.2,
          70.2,
          70.2,
          70.2,
          70.2,
          70.2,
          70.2,
          70.1,
          70.1,
          70.1,
          70.1,
          70.1,
          70.1,
          70.1,
          70.1,
          70.1,
          70.1,
          70.1,
          70.1,
          70.1,
          70.1,
          70.1,
          70.1,
          70.1,
          70,
          70,
          70,
          70,
          70,
          70,
          70,
          70,
          70,
          70,
          70,
          70,
          70,
          70,
          70,
          70,
          70,
          70,
          69.9,
          69.9,
          69.9,
          69.9,
          69.9,
          69.9,
          69.9,
          69.9,
          69.9,
          69.9,
          69.9,
          69.9,
          69.9,
          69.9,
          69.9,
          69.9,
          69.9,
          69.9,
          69.8,
          69.8,
          69.8,
          69.8,
          69.8,
          69.8,
          69.8,
          69.8,
          69.8,
          69.8,
          69.8,
          69.8,
          69.8,
          69.8,
          69.8,
          69.8,
          69.8,
          69.8,
          69.7,
          69.7,
          69.7,
          69.7,
          69.7,
          69.7,
          69.7,
          69.7,
          69.7,
          69.7,
          69.7,
          69.7,
          69.7,
          69.7,
          69.7,
          69.7,
          69.7,
          69.7,
          69.7,
          69.6,
          69.6,
          69.6,
          69.6,
          69.6,
          69.6,
          69.6,
          69.6,
          69.6,
          69.6,
          69.6,
          69.6,
          69.6,
          69.6,
          69.6,
          69.6,
          69.6,
          69.6,
          69.5,
          69.5,
          69.5,
          69.5,
          69.5,
          69.5,
          69.5,
          69.5,
          69.5,
          69.5,
          69.5,
          69.5,
          69.5,
          69.5,
          69.5,
          69.5,
          69.5,
          69.5,
          69.5,
          69.4,
          69.4,
          69.4,
          69.4,
          69.4,
          69.4,
          69.4,
          69.4,
          69.4,
          69.4,
          69.4,
          69.4,
          69.4,
          69.4,
          69.4,
          69.4,
          69.4,
          69.4,
          69.4,
          69.4,
          69.3,
          69.3,
          69.3,
          69.3,
          69.3,
          69.3,
          69.3,
          69.3,
          69.3,
          69.3,
          69.3,
          69.3,
          69.3,
          69.3,
          69.3,
          69.3,
          69.3,
          69.3,
          69.3,
          69.2,
          69.2,
          69.2,
          69.2,
          69.2,
          69.2,
          69.2,
          69.2,
          69.2,
          69.2,
          69.2,
          69.2,
          69.2,
          69.2,
          69.2,
          69.2,
          69.2,
          69.2,
          69.2,
          69.2,
          69.1,
          69.1,
          69.1,
          69.1,
          69.1,
          69.1,
          69.1,
          69.1,
          69.1,
          69.1,
          69.1,
          69.1,
          69.1,
          69.1,
          69.1,
          69.1,
          69.1,
          69.1,
          69.1,
          69.1,
          69,
          69,
          69,
          69,
          69,
          69,
          69,
          69,
          69,
          69,
          69,
          69,
          69,
          69,
          69,
          69,
          69,
          69,
          69,
          69,
          68.9,
          68.9,
          68.9,
          68.9,
          68.9,
          68.9,
          68.9,
          68.9,
          68.9,
          68.9,
          68.9,
          68.9,
          68.9,
          68.9,
          68.9,
          68.9,
          68.9,
          68.9,
          68.9,
          68.9,
          68.8,
          68.8,
          68.8,
          68.8,
          68.8,
          68.8,
          68.8,
          68.8,
          68.8,
          68.8,
          68.8,
          68.8,
          68.8,
          68.8,
          68.8,
          68.8,
          68.8,
          68.8,
          68.8,
          68.8,
          68.8,
          68.7,
          68.7,
          68.7,
          68.7,
          68.7,
          68.7,
          68.7,
          68.7,
          68.7,
          68.7,
          68.7,
          68.7,
          68.7,
          68.7,
          68.7,
          68.7,
          68.7,
          68.7,
          68.7,
          68.7,
          68.7,
          68.6,
          68.6,
          68.6,
          68.6,
          68.6,
          68.6,
          68.6,
          68.6,
          68.6,
          68.6,
          68.6,
          68.6,
          68.6,
          68.6,
          68.6,
          68.6,
          68.6,
          68.6,
          68.6,
          68.6,
          68.6,
          68.5,
          68.5,
          68.5,
          68.5,
          68.5,
          68.5,
          68.5,
          68.5,
          68.5,
          68.5,
          68.5,
          68.5,
          68.5,
          68.5,
          68.5,
          68.5,
          68.5,
          68.5,
          68.5,
          68.5,
          68.5,
          68.5,
          68.4,
          68.4,
          68.4,
          68.4,
          68.4,
          68.4,
          68.4,
          68.4,
          68.4,
          68.4,
          68.4,
          68.4,
          68.4,
          68.4,
          68.4,
          68.4,
          68.4,
          68.4,
          68.4,
          68.4,
          68.4,
          68.4,
          68.3,
          68.3,
          68.3,
          68.3,
          68.3,
          68.3,
          68.3,
          68.3,
          68.3,
          68.3,
          68.3,
          68.3,
          68.3,
          68.3,
          68.3,
          68.3,
          68.3,
          68.3,
          68.3,
          68.3,
          68.3,
          68.3,
          68.2,
          68.2,
          68.2,
          68.2,
          68.2,
          68.2,
          68.2,
          68.2,
          68.2,
          68.2,
          68.2,
          68.2,
          68.2,
          68.2,
          68.2,
          68.2,
          68.2,
          68.2,
          68.2,
          68.2,
          68.2,
          68.2,
          68.1,
          68.1,
          68.1,
          68.1,
          68.1,
          68.1,
          68.1,
          68.1,
          68.1,
          68.1,
          68.1,
          68.1,
          68.1,
          68.1,
          68.1,
          68.1,
          68.1,
          68.1,
          68.1,
          68.1,
          68.1,
          68.1,
          68.1,
          68,
          68,
          68,
          68,
          68,
          68,
          68,
          68,
          68,
          68,
          68,
          68,
          68,
          68,
          68,
          68,
          68,
          68,
          68,
          68,
          68,
          68,
          67.9,
          67.9,
          67.9,
          67.9,
          67.9,
          67.9,
          67.9,
          67.9,
          67.9,
          67.9,
          67.9,
          67.9,
          67.9,
          67.9,
          67.9,
          67.9,
          67.9,
          67.9,
          67.9,
          67.9,
          67.9,
          67.9,
          67.9,
          67.9,
          67.8,
          67.8,
          67.8,
          67.8,
          67.8,
          67.8,
          67.8,
          67.8,
          67.8,
          67.8,
          67.8,
          67.8,
          67.8,
          67.8,
          67.8,
          67.8,
          67.8,
          67.8,
          67.8,
          67.8,
          67.8,
          67.8,
          67.8,
          67.7,
          67.7,
          67.7,
          67.7,
          67.7,
          67.7,
          67.7,
          67.7,
          67.7,
          67.7,
          67.7,
          67.7,
          67.7,
          67.7,
          67.7,
          67.7,
          67.7,
          67.7,
          67.7,
          67.7,
          67.7,
          67.7,
          67.7,
          67.7,
          67.6,
          67.6,
          67.6,
          67.6,
          67.6,
          67.6,
          67.6,
          67.6,
          67.6,
          67.6,
          67.6,
          67.6,
          67.6,
          67.6,
          67.6,
          67.6,
          67.6,
          67.6,
          67.6,
          67.6,
          67.6,
          67.6,
          67.6,
          67.6,
          67.5,
          67.5,
          67.5,
          67.5,
          67.5,
          67.5,
          67.5,
          67.5,
          67.5,
          67.5,
          67.5,
          67.5,
          67.5,
          67.5,
          67.5,
          67.5,
          67.5,
          67.5,
          67.5,
          67.5,
          67.5,
          67.5,
          67.5,
          67.5,
          67.4,
          67.4,
          67.4,
          67.4,
          67.4,
          67.4,
          67.4,
          67.4,
          67.4,
          67.4,
          67.4,
          67.4,
          67.4,
          67.4,
          67.4,
          67.4,
          67.4,
          67.4,
          67.4,
          67.4,
          67.4,
          67.4,
          67.4,
          67.4,
          67.3,
          67.3,
          67.3,
          67.3,
          67.3,
          67.3,
          67.3,
          67.3,
          67.3,
          67.3,
          67.3,
          67.3,
          67.3,
          67.3,
          67.3,
          67.3,
          67.3,
          67.3,
          67.3,
          67.3,
          67.3,
          67.3,
          67.3,
          67.3,
          67.3,
          67.2,
          67.2,
          67.2,
          67.2,
          67.2,
          67.2,
          67.2,
          67.2,
          67.2,
          67.2,
          67.2,
          67.2,
          67.2,
          67.2,
          67.2,
          67.2,
          67.2,
          67.2,
          67.2,
          67.2,
          67.2,
          67.2,
          67.2,
          67.2,
          67.2,
          67.1,
          67.1,
          67.1,
          67.1,
          67.1,
          67.1,
          67.1,
          67.1,
          67.1,
          67.1,
          67.1,
          67.1,
          67.1,
          67.1,
          67.1,
          67.1,
          67.1,
          67.1,
          67.1,
          67.1,
          67.1,
          67.1,
          67.1,
          67.1,
          67.1,
          67,
          67,
          67,
          67,
          67,
          67,
          67,
          67,
          67,
          67,
          67,
          67,
          67,
          67,
          67,
          67,
          67,
          67,
          67,
          67,
          67,
          67,
          67,
          67,
          67,
          67,
          66.9,
          66.9,
          66.9,
          66.9,
          66.9,
          66.9,
          66.9,
          66.9,
          66.9,
          66.9,
          66.9,
          66.9,
          66.9,
          66.9,
          66.9,
          66.9,
          66.9,
          66.9,
          66.9,
          66.9,
          66.9,
          66.9,
          66.9,
          66.9,
          66.9,
          66.9,
          66.8,
          66.8,
          66.8,
          66.8,
          66.8,
          66.8,
          66.8,
          66.8,
          66.8,
          66.8,
          66.8,
          66.8,
          66.8,
          66.8,
          66.8,
          66.8,
          66.8,
          66.8,
          66.8,
          66.8,
          66.8,
          66.8,
          66.8,
          66.8,
          66.8,
          66.8,
          66.7,
          66.7,
          66.7,
          66.7,
          66.7,
          66.7,
          66.7,
          66.7,
          66.7,
          66.7,
          66.7,
          66.7,
          66.7,
          66.7,
          66.7,
          66.7,
          66.7,
          66.7,
          66.7,
          66.7,
          66.7,
          66.7,
          66.7,
          66.7,
          66.7,
          66.7,
          66.7,
          66.6,
          66.6,
          66.6,
          66.6,
          66.6,
          66.6,
          66.6,
          66.6,
          66.6,
          66.6,
          66.6,
          66.6,
          66.6,
          66.6,
          66.6,
          66.6,
          66.6,
          66.6,
          66.6,
          66.6,
          66.6,
          66.6,
          66.6,
          66.6,
          66.6,
          66.6,
          66.6,
          66.5,
          66.5,
          66.5,
          66.5,
          66.5,
          66.5,
          66.5,
          66.5,
          66.5,
          66.5,
          66.5,
          66.5,
          66.5,
          66.5,
          66.5,
          66.5,
          66.5,
          66.5,
          66.5,
          66.5,
          66.5,
          66.5,
          66.5,
          66.5,
          66.5,
          66.5,
          66.5,
          66.4,
          66.4,
          66.4,
          66.4,
          66.4,
          66.4,
          66.4,
          66.4,
          66.4,
          66.4,
          66.4,
          66.4,
          66.4,
          66.4,
          66.4,
          66.4,
          66.4,
          66.4,
          66.4,
          66.4,
          66.4,
          66.4,
          66.4,
          66.4,
          66.4,
          66.4,
          66.4,
          66.3,
          66.3,
          66.3,
          66.3,
          66.3,
          66.3,
          66.3,
          66.3,
          66.3,
          66.3,
          66.3,
          66.3,
          66.3,
          66.3,
          66.3,
          66.3,
          66.3,
          66.3,
          66.3,
          66.3,
          66.3,
          66.3,
          66.3,
          66.3,
          66.3,
          66.3,
          66.3,
          66.3,
          66.2,
          66.2,
          66.2,
          66.2,
          66.2,
          66.2,
          66.2,
          66.2,
          66.2,
          66.2,
          66.2,
          66.2,
          66.2,
          66.2,
          66.2,
          66.2,
          66.2,
          66.2,
          66.2,
          66.2,
          66.2,
          66.2,
          66.2,
          66.2,
          66.2,
          66.2,
          66.2,
          66.2,
          66.1,
          66.1,
          66.1,
          66.1,
          66.1,
          66.1,
          66.1,
          66.1,
          66.1,
          66.1,
          66.1,
          66.1,
          66.1,
          66.1,
          66.1,
          66.1,
          66.1,
          66.1,
          66.1,
          66.1,
          66.1,
          66.1,
          66.1,
          66.1,
          66.1,
          66.1,
          66.1,
          66.1,
          66,
          66,
          66,
          66,
          66,
          66,
          66,
          66,
          66,
          66,
          66,
          66,
          66,
          66,
          66,
          66,
          66,
          66,
          66,
          66,
          66,
          66,
          66,
          66,
          66,
          66
         ],
         "xaxis": "x",
         "yaxis": "y"
        }
       ],
       "layout": {
        "barmode": "relative",
        "legend": {
         "tracegroupgap": 0
        },
        "margin": {
         "t": 60
        },
        "template": {
         "data": {
          "bar": [
           {
            "error_x": {
             "color": "#2a3f5f"
            },
            "error_y": {
             "color": "#2a3f5f"
            },
            "marker": {
             "line": {
              "color": "#E5ECF6",
              "width": 0.5
             },
             "pattern": {
              "fillmode": "overlay",
              "size": 10,
              "solidity": 0.2
             }
            },
            "type": "bar"
           }
          ],
          "barpolar": [
           {
            "marker": {
             "line": {
              "color": "#E5ECF6",
              "width": 0.5
             },
             "pattern": {
              "fillmode": "overlay",
              "size": 10,
              "solidity": 0.2
             }
            },
            "type": "barpolar"
           }
          ],
          "carpet": [
           {
            "aaxis": {
             "endlinecolor": "#2a3f5f",
             "gridcolor": "white",
             "linecolor": "white",
             "minorgridcolor": "white",
             "startlinecolor": "#2a3f5f"
            },
            "baxis": {
             "endlinecolor": "#2a3f5f",
             "gridcolor": "white",
             "linecolor": "white",
             "minorgridcolor": "white",
             "startlinecolor": "#2a3f5f"
            },
            "type": "carpet"
           }
          ],
          "choropleth": [
           {
            "colorbar": {
             "outlinewidth": 0,
             "ticks": ""
            },
            "type": "choropleth"
           }
          ],
          "contour": [
           {
            "colorbar": {
             "outlinewidth": 0,
             "ticks": ""
            },
            "colorscale": [
             [
              0,
              "#0d0887"
             ],
             [
              0.1111111111111111,
              "#46039f"
             ],
             [
              0.2222222222222222,
              "#7201a8"
             ],
             [
              0.3333333333333333,
              "#9c179e"
             ],
             [
              0.4444444444444444,
              "#bd3786"
             ],
             [
              0.5555555555555556,
              "#d8576b"
             ],
             [
              0.6666666666666666,
              "#ed7953"
             ],
             [
              0.7777777777777778,
              "#fb9f3a"
             ],
             [
              0.8888888888888888,
              "#fdca26"
             ],
             [
              1,
              "#f0f921"
             ]
            ],
            "type": "contour"
           }
          ],
          "contourcarpet": [
           {
            "colorbar": {
             "outlinewidth": 0,
             "ticks": ""
            },
            "type": "contourcarpet"
           }
          ],
          "heatmap": [
           {
            "colorbar": {
             "outlinewidth": 0,
             "ticks": ""
            },
            "colorscale": [
             [
              0,
              "#0d0887"
             ],
             [
              0.1111111111111111,
              "#46039f"
             ],
             [
              0.2222222222222222,
              "#7201a8"
             ],
             [
              0.3333333333333333,
              "#9c179e"
             ],
             [
              0.4444444444444444,
              "#bd3786"
             ],
             [
              0.5555555555555556,
              "#d8576b"
             ],
             [
              0.6666666666666666,
              "#ed7953"
             ],
             [
              0.7777777777777778,
              "#fb9f3a"
             ],
             [
              0.8888888888888888,
              "#fdca26"
             ],
             [
              1,
              "#f0f921"
             ]
            ],
            "type": "heatmap"
           }
          ],
          "heatmapgl": [
           {
            "colorbar": {
             "outlinewidth": 0,
             "ticks": ""
            },
            "colorscale": [
             [
              0,
              "#0d0887"
             ],
             [
              0.1111111111111111,
              "#46039f"
             ],
             [
              0.2222222222222222,
              "#7201a8"
             ],
             [
              0.3333333333333333,
              "#9c179e"
             ],
             [
              0.4444444444444444,
              "#bd3786"
             ],
             [
              0.5555555555555556,
              "#d8576b"
             ],
             [
              0.6666666666666666,
              "#ed7953"
             ],
             [
              0.7777777777777778,
              "#fb9f3a"
             ],
             [
              0.8888888888888888,
              "#fdca26"
             ],
             [
              1,
              "#f0f921"
             ]
            ],
            "type": "heatmapgl"
           }
          ],
          "histogram": [
           {
            "marker": {
             "pattern": {
              "fillmode": "overlay",
              "size": 10,
              "solidity": 0.2
             }
            },
            "type": "histogram"
           }
          ],
          "histogram2d": [
           {
            "colorbar": {
             "outlinewidth": 0,
             "ticks": ""
            },
            "colorscale": [
             [
              0,
              "#0d0887"
             ],
             [
              0.1111111111111111,
              "#46039f"
             ],
             [
              0.2222222222222222,
              "#7201a8"
             ],
             [
              0.3333333333333333,
              "#9c179e"
             ],
             [
              0.4444444444444444,
              "#bd3786"
             ],
             [
              0.5555555555555556,
              "#d8576b"
             ],
             [
              0.6666666666666666,
              "#ed7953"
             ],
             [
              0.7777777777777778,
              "#fb9f3a"
             ],
             [
              0.8888888888888888,
              "#fdca26"
             ],
             [
              1,
              "#f0f921"
             ]
            ],
            "type": "histogram2d"
           }
          ],
          "histogram2dcontour": [
           {
            "colorbar": {
             "outlinewidth": 0,
             "ticks": ""
            },
            "colorscale": [
             [
              0,
              "#0d0887"
             ],
             [
              0.1111111111111111,
              "#46039f"
             ],
             [
              0.2222222222222222,
              "#7201a8"
             ],
             [
              0.3333333333333333,
              "#9c179e"
             ],
             [
              0.4444444444444444,
              "#bd3786"
             ],
             [
              0.5555555555555556,
              "#d8576b"
             ],
             [
              0.6666666666666666,
              "#ed7953"
             ],
             [
              0.7777777777777778,
              "#fb9f3a"
             ],
             [
              0.8888888888888888,
              "#fdca26"
             ],
             [
              1,
              "#f0f921"
             ]
            ],
            "type": "histogram2dcontour"
           }
          ],
          "mesh3d": [
           {
            "colorbar": {
             "outlinewidth": 0,
             "ticks": ""
            },
            "type": "mesh3d"
           }
          ],
          "parcoords": [
           {
            "line": {
             "colorbar": {
              "outlinewidth": 0,
              "ticks": ""
             }
            },
            "type": "parcoords"
           }
          ],
          "pie": [
           {
            "automargin": true,
            "type": "pie"
           }
          ],
          "scatter": [
           {
            "fillpattern": {
             "fillmode": "overlay",
             "size": 10,
             "solidity": 0.2
            },
            "type": "scatter"
           }
          ],
          "scatter3d": [
           {
            "line": {
             "colorbar": {
              "outlinewidth": 0,
              "ticks": ""
             }
            },
            "marker": {
             "colorbar": {
              "outlinewidth": 0,
              "ticks": ""
             }
            },
            "type": "scatter3d"
           }
          ],
          "scattercarpet": [
           {
            "marker": {
             "colorbar": {
              "outlinewidth": 0,
              "ticks": ""
             }
            },
            "type": "scattercarpet"
           }
          ],
          "scattergeo": [
           {
            "marker": {
             "colorbar": {
              "outlinewidth": 0,
              "ticks": ""
             }
            },
            "type": "scattergeo"
           }
          ],
          "scattergl": [
           {
            "marker": {
             "colorbar": {
              "outlinewidth": 0,
              "ticks": ""
             }
            },
            "type": "scattergl"
           }
          ],
          "scattermapbox": [
           {
            "marker": {
             "colorbar": {
              "outlinewidth": 0,
              "ticks": ""
             }
            },
            "type": "scattermapbox"
           }
          ],
          "scatterpolar": [
           {
            "marker": {
             "colorbar": {
              "outlinewidth": 0,
              "ticks": ""
             }
            },
            "type": "scatterpolar"
           }
          ],
          "scatterpolargl": [
           {
            "marker": {
             "colorbar": {
              "outlinewidth": 0,
              "ticks": ""
             }
            },
            "type": "scatterpolargl"
           }
          ],
          "scatterternary": [
           {
            "marker": {
             "colorbar": {
              "outlinewidth": 0,
              "ticks": ""
             }
            },
            "type": "scatterternary"
           }
          ],
          "surface": [
           {
            "colorbar": {
             "outlinewidth": 0,
             "ticks": ""
            },
            "colorscale": [
             [
              0,
              "#0d0887"
             ],
             [
              0.1111111111111111,
              "#46039f"
             ],
             [
              0.2222222222222222,
              "#7201a8"
             ],
             [
              0.3333333333333333,
              "#9c179e"
             ],
             [
              0.4444444444444444,
              "#bd3786"
             ],
             [
              0.5555555555555556,
              "#d8576b"
             ],
             [
              0.6666666666666666,
              "#ed7953"
             ],
             [
              0.7777777777777778,
              "#fb9f3a"
             ],
             [
              0.8888888888888888,
              "#fdca26"
             ],
             [
              1,
              "#f0f921"
             ]
            ],
            "type": "surface"
           }
          ],
          "table": [
           {
            "cells": {
             "fill": {
              "color": "#EBF0F8"
             },
             "line": {
              "color": "white"
             }
            },
            "header": {
             "fill": {
              "color": "#C8D4E3"
             },
             "line": {
              "color": "white"
             }
            },
            "type": "table"
           }
          ]
         },
         "layout": {
          "annotationdefaults": {
           "arrowcolor": "#2a3f5f",
           "arrowhead": 0,
           "arrowwidth": 1
          },
          "autotypenumbers": "strict",
          "coloraxis": {
           "colorbar": {
            "outlinewidth": 0,
            "ticks": ""
           }
          },
          "colorscale": {
           "diverging": [
            [
             0,
             "#8e0152"
            ],
            [
             0.1,
             "#c51b7d"
            ],
            [
             0.2,
             "#de77ae"
            ],
            [
             0.3,
             "#f1b6da"
            ],
            [
             0.4,
             "#fde0ef"
            ],
            [
             0.5,
             "#f7f7f7"
            ],
            [
             0.6,
             "#e6f5d0"
            ],
            [
             0.7,
             "#b8e186"
            ],
            [
             0.8,
             "#7fbc41"
            ],
            [
             0.9,
             "#4d9221"
            ],
            [
             1,
             "#276419"
            ]
           ],
           "sequential": [
            [
             0,
             "#0d0887"
            ],
            [
             0.1111111111111111,
             "#46039f"
            ],
            [
             0.2222222222222222,
             "#7201a8"
            ],
            [
             0.3333333333333333,
             "#9c179e"
            ],
            [
             0.4444444444444444,
             "#bd3786"
            ],
            [
             0.5555555555555556,
             "#d8576b"
            ],
            [
             0.6666666666666666,
             "#ed7953"
            ],
            [
             0.7777777777777778,
             "#fb9f3a"
            ],
            [
             0.8888888888888888,
             "#fdca26"
            ],
            [
             1,
             "#f0f921"
            ]
           ],
           "sequentialminus": [
            [
             0,
             "#0d0887"
            ],
            [
             0.1111111111111111,
             "#46039f"
            ],
            [
             0.2222222222222222,
             "#7201a8"
            ],
            [
             0.3333333333333333,
             "#9c179e"
            ],
            [
             0.4444444444444444,
             "#bd3786"
            ],
            [
             0.5555555555555556,
             "#d8576b"
            ],
            [
             0.6666666666666666,
             "#ed7953"
            ],
            [
             0.7777777777777778,
             "#fb9f3a"
            ],
            [
             0.8888888888888888,
             "#fdca26"
            ],
            [
             1,
             "#f0f921"
            ]
           ]
          },
          "colorway": [
           "#636efa",
           "#EF553B",
           "#00cc96",
           "#ab63fa",
           "#FFA15A",
           "#19d3f3",
           "#FF6692",
           "#B6E880",
           "#FF97FF",
           "#FECB52"
          ],
          "font": {
           "color": "#2a3f5f"
          },
          "geo": {
           "bgcolor": "white",
           "lakecolor": "white",
           "landcolor": "#E5ECF6",
           "showlakes": true,
           "showland": true,
           "subunitcolor": "white"
          },
          "hoverlabel": {
           "align": "left"
          },
          "hovermode": "closest",
          "mapbox": {
           "style": "light"
          },
          "paper_bgcolor": "white",
          "plot_bgcolor": "#E5ECF6",
          "polar": {
           "angularaxis": {
            "gridcolor": "white",
            "linecolor": "white",
            "ticks": ""
           },
           "bgcolor": "#E5ECF6",
           "radialaxis": {
            "gridcolor": "white",
            "linecolor": "white",
            "ticks": ""
           }
          },
          "scene": {
           "xaxis": {
            "backgroundcolor": "#E5ECF6",
            "gridcolor": "white",
            "gridwidth": 2,
            "linecolor": "white",
            "showbackground": true,
            "ticks": "",
            "zerolinecolor": "white"
           },
           "yaxis": {
            "backgroundcolor": "#E5ECF6",
            "gridcolor": "white",
            "gridwidth": 2,
            "linecolor": "white",
            "showbackground": true,
            "ticks": "",
            "zerolinecolor": "white"
           },
           "zaxis": {
            "backgroundcolor": "#E5ECF6",
            "gridcolor": "white",
            "gridwidth": 2,
            "linecolor": "white",
            "showbackground": true,
            "ticks": "",
            "zerolinecolor": "white"
           }
          },
          "shapedefaults": {
           "line": {
            "color": "#2a3f5f"
           }
          },
          "ternary": {
           "aaxis": {
            "gridcolor": "white",
            "linecolor": "white",
            "ticks": ""
           },
           "baxis": {
            "gridcolor": "white",
            "linecolor": "white",
            "ticks": ""
           },
           "bgcolor": "#E5ECF6",
           "caxis": {
            "gridcolor": "white",
            "linecolor": "white",
            "ticks": ""
           }
          },
          "title": {
           "x": 0.05
          },
          "xaxis": {
           "automargin": true,
           "gridcolor": "white",
           "linecolor": "white",
           "ticks": "",
           "title": {
            "standoff": 15
           },
           "zerolinecolor": "white",
           "zerolinewidth": 2
          },
          "yaxis": {
           "automargin": true,
           "gridcolor": "white",
           "linecolor": "white",
           "ticks": "",
           "title": {
            "standoff": 15
           },
           "zerolinecolor": "white",
           "zerolinewidth": 2
          }
         }
        },
        "xaxis": {
         "anchor": "y",
         "domain": [
          0,
          1
         ],
         "title": {
          "text": "Total Score"
         }
        },
        "yaxis": {
         "anchor": "x",
         "domain": [
          0,
          1
         ],
         "title": {
          "text": "count"
         }
        }
       }
      }
     },
     "metadata": {},
     "output_type": "display_data"
    }
   ],
   "source": [
    "fig = px.histogram(Uni_df['CWUR'], x=\"Total Score\",color_discrete_sequence=px.colors.qualitative.Pastel)\n",
    "fig.show()"
   ]
  },
  {
   "cell_type": "code",
   "execution_count": 269,
   "metadata": {},
   "outputs": [
    {
     "data": {
      "application/vnd.plotly.v1+json": {
       "config": {
        "plotlyServerURL": "https://plot.ly"
       },
       "data": [
        {
         "alignmentgroup": "True",
         "bingroup": "x",
         "hovertemplate": "Total Score=%{x}<br>count=%{y}<extra></extra>",
         "legendgroup": "",
         "marker": {
          "color": "rgb(102, 197, 204)",
          "pattern": {
           "shape": ""
          }
         },
         "name": "",
         "offsetgroup": "",
         "orientation": "v",
         "showlegend": false,
         "type": "histogram",
         "x": [
          100,
          76.8,
          70.1,
          69.6,
          65.3,
          60,
          58.7,
          57.2,
          56.1,
          55.1,
          53.2,
          50.4,
          50.2,
          47.9,
          47.5,
          47,
          46.8,
          46.6,
          45.9,
          45.6,
          45.5,
          40.5,
          40.3,
          39.8,
          39.5,
          39.3,
          39.1,
          39,
          38,
          37.3,
          37.2,
          36.6,
          36.1,
          35.9,
          35.4,
          34.7,
          34.6,
          34.5,
          34.4,
          34.3,
          34.2,
          34.2,
          33.9,
          33.8,
          33.8,
          33.8,
          33.6,
          33.4,
          33.3,
          33.1,
          33,
          32.9,
          32.6,
          32,
          32,
          31.7,
          31.5,
          31.5,
          31.4,
          30.8,
          30.7,
          30.3,
          30.3,
          30.2,
          30.2,
          30.1,
          30,
          30,
          29.7,
          29.5,
          29.3,
          29.3,
          29.1,
          28.9,
          28.4,
          28.1,
          27.9,
          27.7,
          27.5,
          27.5,
          27.4,
          27.3,
          27.2,
          27.2,
          27.2,
          27.2,
          27,
          26.9,
          26.8,
          26.7,
          26.7,
          26.5,
          26.5,
          26.4,
          26.3,
          26.1,
          26.1,
          25.9,
          25.8,
          25.8
         ],
         "xaxis": "x",
         "yaxis": "y"
        }
       ],
       "layout": {
        "barmode": "relative",
        "legend": {
         "tracegroupgap": 0
        },
        "margin": {
         "t": 60
        },
        "template": {
         "data": {
          "bar": [
           {
            "error_x": {
             "color": "#2a3f5f"
            },
            "error_y": {
             "color": "#2a3f5f"
            },
            "marker": {
             "line": {
              "color": "#E5ECF6",
              "width": 0.5
             },
             "pattern": {
              "fillmode": "overlay",
              "size": 10,
              "solidity": 0.2
             }
            },
            "type": "bar"
           }
          ],
          "barpolar": [
           {
            "marker": {
             "line": {
              "color": "#E5ECF6",
              "width": 0.5
             },
             "pattern": {
              "fillmode": "overlay",
              "size": 10,
              "solidity": 0.2
             }
            },
            "type": "barpolar"
           }
          ],
          "carpet": [
           {
            "aaxis": {
             "endlinecolor": "#2a3f5f",
             "gridcolor": "white",
             "linecolor": "white",
             "minorgridcolor": "white",
             "startlinecolor": "#2a3f5f"
            },
            "baxis": {
             "endlinecolor": "#2a3f5f",
             "gridcolor": "white",
             "linecolor": "white",
             "minorgridcolor": "white",
             "startlinecolor": "#2a3f5f"
            },
            "type": "carpet"
           }
          ],
          "choropleth": [
           {
            "colorbar": {
             "outlinewidth": 0,
             "ticks": ""
            },
            "type": "choropleth"
           }
          ],
          "contour": [
           {
            "colorbar": {
             "outlinewidth": 0,
             "ticks": ""
            },
            "colorscale": [
             [
              0,
              "#0d0887"
             ],
             [
              0.1111111111111111,
              "#46039f"
             ],
             [
              0.2222222222222222,
              "#7201a8"
             ],
             [
              0.3333333333333333,
              "#9c179e"
             ],
             [
              0.4444444444444444,
              "#bd3786"
             ],
             [
              0.5555555555555556,
              "#d8576b"
             ],
             [
              0.6666666666666666,
              "#ed7953"
             ],
             [
              0.7777777777777778,
              "#fb9f3a"
             ],
             [
              0.8888888888888888,
              "#fdca26"
             ],
             [
              1,
              "#f0f921"
             ]
            ],
            "type": "contour"
           }
          ],
          "contourcarpet": [
           {
            "colorbar": {
             "outlinewidth": 0,
             "ticks": ""
            },
            "type": "contourcarpet"
           }
          ],
          "heatmap": [
           {
            "colorbar": {
             "outlinewidth": 0,
             "ticks": ""
            },
            "colorscale": [
             [
              0,
              "#0d0887"
             ],
             [
              0.1111111111111111,
              "#46039f"
             ],
             [
              0.2222222222222222,
              "#7201a8"
             ],
             [
              0.3333333333333333,
              "#9c179e"
             ],
             [
              0.4444444444444444,
              "#bd3786"
             ],
             [
              0.5555555555555556,
              "#d8576b"
             ],
             [
              0.6666666666666666,
              "#ed7953"
             ],
             [
              0.7777777777777778,
              "#fb9f3a"
             ],
             [
              0.8888888888888888,
              "#fdca26"
             ],
             [
              1,
              "#f0f921"
             ]
            ],
            "type": "heatmap"
           }
          ],
          "heatmapgl": [
           {
            "colorbar": {
             "outlinewidth": 0,
             "ticks": ""
            },
            "colorscale": [
             [
              0,
              "#0d0887"
             ],
             [
              0.1111111111111111,
              "#46039f"
             ],
             [
              0.2222222222222222,
              "#7201a8"
             ],
             [
              0.3333333333333333,
              "#9c179e"
             ],
             [
              0.4444444444444444,
              "#bd3786"
             ],
             [
              0.5555555555555556,
              "#d8576b"
             ],
             [
              0.6666666666666666,
              "#ed7953"
             ],
             [
              0.7777777777777778,
              "#fb9f3a"
             ],
             [
              0.8888888888888888,
              "#fdca26"
             ],
             [
              1,
              "#f0f921"
             ]
            ],
            "type": "heatmapgl"
           }
          ],
          "histogram": [
           {
            "marker": {
             "pattern": {
              "fillmode": "overlay",
              "size": 10,
              "solidity": 0.2
             }
            },
            "type": "histogram"
           }
          ],
          "histogram2d": [
           {
            "colorbar": {
             "outlinewidth": 0,
             "ticks": ""
            },
            "colorscale": [
             [
              0,
              "#0d0887"
             ],
             [
              0.1111111111111111,
              "#46039f"
             ],
             [
              0.2222222222222222,
              "#7201a8"
             ],
             [
              0.3333333333333333,
              "#9c179e"
             ],
             [
              0.4444444444444444,
              "#bd3786"
             ],
             [
              0.5555555555555556,
              "#d8576b"
             ],
             [
              0.6666666666666666,
              "#ed7953"
             ],
             [
              0.7777777777777778,
              "#fb9f3a"
             ],
             [
              0.8888888888888888,
              "#fdca26"
             ],
             [
              1,
              "#f0f921"
             ]
            ],
            "type": "histogram2d"
           }
          ],
          "histogram2dcontour": [
           {
            "colorbar": {
             "outlinewidth": 0,
             "ticks": ""
            },
            "colorscale": [
             [
              0,
              "#0d0887"
             ],
             [
              0.1111111111111111,
              "#46039f"
             ],
             [
              0.2222222222222222,
              "#7201a8"
             ],
             [
              0.3333333333333333,
              "#9c179e"
             ],
             [
              0.4444444444444444,
              "#bd3786"
             ],
             [
              0.5555555555555556,
              "#d8576b"
             ],
             [
              0.6666666666666666,
              "#ed7953"
             ],
             [
              0.7777777777777778,
              "#fb9f3a"
             ],
             [
              0.8888888888888888,
              "#fdca26"
             ],
             [
              1,
              "#f0f921"
             ]
            ],
            "type": "histogram2dcontour"
           }
          ],
          "mesh3d": [
           {
            "colorbar": {
             "outlinewidth": 0,
             "ticks": ""
            },
            "type": "mesh3d"
           }
          ],
          "parcoords": [
           {
            "line": {
             "colorbar": {
              "outlinewidth": 0,
              "ticks": ""
             }
            },
            "type": "parcoords"
           }
          ],
          "pie": [
           {
            "automargin": true,
            "type": "pie"
           }
          ],
          "scatter": [
           {
            "fillpattern": {
             "fillmode": "overlay",
             "size": 10,
             "solidity": 0.2
            },
            "type": "scatter"
           }
          ],
          "scatter3d": [
           {
            "line": {
             "colorbar": {
              "outlinewidth": 0,
              "ticks": ""
             }
            },
            "marker": {
             "colorbar": {
              "outlinewidth": 0,
              "ticks": ""
             }
            },
            "type": "scatter3d"
           }
          ],
          "scattercarpet": [
           {
            "marker": {
             "colorbar": {
              "outlinewidth": 0,
              "ticks": ""
             }
            },
            "type": "scattercarpet"
           }
          ],
          "scattergeo": [
           {
            "marker": {
             "colorbar": {
              "outlinewidth": 0,
              "ticks": ""
             }
            },
            "type": "scattergeo"
           }
          ],
          "scattergl": [
           {
            "marker": {
             "colorbar": {
              "outlinewidth": 0,
              "ticks": ""
             }
            },
            "type": "scattergl"
           }
          ],
          "scattermapbox": [
           {
            "marker": {
             "colorbar": {
              "outlinewidth": 0,
              "ticks": ""
             }
            },
            "type": "scattermapbox"
           }
          ],
          "scatterpolar": [
           {
            "marker": {
             "colorbar": {
              "outlinewidth": 0,
              "ticks": ""
             }
            },
            "type": "scatterpolar"
           }
          ],
          "scatterpolargl": [
           {
            "marker": {
             "colorbar": {
              "outlinewidth": 0,
              "ticks": ""
             }
            },
            "type": "scatterpolargl"
           }
          ],
          "scatterternary": [
           {
            "marker": {
             "colorbar": {
              "outlinewidth": 0,
              "ticks": ""
             }
            },
            "type": "scatterternary"
           }
          ],
          "surface": [
           {
            "colorbar": {
             "outlinewidth": 0,
             "ticks": ""
            },
            "colorscale": [
             [
              0,
              "#0d0887"
             ],
             [
              0.1111111111111111,
              "#46039f"
             ],
             [
              0.2222222222222222,
              "#7201a8"
             ],
             [
              0.3333333333333333,
              "#9c179e"
             ],
             [
              0.4444444444444444,
              "#bd3786"
             ],
             [
              0.5555555555555556,
              "#d8576b"
             ],
             [
              0.6666666666666666,
              "#ed7953"
             ],
             [
              0.7777777777777778,
              "#fb9f3a"
             ],
             [
              0.8888888888888888,
              "#fdca26"
             ],
             [
              1,
              "#f0f921"
             ]
            ],
            "type": "surface"
           }
          ],
          "table": [
           {
            "cells": {
             "fill": {
              "color": "#EBF0F8"
             },
             "line": {
              "color": "white"
             }
            },
            "header": {
             "fill": {
              "color": "#C8D4E3"
             },
             "line": {
              "color": "white"
             }
            },
            "type": "table"
           }
          ]
         },
         "layout": {
          "annotationdefaults": {
           "arrowcolor": "#2a3f5f",
           "arrowhead": 0,
           "arrowwidth": 1
          },
          "autotypenumbers": "strict",
          "coloraxis": {
           "colorbar": {
            "outlinewidth": 0,
            "ticks": ""
           }
          },
          "colorscale": {
           "diverging": [
            [
             0,
             "#8e0152"
            ],
            [
             0.1,
             "#c51b7d"
            ],
            [
             0.2,
             "#de77ae"
            ],
            [
             0.3,
             "#f1b6da"
            ],
            [
             0.4,
             "#fde0ef"
            ],
            [
             0.5,
             "#f7f7f7"
            ],
            [
             0.6,
             "#e6f5d0"
            ],
            [
             0.7,
             "#b8e186"
            ],
            [
             0.8,
             "#7fbc41"
            ],
            [
             0.9,
             "#4d9221"
            ],
            [
             1,
             "#276419"
            ]
           ],
           "sequential": [
            [
             0,
             "#0d0887"
            ],
            [
             0.1111111111111111,
             "#46039f"
            ],
            [
             0.2222222222222222,
             "#7201a8"
            ],
            [
             0.3333333333333333,
             "#9c179e"
            ],
            [
             0.4444444444444444,
             "#bd3786"
            ],
            [
             0.5555555555555556,
             "#d8576b"
            ],
            [
             0.6666666666666666,
             "#ed7953"
            ],
            [
             0.7777777777777778,
             "#fb9f3a"
            ],
            [
             0.8888888888888888,
             "#fdca26"
            ],
            [
             1,
             "#f0f921"
            ]
           ],
           "sequentialminus": [
            [
             0,
             "#0d0887"
            ],
            [
             0.1111111111111111,
             "#46039f"
            ],
            [
             0.2222222222222222,
             "#7201a8"
            ],
            [
             0.3333333333333333,
             "#9c179e"
            ],
            [
             0.4444444444444444,
             "#bd3786"
            ],
            [
             0.5555555555555556,
             "#d8576b"
            ],
            [
             0.6666666666666666,
             "#ed7953"
            ],
            [
             0.7777777777777778,
             "#fb9f3a"
            ],
            [
             0.8888888888888888,
             "#fdca26"
            ],
            [
             1,
             "#f0f921"
            ]
           ]
          },
          "colorway": [
           "#636efa",
           "#EF553B",
           "#00cc96",
           "#ab63fa",
           "#FFA15A",
           "#19d3f3",
           "#FF6692",
           "#B6E880",
           "#FF97FF",
           "#FECB52"
          ],
          "font": {
           "color": "#2a3f5f"
          },
          "geo": {
           "bgcolor": "white",
           "lakecolor": "white",
           "landcolor": "#E5ECF6",
           "showlakes": true,
           "showland": true,
           "subunitcolor": "white"
          },
          "hoverlabel": {
           "align": "left"
          },
          "hovermode": "closest",
          "mapbox": {
           "style": "light"
          },
          "paper_bgcolor": "white",
          "plot_bgcolor": "#E5ECF6",
          "polar": {
           "angularaxis": {
            "gridcolor": "white",
            "linecolor": "white",
            "ticks": ""
           },
           "bgcolor": "#E5ECF6",
           "radialaxis": {
            "gridcolor": "white",
            "linecolor": "white",
            "ticks": ""
           }
          },
          "scene": {
           "xaxis": {
            "backgroundcolor": "#E5ECF6",
            "gridcolor": "white",
            "gridwidth": 2,
            "linecolor": "white",
            "showbackground": true,
            "ticks": "",
            "zerolinecolor": "white"
           },
           "yaxis": {
            "backgroundcolor": "#E5ECF6",
            "gridcolor": "white",
            "gridwidth": 2,
            "linecolor": "white",
            "showbackground": true,
            "ticks": "",
            "zerolinecolor": "white"
           },
           "zaxis": {
            "backgroundcolor": "#E5ECF6",
            "gridcolor": "white",
            "gridwidth": 2,
            "linecolor": "white",
            "showbackground": true,
            "ticks": "",
            "zerolinecolor": "white"
           }
          },
          "shapedefaults": {
           "line": {
            "color": "#2a3f5f"
           }
          },
          "ternary": {
           "aaxis": {
            "gridcolor": "white",
            "linecolor": "white",
            "ticks": ""
           },
           "baxis": {
            "gridcolor": "white",
            "linecolor": "white",
            "ticks": ""
           },
           "bgcolor": "#E5ECF6",
           "caxis": {
            "gridcolor": "white",
            "linecolor": "white",
            "ticks": ""
           }
          },
          "title": {
           "x": 0.05
          },
          "xaxis": {
           "automargin": true,
           "gridcolor": "white",
           "linecolor": "white",
           "ticks": "",
           "title": {
            "standoff": 15
           },
           "zerolinecolor": "white",
           "zerolinewidth": 2
          },
          "yaxis": {
           "automargin": true,
           "gridcolor": "white",
           "linecolor": "white",
           "ticks": "",
           "title": {
            "standoff": 15
           },
           "zerolinecolor": "white",
           "zerolinewidth": 2
          }
         }
        },
        "xaxis": {
         "anchor": "y",
         "domain": [
          0,
          1
         ],
         "title": {
          "text": "Total Score"
         }
        },
        "yaxis": {
         "anchor": "x",
         "domain": [
          0,
          1
         ],
         "title": {
          "text": "count"
         }
        }
       }
      }
     },
     "metadata": {},
     "output_type": "display_data"
    }
   ],
   "source": [
    "fig = px.histogram(Uni_df['ARWU'], x=\"Total Score\",color_discrete_sequence=px.colors.qualitative.Pastel)\n",
    "fig.show()"
   ]
  },
  {
   "cell_type": "code",
   "execution_count": 260,
   "metadata": {},
   "outputs": [
    {
     "data": {
      "application/vnd.plotly.v1+json": {
       "config": {
        "plotlyServerURL": "https://plot.ly"
       },
       "data": [
        {
         "domain": {
          "x": [
           0,
           1
          ],
          "y": [
           0,
           1
          ]
         },
         "hovertemplate": "Location=%{label}<br>count=%{value}<extra></extra>",
         "labels": [
          "USA",
          "China",
          "Japan",
          "United Kingdom",
          "France",
          "Germany",
          "Italy",
          "India",
          "South Korea",
          "Turkey",
          "Brazil",
          "Spain",
          "Russia",
          "Iran",
          "Poland",
          "Canada",
          "Australia",
          "Taiwan",
          "Other countries",
          "Other countries",
          "Other countries",
          "Other countries",
          "Other countries",
          "Other countries",
          "Other countries",
          "Other countries",
          "Other countries",
          "Other countries",
          "Other countries",
          "Other countries",
          "Other countries",
          "Other countries",
          "Other countries",
          "Other countries",
          "Other countries",
          "Other countries",
          "Other countries",
          "Other countries",
          "Other countries",
          "Other countries",
          "Other countries",
          "Other countries",
          "Other countries",
          "Other countries",
          "Other countries",
          "Other countries",
          "Other countries",
          "Other countries",
          "Other countries",
          "Other countries",
          "Other countries",
          "Other countries",
          "Other countries",
          "Other countries",
          "Other countries",
          "Other countries",
          "Other countries",
          "Other countries",
          "Other countries",
          "Other countries",
          "Other countries",
          "Other countries",
          "Other countries",
          "Other countries",
          "Other countries",
          "Other countries",
          "Other countries",
          "Other countries",
          "Other countries",
          "Other countries",
          "Other countries",
          "Other countries",
          "Other countries",
          "Other countries",
          "Other countries",
          "Other countries",
          "Other countries",
          "Other countries",
          "Other countries",
          "Other countries",
          "Other countries",
          "Other countries",
          "Other countries",
          "Other countries",
          "Other countries",
          "Other countries",
          "Other countries",
          "Other countries",
          "Other countries",
          "Other countries",
          "Other countries",
          "Other countries",
          "Other countries",
          "Other countries",
          "Other countries"
         ],
         "legendgroup": "",
         "name": "",
         "showlegend": true,
         "type": "pie",
         "values": [
          332,
          314,
          114,
          93,
          76,
          69,
          66,
          64,
          57,
          55,
          54,
          52,
          43,
          41,
          40,
          40,
          39,
          33,
          20,
          20,
          17,
          16,
          16,
          15,
          14,
          13,
          13,
          13,
          12,
          12,
          11,
          11,
          10,
          10,
          10,
          9,
          9,
          9,
          8,
          8,
          8,
          7,
          7,
          7,
          6,
          6,
          5,
          5,
          4,
          4,
          4,
          4,
          4,
          4,
          3,
          3,
          3,
          3,
          3,
          3,
          3,
          2,
          2,
          2,
          2,
          2,
          2,
          2,
          2,
          2,
          2,
          2,
          2,
          1,
          1,
          1,
          1,
          1,
          1,
          1,
          1,
          1,
          1,
          1,
          1,
          1,
          1,
          1,
          1,
          1,
          1,
          1,
          1,
          1,
          1
         ]
        }
       ],
       "layout": {
        "height": 900,
        "legend": {
         "tracegroupgap": 0
        },
        "piecolorway": [
         "rgb(102, 197, 204)",
         "rgb(246, 207, 113)",
         "rgb(248, 156, 116)",
         "rgb(220, 176, 242)",
         "rgb(135, 197, 95)",
         "rgb(158, 185, 243)",
         "rgb(254, 136, 177)",
         "rgb(201, 219, 116)",
         "rgb(139, 224, 164)",
         "rgb(180, 151, 231)",
         "rgb(179, 179, 179)"
        ],
        "template": {
         "data": {
          "bar": [
           {
            "error_x": {
             "color": "#2a3f5f"
            },
            "error_y": {
             "color": "#2a3f5f"
            },
            "marker": {
             "line": {
              "color": "#E5ECF6",
              "width": 0.5
             },
             "pattern": {
              "fillmode": "overlay",
              "size": 10,
              "solidity": 0.2
             }
            },
            "type": "bar"
           }
          ],
          "barpolar": [
           {
            "marker": {
             "line": {
              "color": "#E5ECF6",
              "width": 0.5
             },
             "pattern": {
              "fillmode": "overlay",
              "size": 10,
              "solidity": 0.2
             }
            },
            "type": "barpolar"
           }
          ],
          "carpet": [
           {
            "aaxis": {
             "endlinecolor": "#2a3f5f",
             "gridcolor": "white",
             "linecolor": "white",
             "minorgridcolor": "white",
             "startlinecolor": "#2a3f5f"
            },
            "baxis": {
             "endlinecolor": "#2a3f5f",
             "gridcolor": "white",
             "linecolor": "white",
             "minorgridcolor": "white",
             "startlinecolor": "#2a3f5f"
            },
            "type": "carpet"
           }
          ],
          "choropleth": [
           {
            "colorbar": {
             "outlinewidth": 0,
             "ticks": ""
            },
            "type": "choropleth"
           }
          ],
          "contour": [
           {
            "colorbar": {
             "outlinewidth": 0,
             "ticks": ""
            },
            "colorscale": [
             [
              0,
              "#0d0887"
             ],
             [
              0.1111111111111111,
              "#46039f"
             ],
             [
              0.2222222222222222,
              "#7201a8"
             ],
             [
              0.3333333333333333,
              "#9c179e"
             ],
             [
              0.4444444444444444,
              "#bd3786"
             ],
             [
              0.5555555555555556,
              "#d8576b"
             ],
             [
              0.6666666666666666,
              "#ed7953"
             ],
             [
              0.7777777777777778,
              "#fb9f3a"
             ],
             [
              0.8888888888888888,
              "#fdca26"
             ],
             [
              1,
              "#f0f921"
             ]
            ],
            "type": "contour"
           }
          ],
          "contourcarpet": [
           {
            "colorbar": {
             "outlinewidth": 0,
             "ticks": ""
            },
            "type": "contourcarpet"
           }
          ],
          "heatmap": [
           {
            "colorbar": {
             "outlinewidth": 0,
             "ticks": ""
            },
            "colorscale": [
             [
              0,
              "#0d0887"
             ],
             [
              0.1111111111111111,
              "#46039f"
             ],
             [
              0.2222222222222222,
              "#7201a8"
             ],
             [
              0.3333333333333333,
              "#9c179e"
             ],
             [
              0.4444444444444444,
              "#bd3786"
             ],
             [
              0.5555555555555556,
              "#d8576b"
             ],
             [
              0.6666666666666666,
              "#ed7953"
             ],
             [
              0.7777777777777778,
              "#fb9f3a"
             ],
             [
              0.8888888888888888,
              "#fdca26"
             ],
             [
              1,
              "#f0f921"
             ]
            ],
            "type": "heatmap"
           }
          ],
          "heatmapgl": [
           {
            "colorbar": {
             "outlinewidth": 0,
             "ticks": ""
            },
            "colorscale": [
             [
              0,
              "#0d0887"
             ],
             [
              0.1111111111111111,
              "#46039f"
             ],
             [
              0.2222222222222222,
              "#7201a8"
             ],
             [
              0.3333333333333333,
              "#9c179e"
             ],
             [
              0.4444444444444444,
              "#bd3786"
             ],
             [
              0.5555555555555556,
              "#d8576b"
             ],
             [
              0.6666666666666666,
              "#ed7953"
             ],
             [
              0.7777777777777778,
              "#fb9f3a"
             ],
             [
              0.8888888888888888,
              "#fdca26"
             ],
             [
              1,
              "#f0f921"
             ]
            ],
            "type": "heatmapgl"
           }
          ],
          "histogram": [
           {
            "marker": {
             "pattern": {
              "fillmode": "overlay",
              "size": 10,
              "solidity": 0.2
             }
            },
            "type": "histogram"
           }
          ],
          "histogram2d": [
           {
            "colorbar": {
             "outlinewidth": 0,
             "ticks": ""
            },
            "colorscale": [
             [
              0,
              "#0d0887"
             ],
             [
              0.1111111111111111,
              "#46039f"
             ],
             [
              0.2222222222222222,
              "#7201a8"
             ],
             [
              0.3333333333333333,
              "#9c179e"
             ],
             [
              0.4444444444444444,
              "#bd3786"
             ],
             [
              0.5555555555555556,
              "#d8576b"
             ],
             [
              0.6666666666666666,
              "#ed7953"
             ],
             [
              0.7777777777777778,
              "#fb9f3a"
             ],
             [
              0.8888888888888888,
              "#fdca26"
             ],
             [
              1,
              "#f0f921"
             ]
            ],
            "type": "histogram2d"
           }
          ],
          "histogram2dcontour": [
           {
            "colorbar": {
             "outlinewidth": 0,
             "ticks": ""
            },
            "colorscale": [
             [
              0,
              "#0d0887"
             ],
             [
              0.1111111111111111,
              "#46039f"
             ],
             [
              0.2222222222222222,
              "#7201a8"
             ],
             [
              0.3333333333333333,
              "#9c179e"
             ],
             [
              0.4444444444444444,
              "#bd3786"
             ],
             [
              0.5555555555555556,
              "#d8576b"
             ],
             [
              0.6666666666666666,
              "#ed7953"
             ],
             [
              0.7777777777777778,
              "#fb9f3a"
             ],
             [
              0.8888888888888888,
              "#fdca26"
             ],
             [
              1,
              "#f0f921"
             ]
            ],
            "type": "histogram2dcontour"
           }
          ],
          "mesh3d": [
           {
            "colorbar": {
             "outlinewidth": 0,
             "ticks": ""
            },
            "type": "mesh3d"
           }
          ],
          "parcoords": [
           {
            "line": {
             "colorbar": {
              "outlinewidth": 0,
              "ticks": ""
             }
            },
            "type": "parcoords"
           }
          ],
          "pie": [
           {
            "automargin": true,
            "type": "pie"
           }
          ],
          "scatter": [
           {
            "fillpattern": {
             "fillmode": "overlay",
             "size": 10,
             "solidity": 0.2
            },
            "type": "scatter"
           }
          ],
          "scatter3d": [
           {
            "line": {
             "colorbar": {
              "outlinewidth": 0,
              "ticks": ""
             }
            },
            "marker": {
             "colorbar": {
              "outlinewidth": 0,
              "ticks": ""
             }
            },
            "type": "scatter3d"
           }
          ],
          "scattercarpet": [
           {
            "marker": {
             "colorbar": {
              "outlinewidth": 0,
              "ticks": ""
             }
            },
            "type": "scattercarpet"
           }
          ],
          "scattergeo": [
           {
            "marker": {
             "colorbar": {
              "outlinewidth": 0,
              "ticks": ""
             }
            },
            "type": "scattergeo"
           }
          ],
          "scattergl": [
           {
            "marker": {
             "colorbar": {
              "outlinewidth": 0,
              "ticks": ""
             }
            },
            "type": "scattergl"
           }
          ],
          "scattermapbox": [
           {
            "marker": {
             "colorbar": {
              "outlinewidth": 0,
              "ticks": ""
             }
            },
            "type": "scattermapbox"
           }
          ],
          "scatterpolar": [
           {
            "marker": {
             "colorbar": {
              "outlinewidth": 0,
              "ticks": ""
             }
            },
            "type": "scatterpolar"
           }
          ],
          "scatterpolargl": [
           {
            "marker": {
             "colorbar": {
              "outlinewidth": 0,
              "ticks": ""
             }
            },
            "type": "scatterpolargl"
           }
          ],
          "scatterternary": [
           {
            "marker": {
             "colorbar": {
              "outlinewidth": 0,
              "ticks": ""
             }
            },
            "type": "scatterternary"
           }
          ],
          "surface": [
           {
            "colorbar": {
             "outlinewidth": 0,
             "ticks": ""
            },
            "colorscale": [
             [
              0,
              "#0d0887"
             ],
             [
              0.1111111111111111,
              "#46039f"
             ],
             [
              0.2222222222222222,
              "#7201a8"
             ],
             [
              0.3333333333333333,
              "#9c179e"
             ],
             [
              0.4444444444444444,
              "#bd3786"
             ],
             [
              0.5555555555555556,
              "#d8576b"
             ],
             [
              0.6666666666666666,
              "#ed7953"
             ],
             [
              0.7777777777777778,
              "#fb9f3a"
             ],
             [
              0.8888888888888888,
              "#fdca26"
             ],
             [
              1,
              "#f0f921"
             ]
            ],
            "type": "surface"
           }
          ],
          "table": [
           {
            "cells": {
             "fill": {
              "color": "#EBF0F8"
             },
             "line": {
              "color": "white"
             }
            },
            "header": {
             "fill": {
              "color": "#C8D4E3"
             },
             "line": {
              "color": "white"
             }
            },
            "type": "table"
           }
          ]
         },
         "layout": {
          "annotationdefaults": {
           "arrowcolor": "#2a3f5f",
           "arrowhead": 0,
           "arrowwidth": 1
          },
          "autotypenumbers": "strict",
          "coloraxis": {
           "colorbar": {
            "outlinewidth": 0,
            "ticks": ""
           }
          },
          "colorscale": {
           "diverging": [
            [
             0,
             "#8e0152"
            ],
            [
             0.1,
             "#c51b7d"
            ],
            [
             0.2,
             "#de77ae"
            ],
            [
             0.3,
             "#f1b6da"
            ],
            [
             0.4,
             "#fde0ef"
            ],
            [
             0.5,
             "#f7f7f7"
            ],
            [
             0.6,
             "#e6f5d0"
            ],
            [
             0.7,
             "#b8e186"
            ],
            [
             0.8,
             "#7fbc41"
            ],
            [
             0.9,
             "#4d9221"
            ],
            [
             1,
             "#276419"
            ]
           ],
           "sequential": [
            [
             0,
             "#0d0887"
            ],
            [
             0.1111111111111111,
             "#46039f"
            ],
            [
             0.2222222222222222,
             "#7201a8"
            ],
            [
             0.3333333333333333,
             "#9c179e"
            ],
            [
             0.4444444444444444,
             "#bd3786"
            ],
            [
             0.5555555555555556,
             "#d8576b"
            ],
            [
             0.6666666666666666,
             "#ed7953"
            ],
            [
             0.7777777777777778,
             "#fb9f3a"
            ],
            [
             0.8888888888888888,
             "#fdca26"
            ],
            [
             1,
             "#f0f921"
            ]
           ],
           "sequentialminus": [
            [
             0,
             "#0d0887"
            ],
            [
             0.1111111111111111,
             "#46039f"
            ],
            [
             0.2222222222222222,
             "#7201a8"
            ],
            [
             0.3333333333333333,
             "#9c179e"
            ],
            [
             0.4444444444444444,
             "#bd3786"
            ],
            [
             0.5555555555555556,
             "#d8576b"
            ],
            [
             0.6666666666666666,
             "#ed7953"
            ],
            [
             0.7777777777777778,
             "#fb9f3a"
            ],
            [
             0.8888888888888888,
             "#fdca26"
            ],
            [
             1,
             "#f0f921"
            ]
           ]
          },
          "colorway": [
           "#636efa",
           "#EF553B",
           "#00cc96",
           "#ab63fa",
           "#FFA15A",
           "#19d3f3",
           "#FF6692",
           "#B6E880",
           "#FF97FF",
           "#FECB52"
          ],
          "font": {
           "color": "#2a3f5f"
          },
          "geo": {
           "bgcolor": "white",
           "lakecolor": "white",
           "landcolor": "#E5ECF6",
           "showlakes": true,
           "showland": true,
           "subunitcolor": "white"
          },
          "hoverlabel": {
           "align": "left"
          },
          "hovermode": "closest",
          "mapbox": {
           "style": "light"
          },
          "paper_bgcolor": "white",
          "plot_bgcolor": "#E5ECF6",
          "polar": {
           "angularaxis": {
            "gridcolor": "white",
            "linecolor": "white",
            "ticks": ""
           },
           "bgcolor": "#E5ECF6",
           "radialaxis": {
            "gridcolor": "white",
            "linecolor": "white",
            "ticks": ""
           }
          },
          "scene": {
           "xaxis": {
            "backgroundcolor": "#E5ECF6",
            "gridcolor": "white",
            "gridwidth": 2,
            "linecolor": "white",
            "showbackground": true,
            "ticks": "",
            "zerolinecolor": "white"
           },
           "yaxis": {
            "backgroundcolor": "#E5ECF6",
            "gridcolor": "white",
            "gridwidth": 2,
            "linecolor": "white",
            "showbackground": true,
            "ticks": "",
            "zerolinecolor": "white"
           },
           "zaxis": {
            "backgroundcolor": "#E5ECF6",
            "gridcolor": "white",
            "gridwidth": 2,
            "linecolor": "white",
            "showbackground": true,
            "ticks": "",
            "zerolinecolor": "white"
           }
          },
          "shapedefaults": {
           "line": {
            "color": "#2a3f5f"
           }
          },
          "ternary": {
           "aaxis": {
            "gridcolor": "white",
            "linecolor": "white",
            "ticks": ""
           },
           "baxis": {
            "gridcolor": "white",
            "linecolor": "white",
            "ticks": ""
           },
           "bgcolor": "#E5ECF6",
           "caxis": {
            "gridcolor": "white",
            "linecolor": "white",
            "ticks": ""
           }
          },
          "title": {
           "x": 0.05
          },
          "xaxis": {
           "automargin": true,
           "gridcolor": "white",
           "linecolor": "white",
           "ticks": "",
           "title": {
            "standoff": 15
           },
           "zerolinecolor": "white",
           "zerolinewidth": 2
          },
          "yaxis": {
           "automargin": true,
           "gridcolor": "white",
           "linecolor": "white",
           "ticks": "",
           "title": {
            "standoff": 15
           },
           "zerolinecolor": "white",
           "zerolinewidth": 2
          }
         }
        },
        "title": {
         "text": "Number of universities in each country "
        },
        "width": 1000
       }
      }
     },
     "metadata": {},
     "output_type": "display_data"
    }
   ],
   "source": [
    "# Convert 'count' column to numeric\n",
    "category_counts = Uni_df['CWUR']['Location'].value_counts()\n",
    "category_counts=pd.DataFrame({'Location':category_counts.index, 'count':category_counts.values})\n",
    "\n",
    "\n",
    "category_counts['count'] = pd.to_numeric(category_counts['count'], errors='coerce')\n",
    "\n",
    "# Replace values less than 30 with 'Other countries'\n",
    "category_counts.loc[category_counts['count'] < 30, 'Location'] = 'Other countries'\n",
    "\n",
    "# Create the pie chart\n",
    "fig = px.pie(category_counts, values='count', names='Location', title='Number of universities in each country ' ,height=900 , width=1000 ,color_discrete_sequence=px.colors.qualitative.Pastel)\n",
    "\n",
    "fig.show()\n"
   ]
  },
  {
   "cell_type": "code",
   "execution_count": 261,
   "metadata": {},
   "outputs": [],
   "source": [
    "def get_score(rank):\n",
    "    return 2001 - rank\n",
    "DF=Uni_df['CWUR'].sort_values(by='Rank').head(15)\n",
    "DF['Educational Score']=DF['Educational Rank'].apply(get_score)\n",
    "DF['Employability Score']=DF['Employability Rank'].apply(get_score)\n",
    "DF['Faculty Score']=DF['Faculty Rank'].apply(get_score)\n",
    "DF['Research Score']=DF['Research Rank'].apply(get_score)"
   ]
  },
  {
   "cell_type": "code",
   "execution_count": 262,
   "metadata": {},
   "outputs": [],
   "source": [
    "def rank_per(score):\n",
    "    return(score/2000)*100\n",
    "DF['Educational Percentage']=DF['Educational Score'].apply(rank_per)\n",
    "DF['Employability Percentage']=DF['Employability Score'].apply(rank_per)\n",
    "DF['Faculty Percentage']=DF['Faculty Score'].apply(rank_per)\n",
    "DF['Research Percentage']=DF['Research Score'].apply(rank_per)"
   ]
  },
  {
   "cell_type": "code",
   "execution_count": 263,
   "metadata": {},
   "outputs": [
    {
     "data": {
      "text/html": [
       "<div>\n",
       "<style scoped>\n",
       "    .dataframe tbody tr th:only-of-type {\n",
       "        vertical-align: middle;\n",
       "    }\n",
       "\n",
       "    .dataframe tbody tr th {\n",
       "        vertical-align: top;\n",
       "    }\n",
       "\n",
       "    .dataframe thead th {\n",
       "        text-align: right;\n",
       "    }\n",
       "</style>\n",
       "<table border=\"1\" class=\"dataframe\">\n",
       "  <thead>\n",
       "    <tr style=\"text-align: right;\">\n",
       "      <th></th>\n",
       "      <th>Rank</th>\n",
       "      <th>University Name</th>\n",
       "      <th>Location</th>\n",
       "      <th>National Rank</th>\n",
       "      <th>Educational Rank</th>\n",
       "      <th>Employability Rank</th>\n",
       "      <th>Faculty Rank</th>\n",
       "      <th>Research Rank</th>\n",
       "      <th>Total Score</th>\n",
       "      <th>Ratio</th>\n",
       "      <th>Educational Score</th>\n",
       "      <th>Employability Score</th>\n",
       "      <th>Faculty Score</th>\n",
       "      <th>Research Score</th>\n",
       "      <th>Educational Percentage</th>\n",
       "      <th>Employability Percentage</th>\n",
       "      <th>Faculty Percentage</th>\n",
       "      <th>Research Percentage</th>\n",
       "    </tr>\n",
       "  </thead>\n",
       "  <tbody>\n",
       "    <tr>\n",
       "      <th>0</th>\n",
       "      <td>1</td>\n",
       "      <td>Harvard University</td>\n",
       "      <td>USA</td>\n",
       "      <td>1</td>\n",
       "      <td>1</td>\n",
       "      <td>1</td>\n",
       "      <td>1</td>\n",
       "      <td>1</td>\n",
       "      <td>100.0</td>\n",
       "      <td>0.1</td>\n",
       "      <td>2000</td>\n",
       "      <td>2000</td>\n",
       "      <td>2000</td>\n",
       "      <td>2000</td>\n",
       "      <td>100.00</td>\n",
       "      <td>100.00</td>\n",
       "      <td>100.00</td>\n",
       "      <td>100.00</td>\n",
       "    </tr>\n",
       "    <tr>\n",
       "      <th>1</th>\n",
       "      <td>2</td>\n",
       "      <td>Massachusetts Institute of Technology</td>\n",
       "      <td>USA</td>\n",
       "      <td>2</td>\n",
       "      <td>4</td>\n",
       "      <td>12</td>\n",
       "      <td>3</td>\n",
       "      <td>9</td>\n",
       "      <td>96.7</td>\n",
       "      <td>0.1</td>\n",
       "      <td>1997</td>\n",
       "      <td>1989</td>\n",
       "      <td>1998</td>\n",
       "      <td>1992</td>\n",
       "      <td>99.85</td>\n",
       "      <td>99.45</td>\n",
       "      <td>99.90</td>\n",
       "      <td>99.60</td>\n",
       "    </tr>\n",
       "    <tr>\n",
       "      <th>2</th>\n",
       "      <td>3</td>\n",
       "      <td>Stanford University</td>\n",
       "      <td>USA</td>\n",
       "      <td>3</td>\n",
       "      <td>11</td>\n",
       "      <td>4</td>\n",
       "      <td>2</td>\n",
       "      <td>2</td>\n",
       "      <td>95.2</td>\n",
       "      <td>0.1</td>\n",
       "      <td>1990</td>\n",
       "      <td>1997</td>\n",
       "      <td>1999</td>\n",
       "      <td>1999</td>\n",
       "      <td>99.50</td>\n",
       "      <td>99.85</td>\n",
       "      <td>99.95</td>\n",
       "      <td>99.95</td>\n",
       "    </tr>\n",
       "    <tr>\n",
       "      <th>3</th>\n",
       "      <td>4</td>\n",
       "      <td>University of Cambridge</td>\n",
       "      <td>United Kingdom</td>\n",
       "      <td>1</td>\n",
       "      <td>3</td>\n",
       "      <td>25</td>\n",
       "      <td>5</td>\n",
       "      <td>11</td>\n",
       "      <td>94.1</td>\n",
       "      <td>0.1</td>\n",
       "      <td>1998</td>\n",
       "      <td>1976</td>\n",
       "      <td>1996</td>\n",
       "      <td>1990</td>\n",
       "      <td>99.90</td>\n",
       "      <td>98.80</td>\n",
       "      <td>99.80</td>\n",
       "      <td>99.50</td>\n",
       "    </tr>\n",
       "    <tr>\n",
       "      <th>4</th>\n",
       "      <td>5</td>\n",
       "      <td>University of Oxford</td>\n",
       "      <td>United Kingdom</td>\n",
       "      <td>2</td>\n",
       "      <td>7</td>\n",
       "      <td>27</td>\n",
       "      <td>9</td>\n",
       "      <td>4</td>\n",
       "      <td>93.3</td>\n",
       "      <td>0.1</td>\n",
       "      <td>1994</td>\n",
       "      <td>1974</td>\n",
       "      <td>1992</td>\n",
       "      <td>1997</td>\n",
       "      <td>99.70</td>\n",
       "      <td>98.70</td>\n",
       "      <td>99.60</td>\n",
       "      <td>99.85</td>\n",
       "    </tr>\n",
       "    <tr>\n",
       "      <th>5</th>\n",
       "      <td>6</td>\n",
       "      <td>Princeton University</td>\n",
       "      <td>USA</td>\n",
       "      <td>4</td>\n",
       "      <td>5</td>\n",
       "      <td>16</td>\n",
       "      <td>6</td>\n",
       "      <td>82</td>\n",
       "      <td>92.6</td>\n",
       "      <td>0.1</td>\n",
       "      <td>1996</td>\n",
       "      <td>1985</td>\n",
       "      <td>1995</td>\n",
       "      <td>1919</td>\n",
       "      <td>99.80</td>\n",
       "      <td>99.25</td>\n",
       "      <td>99.75</td>\n",
       "      <td>95.95</td>\n",
       "    </tr>\n",
       "    <tr>\n",
       "      <th>6</th>\n",
       "      <td>7</td>\n",
       "      <td>University of Chicago</td>\n",
       "      <td>USA</td>\n",
       "      <td>5</td>\n",
       "      <td>8</td>\n",
       "      <td>15</td>\n",
       "      <td>22</td>\n",
       "      <td>28</td>\n",
       "      <td>92.1</td>\n",
       "      <td>0.1</td>\n",
       "      <td>1993</td>\n",
       "      <td>1986</td>\n",
       "      <td>1979</td>\n",
       "      <td>1973</td>\n",
       "      <td>99.65</td>\n",
       "      <td>99.30</td>\n",
       "      <td>98.95</td>\n",
       "      <td>98.65</td>\n",
       "    </tr>\n",
       "    <tr>\n",
       "      <th>7</th>\n",
       "      <td>8</td>\n",
       "      <td>Columbia University</td>\n",
       "      <td>USA</td>\n",
       "      <td>6</td>\n",
       "      <td>12</td>\n",
       "      <td>14</td>\n",
       "      <td>10</td>\n",
       "      <td>13</td>\n",
       "      <td>91.6</td>\n",
       "      <td>0.1</td>\n",
       "      <td>1989</td>\n",
       "      <td>1987</td>\n",
       "      <td>1991</td>\n",
       "      <td>1988</td>\n",
       "      <td>99.45</td>\n",
       "      <td>99.35</td>\n",
       "      <td>99.55</td>\n",
       "      <td>99.40</td>\n",
       "    </tr>\n",
       "    <tr>\n",
       "      <th>8</th>\n",
       "      <td>9</td>\n",
       "      <td>University of Pennsylvania</td>\n",
       "      <td>USA</td>\n",
       "      <td>7</td>\n",
       "      <td>14</td>\n",
       "      <td>8</td>\n",
       "      <td>45</td>\n",
       "      <td>12</td>\n",
       "      <td>91.2</td>\n",
       "      <td>0.1</td>\n",
       "      <td>1987</td>\n",
       "      <td>1993</td>\n",
       "      <td>1956</td>\n",
       "      <td>1989</td>\n",
       "      <td>99.35</td>\n",
       "      <td>99.65</td>\n",
       "      <td>97.80</td>\n",
       "      <td>99.45</td>\n",
       "    </tr>\n",
       "    <tr>\n",
       "      <th>9</th>\n",
       "      <td>10</td>\n",
       "      <td>Yale University</td>\n",
       "      <td>USA</td>\n",
       "      <td>8</td>\n",
       "      <td>6</td>\n",
       "      <td>35</td>\n",
       "      <td>13</td>\n",
       "      <td>21</td>\n",
       "      <td>90.8</td>\n",
       "      <td>0.1</td>\n",
       "      <td>1995</td>\n",
       "      <td>1966</td>\n",
       "      <td>1988</td>\n",
       "      <td>1980</td>\n",
       "      <td>99.75</td>\n",
       "      <td>98.30</td>\n",
       "      <td>99.40</td>\n",
       "      <td>99.00</td>\n",
       "    </tr>\n",
       "  </tbody>\n",
       "</table>\n",
       "</div>"
      ],
      "text/plain": [
       "   Rank                        University Name        Location  National Rank  \\\n",
       "0     1                     Harvard University             USA              1   \n",
       "1     2  Massachusetts Institute of Technology             USA              2   \n",
       "2     3                    Stanford University             USA              3   \n",
       "3     4                University of Cambridge  United Kingdom              1   \n",
       "4     5                   University of Oxford  United Kingdom              2   \n",
       "5     6                   Princeton University             USA              4   \n",
       "6     7                  University of Chicago             USA              5   \n",
       "7     8                    Columbia University             USA              6   \n",
       "8     9             University of Pennsylvania             USA              7   \n",
       "9    10                        Yale University             USA              8   \n",
       "\n",
       "   Educational Rank  Employability Rank  Faculty Rank  Research Rank  \\\n",
       "0                 1                   1             1              1   \n",
       "1                 4                  12             3              9   \n",
       "2                11                   4             2              2   \n",
       "3                 3                  25             5             11   \n",
       "4                 7                  27             9              4   \n",
       "5                 5                  16             6             82   \n",
       "6                 8                  15            22             28   \n",
       "7                12                  14            10             13   \n",
       "8                14                   8            45             12   \n",
       "9                 6                  35            13             21   \n",
       "\n",
       "   Total Score  Ratio  Educational Score  Employability Score  Faculty Score  \\\n",
       "0        100.0    0.1               2000                 2000           2000   \n",
       "1         96.7    0.1               1997                 1989           1998   \n",
       "2         95.2    0.1               1990                 1997           1999   \n",
       "3         94.1    0.1               1998                 1976           1996   \n",
       "4         93.3    0.1               1994                 1974           1992   \n",
       "5         92.6    0.1               1996                 1985           1995   \n",
       "6         92.1    0.1               1993                 1986           1979   \n",
       "7         91.6    0.1               1989                 1987           1991   \n",
       "8         91.2    0.1               1987                 1993           1956   \n",
       "9         90.8    0.1               1995                 1966           1988   \n",
       "\n",
       "   Research Score  Educational Percentage  Employability Percentage  \\\n",
       "0            2000                  100.00                    100.00   \n",
       "1            1992                   99.85                     99.45   \n",
       "2            1999                   99.50                     99.85   \n",
       "3            1990                   99.90                     98.80   \n",
       "4            1997                   99.70                     98.70   \n",
       "5            1919                   99.80                     99.25   \n",
       "6            1973                   99.65                     99.30   \n",
       "7            1988                   99.45                     99.35   \n",
       "8            1989                   99.35                     99.65   \n",
       "9            1980                   99.75                     98.30   \n",
       "\n",
       "   Faculty Percentage  Research Percentage  \n",
       "0              100.00               100.00  \n",
       "1               99.90                99.60  \n",
       "2               99.95                99.95  \n",
       "3               99.80                99.50  \n",
       "4               99.60                99.85  \n",
       "5               99.75                95.95  \n",
       "6               98.95                98.65  \n",
       "7               99.55                99.40  \n",
       "8               97.80                99.45  \n",
       "9               99.40                99.00  "
      ]
     },
     "execution_count": 263,
     "metadata": {},
     "output_type": "execute_result"
    }
   ],
   "source": [
    "DF.head(10)"
   ]
  },
  {
   "cell_type": "code",
   "execution_count": 264,
   "metadata": {},
   "outputs": [
    {
     "data": {
      "text/html": [
       "<div>\n",
       "<style scoped>\n",
       "    .dataframe tbody tr th:only-of-type {\n",
       "        vertical-align: middle;\n",
       "    }\n",
       "\n",
       "    .dataframe tbody tr th {\n",
       "        vertical-align: top;\n",
       "    }\n",
       "\n",
       "    .dataframe thead th {\n",
       "        text-align: right;\n",
       "    }\n",
       "</style>\n",
       "<table border=\"1\" class=\"dataframe\">\n",
       "  <thead>\n",
       "    <tr style=\"text-align: right;\">\n",
       "      <th></th>\n",
       "      <th>Rank</th>\n",
       "      <th>University Name</th>\n",
       "      <th>Location</th>\n",
       "      <th>National Rank</th>\n",
       "      <th>Educational Rank</th>\n",
       "      <th>Employability Rank</th>\n",
       "      <th>Faculty Rank</th>\n",
       "      <th>Research Rank</th>\n",
       "      <th>Total Score</th>\n",
       "      <th>Ratio</th>\n",
       "    </tr>\n",
       "  </thead>\n",
       "  <tbody>\n",
       "    <tr>\n",
       "      <th>0</th>\n",
       "      <td>1</td>\n",
       "      <td>Harvard University</td>\n",
       "      <td>USA</td>\n",
       "      <td>1</td>\n",
       "      <td>1</td>\n",
       "      <td>1</td>\n",
       "      <td>1</td>\n",
       "      <td>1</td>\n",
       "      <td>100.0</td>\n",
       "      <td>0.1</td>\n",
       "    </tr>\n",
       "    <tr>\n",
       "      <th>1</th>\n",
       "      <td>2</td>\n",
       "      <td>Massachusetts Institute of Technology</td>\n",
       "      <td>USA</td>\n",
       "      <td>2</td>\n",
       "      <td>4</td>\n",
       "      <td>12</td>\n",
       "      <td>3</td>\n",
       "      <td>9</td>\n",
       "      <td>96.7</td>\n",
       "      <td>0.1</td>\n",
       "    </tr>\n",
       "    <tr>\n",
       "      <th>2</th>\n",
       "      <td>3</td>\n",
       "      <td>Stanford University</td>\n",
       "      <td>USA</td>\n",
       "      <td>3</td>\n",
       "      <td>11</td>\n",
       "      <td>4</td>\n",
       "      <td>2</td>\n",
       "      <td>2</td>\n",
       "      <td>95.2</td>\n",
       "      <td>0.1</td>\n",
       "    </tr>\n",
       "    <tr>\n",
       "      <th>3</th>\n",
       "      <td>4</td>\n",
       "      <td>University of Cambridge</td>\n",
       "      <td>United Kingdom</td>\n",
       "      <td>1</td>\n",
       "      <td>3</td>\n",
       "      <td>25</td>\n",
       "      <td>5</td>\n",
       "      <td>11</td>\n",
       "      <td>94.1</td>\n",
       "      <td>0.1</td>\n",
       "    </tr>\n",
       "    <tr>\n",
       "      <th>4</th>\n",
       "      <td>5</td>\n",
       "      <td>University of Oxford</td>\n",
       "      <td>United Kingdom</td>\n",
       "      <td>2</td>\n",
       "      <td>7</td>\n",
       "      <td>27</td>\n",
       "      <td>9</td>\n",
       "      <td>4</td>\n",
       "      <td>93.3</td>\n",
       "      <td>0.1</td>\n",
       "    </tr>\n",
       "  </tbody>\n",
       "</table>\n",
       "</div>"
      ],
      "text/plain": [
       "   Rank                        University Name        Location  National Rank  \\\n",
       "0     1                     Harvard University             USA              1   \n",
       "1     2  Massachusetts Institute of Technology             USA              2   \n",
       "2     3                    Stanford University             USA              3   \n",
       "3     4                University of Cambridge  United Kingdom              1   \n",
       "4     5                   University of Oxford  United Kingdom              2   \n",
       "\n",
       "   Educational Rank  Employability Rank  Faculty Rank  Research Rank  \\\n",
       "0                 1                   1             1              1   \n",
       "1                 4                  12             3              9   \n",
       "2                11                   4             2              2   \n",
       "3                 3                  25             5             11   \n",
       "4                 7                  27             9              4   \n",
       "\n",
       "   Total Score  Ratio  \n",
       "0        100.0    0.1  \n",
       "1         96.7    0.1  \n",
       "2         95.2    0.1  \n",
       "3         94.1    0.1  \n",
       "4         93.3    0.1  "
      ]
     },
     "execution_count": 264,
     "metadata": {},
     "output_type": "execute_result"
    }
   ],
   "source": [
    "Uni_df['CWUR'].head()"
   ]
  },
  {
   "cell_type": "code",
   "execution_count": 271,
   "metadata": {},
   "outputs": [
    {
     "data": {
      "application/vnd.plotly.v1+json": {
       "config": {
        "plotlyServerURL": "https://plot.ly"
       },
       "data": [
        {
         "alignmentgroup": "True",
         "hovertemplate": "Total Score=%{y}<extra></extra>",
         "legendgroup": "",
         "marker": {
          "color": "rgb(102, 197, 204)"
         },
         "name": "",
         "notched": false,
         "offsetgroup": "",
         "orientation": "v",
         "showlegend": false,
         "type": "box",
         "x0": " ",
         "xaxis": "x",
         "y": [
          100,
          96.7,
          95.2,
          94.1,
          93.3,
          92.6,
          92.1,
          91.6,
          91.2,
          90.8,
          90.4,
          90.1,
          89.8,
          89.5,
          89.3,
          89.1,
          88.8,
          88.6,
          88.4,
          88.2,
          88,
          87.9,
          87.7,
          87.5,
          87.4,
          87.2,
          87.1,
          87,
          86.8,
          86.7,
          86.6,
          86.4,
          86.3,
          86.2,
          86.1,
          86,
          85.9,
          85.8,
          85.7,
          85.6,
          85.5,
          85.4,
          85.3,
          85.2,
          85.1,
          85,
          84.9,
          84.9,
          84.8,
          84.7,
          84.6,
          84.5,
          84.5,
          84.4,
          84.3,
          84.2,
          84.2,
          84.1,
          84,
          84,
          83.9,
          83.8,
          83.8,
          83.7,
          83.6,
          83.6,
          83.5,
          83.5,
          83.4,
          83.3,
          83.3,
          83.2,
          83.2,
          83.1,
          83,
          83,
          82.9,
          82.9,
          82.8,
          82.8,
          82.7,
          82.7,
          82.6,
          82.6,
          82.5,
          82.5,
          82.4,
          82.4,
          82.3,
          82.3,
          82.2,
          82.2,
          82.1,
          82.1,
          82.1,
          82,
          82,
          81.9,
          81.9,
          81.8,
          81.8,
          81.8,
          81.7,
          81.7,
          81.6,
          81.6,
          81.6,
          81.5,
          81.5,
          81.4,
          81.4,
          81.4,
          81.3,
          81.3,
          81.2,
          81.2,
          81.2,
          81.1,
          81.1,
          81.1,
          81,
          81,
          80.9,
          80.9,
          80.9,
          80.8,
          80.8,
          80.8,
          80.7,
          80.7,
          80.7,
          80.6,
          80.6,
          80.6,
          80.5,
          80.5,
          80.5,
          80.4,
          80.4,
          80.4,
          80.3,
          80.3,
          80.3,
          80.3,
          80.2,
          80.2,
          80.2,
          80.1,
          80.1,
          80.1,
          80,
          80,
          80,
          80,
          79.9,
          79.9,
          79.9,
          79.8,
          79.8,
          79.8,
          79.8,
          79.7,
          79.7,
          79.7,
          79.6,
          79.6,
          79.6,
          79.6,
          79.5,
          79.5,
          79.5,
          79.5,
          79.4,
          79.4,
          79.4,
          79.4,
          79.3,
          79.3,
          79.3,
          79.3,
          79.2,
          79.2,
          79.2,
          79.2,
          79.1,
          79.1,
          79.1,
          79.1,
          79,
          79,
          79,
          79,
          78.9,
          78.9,
          78.9,
          78.9,
          78.8,
          78.8,
          78.8,
          78.8,
          78.7,
          78.7,
          78.7,
          78.7,
          78.7,
          78.6,
          78.6,
          78.6,
          78.6,
          78.5,
          78.5,
          78.5,
          78.5,
          78.5,
          78.4,
          78.4,
          78.4,
          78.4,
          78.3,
          78.3,
          78.3,
          78.3,
          78.3,
          78.2,
          78.2,
          78.2,
          78.2,
          78.2,
          78.1,
          78.1,
          78.1,
          78.1,
          78.1,
          78,
          78,
          78,
          78,
          78,
          77.9,
          77.9,
          77.9,
          77.9,
          77.9,
          77.8,
          77.8,
          77.8,
          77.8,
          77.8,
          77.7,
          77.7,
          77.7,
          77.7,
          77.7,
          77.7,
          77.6,
          77.6,
          77.6,
          77.6,
          77.6,
          77.5,
          77.5,
          77.5,
          77.5,
          77.5,
          77.4,
          77.4,
          77.4,
          77.4,
          77.4,
          77.4,
          77.3,
          77.3,
          77.3,
          77.3,
          77.3,
          77.3,
          77.2,
          77.2,
          77.2,
          77.2,
          77.2,
          77.1,
          77.1,
          77.1,
          77.1,
          77.1,
          77.1,
          77,
          77,
          77,
          77,
          77,
          77,
          76.9,
          76.9,
          76.9,
          76.9,
          76.9,
          76.9,
          76.8,
          76.8,
          76.8,
          76.8,
          76.8,
          76.8,
          76.8,
          76.7,
          76.7,
          76.7,
          76.7,
          76.7,
          76.7,
          76.6,
          76.6,
          76.6,
          76.6,
          76.6,
          76.6,
          76.5,
          76.5,
          76.5,
          76.5,
          76.5,
          76.5,
          76.5,
          76.4,
          76.4,
          76.4,
          76.4,
          76.4,
          76.4,
          76.4,
          76.3,
          76.3,
          76.3,
          76.3,
          76.3,
          76.3,
          76.2,
          76.2,
          76.2,
          76.2,
          76.2,
          76.2,
          76.2,
          76.1,
          76.1,
          76.1,
          76.1,
          76.1,
          76.1,
          76.1,
          76,
          76,
          76,
          76,
          76,
          76,
          76,
          76,
          75.9,
          75.9,
          75.9,
          75.9,
          75.9,
          75.9,
          75.9,
          75.8,
          75.8,
          75.8,
          75.8,
          75.8,
          75.8,
          75.8,
          75.7,
          75.7,
          75.7,
          75.7,
          75.7,
          75.7,
          75.7,
          75.7,
          75.6,
          75.6,
          75.6,
          75.6,
          75.6,
          75.6,
          75.6,
          75.5,
          75.5,
          75.5,
          75.5,
          75.5,
          75.5,
          75.5,
          75.5,
          75.4,
          75.4,
          75.4,
          75.4,
          75.4,
          75.4,
          75.4,
          75.4,
          75.3,
          75.3,
          75.3,
          75.3,
          75.3,
          75.3,
          75.3,
          75.3,
          75.2,
          75.2,
          75.2,
          75.2,
          75.2,
          75.2,
          75.2,
          75.2,
          75.1,
          75.1,
          75.1,
          75.1,
          75.1,
          75.1,
          75.1,
          75.1,
          75.1,
          75,
          75,
          75,
          75,
          75,
          75,
          75,
          75,
          74.9,
          74.9,
          74.9,
          74.9,
          74.9,
          74.9,
          74.9,
          74.9,
          74.9,
          74.8,
          74.8,
          74.8,
          74.8,
          74.8,
          74.8,
          74.8,
          74.8,
          74.7,
          74.7,
          74.7,
          74.7,
          74.7,
          74.7,
          74.7,
          74.7,
          74.7,
          74.6,
          74.6,
          74.6,
          74.6,
          74.6,
          74.6,
          74.6,
          74.6,
          74.6,
          74.5,
          74.5,
          74.5,
          74.5,
          74.5,
          74.5,
          74.5,
          74.5,
          74.5,
          74.5,
          74.4,
          74.4,
          74.4,
          74.4,
          74.4,
          74.4,
          74.4,
          74.4,
          74.4,
          74.3,
          74.3,
          74.3,
          74.3,
          74.3,
          74.3,
          74.3,
          74.3,
          74.3,
          74.2,
          74.2,
          74.2,
          74.2,
          74.2,
          74.2,
          74.2,
          74.2,
          74.2,
          74.2,
          74.1,
          74.1,
          74.1,
          74.1,
          74.1,
          74.1,
          74.1,
          74.1,
          74.1,
          74.1,
          74,
          74,
          74,
          74,
          74,
          74,
          74,
          74,
          74,
          74,
          73.9,
          73.9,
          73.9,
          73.9,
          73.9,
          73.9,
          73.9,
          73.9,
          73.9,
          73.9,
          73.8,
          73.8,
          73.8,
          73.8,
          73.8,
          73.8,
          73.8,
          73.8,
          73.8,
          73.8,
          73.7,
          73.7,
          73.7,
          73.7,
          73.7,
          73.7,
          73.7,
          73.7,
          73.7,
          73.7,
          73.7,
          73.6,
          73.6,
          73.6,
          73.6,
          73.6,
          73.6,
          73.6,
          73.6,
          73.6,
          73.6,
          73.5,
          73.5,
          73.5,
          73.5,
          73.5,
          73.5,
          73.5,
          73.5,
          73.5,
          73.5,
          73.5,
          73.4,
          73.4,
          73.4,
          73.4,
          73.4,
          73.4,
          73.4,
          73.4,
          73.4,
          73.4,
          73.4,
          73.3,
          73.3,
          73.3,
          73.3,
          73.3,
          73.3,
          73.3,
          73.3,
          73.3,
          73.3,
          73.3,
          73.2,
          73.2,
          73.2,
          73.2,
          73.2,
          73.2,
          73.2,
          73.2,
          73.2,
          73.2,
          73.2,
          73.1,
          73.1,
          73.1,
          73.1,
          73.1,
          73.1,
          73.1,
          73.1,
          73.1,
          73.1,
          73.1,
          73.1,
          73,
          73,
          73,
          73,
          73,
          73,
          73,
          73,
          73,
          73,
          73,
          72.9,
          72.9,
          72.9,
          72.9,
          72.9,
          72.9,
          72.9,
          72.9,
          72.9,
          72.9,
          72.9,
          72.9,
          72.8,
          72.8,
          72.8,
          72.8,
          72.8,
          72.8,
          72.8,
          72.8,
          72.8,
          72.8,
          72.8,
          72.8,
          72.7,
          72.7,
          72.7,
          72.7,
          72.7,
          72.7,
          72.7,
          72.7,
          72.7,
          72.7,
          72.7,
          72.7,
          72.6,
          72.6,
          72.6,
          72.6,
          72.6,
          72.6,
          72.6,
          72.6,
          72.6,
          72.6,
          72.6,
          72.6,
          72.6,
          72.5,
          72.5,
          72.5,
          72.5,
          72.5,
          72.5,
          72.5,
          72.5,
          72.5,
          72.5,
          72.5,
          72.5,
          72.4,
          72.4,
          72.4,
          72.4,
          72.4,
          72.4,
          72.4,
          72.4,
          72.4,
          72.4,
          72.4,
          72.4,
          72.4,
          72.3,
          72.3,
          72.3,
          72.3,
          72.3,
          72.3,
          72.3,
          72.3,
          72.3,
          72.3,
          72.3,
          72.3,
          72.3,
          72.2,
          72.2,
          72.2,
          72.2,
          72.2,
          72.2,
          72.2,
          72.2,
          72.2,
          72.2,
          72.2,
          72.2,
          72.2,
          72.1,
          72.1,
          72.1,
          72.1,
          72.1,
          72.1,
          72.1,
          72.1,
          72.1,
          72.1,
          72.1,
          72.1,
          72.1,
          72,
          72,
          72,
          72,
          72,
          72,
          72,
          72,
          72,
          72,
          72,
          72,
          72,
          71.9,
          71.9,
          71.9,
          71.9,
          71.9,
          71.9,
          71.9,
          71.9,
          71.9,
          71.9,
          71.9,
          71.9,
          71.9,
          71.9,
          71.8,
          71.8,
          71.8,
          71.8,
          71.8,
          71.8,
          71.8,
          71.8,
          71.8,
          71.8,
          71.8,
          71.8,
          71.8,
          71.8,
          71.7,
          71.7,
          71.7,
          71.7,
          71.7,
          71.7,
          71.7,
          71.7,
          71.7,
          71.7,
          71.7,
          71.7,
          71.7,
          71.7,
          71.6,
          71.6,
          71.6,
          71.6,
          71.6,
          71.6,
          71.6,
          71.6,
          71.6,
          71.6,
          71.6,
          71.6,
          71.6,
          71.6,
          71.5,
          71.5,
          71.5,
          71.5,
          71.5,
          71.5,
          71.5,
          71.5,
          71.5,
          71.5,
          71.5,
          71.5,
          71.5,
          71.5,
          71.5,
          71.4,
          71.4,
          71.4,
          71.4,
          71.4,
          71.4,
          71.4,
          71.4,
          71.4,
          71.4,
          71.4,
          71.4,
          71.4,
          71.4,
          71.4,
          71.3,
          71.3,
          71.3,
          71.3,
          71.3,
          71.3,
          71.3,
          71.3,
          71.3,
          71.3,
          71.3,
          71.3,
          71.3,
          71.3,
          71.2,
          71.2,
          71.2,
          71.2,
          71.2,
          71.2,
          71.2,
          71.2,
          71.2,
          71.2,
          71.2,
          71.2,
          71.2,
          71.2,
          71.2,
          71.2,
          71.1,
          71.1,
          71.1,
          71.1,
          71.1,
          71.1,
          71.1,
          71.1,
          71.1,
          71.1,
          71.1,
          71.1,
          71.1,
          71.1,
          71.1,
          71,
          71,
          71,
          71,
          71,
          71,
          71,
          71,
          71,
          71,
          71,
          71,
          71,
          71,
          71,
          70.9,
          70.9,
          70.9,
          70.9,
          70.9,
          70.9,
          70.9,
          70.9,
          70.9,
          70.9,
          70.9,
          70.9,
          70.9,
          70.9,
          70.9,
          70.9,
          70.8,
          70.8,
          70.8,
          70.8,
          70.8,
          70.8,
          70.8,
          70.8,
          70.8,
          70.8,
          70.8,
          70.8,
          70.8,
          70.8,
          70.8,
          70.8,
          70.7,
          70.7,
          70.7,
          70.7,
          70.7,
          70.7,
          70.7,
          70.7,
          70.7,
          70.7,
          70.7,
          70.7,
          70.7,
          70.7,
          70.7,
          70.7,
          70.6,
          70.6,
          70.6,
          70.6,
          70.6,
          70.6,
          70.6,
          70.6,
          70.6,
          70.6,
          70.6,
          70.6,
          70.6,
          70.6,
          70.6,
          70.6,
          70.6,
          70.5,
          70.5,
          70.5,
          70.5,
          70.5,
          70.5,
          70.5,
          70.5,
          70.5,
          70.5,
          70.5,
          70.5,
          70.5,
          70.5,
          70.5,
          70.5,
          70.4,
          70.4,
          70.4,
          70.4,
          70.4,
          70.4,
          70.4,
          70.4,
          70.4,
          70.4,
          70.4,
          70.4,
          70.4,
          70.4,
          70.4,
          70.4,
          70.4,
          70.3,
          70.3,
          70.3,
          70.3,
          70.3,
          70.3,
          70.3,
          70.3,
          70.3,
          70.3,
          70.3,
          70.3,
          70.3,
          70.3,
          70.3,
          70.3,
          70.3,
          70.2,
          70.2,
          70.2,
          70.2,
          70.2,
          70.2,
          70.2,
          70.2,
          70.2,
          70.2,
          70.2,
          70.2,
          70.2,
          70.2,
          70.2,
          70.2,
          70.2,
          70.2,
          70.1,
          70.1,
          70.1,
          70.1,
          70.1,
          70.1,
          70.1,
          70.1,
          70.1,
          70.1,
          70.1,
          70.1,
          70.1,
          70.1,
          70.1,
          70.1,
          70.1,
          70,
          70,
          70,
          70,
          70,
          70,
          70,
          70,
          70,
          70,
          70,
          70,
          70,
          70,
          70,
          70,
          70,
          70,
          69.9,
          69.9,
          69.9,
          69.9,
          69.9,
          69.9,
          69.9,
          69.9,
          69.9,
          69.9,
          69.9,
          69.9,
          69.9,
          69.9,
          69.9,
          69.9,
          69.9,
          69.9,
          69.8,
          69.8,
          69.8,
          69.8,
          69.8,
          69.8,
          69.8,
          69.8,
          69.8,
          69.8,
          69.8,
          69.8,
          69.8,
          69.8,
          69.8,
          69.8,
          69.8,
          69.8,
          69.7,
          69.7,
          69.7,
          69.7,
          69.7,
          69.7,
          69.7,
          69.7,
          69.7,
          69.7,
          69.7,
          69.7,
          69.7,
          69.7,
          69.7,
          69.7,
          69.7,
          69.7,
          69.7,
          69.6,
          69.6,
          69.6,
          69.6,
          69.6,
          69.6,
          69.6,
          69.6,
          69.6,
          69.6,
          69.6,
          69.6,
          69.6,
          69.6,
          69.6,
          69.6,
          69.6,
          69.6,
          69.5,
          69.5,
          69.5,
          69.5,
          69.5,
          69.5,
          69.5,
          69.5,
          69.5,
          69.5,
          69.5,
          69.5,
          69.5,
          69.5,
          69.5,
          69.5,
          69.5,
          69.5,
          69.5,
          69.4,
          69.4,
          69.4,
          69.4,
          69.4,
          69.4,
          69.4,
          69.4,
          69.4,
          69.4,
          69.4,
          69.4,
          69.4,
          69.4,
          69.4,
          69.4,
          69.4,
          69.4,
          69.4,
          69.4,
          69.3,
          69.3,
          69.3,
          69.3,
          69.3,
          69.3,
          69.3,
          69.3,
          69.3,
          69.3,
          69.3,
          69.3,
          69.3,
          69.3,
          69.3,
          69.3,
          69.3,
          69.3,
          69.3,
          69.2,
          69.2,
          69.2,
          69.2,
          69.2,
          69.2,
          69.2,
          69.2,
          69.2,
          69.2,
          69.2,
          69.2,
          69.2,
          69.2,
          69.2,
          69.2,
          69.2,
          69.2,
          69.2,
          69.2,
          69.1,
          69.1,
          69.1,
          69.1,
          69.1,
          69.1,
          69.1,
          69.1,
          69.1,
          69.1,
          69.1,
          69.1,
          69.1,
          69.1,
          69.1,
          69.1,
          69.1,
          69.1,
          69.1,
          69.1,
          69,
          69,
          69,
          69,
          69,
          69,
          69,
          69,
          69,
          69,
          69,
          69,
          69,
          69,
          69,
          69,
          69,
          69,
          69,
          69,
          68.9,
          68.9,
          68.9,
          68.9,
          68.9,
          68.9,
          68.9,
          68.9,
          68.9,
          68.9,
          68.9,
          68.9,
          68.9,
          68.9,
          68.9,
          68.9,
          68.9,
          68.9,
          68.9,
          68.9,
          68.8,
          68.8,
          68.8,
          68.8,
          68.8,
          68.8,
          68.8,
          68.8,
          68.8,
          68.8,
          68.8,
          68.8,
          68.8,
          68.8,
          68.8,
          68.8,
          68.8,
          68.8,
          68.8,
          68.8,
          68.8,
          68.7,
          68.7,
          68.7,
          68.7,
          68.7,
          68.7,
          68.7,
          68.7,
          68.7,
          68.7,
          68.7,
          68.7,
          68.7,
          68.7,
          68.7,
          68.7,
          68.7,
          68.7,
          68.7,
          68.7,
          68.7,
          68.6,
          68.6,
          68.6,
          68.6,
          68.6,
          68.6,
          68.6,
          68.6,
          68.6,
          68.6,
          68.6,
          68.6,
          68.6,
          68.6,
          68.6,
          68.6,
          68.6,
          68.6,
          68.6,
          68.6,
          68.6,
          68.5,
          68.5,
          68.5,
          68.5,
          68.5,
          68.5,
          68.5,
          68.5,
          68.5,
          68.5,
          68.5,
          68.5,
          68.5,
          68.5,
          68.5,
          68.5,
          68.5,
          68.5,
          68.5,
          68.5,
          68.5,
          68.5,
          68.4,
          68.4,
          68.4,
          68.4,
          68.4,
          68.4,
          68.4,
          68.4,
          68.4,
          68.4,
          68.4,
          68.4,
          68.4,
          68.4,
          68.4,
          68.4,
          68.4,
          68.4,
          68.4,
          68.4,
          68.4,
          68.4,
          68.3,
          68.3,
          68.3,
          68.3,
          68.3,
          68.3,
          68.3,
          68.3,
          68.3,
          68.3,
          68.3,
          68.3,
          68.3,
          68.3,
          68.3,
          68.3,
          68.3,
          68.3,
          68.3,
          68.3,
          68.3,
          68.3,
          68.2,
          68.2,
          68.2,
          68.2,
          68.2,
          68.2,
          68.2,
          68.2,
          68.2,
          68.2,
          68.2,
          68.2,
          68.2,
          68.2,
          68.2,
          68.2,
          68.2,
          68.2,
          68.2,
          68.2,
          68.2,
          68.2,
          68.1,
          68.1,
          68.1,
          68.1,
          68.1,
          68.1,
          68.1,
          68.1,
          68.1,
          68.1,
          68.1,
          68.1,
          68.1,
          68.1,
          68.1,
          68.1,
          68.1,
          68.1,
          68.1,
          68.1,
          68.1,
          68.1,
          68.1,
          68,
          68,
          68,
          68,
          68,
          68,
          68,
          68,
          68,
          68,
          68,
          68,
          68,
          68,
          68,
          68,
          68,
          68,
          68,
          68,
          68,
          68,
          67.9,
          67.9,
          67.9,
          67.9,
          67.9,
          67.9,
          67.9,
          67.9,
          67.9,
          67.9,
          67.9,
          67.9,
          67.9,
          67.9,
          67.9,
          67.9,
          67.9,
          67.9,
          67.9,
          67.9,
          67.9,
          67.9,
          67.9,
          67.9,
          67.8,
          67.8,
          67.8,
          67.8,
          67.8,
          67.8,
          67.8,
          67.8,
          67.8,
          67.8,
          67.8,
          67.8,
          67.8,
          67.8,
          67.8,
          67.8,
          67.8,
          67.8,
          67.8,
          67.8,
          67.8,
          67.8,
          67.8,
          67.7,
          67.7,
          67.7,
          67.7,
          67.7,
          67.7,
          67.7,
          67.7,
          67.7,
          67.7,
          67.7,
          67.7,
          67.7,
          67.7,
          67.7,
          67.7,
          67.7,
          67.7,
          67.7,
          67.7,
          67.7,
          67.7,
          67.7,
          67.7,
          67.6,
          67.6,
          67.6,
          67.6,
          67.6,
          67.6,
          67.6,
          67.6,
          67.6,
          67.6,
          67.6,
          67.6,
          67.6,
          67.6,
          67.6,
          67.6,
          67.6,
          67.6,
          67.6,
          67.6,
          67.6,
          67.6,
          67.6,
          67.6,
          67.5,
          67.5,
          67.5,
          67.5,
          67.5,
          67.5,
          67.5,
          67.5,
          67.5,
          67.5,
          67.5,
          67.5,
          67.5,
          67.5,
          67.5,
          67.5,
          67.5,
          67.5,
          67.5,
          67.5,
          67.5,
          67.5,
          67.5,
          67.5,
          67.4,
          67.4,
          67.4,
          67.4,
          67.4,
          67.4,
          67.4,
          67.4,
          67.4,
          67.4,
          67.4,
          67.4,
          67.4,
          67.4,
          67.4,
          67.4,
          67.4,
          67.4,
          67.4,
          67.4,
          67.4,
          67.4,
          67.4,
          67.4,
          67.3,
          67.3,
          67.3,
          67.3,
          67.3,
          67.3,
          67.3,
          67.3,
          67.3,
          67.3,
          67.3,
          67.3,
          67.3,
          67.3,
          67.3,
          67.3,
          67.3,
          67.3,
          67.3,
          67.3,
          67.3,
          67.3,
          67.3,
          67.3,
          67.3,
          67.2,
          67.2,
          67.2,
          67.2,
          67.2,
          67.2,
          67.2,
          67.2,
          67.2,
          67.2,
          67.2,
          67.2,
          67.2,
          67.2,
          67.2,
          67.2,
          67.2,
          67.2,
          67.2,
          67.2,
          67.2,
          67.2,
          67.2,
          67.2,
          67.2,
          67.1,
          67.1,
          67.1,
          67.1,
          67.1,
          67.1,
          67.1,
          67.1,
          67.1,
          67.1,
          67.1,
          67.1,
          67.1,
          67.1,
          67.1,
          67.1,
          67.1,
          67.1,
          67.1,
          67.1,
          67.1,
          67.1,
          67.1,
          67.1,
          67.1,
          67,
          67,
          67,
          67,
          67,
          67,
          67,
          67,
          67,
          67,
          67,
          67,
          67,
          67,
          67,
          67,
          67,
          67,
          67,
          67,
          67,
          67,
          67,
          67,
          67,
          67,
          66.9,
          66.9,
          66.9,
          66.9,
          66.9,
          66.9,
          66.9,
          66.9,
          66.9,
          66.9,
          66.9,
          66.9,
          66.9,
          66.9,
          66.9,
          66.9,
          66.9,
          66.9,
          66.9,
          66.9,
          66.9,
          66.9,
          66.9,
          66.9,
          66.9,
          66.9,
          66.8,
          66.8,
          66.8,
          66.8,
          66.8,
          66.8,
          66.8,
          66.8,
          66.8,
          66.8,
          66.8,
          66.8,
          66.8,
          66.8,
          66.8,
          66.8,
          66.8,
          66.8,
          66.8,
          66.8,
          66.8,
          66.8,
          66.8,
          66.8,
          66.8,
          66.8,
          66.7,
          66.7,
          66.7,
          66.7,
          66.7,
          66.7,
          66.7,
          66.7,
          66.7,
          66.7,
          66.7,
          66.7,
          66.7,
          66.7,
          66.7,
          66.7,
          66.7,
          66.7,
          66.7,
          66.7,
          66.7,
          66.7,
          66.7,
          66.7,
          66.7,
          66.7,
          66.7,
          66.6,
          66.6,
          66.6,
          66.6,
          66.6,
          66.6,
          66.6,
          66.6,
          66.6,
          66.6,
          66.6,
          66.6,
          66.6,
          66.6,
          66.6,
          66.6,
          66.6,
          66.6,
          66.6,
          66.6,
          66.6,
          66.6,
          66.6,
          66.6,
          66.6,
          66.6,
          66.6,
          66.5,
          66.5,
          66.5,
          66.5,
          66.5,
          66.5,
          66.5,
          66.5,
          66.5,
          66.5,
          66.5,
          66.5,
          66.5,
          66.5,
          66.5,
          66.5,
          66.5,
          66.5,
          66.5,
          66.5,
          66.5,
          66.5,
          66.5,
          66.5,
          66.5,
          66.5,
          66.5,
          66.4,
          66.4,
          66.4,
          66.4,
          66.4,
          66.4,
          66.4,
          66.4,
          66.4,
          66.4,
          66.4,
          66.4,
          66.4,
          66.4,
          66.4,
          66.4,
          66.4,
          66.4,
          66.4,
          66.4,
          66.4,
          66.4,
          66.4,
          66.4,
          66.4,
          66.4,
          66.4,
          66.3,
          66.3,
          66.3,
          66.3,
          66.3,
          66.3,
          66.3,
          66.3,
          66.3,
          66.3,
          66.3,
          66.3,
          66.3,
          66.3,
          66.3,
          66.3,
          66.3,
          66.3,
          66.3,
          66.3,
          66.3,
          66.3,
          66.3,
          66.3,
          66.3,
          66.3,
          66.3,
          66.3,
          66.2,
          66.2,
          66.2,
          66.2,
          66.2,
          66.2,
          66.2,
          66.2,
          66.2,
          66.2,
          66.2,
          66.2,
          66.2,
          66.2,
          66.2,
          66.2,
          66.2,
          66.2,
          66.2,
          66.2,
          66.2,
          66.2,
          66.2,
          66.2,
          66.2,
          66.2,
          66.2,
          66.2,
          66.1,
          66.1,
          66.1,
          66.1,
          66.1,
          66.1,
          66.1,
          66.1,
          66.1,
          66.1,
          66.1,
          66.1,
          66.1,
          66.1,
          66.1,
          66.1,
          66.1,
          66.1,
          66.1,
          66.1,
          66.1,
          66.1,
          66.1,
          66.1,
          66.1,
          66.1,
          66.1,
          66.1,
          66,
          66,
          66,
          66,
          66,
          66,
          66,
          66,
          66,
          66,
          66,
          66,
          66,
          66,
          66,
          66,
          66,
          66,
          66,
          66,
          66,
          66,
          66,
          66,
          66,
          66
         ],
         "y0": " ",
         "yaxis": "y"
        }
       ],
       "layout": {
        "boxmode": "group",
        "legend": {
         "tracegroupgap": 0
        },
        "margin": {
         "t": 60
        },
        "template": {
         "data": {
          "bar": [
           {
            "error_x": {
             "color": "#2a3f5f"
            },
            "error_y": {
             "color": "#2a3f5f"
            },
            "marker": {
             "line": {
              "color": "#E5ECF6",
              "width": 0.5
             },
             "pattern": {
              "fillmode": "overlay",
              "size": 10,
              "solidity": 0.2
             }
            },
            "type": "bar"
           }
          ],
          "barpolar": [
           {
            "marker": {
             "line": {
              "color": "#E5ECF6",
              "width": 0.5
             },
             "pattern": {
              "fillmode": "overlay",
              "size": 10,
              "solidity": 0.2
             }
            },
            "type": "barpolar"
           }
          ],
          "carpet": [
           {
            "aaxis": {
             "endlinecolor": "#2a3f5f",
             "gridcolor": "white",
             "linecolor": "white",
             "minorgridcolor": "white",
             "startlinecolor": "#2a3f5f"
            },
            "baxis": {
             "endlinecolor": "#2a3f5f",
             "gridcolor": "white",
             "linecolor": "white",
             "minorgridcolor": "white",
             "startlinecolor": "#2a3f5f"
            },
            "type": "carpet"
           }
          ],
          "choropleth": [
           {
            "colorbar": {
             "outlinewidth": 0,
             "ticks": ""
            },
            "type": "choropleth"
           }
          ],
          "contour": [
           {
            "colorbar": {
             "outlinewidth": 0,
             "ticks": ""
            },
            "colorscale": [
             [
              0,
              "#0d0887"
             ],
             [
              0.1111111111111111,
              "#46039f"
             ],
             [
              0.2222222222222222,
              "#7201a8"
             ],
             [
              0.3333333333333333,
              "#9c179e"
             ],
             [
              0.4444444444444444,
              "#bd3786"
             ],
             [
              0.5555555555555556,
              "#d8576b"
             ],
             [
              0.6666666666666666,
              "#ed7953"
             ],
             [
              0.7777777777777778,
              "#fb9f3a"
             ],
             [
              0.8888888888888888,
              "#fdca26"
             ],
             [
              1,
              "#f0f921"
             ]
            ],
            "type": "contour"
           }
          ],
          "contourcarpet": [
           {
            "colorbar": {
             "outlinewidth": 0,
             "ticks": ""
            },
            "type": "contourcarpet"
           }
          ],
          "heatmap": [
           {
            "colorbar": {
             "outlinewidth": 0,
             "ticks": ""
            },
            "colorscale": [
             [
              0,
              "#0d0887"
             ],
             [
              0.1111111111111111,
              "#46039f"
             ],
             [
              0.2222222222222222,
              "#7201a8"
             ],
             [
              0.3333333333333333,
              "#9c179e"
             ],
             [
              0.4444444444444444,
              "#bd3786"
             ],
             [
              0.5555555555555556,
              "#d8576b"
             ],
             [
              0.6666666666666666,
              "#ed7953"
             ],
             [
              0.7777777777777778,
              "#fb9f3a"
             ],
             [
              0.8888888888888888,
              "#fdca26"
             ],
             [
              1,
              "#f0f921"
             ]
            ],
            "type": "heatmap"
           }
          ],
          "heatmapgl": [
           {
            "colorbar": {
             "outlinewidth": 0,
             "ticks": ""
            },
            "colorscale": [
             [
              0,
              "#0d0887"
             ],
             [
              0.1111111111111111,
              "#46039f"
             ],
             [
              0.2222222222222222,
              "#7201a8"
             ],
             [
              0.3333333333333333,
              "#9c179e"
             ],
             [
              0.4444444444444444,
              "#bd3786"
             ],
             [
              0.5555555555555556,
              "#d8576b"
             ],
             [
              0.6666666666666666,
              "#ed7953"
             ],
             [
              0.7777777777777778,
              "#fb9f3a"
             ],
             [
              0.8888888888888888,
              "#fdca26"
             ],
             [
              1,
              "#f0f921"
             ]
            ],
            "type": "heatmapgl"
           }
          ],
          "histogram": [
           {
            "marker": {
             "pattern": {
              "fillmode": "overlay",
              "size": 10,
              "solidity": 0.2
             }
            },
            "type": "histogram"
           }
          ],
          "histogram2d": [
           {
            "colorbar": {
             "outlinewidth": 0,
             "ticks": ""
            },
            "colorscale": [
             [
              0,
              "#0d0887"
             ],
             [
              0.1111111111111111,
              "#46039f"
             ],
             [
              0.2222222222222222,
              "#7201a8"
             ],
             [
              0.3333333333333333,
              "#9c179e"
             ],
             [
              0.4444444444444444,
              "#bd3786"
             ],
             [
              0.5555555555555556,
              "#d8576b"
             ],
             [
              0.6666666666666666,
              "#ed7953"
             ],
             [
              0.7777777777777778,
              "#fb9f3a"
             ],
             [
              0.8888888888888888,
              "#fdca26"
             ],
             [
              1,
              "#f0f921"
             ]
            ],
            "type": "histogram2d"
           }
          ],
          "histogram2dcontour": [
           {
            "colorbar": {
             "outlinewidth": 0,
             "ticks": ""
            },
            "colorscale": [
             [
              0,
              "#0d0887"
             ],
             [
              0.1111111111111111,
              "#46039f"
             ],
             [
              0.2222222222222222,
              "#7201a8"
             ],
             [
              0.3333333333333333,
              "#9c179e"
             ],
             [
              0.4444444444444444,
              "#bd3786"
             ],
             [
              0.5555555555555556,
              "#d8576b"
             ],
             [
              0.6666666666666666,
              "#ed7953"
             ],
             [
              0.7777777777777778,
              "#fb9f3a"
             ],
             [
              0.8888888888888888,
              "#fdca26"
             ],
             [
              1,
              "#f0f921"
             ]
            ],
            "type": "histogram2dcontour"
           }
          ],
          "mesh3d": [
           {
            "colorbar": {
             "outlinewidth": 0,
             "ticks": ""
            },
            "type": "mesh3d"
           }
          ],
          "parcoords": [
           {
            "line": {
             "colorbar": {
              "outlinewidth": 0,
              "ticks": ""
             }
            },
            "type": "parcoords"
           }
          ],
          "pie": [
           {
            "automargin": true,
            "type": "pie"
           }
          ],
          "scatter": [
           {
            "fillpattern": {
             "fillmode": "overlay",
             "size": 10,
             "solidity": 0.2
            },
            "type": "scatter"
           }
          ],
          "scatter3d": [
           {
            "line": {
             "colorbar": {
              "outlinewidth": 0,
              "ticks": ""
             }
            },
            "marker": {
             "colorbar": {
              "outlinewidth": 0,
              "ticks": ""
             }
            },
            "type": "scatter3d"
           }
          ],
          "scattercarpet": [
           {
            "marker": {
             "colorbar": {
              "outlinewidth": 0,
              "ticks": ""
             }
            },
            "type": "scattercarpet"
           }
          ],
          "scattergeo": [
           {
            "marker": {
             "colorbar": {
              "outlinewidth": 0,
              "ticks": ""
             }
            },
            "type": "scattergeo"
           }
          ],
          "scattergl": [
           {
            "marker": {
             "colorbar": {
              "outlinewidth": 0,
              "ticks": ""
             }
            },
            "type": "scattergl"
           }
          ],
          "scattermapbox": [
           {
            "marker": {
             "colorbar": {
              "outlinewidth": 0,
              "ticks": ""
             }
            },
            "type": "scattermapbox"
           }
          ],
          "scatterpolar": [
           {
            "marker": {
             "colorbar": {
              "outlinewidth": 0,
              "ticks": ""
             }
            },
            "type": "scatterpolar"
           }
          ],
          "scatterpolargl": [
           {
            "marker": {
             "colorbar": {
              "outlinewidth": 0,
              "ticks": ""
             }
            },
            "type": "scatterpolargl"
           }
          ],
          "scatterternary": [
           {
            "marker": {
             "colorbar": {
              "outlinewidth": 0,
              "ticks": ""
             }
            },
            "type": "scatterternary"
           }
          ],
          "surface": [
           {
            "colorbar": {
             "outlinewidth": 0,
             "ticks": ""
            },
            "colorscale": [
             [
              0,
              "#0d0887"
             ],
             [
              0.1111111111111111,
              "#46039f"
             ],
             [
              0.2222222222222222,
              "#7201a8"
             ],
             [
              0.3333333333333333,
              "#9c179e"
             ],
             [
              0.4444444444444444,
              "#bd3786"
             ],
             [
              0.5555555555555556,
              "#d8576b"
             ],
             [
              0.6666666666666666,
              "#ed7953"
             ],
             [
              0.7777777777777778,
              "#fb9f3a"
             ],
             [
              0.8888888888888888,
              "#fdca26"
             ],
             [
              1,
              "#f0f921"
             ]
            ],
            "type": "surface"
           }
          ],
          "table": [
           {
            "cells": {
             "fill": {
              "color": "#EBF0F8"
             },
             "line": {
              "color": "white"
             }
            },
            "header": {
             "fill": {
              "color": "#C8D4E3"
             },
             "line": {
              "color": "white"
             }
            },
            "type": "table"
           }
          ]
         },
         "layout": {
          "annotationdefaults": {
           "arrowcolor": "#2a3f5f",
           "arrowhead": 0,
           "arrowwidth": 1
          },
          "autotypenumbers": "strict",
          "coloraxis": {
           "colorbar": {
            "outlinewidth": 0,
            "ticks": ""
           }
          },
          "colorscale": {
           "diverging": [
            [
             0,
             "#8e0152"
            ],
            [
             0.1,
             "#c51b7d"
            ],
            [
             0.2,
             "#de77ae"
            ],
            [
             0.3,
             "#f1b6da"
            ],
            [
             0.4,
             "#fde0ef"
            ],
            [
             0.5,
             "#f7f7f7"
            ],
            [
             0.6,
             "#e6f5d0"
            ],
            [
             0.7,
             "#b8e186"
            ],
            [
             0.8,
             "#7fbc41"
            ],
            [
             0.9,
             "#4d9221"
            ],
            [
             1,
             "#276419"
            ]
           ],
           "sequential": [
            [
             0,
             "#0d0887"
            ],
            [
             0.1111111111111111,
             "#46039f"
            ],
            [
             0.2222222222222222,
             "#7201a8"
            ],
            [
             0.3333333333333333,
             "#9c179e"
            ],
            [
             0.4444444444444444,
             "#bd3786"
            ],
            [
             0.5555555555555556,
             "#d8576b"
            ],
            [
             0.6666666666666666,
             "#ed7953"
            ],
            [
             0.7777777777777778,
             "#fb9f3a"
            ],
            [
             0.8888888888888888,
             "#fdca26"
            ],
            [
             1,
             "#f0f921"
            ]
           ],
           "sequentialminus": [
            [
             0,
             "#0d0887"
            ],
            [
             0.1111111111111111,
             "#46039f"
            ],
            [
             0.2222222222222222,
             "#7201a8"
            ],
            [
             0.3333333333333333,
             "#9c179e"
            ],
            [
             0.4444444444444444,
             "#bd3786"
            ],
            [
             0.5555555555555556,
             "#d8576b"
            ],
            [
             0.6666666666666666,
             "#ed7953"
            ],
            [
             0.7777777777777778,
             "#fb9f3a"
            ],
            [
             0.8888888888888888,
             "#fdca26"
            ],
            [
             1,
             "#f0f921"
            ]
           ]
          },
          "colorway": [
           "#636efa",
           "#EF553B",
           "#00cc96",
           "#ab63fa",
           "#FFA15A",
           "#19d3f3",
           "#FF6692",
           "#B6E880",
           "#FF97FF",
           "#FECB52"
          ],
          "font": {
           "color": "#2a3f5f"
          },
          "geo": {
           "bgcolor": "white",
           "lakecolor": "white",
           "landcolor": "#E5ECF6",
           "showlakes": true,
           "showland": true,
           "subunitcolor": "white"
          },
          "hoverlabel": {
           "align": "left"
          },
          "hovermode": "closest",
          "mapbox": {
           "style": "light"
          },
          "paper_bgcolor": "white",
          "plot_bgcolor": "#E5ECF6",
          "polar": {
           "angularaxis": {
            "gridcolor": "white",
            "linecolor": "white",
            "ticks": ""
           },
           "bgcolor": "#E5ECF6",
           "radialaxis": {
            "gridcolor": "white",
            "linecolor": "white",
            "ticks": ""
           }
          },
          "scene": {
           "xaxis": {
            "backgroundcolor": "#E5ECF6",
            "gridcolor": "white",
            "gridwidth": 2,
            "linecolor": "white",
            "showbackground": true,
            "ticks": "",
            "zerolinecolor": "white"
           },
           "yaxis": {
            "backgroundcolor": "#E5ECF6",
            "gridcolor": "white",
            "gridwidth": 2,
            "linecolor": "white",
            "showbackground": true,
            "ticks": "",
            "zerolinecolor": "white"
           },
           "zaxis": {
            "backgroundcolor": "#E5ECF6",
            "gridcolor": "white",
            "gridwidth": 2,
            "linecolor": "white",
            "showbackground": true,
            "ticks": "",
            "zerolinecolor": "white"
           }
          },
          "shapedefaults": {
           "line": {
            "color": "#2a3f5f"
           }
          },
          "ternary": {
           "aaxis": {
            "gridcolor": "white",
            "linecolor": "white",
            "ticks": ""
           },
           "baxis": {
            "gridcolor": "white",
            "linecolor": "white",
            "ticks": ""
           },
           "bgcolor": "#E5ECF6",
           "caxis": {
            "gridcolor": "white",
            "linecolor": "white",
            "ticks": ""
           }
          },
          "title": {
           "x": 0.05
          },
          "xaxis": {
           "automargin": true,
           "gridcolor": "white",
           "linecolor": "white",
           "ticks": "",
           "title": {
            "standoff": 15
           },
           "zerolinecolor": "white",
           "zerolinewidth": 2
          },
          "yaxis": {
           "automargin": true,
           "gridcolor": "white",
           "linecolor": "white",
           "ticks": "",
           "title": {
            "standoff": 15
           },
           "zerolinecolor": "white",
           "zerolinewidth": 2
          }
         }
        },
        "xaxis": {
         "anchor": "y",
         "domain": [
          0,
          1
         ]
        },
        "yaxis": {
         "anchor": "x",
         "domain": [
          0,
          1
         ],
         "title": {
          "text": "Total Score"
         }
        }
       }
      }
     },
     "metadata": {},
     "output_type": "display_data"
    }
   ],
   "source": [
    "\n",
    "\n",
    "fig = px.box(Uni_df['CWUR'], y=\"Total Score\",color_discrete_sequence=px.colors.qualitative.Pastel)\n",
    "\n",
    "fig.show()"
   ]
  },
  {
   "cell_type": "code",
   "execution_count": 268,
   "metadata": {},
   "outputs": [
    {
     "data": {
      "application/vnd.plotly.v1+json": {
       "config": {
        "plotlyServerURL": "https://plot.ly"
       },
       "data": [
        {
         "alignmentgroup": "True",
         "hovertemplate": "Total Score=%{y}<extra></extra>",
         "legendgroup": "",
         "marker": {
          "color": "rgb(102, 197, 204)"
         },
         "name": "",
         "notched": false,
         "offsetgroup": "",
         "orientation": "v",
         "showlegend": false,
         "type": "box",
         "x0": " ",
         "xaxis": "x",
         "y": [
          100,
          76.8,
          70.1,
          69.6,
          65.3,
          60,
          58.7,
          57.2,
          56.1,
          55.1,
          53.2,
          50.4,
          50.2,
          47.9,
          47.5,
          47,
          46.8,
          46.6,
          45.9,
          45.6,
          45.5,
          40.5,
          40.3,
          39.8,
          39.5,
          39.3,
          39.1,
          39,
          38,
          37.3,
          37.2,
          36.6,
          36.1,
          35.9,
          35.4,
          34.7,
          34.6,
          34.5,
          34.4,
          34.3,
          34.2,
          34.2,
          33.9,
          33.8,
          33.8,
          33.8,
          33.6,
          33.4,
          33.3,
          33.1,
          33,
          32.9,
          32.6,
          32,
          32,
          31.7,
          31.5,
          31.5,
          31.4,
          30.8,
          30.7,
          30.3,
          30.3,
          30.2,
          30.2,
          30.1,
          30,
          30,
          29.7,
          29.5,
          29.3,
          29.3,
          29.1,
          28.9,
          28.4,
          28.1,
          27.9,
          27.7,
          27.5,
          27.5,
          27.4,
          27.3,
          27.2,
          27.2,
          27.2,
          27.2,
          27,
          26.9,
          26.8,
          26.7,
          26.7,
          26.5,
          26.5,
          26.4,
          26.3,
          26.1,
          26.1,
          25.9,
          25.8,
          25.8
         ],
         "y0": " ",
         "yaxis": "y"
        }
       ],
       "layout": {
        "boxmode": "group",
        "legend": {
         "tracegroupgap": 0
        },
        "margin": {
         "t": 60
        },
        "template": {
         "data": {
          "bar": [
           {
            "error_x": {
             "color": "#2a3f5f"
            },
            "error_y": {
             "color": "#2a3f5f"
            },
            "marker": {
             "line": {
              "color": "#E5ECF6",
              "width": 0.5
             },
             "pattern": {
              "fillmode": "overlay",
              "size": 10,
              "solidity": 0.2
             }
            },
            "type": "bar"
           }
          ],
          "barpolar": [
           {
            "marker": {
             "line": {
              "color": "#E5ECF6",
              "width": 0.5
             },
             "pattern": {
              "fillmode": "overlay",
              "size": 10,
              "solidity": 0.2
             }
            },
            "type": "barpolar"
           }
          ],
          "carpet": [
           {
            "aaxis": {
             "endlinecolor": "#2a3f5f",
             "gridcolor": "white",
             "linecolor": "white",
             "minorgridcolor": "white",
             "startlinecolor": "#2a3f5f"
            },
            "baxis": {
             "endlinecolor": "#2a3f5f",
             "gridcolor": "white",
             "linecolor": "white",
             "minorgridcolor": "white",
             "startlinecolor": "#2a3f5f"
            },
            "type": "carpet"
           }
          ],
          "choropleth": [
           {
            "colorbar": {
             "outlinewidth": 0,
             "ticks": ""
            },
            "type": "choropleth"
           }
          ],
          "contour": [
           {
            "colorbar": {
             "outlinewidth": 0,
             "ticks": ""
            },
            "colorscale": [
             [
              0,
              "#0d0887"
             ],
             [
              0.1111111111111111,
              "#46039f"
             ],
             [
              0.2222222222222222,
              "#7201a8"
             ],
             [
              0.3333333333333333,
              "#9c179e"
             ],
             [
              0.4444444444444444,
              "#bd3786"
             ],
             [
              0.5555555555555556,
              "#d8576b"
             ],
             [
              0.6666666666666666,
              "#ed7953"
             ],
             [
              0.7777777777777778,
              "#fb9f3a"
             ],
             [
              0.8888888888888888,
              "#fdca26"
             ],
             [
              1,
              "#f0f921"
             ]
            ],
            "type": "contour"
           }
          ],
          "contourcarpet": [
           {
            "colorbar": {
             "outlinewidth": 0,
             "ticks": ""
            },
            "type": "contourcarpet"
           }
          ],
          "heatmap": [
           {
            "colorbar": {
             "outlinewidth": 0,
             "ticks": ""
            },
            "colorscale": [
             [
              0,
              "#0d0887"
             ],
             [
              0.1111111111111111,
              "#46039f"
             ],
             [
              0.2222222222222222,
              "#7201a8"
             ],
             [
              0.3333333333333333,
              "#9c179e"
             ],
             [
              0.4444444444444444,
              "#bd3786"
             ],
             [
              0.5555555555555556,
              "#d8576b"
             ],
             [
              0.6666666666666666,
              "#ed7953"
             ],
             [
              0.7777777777777778,
              "#fb9f3a"
             ],
             [
              0.8888888888888888,
              "#fdca26"
             ],
             [
              1,
              "#f0f921"
             ]
            ],
            "type": "heatmap"
           }
          ],
          "heatmapgl": [
           {
            "colorbar": {
             "outlinewidth": 0,
             "ticks": ""
            },
            "colorscale": [
             [
              0,
              "#0d0887"
             ],
             [
              0.1111111111111111,
              "#46039f"
             ],
             [
              0.2222222222222222,
              "#7201a8"
             ],
             [
              0.3333333333333333,
              "#9c179e"
             ],
             [
              0.4444444444444444,
              "#bd3786"
             ],
             [
              0.5555555555555556,
              "#d8576b"
             ],
             [
              0.6666666666666666,
              "#ed7953"
             ],
             [
              0.7777777777777778,
              "#fb9f3a"
             ],
             [
              0.8888888888888888,
              "#fdca26"
             ],
             [
              1,
              "#f0f921"
             ]
            ],
            "type": "heatmapgl"
           }
          ],
          "histogram": [
           {
            "marker": {
             "pattern": {
              "fillmode": "overlay",
              "size": 10,
              "solidity": 0.2
             }
            },
            "type": "histogram"
           }
          ],
          "histogram2d": [
           {
            "colorbar": {
             "outlinewidth": 0,
             "ticks": ""
            },
            "colorscale": [
             [
              0,
              "#0d0887"
             ],
             [
              0.1111111111111111,
              "#46039f"
             ],
             [
              0.2222222222222222,
              "#7201a8"
             ],
             [
              0.3333333333333333,
              "#9c179e"
             ],
             [
              0.4444444444444444,
              "#bd3786"
             ],
             [
              0.5555555555555556,
              "#d8576b"
             ],
             [
              0.6666666666666666,
              "#ed7953"
             ],
             [
              0.7777777777777778,
              "#fb9f3a"
             ],
             [
              0.8888888888888888,
              "#fdca26"
             ],
             [
              1,
              "#f0f921"
             ]
            ],
            "type": "histogram2d"
           }
          ],
          "histogram2dcontour": [
           {
            "colorbar": {
             "outlinewidth": 0,
             "ticks": ""
            },
            "colorscale": [
             [
              0,
              "#0d0887"
             ],
             [
              0.1111111111111111,
              "#46039f"
             ],
             [
              0.2222222222222222,
              "#7201a8"
             ],
             [
              0.3333333333333333,
              "#9c179e"
             ],
             [
              0.4444444444444444,
              "#bd3786"
             ],
             [
              0.5555555555555556,
              "#d8576b"
             ],
             [
              0.6666666666666666,
              "#ed7953"
             ],
             [
              0.7777777777777778,
              "#fb9f3a"
             ],
             [
              0.8888888888888888,
              "#fdca26"
             ],
             [
              1,
              "#f0f921"
             ]
            ],
            "type": "histogram2dcontour"
           }
          ],
          "mesh3d": [
           {
            "colorbar": {
             "outlinewidth": 0,
             "ticks": ""
            },
            "type": "mesh3d"
           }
          ],
          "parcoords": [
           {
            "line": {
             "colorbar": {
              "outlinewidth": 0,
              "ticks": ""
             }
            },
            "type": "parcoords"
           }
          ],
          "pie": [
           {
            "automargin": true,
            "type": "pie"
           }
          ],
          "scatter": [
           {
            "fillpattern": {
             "fillmode": "overlay",
             "size": 10,
             "solidity": 0.2
            },
            "type": "scatter"
           }
          ],
          "scatter3d": [
           {
            "line": {
             "colorbar": {
              "outlinewidth": 0,
              "ticks": ""
             }
            },
            "marker": {
             "colorbar": {
              "outlinewidth": 0,
              "ticks": ""
             }
            },
            "type": "scatter3d"
           }
          ],
          "scattercarpet": [
           {
            "marker": {
             "colorbar": {
              "outlinewidth": 0,
              "ticks": ""
             }
            },
            "type": "scattercarpet"
           }
          ],
          "scattergeo": [
           {
            "marker": {
             "colorbar": {
              "outlinewidth": 0,
              "ticks": ""
             }
            },
            "type": "scattergeo"
           }
          ],
          "scattergl": [
           {
            "marker": {
             "colorbar": {
              "outlinewidth": 0,
              "ticks": ""
             }
            },
            "type": "scattergl"
           }
          ],
          "scattermapbox": [
           {
            "marker": {
             "colorbar": {
              "outlinewidth": 0,
              "ticks": ""
             }
            },
            "type": "scattermapbox"
           }
          ],
          "scatterpolar": [
           {
            "marker": {
             "colorbar": {
              "outlinewidth": 0,
              "ticks": ""
             }
            },
            "type": "scatterpolar"
           }
          ],
          "scatterpolargl": [
           {
            "marker": {
             "colorbar": {
              "outlinewidth": 0,
              "ticks": ""
             }
            },
            "type": "scatterpolargl"
           }
          ],
          "scatterternary": [
           {
            "marker": {
             "colorbar": {
              "outlinewidth": 0,
              "ticks": ""
             }
            },
            "type": "scatterternary"
           }
          ],
          "surface": [
           {
            "colorbar": {
             "outlinewidth": 0,
             "ticks": ""
            },
            "colorscale": [
             [
              0,
              "#0d0887"
             ],
             [
              0.1111111111111111,
              "#46039f"
             ],
             [
              0.2222222222222222,
              "#7201a8"
             ],
             [
              0.3333333333333333,
              "#9c179e"
             ],
             [
              0.4444444444444444,
              "#bd3786"
             ],
             [
              0.5555555555555556,
              "#d8576b"
             ],
             [
              0.6666666666666666,
              "#ed7953"
             ],
             [
              0.7777777777777778,
              "#fb9f3a"
             ],
             [
              0.8888888888888888,
              "#fdca26"
             ],
             [
              1,
              "#f0f921"
             ]
            ],
            "type": "surface"
           }
          ],
          "table": [
           {
            "cells": {
             "fill": {
              "color": "#EBF0F8"
             },
             "line": {
              "color": "white"
             }
            },
            "header": {
             "fill": {
              "color": "#C8D4E3"
             },
             "line": {
              "color": "white"
             }
            },
            "type": "table"
           }
          ]
         },
         "layout": {
          "annotationdefaults": {
           "arrowcolor": "#2a3f5f",
           "arrowhead": 0,
           "arrowwidth": 1
          },
          "autotypenumbers": "strict",
          "coloraxis": {
           "colorbar": {
            "outlinewidth": 0,
            "ticks": ""
           }
          },
          "colorscale": {
           "diverging": [
            [
             0,
             "#8e0152"
            ],
            [
             0.1,
             "#c51b7d"
            ],
            [
             0.2,
             "#de77ae"
            ],
            [
             0.3,
             "#f1b6da"
            ],
            [
             0.4,
             "#fde0ef"
            ],
            [
             0.5,
             "#f7f7f7"
            ],
            [
             0.6,
             "#e6f5d0"
            ],
            [
             0.7,
             "#b8e186"
            ],
            [
             0.8,
             "#7fbc41"
            ],
            [
             0.9,
             "#4d9221"
            ],
            [
             1,
             "#276419"
            ]
           ],
           "sequential": [
            [
             0,
             "#0d0887"
            ],
            [
             0.1111111111111111,
             "#46039f"
            ],
            [
             0.2222222222222222,
             "#7201a8"
            ],
            [
             0.3333333333333333,
             "#9c179e"
            ],
            [
             0.4444444444444444,
             "#bd3786"
            ],
            [
             0.5555555555555556,
             "#d8576b"
            ],
            [
             0.6666666666666666,
             "#ed7953"
            ],
            [
             0.7777777777777778,
             "#fb9f3a"
            ],
            [
             0.8888888888888888,
             "#fdca26"
            ],
            [
             1,
             "#f0f921"
            ]
           ],
           "sequentialminus": [
            [
             0,
             "#0d0887"
            ],
            [
             0.1111111111111111,
             "#46039f"
            ],
            [
             0.2222222222222222,
             "#7201a8"
            ],
            [
             0.3333333333333333,
             "#9c179e"
            ],
            [
             0.4444444444444444,
             "#bd3786"
            ],
            [
             0.5555555555555556,
             "#d8576b"
            ],
            [
             0.6666666666666666,
             "#ed7953"
            ],
            [
             0.7777777777777778,
             "#fb9f3a"
            ],
            [
             0.8888888888888888,
             "#fdca26"
            ],
            [
             1,
             "#f0f921"
            ]
           ]
          },
          "colorway": [
           "#636efa",
           "#EF553B",
           "#00cc96",
           "#ab63fa",
           "#FFA15A",
           "#19d3f3",
           "#FF6692",
           "#B6E880",
           "#FF97FF",
           "#FECB52"
          ],
          "font": {
           "color": "#2a3f5f"
          },
          "geo": {
           "bgcolor": "white",
           "lakecolor": "white",
           "landcolor": "#E5ECF6",
           "showlakes": true,
           "showland": true,
           "subunitcolor": "white"
          },
          "hoverlabel": {
           "align": "left"
          },
          "hovermode": "closest",
          "mapbox": {
           "style": "light"
          },
          "paper_bgcolor": "white",
          "plot_bgcolor": "#E5ECF6",
          "polar": {
           "angularaxis": {
            "gridcolor": "white",
            "linecolor": "white",
            "ticks": ""
           },
           "bgcolor": "#E5ECF6",
           "radialaxis": {
            "gridcolor": "white",
            "linecolor": "white",
            "ticks": ""
           }
          },
          "scene": {
           "xaxis": {
            "backgroundcolor": "#E5ECF6",
            "gridcolor": "white",
            "gridwidth": 2,
            "linecolor": "white",
            "showbackground": true,
            "ticks": "",
            "zerolinecolor": "white"
           },
           "yaxis": {
            "backgroundcolor": "#E5ECF6",
            "gridcolor": "white",
            "gridwidth": 2,
            "linecolor": "white",
            "showbackground": true,
            "ticks": "",
            "zerolinecolor": "white"
           },
           "zaxis": {
            "backgroundcolor": "#E5ECF6",
            "gridcolor": "white",
            "gridwidth": 2,
            "linecolor": "white",
            "showbackground": true,
            "ticks": "",
            "zerolinecolor": "white"
           }
          },
          "shapedefaults": {
           "line": {
            "color": "#2a3f5f"
           }
          },
          "ternary": {
           "aaxis": {
            "gridcolor": "white",
            "linecolor": "white",
            "ticks": ""
           },
           "baxis": {
            "gridcolor": "white",
            "linecolor": "white",
            "ticks": ""
           },
           "bgcolor": "#E5ECF6",
           "caxis": {
            "gridcolor": "white",
            "linecolor": "white",
            "ticks": ""
           }
          },
          "title": {
           "x": 0.05
          },
          "xaxis": {
           "automargin": true,
           "gridcolor": "white",
           "linecolor": "white",
           "ticks": "",
           "title": {
            "standoff": 15
           },
           "zerolinecolor": "white",
           "zerolinewidth": 2
          },
          "yaxis": {
           "automargin": true,
           "gridcolor": "white",
           "linecolor": "white",
           "ticks": "",
           "title": {
            "standoff": 15
           },
           "zerolinecolor": "white",
           "zerolinewidth": 2
          }
         }
        },
        "xaxis": {
         "anchor": "y",
         "domain": [
          0,
          1
         ]
        },
        "yaxis": {
         "anchor": "x",
         "domain": [
          0,
          1
         ],
         "title": {
          "text": "Total Score"
         }
        }
       }
      }
     },
     "metadata": {},
     "output_type": "display_data"
    }
   ],
   "source": [
    "\n",
    "\n",
    "fig = px.box(Uni_df['ARWU'], y=\"Total Score\",color_discrete_sequence=px.colors.qualitative.Pastel)\n",
    "\n",
    "fig.show()"
   ]
  },
  {
   "cell_type": "code",
   "execution_count": 277,
   "metadata": {},
   "outputs": [
    {
     "data": {
      "application/vnd.plotly.v1+json": {
       "config": {
        "plotlyServerURL": "https://plot.ly"
       },
       "data": [
        {
         "alignmentgroup": "True",
         "hovertemplate": "University Name=%{x}<br>Total Score=%{y}<extra></extra>",
         "legendgroup": "",
         "marker": {
          "color": "rgb(102, 197, 204)",
          "pattern": {
           "shape": ""
          }
         },
         "name": "",
         "offsetgroup": "",
         "orientation": "v",
         "showlegend": false,
         "textposition": "auto",
         "type": "bar",
         "x": [
          "Harvard University",
          "Massachusetts Institute of Technology",
          "Stanford University",
          "University of Cambridge",
          "University of Oxford",
          "Princeton University",
          "University of Chicago",
          "Columbia University",
          "University of Pennsylvania",
          "Yale University"
         ],
         "xaxis": "x",
         "y": [
          100,
          96.7,
          95.2,
          94.1,
          93.3,
          92.6,
          92.1,
          91.6,
          91.2,
          90.8
         ],
         "yaxis": "y"
        }
       ],
       "layout": {
        "barmode": "relative",
        "legend": {
         "tracegroupgap": 0
        },
        "margin": {
         "t": 60
        },
        "template": {
         "data": {
          "bar": [
           {
            "error_x": {
             "color": "#2a3f5f"
            },
            "error_y": {
             "color": "#2a3f5f"
            },
            "marker": {
             "line": {
              "color": "#E5ECF6",
              "width": 0.5
             },
             "pattern": {
              "fillmode": "overlay",
              "size": 10,
              "solidity": 0.2
             }
            },
            "type": "bar"
           }
          ],
          "barpolar": [
           {
            "marker": {
             "line": {
              "color": "#E5ECF6",
              "width": 0.5
             },
             "pattern": {
              "fillmode": "overlay",
              "size": 10,
              "solidity": 0.2
             }
            },
            "type": "barpolar"
           }
          ],
          "carpet": [
           {
            "aaxis": {
             "endlinecolor": "#2a3f5f",
             "gridcolor": "white",
             "linecolor": "white",
             "minorgridcolor": "white",
             "startlinecolor": "#2a3f5f"
            },
            "baxis": {
             "endlinecolor": "#2a3f5f",
             "gridcolor": "white",
             "linecolor": "white",
             "minorgridcolor": "white",
             "startlinecolor": "#2a3f5f"
            },
            "type": "carpet"
           }
          ],
          "choropleth": [
           {
            "colorbar": {
             "outlinewidth": 0,
             "ticks": ""
            },
            "type": "choropleth"
           }
          ],
          "contour": [
           {
            "colorbar": {
             "outlinewidth": 0,
             "ticks": ""
            },
            "colorscale": [
             [
              0,
              "#0d0887"
             ],
             [
              0.1111111111111111,
              "#46039f"
             ],
             [
              0.2222222222222222,
              "#7201a8"
             ],
             [
              0.3333333333333333,
              "#9c179e"
             ],
             [
              0.4444444444444444,
              "#bd3786"
             ],
             [
              0.5555555555555556,
              "#d8576b"
             ],
             [
              0.6666666666666666,
              "#ed7953"
             ],
             [
              0.7777777777777778,
              "#fb9f3a"
             ],
             [
              0.8888888888888888,
              "#fdca26"
             ],
             [
              1,
              "#f0f921"
             ]
            ],
            "type": "contour"
           }
          ],
          "contourcarpet": [
           {
            "colorbar": {
             "outlinewidth": 0,
             "ticks": ""
            },
            "type": "contourcarpet"
           }
          ],
          "heatmap": [
           {
            "colorbar": {
             "outlinewidth": 0,
             "ticks": ""
            },
            "colorscale": [
             [
              0,
              "#0d0887"
             ],
             [
              0.1111111111111111,
              "#46039f"
             ],
             [
              0.2222222222222222,
              "#7201a8"
             ],
             [
              0.3333333333333333,
              "#9c179e"
             ],
             [
              0.4444444444444444,
              "#bd3786"
             ],
             [
              0.5555555555555556,
              "#d8576b"
             ],
             [
              0.6666666666666666,
              "#ed7953"
             ],
             [
              0.7777777777777778,
              "#fb9f3a"
             ],
             [
              0.8888888888888888,
              "#fdca26"
             ],
             [
              1,
              "#f0f921"
             ]
            ],
            "type": "heatmap"
           }
          ],
          "heatmapgl": [
           {
            "colorbar": {
             "outlinewidth": 0,
             "ticks": ""
            },
            "colorscale": [
             [
              0,
              "#0d0887"
             ],
             [
              0.1111111111111111,
              "#46039f"
             ],
             [
              0.2222222222222222,
              "#7201a8"
             ],
             [
              0.3333333333333333,
              "#9c179e"
             ],
             [
              0.4444444444444444,
              "#bd3786"
             ],
             [
              0.5555555555555556,
              "#d8576b"
             ],
             [
              0.6666666666666666,
              "#ed7953"
             ],
             [
              0.7777777777777778,
              "#fb9f3a"
             ],
             [
              0.8888888888888888,
              "#fdca26"
             ],
             [
              1,
              "#f0f921"
             ]
            ],
            "type": "heatmapgl"
           }
          ],
          "histogram": [
           {
            "marker": {
             "pattern": {
              "fillmode": "overlay",
              "size": 10,
              "solidity": 0.2
             }
            },
            "type": "histogram"
           }
          ],
          "histogram2d": [
           {
            "colorbar": {
             "outlinewidth": 0,
             "ticks": ""
            },
            "colorscale": [
             [
              0,
              "#0d0887"
             ],
             [
              0.1111111111111111,
              "#46039f"
             ],
             [
              0.2222222222222222,
              "#7201a8"
             ],
             [
              0.3333333333333333,
              "#9c179e"
             ],
             [
              0.4444444444444444,
              "#bd3786"
             ],
             [
              0.5555555555555556,
              "#d8576b"
             ],
             [
              0.6666666666666666,
              "#ed7953"
             ],
             [
              0.7777777777777778,
              "#fb9f3a"
             ],
             [
              0.8888888888888888,
              "#fdca26"
             ],
             [
              1,
              "#f0f921"
             ]
            ],
            "type": "histogram2d"
           }
          ],
          "histogram2dcontour": [
           {
            "colorbar": {
             "outlinewidth": 0,
             "ticks": ""
            },
            "colorscale": [
             [
              0,
              "#0d0887"
             ],
             [
              0.1111111111111111,
              "#46039f"
             ],
             [
              0.2222222222222222,
              "#7201a8"
             ],
             [
              0.3333333333333333,
              "#9c179e"
             ],
             [
              0.4444444444444444,
              "#bd3786"
             ],
             [
              0.5555555555555556,
              "#d8576b"
             ],
             [
              0.6666666666666666,
              "#ed7953"
             ],
             [
              0.7777777777777778,
              "#fb9f3a"
             ],
             [
              0.8888888888888888,
              "#fdca26"
             ],
             [
              1,
              "#f0f921"
             ]
            ],
            "type": "histogram2dcontour"
           }
          ],
          "mesh3d": [
           {
            "colorbar": {
             "outlinewidth": 0,
             "ticks": ""
            },
            "type": "mesh3d"
           }
          ],
          "parcoords": [
           {
            "line": {
             "colorbar": {
              "outlinewidth": 0,
              "ticks": ""
             }
            },
            "type": "parcoords"
           }
          ],
          "pie": [
           {
            "automargin": true,
            "type": "pie"
           }
          ],
          "scatter": [
           {
            "fillpattern": {
             "fillmode": "overlay",
             "size": 10,
             "solidity": 0.2
            },
            "type": "scatter"
           }
          ],
          "scatter3d": [
           {
            "line": {
             "colorbar": {
              "outlinewidth": 0,
              "ticks": ""
             }
            },
            "marker": {
             "colorbar": {
              "outlinewidth": 0,
              "ticks": ""
             }
            },
            "type": "scatter3d"
           }
          ],
          "scattercarpet": [
           {
            "marker": {
             "colorbar": {
              "outlinewidth": 0,
              "ticks": ""
             }
            },
            "type": "scattercarpet"
           }
          ],
          "scattergeo": [
           {
            "marker": {
             "colorbar": {
              "outlinewidth": 0,
              "ticks": ""
             }
            },
            "type": "scattergeo"
           }
          ],
          "scattergl": [
           {
            "marker": {
             "colorbar": {
              "outlinewidth": 0,
              "ticks": ""
             }
            },
            "type": "scattergl"
           }
          ],
          "scattermapbox": [
           {
            "marker": {
             "colorbar": {
              "outlinewidth": 0,
              "ticks": ""
             }
            },
            "type": "scattermapbox"
           }
          ],
          "scatterpolar": [
           {
            "marker": {
             "colorbar": {
              "outlinewidth": 0,
              "ticks": ""
             }
            },
            "type": "scatterpolar"
           }
          ],
          "scatterpolargl": [
           {
            "marker": {
             "colorbar": {
              "outlinewidth": 0,
              "ticks": ""
             }
            },
            "type": "scatterpolargl"
           }
          ],
          "scatterternary": [
           {
            "marker": {
             "colorbar": {
              "outlinewidth": 0,
              "ticks": ""
             }
            },
            "type": "scatterternary"
           }
          ],
          "surface": [
           {
            "colorbar": {
             "outlinewidth": 0,
             "ticks": ""
            },
            "colorscale": [
             [
              0,
              "#0d0887"
             ],
             [
              0.1111111111111111,
              "#46039f"
             ],
             [
              0.2222222222222222,
              "#7201a8"
             ],
             [
              0.3333333333333333,
              "#9c179e"
             ],
             [
              0.4444444444444444,
              "#bd3786"
             ],
             [
              0.5555555555555556,
              "#d8576b"
             ],
             [
              0.6666666666666666,
              "#ed7953"
             ],
             [
              0.7777777777777778,
              "#fb9f3a"
             ],
             [
              0.8888888888888888,
              "#fdca26"
             ],
             [
              1,
              "#f0f921"
             ]
            ],
            "type": "surface"
           }
          ],
          "table": [
           {
            "cells": {
             "fill": {
              "color": "#EBF0F8"
             },
             "line": {
              "color": "white"
             }
            },
            "header": {
             "fill": {
              "color": "#C8D4E3"
             },
             "line": {
              "color": "white"
             }
            },
            "type": "table"
           }
          ]
         },
         "layout": {
          "annotationdefaults": {
           "arrowcolor": "#2a3f5f",
           "arrowhead": 0,
           "arrowwidth": 1
          },
          "autotypenumbers": "strict",
          "coloraxis": {
           "colorbar": {
            "outlinewidth": 0,
            "ticks": ""
           }
          },
          "colorscale": {
           "diverging": [
            [
             0,
             "#8e0152"
            ],
            [
             0.1,
             "#c51b7d"
            ],
            [
             0.2,
             "#de77ae"
            ],
            [
             0.3,
             "#f1b6da"
            ],
            [
             0.4,
             "#fde0ef"
            ],
            [
             0.5,
             "#f7f7f7"
            ],
            [
             0.6,
             "#e6f5d0"
            ],
            [
             0.7,
             "#b8e186"
            ],
            [
             0.8,
             "#7fbc41"
            ],
            [
             0.9,
             "#4d9221"
            ],
            [
             1,
             "#276419"
            ]
           ],
           "sequential": [
            [
             0,
             "#0d0887"
            ],
            [
             0.1111111111111111,
             "#46039f"
            ],
            [
             0.2222222222222222,
             "#7201a8"
            ],
            [
             0.3333333333333333,
             "#9c179e"
            ],
            [
             0.4444444444444444,
             "#bd3786"
            ],
            [
             0.5555555555555556,
             "#d8576b"
            ],
            [
             0.6666666666666666,
             "#ed7953"
            ],
            [
             0.7777777777777778,
             "#fb9f3a"
            ],
            [
             0.8888888888888888,
             "#fdca26"
            ],
            [
             1,
             "#f0f921"
            ]
           ],
           "sequentialminus": [
            [
             0,
             "#0d0887"
            ],
            [
             0.1111111111111111,
             "#46039f"
            ],
            [
             0.2222222222222222,
             "#7201a8"
            ],
            [
             0.3333333333333333,
             "#9c179e"
            ],
            [
             0.4444444444444444,
             "#bd3786"
            ],
            [
             0.5555555555555556,
             "#d8576b"
            ],
            [
             0.6666666666666666,
             "#ed7953"
            ],
            [
             0.7777777777777778,
             "#fb9f3a"
            ],
            [
             0.8888888888888888,
             "#fdca26"
            ],
            [
             1,
             "#f0f921"
            ]
           ]
          },
          "colorway": [
           "#636efa",
           "#EF553B",
           "#00cc96",
           "#ab63fa",
           "#FFA15A",
           "#19d3f3",
           "#FF6692",
           "#B6E880",
           "#FF97FF",
           "#FECB52"
          ],
          "font": {
           "color": "#2a3f5f"
          },
          "geo": {
           "bgcolor": "white",
           "lakecolor": "white",
           "landcolor": "#E5ECF6",
           "showlakes": true,
           "showland": true,
           "subunitcolor": "white"
          },
          "hoverlabel": {
           "align": "left"
          },
          "hovermode": "closest",
          "mapbox": {
           "style": "light"
          },
          "paper_bgcolor": "white",
          "plot_bgcolor": "#E5ECF6",
          "polar": {
           "angularaxis": {
            "gridcolor": "white",
            "linecolor": "white",
            "ticks": ""
           },
           "bgcolor": "#E5ECF6",
           "radialaxis": {
            "gridcolor": "white",
            "linecolor": "white",
            "ticks": ""
           }
          },
          "scene": {
           "xaxis": {
            "backgroundcolor": "#E5ECF6",
            "gridcolor": "white",
            "gridwidth": 2,
            "linecolor": "white",
            "showbackground": true,
            "ticks": "",
            "zerolinecolor": "white"
           },
           "yaxis": {
            "backgroundcolor": "#E5ECF6",
            "gridcolor": "white",
            "gridwidth": 2,
            "linecolor": "white",
            "showbackground": true,
            "ticks": "",
            "zerolinecolor": "white"
           },
           "zaxis": {
            "backgroundcolor": "#E5ECF6",
            "gridcolor": "white",
            "gridwidth": 2,
            "linecolor": "white",
            "showbackground": true,
            "ticks": "",
            "zerolinecolor": "white"
           }
          },
          "shapedefaults": {
           "line": {
            "color": "#2a3f5f"
           }
          },
          "ternary": {
           "aaxis": {
            "gridcolor": "white",
            "linecolor": "white",
            "ticks": ""
           },
           "baxis": {
            "gridcolor": "white",
            "linecolor": "white",
            "ticks": ""
           },
           "bgcolor": "#E5ECF6",
           "caxis": {
            "gridcolor": "white",
            "linecolor": "white",
            "ticks": ""
           }
          },
          "title": {
           "x": 0.05
          },
          "xaxis": {
           "automargin": true,
           "gridcolor": "white",
           "linecolor": "white",
           "ticks": "",
           "title": {
            "standoff": 15
           },
           "zerolinecolor": "white",
           "zerolinewidth": 2
          },
          "yaxis": {
           "automargin": true,
           "gridcolor": "white",
           "linecolor": "white",
           "ticks": "",
           "title": {
            "standoff": 15
           },
           "zerolinecolor": "white",
           "zerolinewidth": 2
          }
         }
        },
        "xaxis": {
         "anchor": "y",
         "domain": [
          0,
          1
         ],
         "title": {
          "text": "University Name"
         }
        },
        "yaxis": {
         "anchor": "x",
         "domain": [
          0,
          1
         ],
         "title": {
          "text": "Total Score"
         }
        }
       }
      }
     },
     "metadata": {},
     "output_type": "display_data"
    }
   ],
   "source": [
    "#word ranking\n",
    "#answer to Q-a\n",
    "fig = px.bar(Uni_df['CWUR'].head(10), x='University Name', y='Total Score',color_discrete_sequence=px.colors.qualitative.Pastel)\n",
    "fig.show()"
   ]
  },
  {
   "cell_type": "code",
   "execution_count": 279,
   "metadata": {},
   "outputs": [
    {
     "data": {
      "application/vnd.plotly.v1+json": {
       "config": {
        "plotlyServerURL": "https://plot.ly"
       },
       "data": [
        {
         "alignmentgroup": "True",
         "hovertemplate": "University Name=%{x}<br>Total Score=%{y}<extra></extra>",
         "legendgroup": "",
         "marker": {
          "color": "rgb(102, 197, 204)",
          "pattern": {
           "shape": ""
          }
         },
         "name": "",
         "offsetgroup": "",
         "orientation": "v",
         "showlegend": false,
         "textposition": "auto",
         "type": "bar",
         "x": [
          "Harvard University",
          "Stanford University",
          "Massachusetts Institute of Technology (MIT)",
          "University of Cambridge",
          "University of California, Berkeley",
          "Princeton University",
          "University of Oxford",
          "Columbia University",
          "California Institute of Technology",
          "University of Chicago"
         ],
         "xaxis": "x",
         "y": [
          100,
          76.8,
          70.1,
          69.6,
          65.3,
          60,
          58.7,
          57.2,
          56.1,
          55.1
         ],
         "yaxis": "y"
        }
       ],
       "layout": {
        "barmode": "relative",
        "legend": {
         "tracegroupgap": 0
        },
        "margin": {
         "t": 60
        },
        "template": {
         "data": {
          "bar": [
           {
            "error_x": {
             "color": "#2a3f5f"
            },
            "error_y": {
             "color": "#2a3f5f"
            },
            "marker": {
             "line": {
              "color": "#E5ECF6",
              "width": 0.5
             },
             "pattern": {
              "fillmode": "overlay",
              "size": 10,
              "solidity": 0.2
             }
            },
            "type": "bar"
           }
          ],
          "barpolar": [
           {
            "marker": {
             "line": {
              "color": "#E5ECF6",
              "width": 0.5
             },
             "pattern": {
              "fillmode": "overlay",
              "size": 10,
              "solidity": 0.2
             }
            },
            "type": "barpolar"
           }
          ],
          "carpet": [
           {
            "aaxis": {
             "endlinecolor": "#2a3f5f",
             "gridcolor": "white",
             "linecolor": "white",
             "minorgridcolor": "white",
             "startlinecolor": "#2a3f5f"
            },
            "baxis": {
             "endlinecolor": "#2a3f5f",
             "gridcolor": "white",
             "linecolor": "white",
             "minorgridcolor": "white",
             "startlinecolor": "#2a3f5f"
            },
            "type": "carpet"
           }
          ],
          "choropleth": [
           {
            "colorbar": {
             "outlinewidth": 0,
             "ticks": ""
            },
            "type": "choropleth"
           }
          ],
          "contour": [
           {
            "colorbar": {
             "outlinewidth": 0,
             "ticks": ""
            },
            "colorscale": [
             [
              0,
              "#0d0887"
             ],
             [
              0.1111111111111111,
              "#46039f"
             ],
             [
              0.2222222222222222,
              "#7201a8"
             ],
             [
              0.3333333333333333,
              "#9c179e"
             ],
             [
              0.4444444444444444,
              "#bd3786"
             ],
             [
              0.5555555555555556,
              "#d8576b"
             ],
             [
              0.6666666666666666,
              "#ed7953"
             ],
             [
              0.7777777777777778,
              "#fb9f3a"
             ],
             [
              0.8888888888888888,
              "#fdca26"
             ],
             [
              1,
              "#f0f921"
             ]
            ],
            "type": "contour"
           }
          ],
          "contourcarpet": [
           {
            "colorbar": {
             "outlinewidth": 0,
             "ticks": ""
            },
            "type": "contourcarpet"
           }
          ],
          "heatmap": [
           {
            "colorbar": {
             "outlinewidth": 0,
             "ticks": ""
            },
            "colorscale": [
             [
              0,
              "#0d0887"
             ],
             [
              0.1111111111111111,
              "#46039f"
             ],
             [
              0.2222222222222222,
              "#7201a8"
             ],
             [
              0.3333333333333333,
              "#9c179e"
             ],
             [
              0.4444444444444444,
              "#bd3786"
             ],
             [
              0.5555555555555556,
              "#d8576b"
             ],
             [
              0.6666666666666666,
              "#ed7953"
             ],
             [
              0.7777777777777778,
              "#fb9f3a"
             ],
             [
              0.8888888888888888,
              "#fdca26"
             ],
             [
              1,
              "#f0f921"
             ]
            ],
            "type": "heatmap"
           }
          ],
          "heatmapgl": [
           {
            "colorbar": {
             "outlinewidth": 0,
             "ticks": ""
            },
            "colorscale": [
             [
              0,
              "#0d0887"
             ],
             [
              0.1111111111111111,
              "#46039f"
             ],
             [
              0.2222222222222222,
              "#7201a8"
             ],
             [
              0.3333333333333333,
              "#9c179e"
             ],
             [
              0.4444444444444444,
              "#bd3786"
             ],
             [
              0.5555555555555556,
              "#d8576b"
             ],
             [
              0.6666666666666666,
              "#ed7953"
             ],
             [
              0.7777777777777778,
              "#fb9f3a"
             ],
             [
              0.8888888888888888,
              "#fdca26"
             ],
             [
              1,
              "#f0f921"
             ]
            ],
            "type": "heatmapgl"
           }
          ],
          "histogram": [
           {
            "marker": {
             "pattern": {
              "fillmode": "overlay",
              "size": 10,
              "solidity": 0.2
             }
            },
            "type": "histogram"
           }
          ],
          "histogram2d": [
           {
            "colorbar": {
             "outlinewidth": 0,
             "ticks": ""
            },
            "colorscale": [
             [
              0,
              "#0d0887"
             ],
             [
              0.1111111111111111,
              "#46039f"
             ],
             [
              0.2222222222222222,
              "#7201a8"
             ],
             [
              0.3333333333333333,
              "#9c179e"
             ],
             [
              0.4444444444444444,
              "#bd3786"
             ],
             [
              0.5555555555555556,
              "#d8576b"
             ],
             [
              0.6666666666666666,
              "#ed7953"
             ],
             [
              0.7777777777777778,
              "#fb9f3a"
             ],
             [
              0.8888888888888888,
              "#fdca26"
             ],
             [
              1,
              "#f0f921"
             ]
            ],
            "type": "histogram2d"
           }
          ],
          "histogram2dcontour": [
           {
            "colorbar": {
             "outlinewidth": 0,
             "ticks": ""
            },
            "colorscale": [
             [
              0,
              "#0d0887"
             ],
             [
              0.1111111111111111,
              "#46039f"
             ],
             [
              0.2222222222222222,
              "#7201a8"
             ],
             [
              0.3333333333333333,
              "#9c179e"
             ],
             [
              0.4444444444444444,
              "#bd3786"
             ],
             [
              0.5555555555555556,
              "#d8576b"
             ],
             [
              0.6666666666666666,
              "#ed7953"
             ],
             [
              0.7777777777777778,
              "#fb9f3a"
             ],
             [
              0.8888888888888888,
              "#fdca26"
             ],
             [
              1,
              "#f0f921"
             ]
            ],
            "type": "histogram2dcontour"
           }
          ],
          "mesh3d": [
           {
            "colorbar": {
             "outlinewidth": 0,
             "ticks": ""
            },
            "type": "mesh3d"
           }
          ],
          "parcoords": [
           {
            "line": {
             "colorbar": {
              "outlinewidth": 0,
              "ticks": ""
             }
            },
            "type": "parcoords"
           }
          ],
          "pie": [
           {
            "automargin": true,
            "type": "pie"
           }
          ],
          "scatter": [
           {
            "fillpattern": {
             "fillmode": "overlay",
             "size": 10,
             "solidity": 0.2
            },
            "type": "scatter"
           }
          ],
          "scatter3d": [
           {
            "line": {
             "colorbar": {
              "outlinewidth": 0,
              "ticks": ""
             }
            },
            "marker": {
             "colorbar": {
              "outlinewidth": 0,
              "ticks": ""
             }
            },
            "type": "scatter3d"
           }
          ],
          "scattercarpet": [
           {
            "marker": {
             "colorbar": {
              "outlinewidth": 0,
              "ticks": ""
             }
            },
            "type": "scattercarpet"
           }
          ],
          "scattergeo": [
           {
            "marker": {
             "colorbar": {
              "outlinewidth": 0,
              "ticks": ""
             }
            },
            "type": "scattergeo"
           }
          ],
          "scattergl": [
           {
            "marker": {
             "colorbar": {
              "outlinewidth": 0,
              "ticks": ""
             }
            },
            "type": "scattergl"
           }
          ],
          "scattermapbox": [
           {
            "marker": {
             "colorbar": {
              "outlinewidth": 0,
              "ticks": ""
             }
            },
            "type": "scattermapbox"
           }
          ],
          "scatterpolar": [
           {
            "marker": {
             "colorbar": {
              "outlinewidth": 0,
              "ticks": ""
             }
            },
            "type": "scatterpolar"
           }
          ],
          "scatterpolargl": [
           {
            "marker": {
             "colorbar": {
              "outlinewidth": 0,
              "ticks": ""
             }
            },
            "type": "scatterpolargl"
           }
          ],
          "scatterternary": [
           {
            "marker": {
             "colorbar": {
              "outlinewidth": 0,
              "ticks": ""
             }
            },
            "type": "scatterternary"
           }
          ],
          "surface": [
           {
            "colorbar": {
             "outlinewidth": 0,
             "ticks": ""
            },
            "colorscale": [
             [
              0,
              "#0d0887"
             ],
             [
              0.1111111111111111,
              "#46039f"
             ],
             [
              0.2222222222222222,
              "#7201a8"
             ],
             [
              0.3333333333333333,
              "#9c179e"
             ],
             [
              0.4444444444444444,
              "#bd3786"
             ],
             [
              0.5555555555555556,
              "#d8576b"
             ],
             [
              0.6666666666666666,
              "#ed7953"
             ],
             [
              0.7777777777777778,
              "#fb9f3a"
             ],
             [
              0.8888888888888888,
              "#fdca26"
             ],
             [
              1,
              "#f0f921"
             ]
            ],
            "type": "surface"
           }
          ],
          "table": [
           {
            "cells": {
             "fill": {
              "color": "#EBF0F8"
             },
             "line": {
              "color": "white"
             }
            },
            "header": {
             "fill": {
              "color": "#C8D4E3"
             },
             "line": {
              "color": "white"
             }
            },
            "type": "table"
           }
          ]
         },
         "layout": {
          "annotationdefaults": {
           "arrowcolor": "#2a3f5f",
           "arrowhead": 0,
           "arrowwidth": 1
          },
          "autotypenumbers": "strict",
          "coloraxis": {
           "colorbar": {
            "outlinewidth": 0,
            "ticks": ""
           }
          },
          "colorscale": {
           "diverging": [
            [
             0,
             "#8e0152"
            ],
            [
             0.1,
             "#c51b7d"
            ],
            [
             0.2,
             "#de77ae"
            ],
            [
             0.3,
             "#f1b6da"
            ],
            [
             0.4,
             "#fde0ef"
            ],
            [
             0.5,
             "#f7f7f7"
            ],
            [
             0.6,
             "#e6f5d0"
            ],
            [
             0.7,
             "#b8e186"
            ],
            [
             0.8,
             "#7fbc41"
            ],
            [
             0.9,
             "#4d9221"
            ],
            [
             1,
             "#276419"
            ]
           ],
           "sequential": [
            [
             0,
             "#0d0887"
            ],
            [
             0.1111111111111111,
             "#46039f"
            ],
            [
             0.2222222222222222,
             "#7201a8"
            ],
            [
             0.3333333333333333,
             "#9c179e"
            ],
            [
             0.4444444444444444,
             "#bd3786"
            ],
            [
             0.5555555555555556,
             "#d8576b"
            ],
            [
             0.6666666666666666,
             "#ed7953"
            ],
            [
             0.7777777777777778,
             "#fb9f3a"
            ],
            [
             0.8888888888888888,
             "#fdca26"
            ],
            [
             1,
             "#f0f921"
            ]
           ],
           "sequentialminus": [
            [
             0,
             "#0d0887"
            ],
            [
             0.1111111111111111,
             "#46039f"
            ],
            [
             0.2222222222222222,
             "#7201a8"
            ],
            [
             0.3333333333333333,
             "#9c179e"
            ],
            [
             0.4444444444444444,
             "#bd3786"
            ],
            [
             0.5555555555555556,
             "#d8576b"
            ],
            [
             0.6666666666666666,
             "#ed7953"
            ],
            [
             0.7777777777777778,
             "#fb9f3a"
            ],
            [
             0.8888888888888888,
             "#fdca26"
            ],
            [
             1,
             "#f0f921"
            ]
           ]
          },
          "colorway": [
           "#636efa",
           "#EF553B",
           "#00cc96",
           "#ab63fa",
           "#FFA15A",
           "#19d3f3",
           "#FF6692",
           "#B6E880",
           "#FF97FF",
           "#FECB52"
          ],
          "font": {
           "color": "#2a3f5f"
          },
          "geo": {
           "bgcolor": "white",
           "lakecolor": "white",
           "landcolor": "#E5ECF6",
           "showlakes": true,
           "showland": true,
           "subunitcolor": "white"
          },
          "hoverlabel": {
           "align": "left"
          },
          "hovermode": "closest",
          "mapbox": {
           "style": "light"
          },
          "paper_bgcolor": "white",
          "plot_bgcolor": "#E5ECF6",
          "polar": {
           "angularaxis": {
            "gridcolor": "white",
            "linecolor": "white",
            "ticks": ""
           },
           "bgcolor": "#E5ECF6",
           "radialaxis": {
            "gridcolor": "white",
            "linecolor": "white",
            "ticks": ""
           }
          },
          "scene": {
           "xaxis": {
            "backgroundcolor": "#E5ECF6",
            "gridcolor": "white",
            "gridwidth": 2,
            "linecolor": "white",
            "showbackground": true,
            "ticks": "",
            "zerolinecolor": "white"
           },
           "yaxis": {
            "backgroundcolor": "#E5ECF6",
            "gridcolor": "white",
            "gridwidth": 2,
            "linecolor": "white",
            "showbackground": true,
            "ticks": "",
            "zerolinecolor": "white"
           },
           "zaxis": {
            "backgroundcolor": "#E5ECF6",
            "gridcolor": "white",
            "gridwidth": 2,
            "linecolor": "white",
            "showbackground": true,
            "ticks": "",
            "zerolinecolor": "white"
           }
          },
          "shapedefaults": {
           "line": {
            "color": "#2a3f5f"
           }
          },
          "ternary": {
           "aaxis": {
            "gridcolor": "white",
            "linecolor": "white",
            "ticks": ""
           },
           "baxis": {
            "gridcolor": "white",
            "linecolor": "white",
            "ticks": ""
           },
           "bgcolor": "#E5ECF6",
           "caxis": {
            "gridcolor": "white",
            "linecolor": "white",
            "ticks": ""
           }
          },
          "title": {
           "x": 0.05
          },
          "xaxis": {
           "automargin": true,
           "gridcolor": "white",
           "linecolor": "white",
           "ticks": "",
           "title": {
            "standoff": 15
           },
           "zerolinecolor": "white",
           "zerolinewidth": 2
          },
          "yaxis": {
           "automargin": true,
           "gridcolor": "white",
           "linecolor": "white",
           "ticks": "",
           "title": {
            "standoff": 15
           },
           "zerolinecolor": "white",
           "zerolinewidth": 2
          }
         }
        },
        "xaxis": {
         "anchor": "y",
         "domain": [
          0,
          1
         ],
         "title": {
          "text": "University Name"
         }
        },
        "yaxis": {
         "anchor": "x",
         "domain": [
          0,
          1
         ],
         "title": {
          "text": "Total Score"
         }
        }
       }
      }
     },
     "metadata": {},
     "output_type": "display_data"
    }
   ],
   "source": [
    "#shanghai ranking \n",
    "#answer to Q-a\n",
    "fig = px.bar(Uni_df['ARWU'].head(10), x='University Name', y='Total Score',color_discrete_sequence=px.colors.qualitative.Pastel)\n",
    "fig.show()"
   ]
  },
  {
   "cell_type": "code",
   "execution_count": 290,
   "metadata": {},
   "outputs": [
    {
     "data": {
      "application/vnd.plotly.v1+json": {
       "config": {
        "plotlyServerURL": "https://plot.ly"
       },
       "data": [
        {
         "alignmentgroup": "True",
         "hovertemplate": "University Name=%{x}<br>Total Score=%{y}<extra></extra>",
         "legendgroup": "",
         "marker": {
          "color": "rgb(102, 197, 204)",
          "pattern": {
           "shape": ""
          }
         },
         "name": "",
         "offsetgroup": "",
         "orientation": "v",
         "showlegend": false,
         "textposition": "auto",
         "type": "bar",
         "x": [
          "King Abdulaziz University",
          "King Abdullah University of Science and Technology",
          "King Saud University",
          "King Fahd University of Petroleum and Minerals",
          "King Saud bin Abdulaziz University for Health Sciences",
          "King Khalid University",
          "Taif University",
          "Imam Abdulrahman Bin Faisal University",
          "Taibah University",
          "Prince Sattam Bin Abdulaziz University",
          "Umm Al-Qura University",
          "Alfaisal University",
          "Jazan University",
          "Qassim University",
          "University of Tabuk",
          "King Faisal University"
         ],
         "xaxis": "x",
         "y": [
          77.8,
          77.2,
          76.1,
          72.8,
          68.8,
          68.1,
          67.9,
          67.7,
          67.5,
          67,
          66.9,
          66.8,
          66.6,
          66.3,
          66.1,
          66
         ],
         "yaxis": "y"
        }
       ],
       "layout": {
        "barmode": "relative",
        "legend": {
         "tracegroupgap": 0
        },
        "margin": {
         "t": 60
        },
        "template": {
         "data": {
          "bar": [
           {
            "error_x": {
             "color": "#2a3f5f"
            },
            "error_y": {
             "color": "#2a3f5f"
            },
            "marker": {
             "line": {
              "color": "#E5ECF6",
              "width": 0.5
             },
             "pattern": {
              "fillmode": "overlay",
              "size": 10,
              "solidity": 0.2
             }
            },
            "type": "bar"
           }
          ],
          "barpolar": [
           {
            "marker": {
             "line": {
              "color": "#E5ECF6",
              "width": 0.5
             },
             "pattern": {
              "fillmode": "overlay",
              "size": 10,
              "solidity": 0.2
             }
            },
            "type": "barpolar"
           }
          ],
          "carpet": [
           {
            "aaxis": {
             "endlinecolor": "#2a3f5f",
             "gridcolor": "white",
             "linecolor": "white",
             "minorgridcolor": "white",
             "startlinecolor": "#2a3f5f"
            },
            "baxis": {
             "endlinecolor": "#2a3f5f",
             "gridcolor": "white",
             "linecolor": "white",
             "minorgridcolor": "white",
             "startlinecolor": "#2a3f5f"
            },
            "type": "carpet"
           }
          ],
          "choropleth": [
           {
            "colorbar": {
             "outlinewidth": 0,
             "ticks": ""
            },
            "type": "choropleth"
           }
          ],
          "contour": [
           {
            "colorbar": {
             "outlinewidth": 0,
             "ticks": ""
            },
            "colorscale": [
             [
              0,
              "#0d0887"
             ],
             [
              0.1111111111111111,
              "#46039f"
             ],
             [
              0.2222222222222222,
              "#7201a8"
             ],
             [
              0.3333333333333333,
              "#9c179e"
             ],
             [
              0.4444444444444444,
              "#bd3786"
             ],
             [
              0.5555555555555556,
              "#d8576b"
             ],
             [
              0.6666666666666666,
              "#ed7953"
             ],
             [
              0.7777777777777778,
              "#fb9f3a"
             ],
             [
              0.8888888888888888,
              "#fdca26"
             ],
             [
              1,
              "#f0f921"
             ]
            ],
            "type": "contour"
           }
          ],
          "contourcarpet": [
           {
            "colorbar": {
             "outlinewidth": 0,
             "ticks": ""
            },
            "type": "contourcarpet"
           }
          ],
          "heatmap": [
           {
            "colorbar": {
             "outlinewidth": 0,
             "ticks": ""
            },
            "colorscale": [
             [
              0,
              "#0d0887"
             ],
             [
              0.1111111111111111,
              "#46039f"
             ],
             [
              0.2222222222222222,
              "#7201a8"
             ],
             [
              0.3333333333333333,
              "#9c179e"
             ],
             [
              0.4444444444444444,
              "#bd3786"
             ],
             [
              0.5555555555555556,
              "#d8576b"
             ],
             [
              0.6666666666666666,
              "#ed7953"
             ],
             [
              0.7777777777777778,
              "#fb9f3a"
             ],
             [
              0.8888888888888888,
              "#fdca26"
             ],
             [
              1,
              "#f0f921"
             ]
            ],
            "type": "heatmap"
           }
          ],
          "heatmapgl": [
           {
            "colorbar": {
             "outlinewidth": 0,
             "ticks": ""
            },
            "colorscale": [
             [
              0,
              "#0d0887"
             ],
             [
              0.1111111111111111,
              "#46039f"
             ],
             [
              0.2222222222222222,
              "#7201a8"
             ],
             [
              0.3333333333333333,
              "#9c179e"
             ],
             [
              0.4444444444444444,
              "#bd3786"
             ],
             [
              0.5555555555555556,
              "#d8576b"
             ],
             [
              0.6666666666666666,
              "#ed7953"
             ],
             [
              0.7777777777777778,
              "#fb9f3a"
             ],
             [
              0.8888888888888888,
              "#fdca26"
             ],
             [
              1,
              "#f0f921"
             ]
            ],
            "type": "heatmapgl"
           }
          ],
          "histogram": [
           {
            "marker": {
             "pattern": {
              "fillmode": "overlay",
              "size": 10,
              "solidity": 0.2
             }
            },
            "type": "histogram"
           }
          ],
          "histogram2d": [
           {
            "colorbar": {
             "outlinewidth": 0,
             "ticks": ""
            },
            "colorscale": [
             [
              0,
              "#0d0887"
             ],
             [
              0.1111111111111111,
              "#46039f"
             ],
             [
              0.2222222222222222,
              "#7201a8"
             ],
             [
              0.3333333333333333,
              "#9c179e"
             ],
             [
              0.4444444444444444,
              "#bd3786"
             ],
             [
              0.5555555555555556,
              "#d8576b"
             ],
             [
              0.6666666666666666,
              "#ed7953"
             ],
             [
              0.7777777777777778,
              "#fb9f3a"
             ],
             [
              0.8888888888888888,
              "#fdca26"
             ],
             [
              1,
              "#f0f921"
             ]
            ],
            "type": "histogram2d"
           }
          ],
          "histogram2dcontour": [
           {
            "colorbar": {
             "outlinewidth": 0,
             "ticks": ""
            },
            "colorscale": [
             [
              0,
              "#0d0887"
             ],
             [
              0.1111111111111111,
              "#46039f"
             ],
             [
              0.2222222222222222,
              "#7201a8"
             ],
             [
              0.3333333333333333,
              "#9c179e"
             ],
             [
              0.4444444444444444,
              "#bd3786"
             ],
             [
              0.5555555555555556,
              "#d8576b"
             ],
             [
              0.6666666666666666,
              "#ed7953"
             ],
             [
              0.7777777777777778,
              "#fb9f3a"
             ],
             [
              0.8888888888888888,
              "#fdca26"
             ],
             [
              1,
              "#f0f921"
             ]
            ],
            "type": "histogram2dcontour"
           }
          ],
          "mesh3d": [
           {
            "colorbar": {
             "outlinewidth": 0,
             "ticks": ""
            },
            "type": "mesh3d"
           }
          ],
          "parcoords": [
           {
            "line": {
             "colorbar": {
              "outlinewidth": 0,
              "ticks": ""
             }
            },
            "type": "parcoords"
           }
          ],
          "pie": [
           {
            "automargin": true,
            "type": "pie"
           }
          ],
          "scatter": [
           {
            "fillpattern": {
             "fillmode": "overlay",
             "size": 10,
             "solidity": 0.2
            },
            "type": "scatter"
           }
          ],
          "scatter3d": [
           {
            "line": {
             "colorbar": {
              "outlinewidth": 0,
              "ticks": ""
             }
            },
            "marker": {
             "colorbar": {
              "outlinewidth": 0,
              "ticks": ""
             }
            },
            "type": "scatter3d"
           }
          ],
          "scattercarpet": [
           {
            "marker": {
             "colorbar": {
              "outlinewidth": 0,
              "ticks": ""
             }
            },
            "type": "scattercarpet"
           }
          ],
          "scattergeo": [
           {
            "marker": {
             "colorbar": {
              "outlinewidth": 0,
              "ticks": ""
             }
            },
            "type": "scattergeo"
           }
          ],
          "scattergl": [
           {
            "marker": {
             "colorbar": {
              "outlinewidth": 0,
              "ticks": ""
             }
            },
            "type": "scattergl"
           }
          ],
          "scattermapbox": [
           {
            "marker": {
             "colorbar": {
              "outlinewidth": 0,
              "ticks": ""
             }
            },
            "type": "scattermapbox"
           }
          ],
          "scatterpolar": [
           {
            "marker": {
             "colorbar": {
              "outlinewidth": 0,
              "ticks": ""
             }
            },
            "type": "scatterpolar"
           }
          ],
          "scatterpolargl": [
           {
            "marker": {
             "colorbar": {
              "outlinewidth": 0,
              "ticks": ""
             }
            },
            "type": "scatterpolargl"
           }
          ],
          "scatterternary": [
           {
            "marker": {
             "colorbar": {
              "outlinewidth": 0,
              "ticks": ""
             }
            },
            "type": "scatterternary"
           }
          ],
          "surface": [
           {
            "colorbar": {
             "outlinewidth": 0,
             "ticks": ""
            },
            "colorscale": [
             [
              0,
              "#0d0887"
             ],
             [
              0.1111111111111111,
              "#46039f"
             ],
             [
              0.2222222222222222,
              "#7201a8"
             ],
             [
              0.3333333333333333,
              "#9c179e"
             ],
             [
              0.4444444444444444,
              "#bd3786"
             ],
             [
              0.5555555555555556,
              "#d8576b"
             ],
             [
              0.6666666666666666,
              "#ed7953"
             ],
             [
              0.7777777777777778,
              "#fb9f3a"
             ],
             [
              0.8888888888888888,
              "#fdca26"
             ],
             [
              1,
              "#f0f921"
             ]
            ],
            "type": "surface"
           }
          ],
          "table": [
           {
            "cells": {
             "fill": {
              "color": "#EBF0F8"
             },
             "line": {
              "color": "white"
             }
            },
            "header": {
             "fill": {
              "color": "#C8D4E3"
             },
             "line": {
              "color": "white"
             }
            },
            "type": "table"
           }
          ]
         },
         "layout": {
          "annotationdefaults": {
           "arrowcolor": "#2a3f5f",
           "arrowhead": 0,
           "arrowwidth": 1
          },
          "autotypenumbers": "strict",
          "coloraxis": {
           "colorbar": {
            "outlinewidth": 0,
            "ticks": ""
           }
          },
          "colorscale": {
           "diverging": [
            [
             0,
             "#8e0152"
            ],
            [
             0.1,
             "#c51b7d"
            ],
            [
             0.2,
             "#de77ae"
            ],
            [
             0.3,
             "#f1b6da"
            ],
            [
             0.4,
             "#fde0ef"
            ],
            [
             0.5,
             "#f7f7f7"
            ],
            [
             0.6,
             "#e6f5d0"
            ],
            [
             0.7,
             "#b8e186"
            ],
            [
             0.8,
             "#7fbc41"
            ],
            [
             0.9,
             "#4d9221"
            ],
            [
             1,
             "#276419"
            ]
           ],
           "sequential": [
            [
             0,
             "#0d0887"
            ],
            [
             0.1111111111111111,
             "#46039f"
            ],
            [
             0.2222222222222222,
             "#7201a8"
            ],
            [
             0.3333333333333333,
             "#9c179e"
            ],
            [
             0.4444444444444444,
             "#bd3786"
            ],
            [
             0.5555555555555556,
             "#d8576b"
            ],
            [
             0.6666666666666666,
             "#ed7953"
            ],
            [
             0.7777777777777778,
             "#fb9f3a"
            ],
            [
             0.8888888888888888,
             "#fdca26"
            ],
            [
             1,
             "#f0f921"
            ]
           ],
           "sequentialminus": [
            [
             0,
             "#0d0887"
            ],
            [
             0.1111111111111111,
             "#46039f"
            ],
            [
             0.2222222222222222,
             "#7201a8"
            ],
            [
             0.3333333333333333,
             "#9c179e"
            ],
            [
             0.4444444444444444,
             "#bd3786"
            ],
            [
             0.5555555555555556,
             "#d8576b"
            ],
            [
             0.6666666666666666,
             "#ed7953"
            ],
            [
             0.7777777777777778,
             "#fb9f3a"
            ],
            [
             0.8888888888888888,
             "#fdca26"
            ],
            [
             1,
             "#f0f921"
            ]
           ]
          },
          "colorway": [
           "#636efa",
           "#EF553B",
           "#00cc96",
           "#ab63fa",
           "#FFA15A",
           "#19d3f3",
           "#FF6692",
           "#B6E880",
           "#FF97FF",
           "#FECB52"
          ],
          "font": {
           "color": "#2a3f5f"
          },
          "geo": {
           "bgcolor": "white",
           "lakecolor": "white",
           "landcolor": "#E5ECF6",
           "showlakes": true,
           "showland": true,
           "subunitcolor": "white"
          },
          "hoverlabel": {
           "align": "left"
          },
          "hovermode": "closest",
          "mapbox": {
           "style": "light"
          },
          "paper_bgcolor": "white",
          "plot_bgcolor": "#E5ECF6",
          "polar": {
           "angularaxis": {
            "gridcolor": "white",
            "linecolor": "white",
            "ticks": ""
           },
           "bgcolor": "#E5ECF6",
           "radialaxis": {
            "gridcolor": "white",
            "linecolor": "white",
            "ticks": ""
           }
          },
          "scene": {
           "xaxis": {
            "backgroundcolor": "#E5ECF6",
            "gridcolor": "white",
            "gridwidth": 2,
            "linecolor": "white",
            "showbackground": true,
            "ticks": "",
            "zerolinecolor": "white"
           },
           "yaxis": {
            "backgroundcolor": "#E5ECF6",
            "gridcolor": "white",
            "gridwidth": 2,
            "linecolor": "white",
            "showbackground": true,
            "ticks": "",
            "zerolinecolor": "white"
           },
           "zaxis": {
            "backgroundcolor": "#E5ECF6",
            "gridcolor": "white",
            "gridwidth": 2,
            "linecolor": "white",
            "showbackground": true,
            "ticks": "",
            "zerolinecolor": "white"
           }
          },
          "shapedefaults": {
           "line": {
            "color": "#2a3f5f"
           }
          },
          "ternary": {
           "aaxis": {
            "gridcolor": "white",
            "linecolor": "white",
            "ticks": ""
           },
           "baxis": {
            "gridcolor": "white",
            "linecolor": "white",
            "ticks": ""
           },
           "bgcolor": "#E5ECF6",
           "caxis": {
            "gridcolor": "white",
            "linecolor": "white",
            "ticks": ""
           }
          },
          "title": {
           "x": 0.05
          },
          "xaxis": {
           "automargin": true,
           "gridcolor": "white",
           "linecolor": "white",
           "ticks": "",
           "title": {
            "standoff": 15
           },
           "zerolinecolor": "white",
           "zerolinewidth": 2
          },
          "yaxis": {
           "automargin": true,
           "gridcolor": "white",
           "linecolor": "white",
           "ticks": "",
           "title": {
            "standoff": 15
           },
           "zerolinecolor": "white",
           "zerolinewidth": 2
          }
         }
        },
        "xaxis": {
         "anchor": "y",
         "domain": [
          0,
          1
         ],
         "title": {
          "text": "University Name"
         }
        },
        "yaxis": {
         "anchor": "x",
         "domain": [
          0,
          1
         ],
         "title": {
          "text": "Total Score"
         }
        }
       }
      }
     },
     "metadata": {},
     "output_type": "display_data"
    }
   ],
   "source": [
    "#answer Q-c\n",
    "X=Uni_df['CWUR'][Uni_df['CWUR']['Location'] == 'Saudi Arabia']\n",
    "fig = px.bar(X, x='University Name', y='Total Score',color_discrete_sequence=px.colors.qualitative.Pastel)\n",
    "fig.show()"
   ]
  },
  {
   "cell_type": "code",
   "execution_count": null,
   "metadata": {},
   "outputs": [],
   "source": []
  },
  {
   "cell_type": "code",
   "execution_count": 346,
   "metadata": {},
   "outputs": [
    {
     "data": {
      "application/vnd.plotly.v1+json": {
       "config": {
        "plotlyServerURL": "https://plot.ly"
       },
       "data": [
        {
         "type": "bar",
         "x": [
          "Harvard University",
          "Massachusetts Institute of Technology",
          "Stanford University",
          "University of Cambridge",
          "University of Oxford",
          "Princeton University",
          "University of Chicago",
          "Columbia University",
          "University of Pennsylvania",
          "Yale University",
          "California Institute of Technology",
          "University of California, Berkeley",
          "University of Tokyo",
          "Cornell University",
          "Northwestern University"
         ],
         "y": [
          1,
          12,
          4,
          25,
          27,
          16,
          15,
          14,
          8,
          35,
          96,
          59,
          6,
          29,
          17
         ]
        }
       ],
       "layout": {
        "template": {
         "data": {
          "bar": [
           {
            "error_x": {
             "color": "#2a3f5f"
            },
            "error_y": {
             "color": "#2a3f5f"
            },
            "marker": {
             "line": {
              "color": "#E5ECF6",
              "width": 0.5
             },
             "pattern": {
              "fillmode": "overlay",
              "size": 10,
              "solidity": 0.2
             }
            },
            "type": "bar"
           }
          ],
          "barpolar": [
           {
            "marker": {
             "line": {
              "color": "#E5ECF6",
              "width": 0.5
             },
             "pattern": {
              "fillmode": "overlay",
              "size": 10,
              "solidity": 0.2
             }
            },
            "type": "barpolar"
           }
          ],
          "carpet": [
           {
            "aaxis": {
             "endlinecolor": "#2a3f5f",
             "gridcolor": "white",
             "linecolor": "white",
             "minorgridcolor": "white",
             "startlinecolor": "#2a3f5f"
            },
            "baxis": {
             "endlinecolor": "#2a3f5f",
             "gridcolor": "white",
             "linecolor": "white",
             "minorgridcolor": "white",
             "startlinecolor": "#2a3f5f"
            },
            "type": "carpet"
           }
          ],
          "choropleth": [
           {
            "colorbar": {
             "outlinewidth": 0,
             "ticks": ""
            },
            "type": "choropleth"
           }
          ],
          "contour": [
           {
            "colorbar": {
             "outlinewidth": 0,
             "ticks": ""
            },
            "colorscale": [
             [
              0,
              "#0d0887"
             ],
             [
              0.1111111111111111,
              "#46039f"
             ],
             [
              0.2222222222222222,
              "#7201a8"
             ],
             [
              0.3333333333333333,
              "#9c179e"
             ],
             [
              0.4444444444444444,
              "#bd3786"
             ],
             [
              0.5555555555555556,
              "#d8576b"
             ],
             [
              0.6666666666666666,
              "#ed7953"
             ],
             [
              0.7777777777777778,
              "#fb9f3a"
             ],
             [
              0.8888888888888888,
              "#fdca26"
             ],
             [
              1,
              "#f0f921"
             ]
            ],
            "type": "contour"
           }
          ],
          "contourcarpet": [
           {
            "colorbar": {
             "outlinewidth": 0,
             "ticks": ""
            },
            "type": "contourcarpet"
           }
          ],
          "heatmap": [
           {
            "colorbar": {
             "outlinewidth": 0,
             "ticks": ""
            },
            "colorscale": [
             [
              0,
              "#0d0887"
             ],
             [
              0.1111111111111111,
              "#46039f"
             ],
             [
              0.2222222222222222,
              "#7201a8"
             ],
             [
              0.3333333333333333,
              "#9c179e"
             ],
             [
              0.4444444444444444,
              "#bd3786"
             ],
             [
              0.5555555555555556,
              "#d8576b"
             ],
             [
              0.6666666666666666,
              "#ed7953"
             ],
             [
              0.7777777777777778,
              "#fb9f3a"
             ],
             [
              0.8888888888888888,
              "#fdca26"
             ],
             [
              1,
              "#f0f921"
             ]
            ],
            "type": "heatmap"
           }
          ],
          "heatmapgl": [
           {
            "colorbar": {
             "outlinewidth": 0,
             "ticks": ""
            },
            "colorscale": [
             [
              0,
              "#0d0887"
             ],
             [
              0.1111111111111111,
              "#46039f"
             ],
             [
              0.2222222222222222,
              "#7201a8"
             ],
             [
              0.3333333333333333,
              "#9c179e"
             ],
             [
              0.4444444444444444,
              "#bd3786"
             ],
             [
              0.5555555555555556,
              "#d8576b"
             ],
             [
              0.6666666666666666,
              "#ed7953"
             ],
             [
              0.7777777777777778,
              "#fb9f3a"
             ],
             [
              0.8888888888888888,
              "#fdca26"
             ],
             [
              1,
              "#f0f921"
             ]
            ],
            "type": "heatmapgl"
           }
          ],
          "histogram": [
           {
            "marker": {
             "pattern": {
              "fillmode": "overlay",
              "size": 10,
              "solidity": 0.2
             }
            },
            "type": "histogram"
           }
          ],
          "histogram2d": [
           {
            "colorbar": {
             "outlinewidth": 0,
             "ticks": ""
            },
            "colorscale": [
             [
              0,
              "#0d0887"
             ],
             [
              0.1111111111111111,
              "#46039f"
             ],
             [
              0.2222222222222222,
              "#7201a8"
             ],
             [
              0.3333333333333333,
              "#9c179e"
             ],
             [
              0.4444444444444444,
              "#bd3786"
             ],
             [
              0.5555555555555556,
              "#d8576b"
             ],
             [
              0.6666666666666666,
              "#ed7953"
             ],
             [
              0.7777777777777778,
              "#fb9f3a"
             ],
             [
              0.8888888888888888,
              "#fdca26"
             ],
             [
              1,
              "#f0f921"
             ]
            ],
            "type": "histogram2d"
           }
          ],
          "histogram2dcontour": [
           {
            "colorbar": {
             "outlinewidth": 0,
             "ticks": ""
            },
            "colorscale": [
             [
              0,
              "#0d0887"
             ],
             [
              0.1111111111111111,
              "#46039f"
             ],
             [
              0.2222222222222222,
              "#7201a8"
             ],
             [
              0.3333333333333333,
              "#9c179e"
             ],
             [
              0.4444444444444444,
              "#bd3786"
             ],
             [
              0.5555555555555556,
              "#d8576b"
             ],
             [
              0.6666666666666666,
              "#ed7953"
             ],
             [
              0.7777777777777778,
              "#fb9f3a"
             ],
             [
              0.8888888888888888,
              "#fdca26"
             ],
             [
              1,
              "#f0f921"
             ]
            ],
            "type": "histogram2dcontour"
           }
          ],
          "mesh3d": [
           {
            "colorbar": {
             "outlinewidth": 0,
             "ticks": ""
            },
            "type": "mesh3d"
           }
          ],
          "parcoords": [
           {
            "line": {
             "colorbar": {
              "outlinewidth": 0,
              "ticks": ""
             }
            },
            "type": "parcoords"
           }
          ],
          "pie": [
           {
            "automargin": true,
            "type": "pie"
           }
          ],
          "scatter": [
           {
            "fillpattern": {
             "fillmode": "overlay",
             "size": 10,
             "solidity": 0.2
            },
            "type": "scatter"
           }
          ],
          "scatter3d": [
           {
            "line": {
             "colorbar": {
              "outlinewidth": 0,
              "ticks": ""
             }
            },
            "marker": {
             "colorbar": {
              "outlinewidth": 0,
              "ticks": ""
             }
            },
            "type": "scatter3d"
           }
          ],
          "scattercarpet": [
           {
            "marker": {
             "colorbar": {
              "outlinewidth": 0,
              "ticks": ""
             }
            },
            "type": "scattercarpet"
           }
          ],
          "scattergeo": [
           {
            "marker": {
             "colorbar": {
              "outlinewidth": 0,
              "ticks": ""
             }
            },
            "type": "scattergeo"
           }
          ],
          "scattergl": [
           {
            "marker": {
             "colorbar": {
              "outlinewidth": 0,
              "ticks": ""
             }
            },
            "type": "scattergl"
           }
          ],
          "scattermapbox": [
           {
            "marker": {
             "colorbar": {
              "outlinewidth": 0,
              "ticks": ""
             }
            },
            "type": "scattermapbox"
           }
          ],
          "scatterpolar": [
           {
            "marker": {
             "colorbar": {
              "outlinewidth": 0,
              "ticks": ""
             }
            },
            "type": "scatterpolar"
           }
          ],
          "scatterpolargl": [
           {
            "marker": {
             "colorbar": {
              "outlinewidth": 0,
              "ticks": ""
             }
            },
            "type": "scatterpolargl"
           }
          ],
          "scatterternary": [
           {
            "marker": {
             "colorbar": {
              "outlinewidth": 0,
              "ticks": ""
             }
            },
            "type": "scatterternary"
           }
          ],
          "surface": [
           {
            "colorbar": {
             "outlinewidth": 0,
             "ticks": ""
            },
            "colorscale": [
             [
              0,
              "#0d0887"
             ],
             [
              0.1111111111111111,
              "#46039f"
             ],
             [
              0.2222222222222222,
              "#7201a8"
             ],
             [
              0.3333333333333333,
              "#9c179e"
             ],
             [
              0.4444444444444444,
              "#bd3786"
             ],
             [
              0.5555555555555556,
              "#d8576b"
             ],
             [
              0.6666666666666666,
              "#ed7953"
             ],
             [
              0.7777777777777778,
              "#fb9f3a"
             ],
             [
              0.8888888888888888,
              "#fdca26"
             ],
             [
              1,
              "#f0f921"
             ]
            ],
            "type": "surface"
           }
          ],
          "table": [
           {
            "cells": {
             "fill": {
              "color": "#EBF0F8"
             },
             "line": {
              "color": "white"
             }
            },
            "header": {
             "fill": {
              "color": "#C8D4E3"
             },
             "line": {
              "color": "white"
             }
            },
            "type": "table"
           }
          ]
         },
         "layout": {
          "annotationdefaults": {
           "arrowcolor": "#2a3f5f",
           "arrowhead": 0,
           "arrowwidth": 1
          },
          "autotypenumbers": "strict",
          "coloraxis": {
           "colorbar": {
            "outlinewidth": 0,
            "ticks": ""
           }
          },
          "colorscale": {
           "diverging": [
            [
             0,
             "#8e0152"
            ],
            [
             0.1,
             "#c51b7d"
            ],
            [
             0.2,
             "#de77ae"
            ],
            [
             0.3,
             "#f1b6da"
            ],
            [
             0.4,
             "#fde0ef"
            ],
            [
             0.5,
             "#f7f7f7"
            ],
            [
             0.6,
             "#e6f5d0"
            ],
            [
             0.7,
             "#b8e186"
            ],
            [
             0.8,
             "#7fbc41"
            ],
            [
             0.9,
             "#4d9221"
            ],
            [
             1,
             "#276419"
            ]
           ],
           "sequential": [
            [
             0,
             "#0d0887"
            ],
            [
             0.1111111111111111,
             "#46039f"
            ],
            [
             0.2222222222222222,
             "#7201a8"
            ],
            [
             0.3333333333333333,
             "#9c179e"
            ],
            [
             0.4444444444444444,
             "#bd3786"
            ],
            [
             0.5555555555555556,
             "#d8576b"
            ],
            [
             0.6666666666666666,
             "#ed7953"
            ],
            [
             0.7777777777777778,
             "#fb9f3a"
            ],
            [
             0.8888888888888888,
             "#fdca26"
            ],
            [
             1,
             "#f0f921"
            ]
           ],
           "sequentialminus": [
            [
             0,
             "#0d0887"
            ],
            [
             0.1111111111111111,
             "#46039f"
            ],
            [
             0.2222222222222222,
             "#7201a8"
            ],
            [
             0.3333333333333333,
             "#9c179e"
            ],
            [
             0.4444444444444444,
             "#bd3786"
            ],
            [
             0.5555555555555556,
             "#d8576b"
            ],
            [
             0.6666666666666666,
             "#ed7953"
            ],
            [
             0.7777777777777778,
             "#fb9f3a"
            ],
            [
             0.8888888888888888,
             "#fdca26"
            ],
            [
             1,
             "#f0f921"
            ]
           ]
          },
          "colorway": [
           "#636efa",
           "#EF553B",
           "#00cc96",
           "#ab63fa",
           "#FFA15A",
           "#19d3f3",
           "#FF6692",
           "#B6E880",
           "#FF97FF",
           "#FECB52"
          ],
          "font": {
           "color": "#2a3f5f"
          },
          "geo": {
           "bgcolor": "white",
           "lakecolor": "white",
           "landcolor": "#E5ECF6",
           "showlakes": true,
           "showland": true,
           "subunitcolor": "white"
          },
          "hoverlabel": {
           "align": "left"
          },
          "hovermode": "closest",
          "mapbox": {
           "style": "light"
          },
          "paper_bgcolor": "white",
          "plot_bgcolor": "#E5ECF6",
          "polar": {
           "angularaxis": {
            "gridcolor": "white",
            "linecolor": "white",
            "ticks": ""
           },
           "bgcolor": "#E5ECF6",
           "radialaxis": {
            "gridcolor": "white",
            "linecolor": "white",
            "ticks": ""
           }
          },
          "scene": {
           "xaxis": {
            "backgroundcolor": "#E5ECF6",
            "gridcolor": "white",
            "gridwidth": 2,
            "linecolor": "white",
            "showbackground": true,
            "ticks": "",
            "zerolinecolor": "white"
           },
           "yaxis": {
            "backgroundcolor": "#E5ECF6",
            "gridcolor": "white",
            "gridwidth": 2,
            "linecolor": "white",
            "showbackground": true,
            "ticks": "",
            "zerolinecolor": "white"
           },
           "zaxis": {
            "backgroundcolor": "#E5ECF6",
            "gridcolor": "white",
            "gridwidth": 2,
            "linecolor": "white",
            "showbackground": true,
            "ticks": "",
            "zerolinecolor": "white"
           }
          },
          "shapedefaults": {
           "line": {
            "color": "#2a3f5f"
           }
          },
          "ternary": {
           "aaxis": {
            "gridcolor": "white",
            "linecolor": "white",
            "ticks": ""
           },
           "baxis": {
            "gridcolor": "white",
            "linecolor": "white",
            "ticks": ""
           },
           "bgcolor": "#E5ECF6",
           "caxis": {
            "gridcolor": "white",
            "linecolor": "white",
            "ticks": ""
           }
          },
          "title": {
           "x": 0.05
          },
          "xaxis": {
           "automargin": true,
           "gridcolor": "white",
           "linecolor": "white",
           "ticks": "",
           "title": {
            "standoff": 15
           },
           "zerolinecolor": "white",
           "zerolinewidth": 2
          },
          "yaxis": {
           "automargin": true,
           "gridcolor": "white",
           "linecolor": "white",
           "ticks": "",
           "title": {
            "standoff": 15
           },
           "zerolinecolor": "white",
           "zerolinewidth": 2
          }
         }
        },
        "title": {
         "text": "Top Universities"
        },
        "xaxis": {
         "title": {
          "text": "University"
         }
        },
        "yaxis": {
         "autorange": "reversed",
         "title": {
          "text": "Rank"
         }
        }
       }
      }
     },
     "metadata": {},
     "output_type": "display_data"
    }
   ],
   "source": [
    "#not good for now \n",
    "bar_chart = go.Bar(\n",
    "    x=DF['University Name'],\n",
    "    y=DF['Employability Rank'],\n",
    "    #marker=dict(color='rgb(158,202,225)', line=dict(color='rgb(8,48,107)', width=1.5)),\n",
    "    #opacity=0.6\n",
    "    \n",
    ")\n",
    "\n",
    "layout = go.Layout(\n",
    "    title='Top Universities',\n",
    "    xaxis=dict(title='University'),\n",
    "    yaxis=dict(title='Rank')\n",
    ")\n",
    "\n",
    "fig = go.Figure(data=[bar_chart], layout=layout)\n",
    "fig.update_yaxes(autorange = r)\n",
    "fig.show()\n"
   ]
  },
  {
   "cell_type": "code",
   "execution_count": null,
   "metadata": {},
   "outputs": [],
   "source": []
  },
  {
   "cell_type": "code",
   "execution_count": null,
   "metadata": {},
   "outputs": [],
   "source": []
  },
  {
   "cell_type": "code",
   "execution_count": null,
   "metadata": {},
   "outputs": [
    {
     "data": {
      "application/vnd.plotly.v1+json": {
       "config": {
        "plotlyServerURL": "https://plot.ly"
       },
       "data": [
        {
         "name": "Educational Rank",
         "type": "bar",
         "x": [
          "Harvard University",
          "Massachusetts Institute of Technology",
          "Stanford University",
          "University of Cambridge",
          "University of Oxford",
          "Princeton University",
          "University of Chicago",
          "Columbia University",
          "University of Pennsylvania",
          "Yale University"
         ],
         "y": [
          1,
          4,
          11,
          3,
          7,
          5,
          8,
          12,
          14,
          6
         ]
        },
        {
         "name": "Employability Rank",
         "type": "bar",
         "x": [
          "Harvard University",
          "Massachusetts Institute of Technology",
          "Stanford University",
          "University of Cambridge",
          "University of Oxford",
          "Princeton University",
          "University of Chicago",
          "Columbia University",
          "University of Pennsylvania",
          "Yale University"
         ],
         "y": [
          1,
          12,
          4,
          25,
          27,
          16,
          15,
          14,
          8,
          35
         ]
        },
        {
         "name": "Faculty Rank",
         "type": "bar",
         "x": [
          "Harvard University",
          "Massachusetts Institute of Technology",
          "Stanford University",
          "University of Cambridge",
          "University of Oxford",
          "Princeton University",
          "University of Chicago",
          "Columbia University",
          "University of Pennsylvania",
          "Yale University"
         ],
         "y": [
          1,
          3,
          2,
          5,
          9,
          6,
          22,
          10,
          45,
          13
         ]
        },
        {
         "name": "Research Rank",
         "type": "bar",
         "x": [
          "Harvard University",
          "Massachusetts Institute of Technology",
          "Stanford University",
          "University of Cambridge",
          "University of Oxford",
          "Princeton University",
          "University of Chicago",
          "Columbia University",
          "University of Pennsylvania",
          "Yale University"
         ],
         "y": [
          1,
          9,
          2,
          11,
          4,
          82,
          28,
          13,
          12,
          21
         ]
        },
        {
         "name": "Rank",
         "type": "bar",
         "x": [
          "Harvard University",
          "Massachusetts Institute of Technology",
          "Stanford University",
          "University of Cambridge",
          "University of Oxford",
          "Princeton University",
          "University of Chicago",
          "Columbia University",
          "University of Pennsylvania",
          "Yale University"
         ],
         "y": [
          10,
          9,
          8,
          7,
          6,
          5,
          4,
          3,
          2,
          1
         ]
        }
       ],
       "layout": {
        "barmode": "group",
        "legend": {
         "orientation": "h",
         "title": {
          "text": "Factors"
         },
         "x": 1,
         "xanchor": "right",
         "y": 1.02,
         "yanchor": "bottom"
        },
        "template": {
         "data": {
          "bar": [
           {
            "error_x": {
             "color": "#2a3f5f"
            },
            "error_y": {
             "color": "#2a3f5f"
            },
            "marker": {
             "line": {
              "color": "#E5ECF6",
              "width": 0.5
             },
             "pattern": {
              "fillmode": "overlay",
              "size": 10,
              "solidity": 0.2
             }
            },
            "type": "bar"
           }
          ],
          "barpolar": [
           {
            "marker": {
             "line": {
              "color": "#E5ECF6",
              "width": 0.5
             },
             "pattern": {
              "fillmode": "overlay",
              "size": 10,
              "solidity": 0.2
             }
            },
            "type": "barpolar"
           }
          ],
          "carpet": [
           {
            "aaxis": {
             "endlinecolor": "#2a3f5f",
             "gridcolor": "white",
             "linecolor": "white",
             "minorgridcolor": "white",
             "startlinecolor": "#2a3f5f"
            },
            "baxis": {
             "endlinecolor": "#2a3f5f",
             "gridcolor": "white",
             "linecolor": "white",
             "minorgridcolor": "white",
             "startlinecolor": "#2a3f5f"
            },
            "type": "carpet"
           }
          ],
          "choropleth": [
           {
            "colorbar": {
             "outlinewidth": 0,
             "ticks": ""
            },
            "type": "choropleth"
           }
          ],
          "contour": [
           {
            "colorbar": {
             "outlinewidth": 0,
             "ticks": ""
            },
            "colorscale": [
             [
              0,
              "#0d0887"
             ],
             [
              0.1111111111111111,
              "#46039f"
             ],
             [
              0.2222222222222222,
              "#7201a8"
             ],
             [
              0.3333333333333333,
              "#9c179e"
             ],
             [
              0.4444444444444444,
              "#bd3786"
             ],
             [
              0.5555555555555556,
              "#d8576b"
             ],
             [
              0.6666666666666666,
              "#ed7953"
             ],
             [
              0.7777777777777778,
              "#fb9f3a"
             ],
             [
              0.8888888888888888,
              "#fdca26"
             ],
             [
              1,
              "#f0f921"
             ]
            ],
            "type": "contour"
           }
          ],
          "contourcarpet": [
           {
            "colorbar": {
             "outlinewidth": 0,
             "ticks": ""
            },
            "type": "contourcarpet"
           }
          ],
          "heatmap": [
           {
            "colorbar": {
             "outlinewidth": 0,
             "ticks": ""
            },
            "colorscale": [
             [
              0,
              "#0d0887"
             ],
             [
              0.1111111111111111,
              "#46039f"
             ],
             [
              0.2222222222222222,
              "#7201a8"
             ],
             [
              0.3333333333333333,
              "#9c179e"
             ],
             [
              0.4444444444444444,
              "#bd3786"
             ],
             [
              0.5555555555555556,
              "#d8576b"
             ],
             [
              0.6666666666666666,
              "#ed7953"
             ],
             [
              0.7777777777777778,
              "#fb9f3a"
             ],
             [
              0.8888888888888888,
              "#fdca26"
             ],
             [
              1,
              "#f0f921"
             ]
            ],
            "type": "heatmap"
           }
          ],
          "heatmapgl": [
           {
            "colorbar": {
             "outlinewidth": 0,
             "ticks": ""
            },
            "colorscale": [
             [
              0,
              "#0d0887"
             ],
             [
              0.1111111111111111,
              "#46039f"
             ],
             [
              0.2222222222222222,
              "#7201a8"
             ],
             [
              0.3333333333333333,
              "#9c179e"
             ],
             [
              0.4444444444444444,
              "#bd3786"
             ],
             [
              0.5555555555555556,
              "#d8576b"
             ],
             [
              0.6666666666666666,
              "#ed7953"
             ],
             [
              0.7777777777777778,
              "#fb9f3a"
             ],
             [
              0.8888888888888888,
              "#fdca26"
             ],
             [
              1,
              "#f0f921"
             ]
            ],
            "type": "heatmapgl"
           }
          ],
          "histogram": [
           {
            "marker": {
             "pattern": {
              "fillmode": "overlay",
              "size": 10,
              "solidity": 0.2
             }
            },
            "type": "histogram"
           }
          ],
          "histogram2d": [
           {
            "colorbar": {
             "outlinewidth": 0,
             "ticks": ""
            },
            "colorscale": [
             [
              0,
              "#0d0887"
             ],
             [
              0.1111111111111111,
              "#46039f"
             ],
             [
              0.2222222222222222,
              "#7201a8"
             ],
             [
              0.3333333333333333,
              "#9c179e"
             ],
             [
              0.4444444444444444,
              "#bd3786"
             ],
             [
              0.5555555555555556,
              "#d8576b"
             ],
             [
              0.6666666666666666,
              "#ed7953"
             ],
             [
              0.7777777777777778,
              "#fb9f3a"
             ],
             [
              0.8888888888888888,
              "#fdca26"
             ],
             [
              1,
              "#f0f921"
             ]
            ],
            "type": "histogram2d"
           }
          ],
          "histogram2dcontour": [
           {
            "colorbar": {
             "outlinewidth": 0,
             "ticks": ""
            },
            "colorscale": [
             [
              0,
              "#0d0887"
             ],
             [
              0.1111111111111111,
              "#46039f"
             ],
             [
              0.2222222222222222,
              "#7201a8"
             ],
             [
              0.3333333333333333,
              "#9c179e"
             ],
             [
              0.4444444444444444,
              "#bd3786"
             ],
             [
              0.5555555555555556,
              "#d8576b"
             ],
             [
              0.6666666666666666,
              "#ed7953"
             ],
             [
              0.7777777777777778,
              "#fb9f3a"
             ],
             [
              0.8888888888888888,
              "#fdca26"
             ],
             [
              1,
              "#f0f921"
             ]
            ],
            "type": "histogram2dcontour"
           }
          ],
          "mesh3d": [
           {
            "colorbar": {
             "outlinewidth": 0,
             "ticks": ""
            },
            "type": "mesh3d"
           }
          ],
          "parcoords": [
           {
            "line": {
             "colorbar": {
              "outlinewidth": 0,
              "ticks": ""
             }
            },
            "type": "parcoords"
           }
          ],
          "pie": [
           {
            "automargin": true,
            "type": "pie"
           }
          ],
          "scatter": [
           {
            "fillpattern": {
             "fillmode": "overlay",
             "size": 10,
             "solidity": 0.2
            },
            "type": "scatter"
           }
          ],
          "scatter3d": [
           {
            "line": {
             "colorbar": {
              "outlinewidth": 0,
              "ticks": ""
             }
            },
            "marker": {
             "colorbar": {
              "outlinewidth": 0,
              "ticks": ""
             }
            },
            "type": "scatter3d"
           }
          ],
          "scattercarpet": [
           {
            "marker": {
             "colorbar": {
              "outlinewidth": 0,
              "ticks": ""
             }
            },
            "type": "scattercarpet"
           }
          ],
          "scattergeo": [
           {
            "marker": {
             "colorbar": {
              "outlinewidth": 0,
              "ticks": ""
             }
            },
            "type": "scattergeo"
           }
          ],
          "scattergl": [
           {
            "marker": {
             "colorbar": {
              "outlinewidth": 0,
              "ticks": ""
             }
            },
            "type": "scattergl"
           }
          ],
          "scattermapbox": [
           {
            "marker": {
             "colorbar": {
              "outlinewidth": 0,
              "ticks": ""
             }
            },
            "type": "scattermapbox"
           }
          ],
          "scatterpolar": [
           {
            "marker": {
             "colorbar": {
              "outlinewidth": 0,
              "ticks": ""
             }
            },
            "type": "scatterpolar"
           }
          ],
          "scatterpolargl": [
           {
            "marker": {
             "colorbar": {
              "outlinewidth": 0,
              "ticks": ""
             }
            },
            "type": "scatterpolargl"
           }
          ],
          "scatterternary": [
           {
            "marker": {
             "colorbar": {
              "outlinewidth": 0,
              "ticks": ""
             }
            },
            "type": "scatterternary"
           }
          ],
          "surface": [
           {
            "colorbar": {
             "outlinewidth": 0,
             "ticks": ""
            },
            "colorscale": [
             [
              0,
              "#0d0887"
             ],
             [
              0.1111111111111111,
              "#46039f"
             ],
             [
              0.2222222222222222,
              "#7201a8"
             ],
             [
              0.3333333333333333,
              "#9c179e"
             ],
             [
              0.4444444444444444,
              "#bd3786"
             ],
             [
              0.5555555555555556,
              "#d8576b"
             ],
             [
              0.6666666666666666,
              "#ed7953"
             ],
             [
              0.7777777777777778,
              "#fb9f3a"
             ],
             [
              0.8888888888888888,
              "#fdca26"
             ],
             [
              1,
              "#f0f921"
             ]
            ],
            "type": "surface"
           }
          ],
          "table": [
           {
            "cells": {
             "fill": {
              "color": "#EBF0F8"
             },
             "line": {
              "color": "white"
             }
            },
            "header": {
             "fill": {
              "color": "#C8D4E3"
             },
             "line": {
              "color": "white"
             }
            },
            "type": "table"
           }
          ]
         },
         "layout": {
          "annotationdefaults": {
           "arrowcolor": "#2a3f5f",
           "arrowhead": 0,
           "arrowwidth": 1
          },
          "autotypenumbers": "strict",
          "coloraxis": {
           "colorbar": {
            "outlinewidth": 0,
            "ticks": ""
           }
          },
          "colorscale": {
           "diverging": [
            [
             0,
             "#8e0152"
            ],
            [
             0.1,
             "#c51b7d"
            ],
            [
             0.2,
             "#de77ae"
            ],
            [
             0.3,
             "#f1b6da"
            ],
            [
             0.4,
             "#fde0ef"
            ],
            [
             0.5,
             "#f7f7f7"
            ],
            [
             0.6,
             "#e6f5d0"
            ],
            [
             0.7,
             "#b8e186"
            ],
            [
             0.8,
             "#7fbc41"
            ],
            [
             0.9,
             "#4d9221"
            ],
            [
             1,
             "#276419"
            ]
           ],
           "sequential": [
            [
             0,
             "#0d0887"
            ],
            [
             0.1111111111111111,
             "#46039f"
            ],
            [
             0.2222222222222222,
             "#7201a8"
            ],
            [
             0.3333333333333333,
             "#9c179e"
            ],
            [
             0.4444444444444444,
             "#bd3786"
            ],
            [
             0.5555555555555556,
             "#d8576b"
            ],
            [
             0.6666666666666666,
             "#ed7953"
            ],
            [
             0.7777777777777778,
             "#fb9f3a"
            ],
            [
             0.8888888888888888,
             "#fdca26"
            ],
            [
             1,
             "#f0f921"
            ]
           ],
           "sequentialminus": [
            [
             0,
             "#0d0887"
            ],
            [
             0.1111111111111111,
             "#46039f"
            ],
            [
             0.2222222222222222,
             "#7201a8"
            ],
            [
             0.3333333333333333,
             "#9c179e"
            ],
            [
             0.4444444444444444,
             "#bd3786"
            ],
            [
             0.5555555555555556,
             "#d8576b"
            ],
            [
             0.6666666666666666,
             "#ed7953"
            ],
            [
             0.7777777777777778,
             "#fb9f3a"
            ],
            [
             0.8888888888888888,
             "#fdca26"
            ],
            [
             1,
             "#f0f921"
            ]
           ]
          },
          "colorway": [
           "#636efa",
           "#EF553B",
           "#00cc96",
           "#ab63fa",
           "#FFA15A",
           "#19d3f3",
           "#FF6692",
           "#B6E880",
           "#FF97FF",
           "#FECB52"
          ],
          "font": {
           "color": "#2a3f5f"
          },
          "geo": {
           "bgcolor": "white",
           "lakecolor": "white",
           "landcolor": "#E5ECF6",
           "showlakes": true,
           "showland": true,
           "subunitcolor": "white"
          },
          "hoverlabel": {
           "align": "left"
          },
          "hovermode": "closest",
          "mapbox": {
           "style": "light"
          },
          "paper_bgcolor": "white",
          "plot_bgcolor": "#E5ECF6",
          "polar": {
           "angularaxis": {
            "gridcolor": "white",
            "linecolor": "white",
            "ticks": ""
           },
           "bgcolor": "#E5ECF6",
           "radialaxis": {
            "gridcolor": "white",
            "linecolor": "white",
            "ticks": ""
           }
          },
          "scene": {
           "xaxis": {
            "backgroundcolor": "#E5ECF6",
            "gridcolor": "white",
            "gridwidth": 2,
            "linecolor": "white",
            "showbackground": true,
            "ticks": "",
            "zerolinecolor": "white"
           },
           "yaxis": {
            "backgroundcolor": "#E5ECF6",
            "gridcolor": "white",
            "gridwidth": 2,
            "linecolor": "white",
            "showbackground": true,
            "ticks": "",
            "zerolinecolor": "white"
           },
           "zaxis": {
            "backgroundcolor": "#E5ECF6",
            "gridcolor": "white",
            "gridwidth": 2,
            "linecolor": "white",
            "showbackground": true,
            "ticks": "",
            "zerolinecolor": "white"
           }
          },
          "shapedefaults": {
           "line": {
            "color": "#2a3f5f"
           }
          },
          "ternary": {
           "aaxis": {
            "gridcolor": "white",
            "linecolor": "white",
            "ticks": ""
           },
           "baxis": {
            "gridcolor": "white",
            "linecolor": "white",
            "ticks": ""
           },
           "bgcolor": "#E5ECF6",
           "caxis": {
            "gridcolor": "white",
            "linecolor": "white",
            "ticks": ""
           }
          },
          "title": {
           "x": 0.05
          },
          "xaxis": {
           "automargin": true,
           "gridcolor": "white",
           "linecolor": "white",
           "ticks": "",
           "title": {
            "standoff": 15
           },
           "zerolinecolor": "white",
           "zerolinewidth": 2
          },
          "yaxis": {
           "automargin": true,
           "gridcolor": "white",
           "linecolor": "white",
           "ticks": "",
           "title": {
            "standoff": 15
           },
           "zerolinecolor": "white",
           "zerolinewidth": 2
          }
         }
        },
        "title": {
         "text": "Happiness Score and Factors for Top 10 Countries (CWUR)"
        },
        "xaxis": {
         "title": {
          "text": "Country"
         }
        },
        "yaxis": {
         "range": [
          1,
          10
         ],
         "title": {
          "text": "Score"
         }
        }
       }
      }
     },
     "metadata": {},
     "output_type": "display_data"
    }
   ],
   "source": [
    "#will be deleted\n",
    "df_top10 = Uni_df['CWUR'].sort_values(by='Rank', ascending=True).head(10)\n",
    "\n",
    "countries = df_top10['University Name']\n",
    "happiness_score = df_top10['Rank']\n",
    "factors = ['Educational Rank', 'Employability Rank', 'Faculty Rank', 'Research Rank']\n",
    "scores = df_top10[factors].values.T\n",
    "\n",
    "fig = go.Figure()\n",
    "\n",
    "for i, factor in enumerate(factors):\n",
    "    fig.add_trace(go.Bar(x=countries, y=scores[i], name=factor))\n",
    "\n",
    "#Reverse the order of happiness_score\n",
    "happiness_score = happiness_score[::-1]\n",
    "\n",
    "fig.add_trace(go.Bar(x=countries, y=happiness_score, name='Rank'))\n",
    "\n",
    "fig.update_layout(\n",
    "    barmode='group',\n",
    "    title='Happiness Score and Factors for Top 10 Countries (CWUR)',\n",
    "    xaxis=dict(title='Country'),\n",
    "    yaxis=dict(title='Score', range=[happiness_score.min(), happiness_score.max()]),  # Set the range for reversed scores\n",
    "    legend=dict(title='Factors', orientation='h', yanchor='bottom', y=1.02, xanchor='right', x=1)\n",
    "    #color_discrete_sequence=px.colors.qualitative.Pastel\n",
    ")\n",
    "\n",
    "fig.show()"
   ]
  },
  {
   "cell_type": "code",
   "execution_count": 297,
   "metadata": {},
   "outputs": [
    {
     "data": {
      "text/html": [
       "<div>\n",
       "<style scoped>\n",
       "    .dataframe tbody tr th:only-of-type {\n",
       "        vertical-align: middle;\n",
       "    }\n",
       "\n",
       "    .dataframe tbody tr th {\n",
       "        vertical-align: top;\n",
       "    }\n",
       "\n",
       "    .dataframe thead th {\n",
       "        text-align: right;\n",
       "    }\n",
       "</style>\n",
       "<table border=\"1\" class=\"dataframe\">\n",
       "  <thead>\n",
       "    <tr style=\"text-align: right;\">\n",
       "      <th></th>\n",
       "      <th>Rank</th>\n",
       "      <th>University Name</th>\n",
       "      <th>Location</th>\n",
       "      <th>National Rank</th>\n",
       "      <th>Educational Rank</th>\n",
       "      <th>Employability Rank</th>\n",
       "      <th>Faculty Rank</th>\n",
       "      <th>Research Rank</th>\n",
       "      <th>Total Score</th>\n",
       "      <th>Ratio</th>\n",
       "    </tr>\n",
       "  </thead>\n",
       "  <tbody>\n",
       "    <tr>\n",
       "      <th>0</th>\n",
       "      <td>1</td>\n",
       "      <td>Harvard University</td>\n",
       "      <td>USA</td>\n",
       "      <td>1</td>\n",
       "      <td>1</td>\n",
       "      <td>1</td>\n",
       "      <td>1</td>\n",
       "      <td>1</td>\n",
       "      <td>100.0</td>\n",
       "      <td>0.1</td>\n",
       "    </tr>\n",
       "    <tr>\n",
       "      <th>1</th>\n",
       "      <td>2</td>\n",
       "      <td>Massachusetts Institute of Technology</td>\n",
       "      <td>USA</td>\n",
       "      <td>2</td>\n",
       "      <td>4</td>\n",
       "      <td>12</td>\n",
       "      <td>3</td>\n",
       "      <td>9</td>\n",
       "      <td>96.7</td>\n",
       "      <td>0.1</td>\n",
       "    </tr>\n",
       "    <tr>\n",
       "      <th>2</th>\n",
       "      <td>3</td>\n",
       "      <td>Stanford University</td>\n",
       "      <td>USA</td>\n",
       "      <td>3</td>\n",
       "      <td>11</td>\n",
       "      <td>4</td>\n",
       "      <td>2</td>\n",
       "      <td>2</td>\n",
       "      <td>95.2</td>\n",
       "      <td>0.1</td>\n",
       "    </tr>\n",
       "    <tr>\n",
       "      <th>3</th>\n",
       "      <td>4</td>\n",
       "      <td>University of Cambridge</td>\n",
       "      <td>United Kingdom</td>\n",
       "      <td>1</td>\n",
       "      <td>3</td>\n",
       "      <td>25</td>\n",
       "      <td>5</td>\n",
       "      <td>11</td>\n",
       "      <td>94.1</td>\n",
       "      <td>0.1</td>\n",
       "    </tr>\n",
       "    <tr>\n",
       "      <th>4</th>\n",
       "      <td>5</td>\n",
       "      <td>University of Oxford</td>\n",
       "      <td>United Kingdom</td>\n",
       "      <td>2</td>\n",
       "      <td>7</td>\n",
       "      <td>27</td>\n",
       "      <td>9</td>\n",
       "      <td>4</td>\n",
       "      <td>93.3</td>\n",
       "      <td>0.1</td>\n",
       "    </tr>\n",
       "  </tbody>\n",
       "</table>\n",
       "</div>"
      ],
      "text/plain": [
       "   Rank                        University Name        Location  National Rank  \\\n",
       "0     1                     Harvard University             USA              1   \n",
       "1     2  Massachusetts Institute of Technology             USA              2   \n",
       "2     3                    Stanford University             USA              3   \n",
       "3     4                University of Cambridge  United Kingdom              1   \n",
       "4     5                   University of Oxford  United Kingdom              2   \n",
       "\n",
       "   Educational Rank  Employability Rank  Faculty Rank  Research Rank  \\\n",
       "0                 1                   1             1              1   \n",
       "1                 4                  12             3              9   \n",
       "2                11                   4             2              2   \n",
       "3                 3                  25             5             11   \n",
       "4                 7                  27             9              4   \n",
       "\n",
       "   Total Score  Ratio  \n",
       "0        100.0    0.1  \n",
       "1         96.7    0.1  \n",
       "2         95.2    0.1  \n",
       "3         94.1    0.1  \n",
       "4         93.3    0.1  "
      ]
     },
     "execution_count": 297,
     "metadata": {},
     "output_type": "execute_result"
    }
   ],
   "source": [
    "Uni_df['CWUR'].head()"
   ]
  },
  {
   "cell_type": "code",
   "execution_count": 312,
   "metadata": {},
   "outputs": [
    {
     "data": {
      "text/html": [
       "<div>\n",
       "<style scoped>\n",
       "    .dataframe tbody tr th:only-of-type {\n",
       "        vertical-align: middle;\n",
       "    }\n",
       "\n",
       "    .dataframe tbody tr th {\n",
       "        vertical-align: top;\n",
       "    }\n",
       "\n",
       "    .dataframe thead th {\n",
       "        text-align: right;\n",
       "    }\n",
       "</style>\n",
       "<table border=\"1\" class=\"dataframe\">\n",
       "  <thead>\n",
       "    <tr style=\"text-align: right;\">\n",
       "      <th></th>\n",
       "      <th>Rank</th>\n",
       "      <th>University Name</th>\n",
       "      <th>Location</th>\n",
       "      <th>National Rank</th>\n",
       "      <th>Educational Rank</th>\n",
       "      <th>Employability Rank</th>\n",
       "      <th>Faculty Rank</th>\n",
       "      <th>Research Rank</th>\n",
       "      <th>Total Score</th>\n",
       "      <th>Ratio</th>\n",
       "      <th>Educational Score</th>\n",
       "      <th>Employability Score</th>\n",
       "      <th>Faculty Score</th>\n",
       "      <th>Research Score</th>\n",
       "      <th>Educational Percentage</th>\n",
       "      <th>Employability Percentage</th>\n",
       "      <th>Faculty Percentage</th>\n",
       "      <th>Research Percentage</th>\n",
       "    </tr>\n",
       "  </thead>\n",
       "  <tbody>\n",
       "    <tr>\n",
       "      <th>0</th>\n",
       "      <td>1</td>\n",
       "      <td>Harvard University</td>\n",
       "      <td>USA</td>\n",
       "      <td>1</td>\n",
       "      <td>1</td>\n",
       "      <td>1</td>\n",
       "      <td>1</td>\n",
       "      <td>1</td>\n",
       "      <td>100.0</td>\n",
       "      <td>0.1</td>\n",
       "      <td>2000</td>\n",
       "      <td>2000</td>\n",
       "      <td>2000</td>\n",
       "      <td>2000</td>\n",
       "      <td>100.00</td>\n",
       "      <td>100.00</td>\n",
       "      <td>100.00</td>\n",
       "      <td>100.00</td>\n",
       "    </tr>\n",
       "    <tr>\n",
       "      <th>1</th>\n",
       "      <td>2</td>\n",
       "      <td>Massachusetts Institute of Technology</td>\n",
       "      <td>USA</td>\n",
       "      <td>2</td>\n",
       "      <td>4</td>\n",
       "      <td>12</td>\n",
       "      <td>3</td>\n",
       "      <td>9</td>\n",
       "      <td>96.7</td>\n",
       "      <td>0.1</td>\n",
       "      <td>1997</td>\n",
       "      <td>1989</td>\n",
       "      <td>1998</td>\n",
       "      <td>1992</td>\n",
       "      <td>99.85</td>\n",
       "      <td>99.45</td>\n",
       "      <td>99.90</td>\n",
       "      <td>99.60</td>\n",
       "    </tr>\n",
       "    <tr>\n",
       "      <th>2</th>\n",
       "      <td>3</td>\n",
       "      <td>Stanford University</td>\n",
       "      <td>USA</td>\n",
       "      <td>3</td>\n",
       "      <td>11</td>\n",
       "      <td>4</td>\n",
       "      <td>2</td>\n",
       "      <td>2</td>\n",
       "      <td>95.2</td>\n",
       "      <td>0.1</td>\n",
       "      <td>1990</td>\n",
       "      <td>1997</td>\n",
       "      <td>1999</td>\n",
       "      <td>1999</td>\n",
       "      <td>99.50</td>\n",
       "      <td>99.85</td>\n",
       "      <td>99.95</td>\n",
       "      <td>99.95</td>\n",
       "    </tr>\n",
       "    <tr>\n",
       "      <th>3</th>\n",
       "      <td>4</td>\n",
       "      <td>University of Cambridge</td>\n",
       "      <td>United Kingdom</td>\n",
       "      <td>1</td>\n",
       "      <td>3</td>\n",
       "      <td>25</td>\n",
       "      <td>5</td>\n",
       "      <td>11</td>\n",
       "      <td>94.1</td>\n",
       "      <td>0.1</td>\n",
       "      <td>1998</td>\n",
       "      <td>1976</td>\n",
       "      <td>1996</td>\n",
       "      <td>1990</td>\n",
       "      <td>99.90</td>\n",
       "      <td>98.80</td>\n",
       "      <td>99.80</td>\n",
       "      <td>99.50</td>\n",
       "    </tr>\n",
       "    <tr>\n",
       "      <th>4</th>\n",
       "      <td>5</td>\n",
       "      <td>University of Oxford</td>\n",
       "      <td>United Kingdom</td>\n",
       "      <td>2</td>\n",
       "      <td>7</td>\n",
       "      <td>27</td>\n",
       "      <td>9</td>\n",
       "      <td>4</td>\n",
       "      <td>93.3</td>\n",
       "      <td>0.1</td>\n",
       "      <td>1994</td>\n",
       "      <td>1974</td>\n",
       "      <td>1992</td>\n",
       "      <td>1997</td>\n",
       "      <td>99.70</td>\n",
       "      <td>98.70</td>\n",
       "      <td>99.60</td>\n",
       "      <td>99.85</td>\n",
       "    </tr>\n",
       "  </tbody>\n",
       "</table>\n",
       "</div>"
      ],
      "text/plain": [
       "   Rank                        University Name        Location  National Rank  \\\n",
       "0     1                     Harvard University             USA              1   \n",
       "1     2  Massachusetts Institute of Technology             USA              2   \n",
       "2     3                    Stanford University             USA              3   \n",
       "3     4                University of Cambridge  United Kingdom              1   \n",
       "4     5                   University of Oxford  United Kingdom              2   \n",
       "\n",
       "   Educational Rank  Employability Rank  Faculty Rank  Research Rank  \\\n",
       "0                 1                   1             1              1   \n",
       "1                 4                  12             3              9   \n",
       "2                11                   4             2              2   \n",
       "3                 3                  25             5             11   \n",
       "4                 7                  27             9              4   \n",
       "\n",
       "   Total Score  Ratio  Educational Score  Employability Score  Faculty Score  \\\n",
       "0        100.0    0.1               2000                 2000           2000   \n",
       "1         96.7    0.1               1997                 1989           1998   \n",
       "2         95.2    0.1               1990                 1997           1999   \n",
       "3         94.1    0.1               1998                 1976           1996   \n",
       "4         93.3    0.1               1994                 1974           1992   \n",
       "\n",
       "   Research Score  Educational Percentage  Employability Percentage  \\\n",
       "0            2000                  100.00                    100.00   \n",
       "1            1992                   99.85                     99.45   \n",
       "2            1999                   99.50                     99.85   \n",
       "3            1990                   99.90                     98.80   \n",
       "4            1997                   99.70                     98.70   \n",
       "\n",
       "   Faculty Percentage  Research Percentage  \n",
       "0              100.00               100.00  \n",
       "1               99.90                99.60  \n",
       "2               99.95                99.95  \n",
       "3               99.80                99.50  \n",
       "4               99.60                99.85  "
      ]
     },
     "execution_count": 312,
     "metadata": {},
     "output_type": "execute_result"
    }
   ],
   "source": [
    "DF.head()"
   ]
  },
  {
   "cell_type": "code",
   "execution_count": 328,
   "metadata": {},
   "outputs": [
    {
     "data": {
      "application/vnd.plotly.v1+json": {
       "config": {
        "plotlyServerURL": "https://plot.ly"
       },
       "data": [
        {
         "coloraxis": "coloraxis",
         "hovertemplate": "x: %{x}<br>y: %{y}<br>color: %{z}<extra></extra>",
         "name": "0",
         "texttemplate": "%{z}",
         "type": "heatmap",
         "x": [
          "Rank",
          "Educational Score",
          "Employability Score",
          "Faculty Score",
          "Research Score"
         ],
         "xaxis": "x",
         "y": [
          "Rank",
          "Educational Score",
          "Employability Score",
          "Faculty Score",
          "Research Score"
         ],
         "yaxis": "y",
         "z": [
          [
           1,
           -0.5858804293550076,
           -0.3873767703144968,
           -0.4918416810319611,
           -0.34663605199627867
          ],
          [
           -0.5858804293550076,
           1,
           -0.18075999286116423,
           0.4272345211358992,
           0.03992719481434636
          ],
          [
           -0.3873767703144968,
           -0.18075999286116423,
           1,
           -0.2613670765779831,
           0.5286106771330132
          ],
          [
           -0.4918416810319611,
           0.4272345211358992,
           -0.2613670765779831,
           1,
           0.052107642100013604
          ],
          [
           -0.34663605199627867,
           0.03992719481434636,
           0.5286106771330132,
           0.052107642100013604,
           1
          ]
         ]
        }
       ],
       "layout": {
        "coloraxis": {
         "colorscale": [
          [
           0,
           "rgb(5,48,97)"
          ],
          [
           0.1,
           "rgb(33,102,172)"
          ],
          [
           0.2,
           "rgb(67,147,195)"
          ],
          [
           0.3,
           "rgb(146,197,222)"
          ],
          [
           0.4,
           "rgb(209,229,240)"
          ],
          [
           0.5,
           "rgb(247,247,247)"
          ],
          [
           0.6,
           "rgb(253,219,199)"
          ],
          [
           0.7,
           "rgb(244,165,130)"
          ],
          [
           0.8,
           "rgb(214,96,77)"
          ],
          [
           0.9,
           "rgb(178,24,43)"
          ],
          [
           1,
           "rgb(103,0,31)"
          ]
         ]
        },
        "margin": {
         "t": 60
        },
        "template": {
         "data": {
          "bar": [
           {
            "error_x": {
             "color": "#2a3f5f"
            },
            "error_y": {
             "color": "#2a3f5f"
            },
            "marker": {
             "line": {
              "color": "#E5ECF6",
              "width": 0.5
             },
             "pattern": {
              "fillmode": "overlay",
              "size": 10,
              "solidity": 0.2
             }
            },
            "type": "bar"
           }
          ],
          "barpolar": [
           {
            "marker": {
             "line": {
              "color": "#E5ECF6",
              "width": 0.5
             },
             "pattern": {
              "fillmode": "overlay",
              "size": 10,
              "solidity": 0.2
             }
            },
            "type": "barpolar"
           }
          ],
          "carpet": [
           {
            "aaxis": {
             "endlinecolor": "#2a3f5f",
             "gridcolor": "white",
             "linecolor": "white",
             "minorgridcolor": "white",
             "startlinecolor": "#2a3f5f"
            },
            "baxis": {
             "endlinecolor": "#2a3f5f",
             "gridcolor": "white",
             "linecolor": "white",
             "minorgridcolor": "white",
             "startlinecolor": "#2a3f5f"
            },
            "type": "carpet"
           }
          ],
          "choropleth": [
           {
            "colorbar": {
             "outlinewidth": 0,
             "ticks": ""
            },
            "type": "choropleth"
           }
          ],
          "contour": [
           {
            "colorbar": {
             "outlinewidth": 0,
             "ticks": ""
            },
            "colorscale": [
             [
              0,
              "#0d0887"
             ],
             [
              0.1111111111111111,
              "#46039f"
             ],
             [
              0.2222222222222222,
              "#7201a8"
             ],
             [
              0.3333333333333333,
              "#9c179e"
             ],
             [
              0.4444444444444444,
              "#bd3786"
             ],
             [
              0.5555555555555556,
              "#d8576b"
             ],
             [
              0.6666666666666666,
              "#ed7953"
             ],
             [
              0.7777777777777778,
              "#fb9f3a"
             ],
             [
              0.8888888888888888,
              "#fdca26"
             ],
             [
              1,
              "#f0f921"
             ]
            ],
            "type": "contour"
           }
          ],
          "contourcarpet": [
           {
            "colorbar": {
             "outlinewidth": 0,
             "ticks": ""
            },
            "type": "contourcarpet"
           }
          ],
          "heatmap": [
           {
            "colorbar": {
             "outlinewidth": 0,
             "ticks": ""
            },
            "colorscale": [
             [
              0,
              "#0d0887"
             ],
             [
              0.1111111111111111,
              "#46039f"
             ],
             [
              0.2222222222222222,
              "#7201a8"
             ],
             [
              0.3333333333333333,
              "#9c179e"
             ],
             [
              0.4444444444444444,
              "#bd3786"
             ],
             [
              0.5555555555555556,
              "#d8576b"
             ],
             [
              0.6666666666666666,
              "#ed7953"
             ],
             [
              0.7777777777777778,
              "#fb9f3a"
             ],
             [
              0.8888888888888888,
              "#fdca26"
             ],
             [
              1,
              "#f0f921"
             ]
            ],
            "type": "heatmap"
           }
          ],
          "heatmapgl": [
           {
            "colorbar": {
             "outlinewidth": 0,
             "ticks": ""
            },
            "colorscale": [
             [
              0,
              "#0d0887"
             ],
             [
              0.1111111111111111,
              "#46039f"
             ],
             [
              0.2222222222222222,
              "#7201a8"
             ],
             [
              0.3333333333333333,
              "#9c179e"
             ],
             [
              0.4444444444444444,
              "#bd3786"
             ],
             [
              0.5555555555555556,
              "#d8576b"
             ],
             [
              0.6666666666666666,
              "#ed7953"
             ],
             [
              0.7777777777777778,
              "#fb9f3a"
             ],
             [
              0.8888888888888888,
              "#fdca26"
             ],
             [
              1,
              "#f0f921"
             ]
            ],
            "type": "heatmapgl"
           }
          ],
          "histogram": [
           {
            "marker": {
             "pattern": {
              "fillmode": "overlay",
              "size": 10,
              "solidity": 0.2
             }
            },
            "type": "histogram"
           }
          ],
          "histogram2d": [
           {
            "colorbar": {
             "outlinewidth": 0,
             "ticks": ""
            },
            "colorscale": [
             [
              0,
              "#0d0887"
             ],
             [
              0.1111111111111111,
              "#46039f"
             ],
             [
              0.2222222222222222,
              "#7201a8"
             ],
             [
              0.3333333333333333,
              "#9c179e"
             ],
             [
              0.4444444444444444,
              "#bd3786"
             ],
             [
              0.5555555555555556,
              "#d8576b"
             ],
             [
              0.6666666666666666,
              "#ed7953"
             ],
             [
              0.7777777777777778,
              "#fb9f3a"
             ],
             [
              0.8888888888888888,
              "#fdca26"
             ],
             [
              1,
              "#f0f921"
             ]
            ],
            "type": "histogram2d"
           }
          ],
          "histogram2dcontour": [
           {
            "colorbar": {
             "outlinewidth": 0,
             "ticks": ""
            },
            "colorscale": [
             [
              0,
              "#0d0887"
             ],
             [
              0.1111111111111111,
              "#46039f"
             ],
             [
              0.2222222222222222,
              "#7201a8"
             ],
             [
              0.3333333333333333,
              "#9c179e"
             ],
             [
              0.4444444444444444,
              "#bd3786"
             ],
             [
              0.5555555555555556,
              "#d8576b"
             ],
             [
              0.6666666666666666,
              "#ed7953"
             ],
             [
              0.7777777777777778,
              "#fb9f3a"
             ],
             [
              0.8888888888888888,
              "#fdca26"
             ],
             [
              1,
              "#f0f921"
             ]
            ],
            "type": "histogram2dcontour"
           }
          ],
          "mesh3d": [
           {
            "colorbar": {
             "outlinewidth": 0,
             "ticks": ""
            },
            "type": "mesh3d"
           }
          ],
          "parcoords": [
           {
            "line": {
             "colorbar": {
              "outlinewidth": 0,
              "ticks": ""
             }
            },
            "type": "parcoords"
           }
          ],
          "pie": [
           {
            "automargin": true,
            "type": "pie"
           }
          ],
          "scatter": [
           {
            "fillpattern": {
             "fillmode": "overlay",
             "size": 10,
             "solidity": 0.2
            },
            "type": "scatter"
           }
          ],
          "scatter3d": [
           {
            "line": {
             "colorbar": {
              "outlinewidth": 0,
              "ticks": ""
             }
            },
            "marker": {
             "colorbar": {
              "outlinewidth": 0,
              "ticks": ""
             }
            },
            "type": "scatter3d"
           }
          ],
          "scattercarpet": [
           {
            "marker": {
             "colorbar": {
              "outlinewidth": 0,
              "ticks": ""
             }
            },
            "type": "scattercarpet"
           }
          ],
          "scattergeo": [
           {
            "marker": {
             "colorbar": {
              "outlinewidth": 0,
              "ticks": ""
             }
            },
            "type": "scattergeo"
           }
          ],
          "scattergl": [
           {
            "marker": {
             "colorbar": {
              "outlinewidth": 0,
              "ticks": ""
             }
            },
            "type": "scattergl"
           }
          ],
          "scattermapbox": [
           {
            "marker": {
             "colorbar": {
              "outlinewidth": 0,
              "ticks": ""
             }
            },
            "type": "scattermapbox"
           }
          ],
          "scatterpolar": [
           {
            "marker": {
             "colorbar": {
              "outlinewidth": 0,
              "ticks": ""
             }
            },
            "type": "scatterpolar"
           }
          ],
          "scatterpolargl": [
           {
            "marker": {
             "colorbar": {
              "outlinewidth": 0,
              "ticks": ""
             }
            },
            "type": "scatterpolargl"
           }
          ],
          "scatterternary": [
           {
            "marker": {
             "colorbar": {
              "outlinewidth": 0,
              "ticks": ""
             }
            },
            "type": "scatterternary"
           }
          ],
          "surface": [
           {
            "colorbar": {
             "outlinewidth": 0,
             "ticks": ""
            },
            "colorscale": [
             [
              0,
              "#0d0887"
             ],
             [
              0.1111111111111111,
              "#46039f"
             ],
             [
              0.2222222222222222,
              "#7201a8"
             ],
             [
              0.3333333333333333,
              "#9c179e"
             ],
             [
              0.4444444444444444,
              "#bd3786"
             ],
             [
              0.5555555555555556,
              "#d8576b"
             ],
             [
              0.6666666666666666,
              "#ed7953"
             ],
             [
              0.7777777777777778,
              "#fb9f3a"
             ],
             [
              0.8888888888888888,
              "#fdca26"
             ],
             [
              1,
              "#f0f921"
             ]
            ],
            "type": "surface"
           }
          ],
          "table": [
           {
            "cells": {
             "fill": {
              "color": "#EBF0F8"
             },
             "line": {
              "color": "white"
             }
            },
            "header": {
             "fill": {
              "color": "#C8D4E3"
             },
             "line": {
              "color": "white"
             }
            },
            "type": "table"
           }
          ]
         },
         "layout": {
          "annotationdefaults": {
           "arrowcolor": "#2a3f5f",
           "arrowhead": 0,
           "arrowwidth": 1
          },
          "autotypenumbers": "strict",
          "coloraxis": {
           "colorbar": {
            "outlinewidth": 0,
            "ticks": ""
           }
          },
          "colorscale": {
           "diverging": [
            [
             0,
             "#8e0152"
            ],
            [
             0.1,
             "#c51b7d"
            ],
            [
             0.2,
             "#de77ae"
            ],
            [
             0.3,
             "#f1b6da"
            ],
            [
             0.4,
             "#fde0ef"
            ],
            [
             0.5,
             "#f7f7f7"
            ],
            [
             0.6,
             "#e6f5d0"
            ],
            [
             0.7,
             "#b8e186"
            ],
            [
             0.8,
             "#7fbc41"
            ],
            [
             0.9,
             "#4d9221"
            ],
            [
             1,
             "#276419"
            ]
           ],
           "sequential": [
            [
             0,
             "#0d0887"
            ],
            [
             0.1111111111111111,
             "#46039f"
            ],
            [
             0.2222222222222222,
             "#7201a8"
            ],
            [
             0.3333333333333333,
             "#9c179e"
            ],
            [
             0.4444444444444444,
             "#bd3786"
            ],
            [
             0.5555555555555556,
             "#d8576b"
            ],
            [
             0.6666666666666666,
             "#ed7953"
            ],
            [
             0.7777777777777778,
             "#fb9f3a"
            ],
            [
             0.8888888888888888,
             "#fdca26"
            ],
            [
             1,
             "#f0f921"
            ]
           ],
           "sequentialminus": [
            [
             0,
             "#0d0887"
            ],
            [
             0.1111111111111111,
             "#46039f"
            ],
            [
             0.2222222222222222,
             "#7201a8"
            ],
            [
             0.3333333333333333,
             "#9c179e"
            ],
            [
             0.4444444444444444,
             "#bd3786"
            ],
            [
             0.5555555555555556,
             "#d8576b"
            ],
            [
             0.6666666666666666,
             "#ed7953"
            ],
            [
             0.7777777777777778,
             "#fb9f3a"
            ],
            [
             0.8888888888888888,
             "#fdca26"
            ],
            [
             1,
             "#f0f921"
            ]
           ]
          },
          "colorway": [
           "#636efa",
           "#EF553B",
           "#00cc96",
           "#ab63fa",
           "#FFA15A",
           "#19d3f3",
           "#FF6692",
           "#B6E880",
           "#FF97FF",
           "#FECB52"
          ],
          "font": {
           "color": "#2a3f5f"
          },
          "geo": {
           "bgcolor": "white",
           "lakecolor": "white",
           "landcolor": "#E5ECF6",
           "showlakes": true,
           "showland": true,
           "subunitcolor": "white"
          },
          "hoverlabel": {
           "align": "left"
          },
          "hovermode": "closest",
          "mapbox": {
           "style": "light"
          },
          "paper_bgcolor": "white",
          "plot_bgcolor": "#E5ECF6",
          "polar": {
           "angularaxis": {
            "gridcolor": "white",
            "linecolor": "white",
            "ticks": ""
           },
           "bgcolor": "#E5ECF6",
           "radialaxis": {
            "gridcolor": "white",
            "linecolor": "white",
            "ticks": ""
           }
          },
          "scene": {
           "xaxis": {
            "backgroundcolor": "#E5ECF6",
            "gridcolor": "white",
            "gridwidth": 2,
            "linecolor": "white",
            "showbackground": true,
            "ticks": "",
            "zerolinecolor": "white"
           },
           "yaxis": {
            "backgroundcolor": "#E5ECF6",
            "gridcolor": "white",
            "gridwidth": 2,
            "linecolor": "white",
            "showbackground": true,
            "ticks": "",
            "zerolinecolor": "white"
           },
           "zaxis": {
            "backgroundcolor": "#E5ECF6",
            "gridcolor": "white",
            "gridwidth": 2,
            "linecolor": "white",
            "showbackground": true,
            "ticks": "",
            "zerolinecolor": "white"
           }
          },
          "shapedefaults": {
           "line": {
            "color": "#2a3f5f"
           }
          },
          "ternary": {
           "aaxis": {
            "gridcolor": "white",
            "linecolor": "white",
            "ticks": ""
           },
           "baxis": {
            "gridcolor": "white",
            "linecolor": "white",
            "ticks": ""
           },
           "bgcolor": "#E5ECF6",
           "caxis": {
            "gridcolor": "white",
            "linecolor": "white",
            "ticks": ""
           }
          },
          "title": {
           "x": 0.05
          },
          "xaxis": {
           "automargin": true,
           "gridcolor": "white",
           "linecolor": "white",
           "ticks": "",
           "title": {
            "standoff": 15
           },
           "zerolinecolor": "white",
           "zerolinewidth": 2
          },
          "yaxis": {
           "automargin": true,
           "gridcolor": "white",
           "linecolor": "white",
           "ticks": "",
           "title": {
            "standoff": 15
           },
           "zerolinecolor": "white",
           "zerolinewidth": 2
          }
         }
        },
        "xaxis": {
         "anchor": "y",
         "constrain": "domain",
         "domain": [
          0,
          1
         ],
         "scaleanchor": "y"
        },
        "yaxis": {
         "anchor": "x",
         "autorange": "reversed",
         "constrain": "domain",
         "domain": [
          0,
          1
         ]
        }
       }
      }
     },
     "metadata": {},
     "output_type": "display_data"
    }
   ],
   "source": [
    "cor2=DF[['Rank','Educational Score','Employability Score','Faculty Score','Research Score']].copy()\n",
    "\n",
    "z = cor2.corr()\n",
    "colorspl=px.colors.qualitative.Pastel\n",
    "fig = px.imshow(z, text_auto=True,color_continuous_scale='RdBu_r')\n",
    "#can not use color palet \n",
    "fig.show()"
   ]
  },
  {
   "cell_type": "code",
   "execution_count": null,
   "metadata": {},
   "outputs": [],
   "source": []
  }
 ],
 "metadata": {
  "kernelspec": {
   "display_name": "Python 3",
   "language": "python",
   "name": "python3"
  },
  "language_info": {
   "codemirror_mode": {
    "name": "ipython",
    "version": 3
   },
   "file_extension": ".py",
   "mimetype": "text/x-python",
   "name": "python",
   "nbconvert_exporter": "python",
   "pygments_lexer": "ipython3",
   "version": "3.12.0"
  }
 },
 "nbformat": 4,
 "nbformat_minor": 2
}
