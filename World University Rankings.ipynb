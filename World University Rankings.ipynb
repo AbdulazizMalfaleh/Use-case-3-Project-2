{
 "cells": [
  {
   "cell_type": "code",
   "execution_count": 1,
   "metadata": {},
   "outputs": [],
   "source": [
    "#Import all relevant libraries\n",
    "import numpy as np\n",
    "import pandas as pd\n",
    "import matplotlib.pyplot as plt\n",
    "import seaborn as sns\n",
    "from scipy.stats import zscore\n",
    " \n",
    "## This statement allows the visuals to render within your Jupyter Notebook.\n",
    "%matplotlib inline"
   ]
  },
  {
   "cell_type": "markdown",
   "metadata": {},
   "source": [
    "## Loading the data\n",
    "We can now load the dataset into pandas using the read_excel() function. This converts the XLSX file into a Pandas dataframe."
   ]
  },
  {
   "cell_type": "code",
   "execution_count": 5,
   "metadata": {},
   "outputs": [],
   "source": [
    "#Read in the xlsx files and convert to a Pandas dataframe\n",
    "Uni_df = {\"THE\": pd.read_excel('Data/Times Higher Education.xlsx'),\n",
    "        \"ARWU\": pd.read_excel('Data/shanghai Ranking.xlsx'),\n",
    "        \"CWUR\": pd.read_excel('Data/Word Rank University.xlsx'),}"
   ]
  },
  {
   "cell_type": "markdown",
   "metadata": {},
   "source": [
    "### Viewing the dataframe\n",
    "We can get a quick sense of the size of our dataset by using the shape method. This returns a tuple with the number of rows and columns in the dataset."
   ]
  },
  {
   "cell_type": "code",
   "execution_count": 6,
   "metadata": {},
   "outputs": [
    {
     "data": {
      "text/html": [
       "<div>\n",
       "<style scoped>\n",
       "    .dataframe tbody tr th:only-of-type {\n",
       "        vertical-align: middle;\n",
       "    }\n",
       "\n",
       "    .dataframe tbody tr th {\n",
       "        vertical-align: top;\n",
       "    }\n",
       "\n",
       "    .dataframe thead th {\n",
       "        text-align: right;\n",
       "    }\n",
       "</style>\n",
       "<table border=\"1\" class=\"dataframe\">\n",
       "  <thead>\n",
       "    <tr style=\"text-align: right;\">\n",
       "      <th></th>\n",
       "      <th>Rank</th>\n",
       "      <th>University Name</th>\n",
       "      <th>ranking-institution-title href</th>\n",
       "      <th>Location</th>\n",
       "      <th>sdg-score-multi__number</th>\n",
       "      <th>sdg-score-multi__value</th>\n",
       "      <th>sdg-score-multi__number 2</th>\n",
       "      <th>sdg-score-multi__value 2</th>\n",
       "      <th>sdg-score-multi__number 3</th>\n",
       "      <th>sdg-score-multi__value 3</th>\n",
       "      <th>sdg-score-multi__value 4</th>\n",
       "      <th>scores</th>\n",
       "      <th>sdg-score-multi__number 5</th>\n",
       "      <th>sdg-score-multi__value 5</th>\n",
       "      <th>sdg-score-multi__number 6</th>\n",
       "      <th>sdg-score-multi__value 6</th>\n",
       "      <th>sdg-score-multi__number 7</th>\n",
       "      <th>sdg-score-multi__value 7</th>\n",
       "      <th>sdg-score-multi__number 8</th>\n",
       "      <th>sdg-score-multi__value 8</th>\n",
       "    </tr>\n",
       "  </thead>\n",
       "  <tbody>\n",
       "    <tr>\n",
       "      <th>0</th>\n",
       "      <td>1</td>\n",
       "      <td>Western Sydney University</td>\n",
       "      <td>https://www.timeshighereducation.com/world-uni...</td>\n",
       "      <td>Australia</td>\n",
       "      <td>5.0</td>\n",
       "      <td>80.3</td>\n",
       "      <td>12.0</td>\n",
       "      <td>93.4</td>\n",
       "      <td>15.0</td>\n",
       "      <td>96.7</td>\n",
       "      <td>98.8</td>\n",
       "      <td>99.4</td>\n",
       "      <td>NaN</td>\n",
       "      <td>NaN</td>\n",
       "      <td>NaN</td>\n",
       "      <td>NaN</td>\n",
       "      <td>NaN</td>\n",
       "      <td>NaN</td>\n",
       "      <td>NaN</td>\n",
       "      <td>NaN</td>\n",
       "    </tr>\n",
       "    <tr>\n",
       "      <th>1</th>\n",
       "      <td>2</td>\n",
       "      <td>University of Manchester</td>\n",
       "      <td>https://www.timeshighereducation.com/world-uni...</td>\n",
       "      <td>United Kingdom</td>\n",
       "      <td>15.0</td>\n",
       "      <td>97.4</td>\n",
       "      <td>12.0</td>\n",
       "      <td>92.9</td>\n",
       "      <td>11.0</td>\n",
       "      <td>92.2</td>\n",
       "      <td>94.8</td>\n",
       "      <td>97.5</td>\n",
       "      <td>NaN</td>\n",
       "      <td>NaN</td>\n",
       "      <td>NaN</td>\n",
       "      <td>NaN</td>\n",
       "      <td>NaN</td>\n",
       "      <td>NaN</td>\n",
       "      <td>NaN</td>\n",
       "      <td>NaN</td>\n",
       "    </tr>\n",
       "    <tr>\n",
       "      <th>2</th>\n",
       "      <td>3</td>\n",
       "      <td>Queen’s University</td>\n",
       "      <td>https://www.timeshighereducation.com/world-uni...</td>\n",
       "      <td>Canada</td>\n",
       "      <td>2.0</td>\n",
       "      <td>90.6</td>\n",
       "      <td>16.0</td>\n",
       "      <td>93.4</td>\n",
       "      <td>11.0</td>\n",
       "      <td>91.0</td>\n",
       "      <td>92.6</td>\n",
       "      <td>97.2</td>\n",
       "      <td>NaN</td>\n",
       "      <td>NaN</td>\n",
       "      <td>NaN</td>\n",
       "      <td>NaN</td>\n",
       "      <td>NaN</td>\n",
       "      <td>NaN</td>\n",
       "      <td>NaN</td>\n",
       "      <td>NaN</td>\n",
       "    </tr>\n",
       "    <tr>\n",
       "      <th>3</th>\n",
       "      <td>4</td>\n",
       "      <td>Universiti Sains Malaysia</td>\n",
       "      <td>https://www.timeshighereducation.com/world-uni...</td>\n",
       "      <td>Malaysia</td>\n",
       "      <td>16.0</td>\n",
       "      <td>94.1</td>\n",
       "      <td>2.0</td>\n",
       "      <td>86.4</td>\n",
       "      <td>1.0</td>\n",
       "      <td>84.9</td>\n",
       "      <td>97.8</td>\n",
       "      <td>96.9</td>\n",
       "      <td>NaN</td>\n",
       "      <td>NaN</td>\n",
       "      <td>NaN</td>\n",
       "      <td>NaN</td>\n",
       "      <td>NaN</td>\n",
       "      <td>NaN</td>\n",
       "      <td>NaN</td>\n",
       "      <td>NaN</td>\n",
       "    </tr>\n",
       "    <tr>\n",
       "      <th>4</th>\n",
       "      <td>5</td>\n",
       "      <td>University of Tasmania</td>\n",
       "      <td>https://www.timeshighereducation.com/world-uni...</td>\n",
       "      <td>Australia</td>\n",
       "      <td>13.0</td>\n",
       "      <td>92.8</td>\n",
       "      <td>15.0</td>\n",
       "      <td>96.2</td>\n",
       "      <td>14.0</td>\n",
       "      <td>95.1</td>\n",
       "      <td>96.3</td>\n",
       "      <td>96.6</td>\n",
       "      <td>NaN</td>\n",
       "      <td>NaN</td>\n",
       "      <td>NaN</td>\n",
       "      <td>NaN</td>\n",
       "      <td>NaN</td>\n",
       "      <td>NaN</td>\n",
       "      <td>NaN</td>\n",
       "      <td>NaN</td>\n",
       "    </tr>\n",
       "  </tbody>\n",
       "</table>\n",
       "</div>"
      ],
      "text/plain": [
       "  Rank           University Name   \\\n",
       "0    1  Western Sydney University   \n",
       "1    2   University of Manchester   \n",
       "2    3         Queen’s University   \n",
       "3    4  Universiti Sains Malaysia   \n",
       "4    5     University of Tasmania   \n",
       "\n",
       "                      ranking-institution-title href        Location  \\\n",
       "0  https://www.timeshighereducation.com/world-uni...       Australia   \n",
       "1  https://www.timeshighereducation.com/world-uni...  United Kingdom   \n",
       "2  https://www.timeshighereducation.com/world-uni...          Canada   \n",
       "3  https://www.timeshighereducation.com/world-uni...        Malaysia   \n",
       "4  https://www.timeshighereducation.com/world-uni...       Australia   \n",
       "\n",
       "   sdg-score-multi__number sdg-score-multi__value  sdg-score-multi__number 2  \\\n",
       "0                      5.0                   80.3                       12.0   \n",
       "1                     15.0                   97.4                       12.0   \n",
       "2                      2.0                   90.6                       16.0   \n",
       "3                     16.0                   94.1                        2.0   \n",
       "4                     13.0                   92.8                       15.0   \n",
       "\n",
       "  sdg-score-multi__value 2  sdg-score-multi__number 3  \\\n",
       "0                     93.4                       15.0   \n",
       "1                     92.9                       11.0   \n",
       "2                     93.4                       11.0   \n",
       "3                     86.4                        1.0   \n",
       "4                     96.2                       14.0   \n",
       "\n",
       "  sdg-score-multi__value 3 sdg-score-multi__value 4 scores  \\\n",
       "0                     96.7                     98.8   99.4   \n",
       "1                     92.2                     94.8   97.5   \n",
       "2                     91.0                     92.6   97.2   \n",
       "3                     84.9                     97.8   96.9   \n",
       "4                     95.1                     96.3   96.6   \n",
       "\n",
       "   sdg-score-multi__number 5 sdg-score-multi__value 5  \\\n",
       "0                        NaN                      NaN   \n",
       "1                        NaN                      NaN   \n",
       "2                        NaN                      NaN   \n",
       "3                        NaN                      NaN   \n",
       "4                        NaN                      NaN   \n",
       "\n",
       "   sdg-score-multi__number 6 sdg-score-multi__value 6  \\\n",
       "0                        NaN                      NaN   \n",
       "1                        NaN                      NaN   \n",
       "2                        NaN                      NaN   \n",
       "3                        NaN                      NaN   \n",
       "4                        NaN                      NaN   \n",
       "\n",
       "   sdg-score-multi__number 7 sdg-score-multi__value 7  \\\n",
       "0                        NaN                      NaN   \n",
       "1                        NaN                      NaN   \n",
       "2                        NaN                      NaN   \n",
       "3                        NaN                      NaN   \n",
       "4                        NaN                      NaN   \n",
       "\n",
       "   sdg-score-multi__number 8 sdg-score-multi__value 8  \n",
       "0                        NaN                      NaN  \n",
       "1                        NaN                      NaN  \n",
       "2                        NaN                      NaN  \n",
       "3                        NaN                      NaN  \n",
       "4                        NaN                      NaN  "
      ]
     },
     "metadata": {},
     "output_type": "display_data"
    },
    {
     "data": {
      "text/html": [
       "<div>\n",
       "<style scoped>\n",
       "    .dataframe tbody tr th:only-of-type {\n",
       "        vertical-align: middle;\n",
       "    }\n",
       "\n",
       "    .dataframe tbody tr th {\n",
       "        vertical-align: top;\n",
       "    }\n",
       "\n",
       "    .dataframe thead th {\n",
       "        text-align: right;\n",
       "    }\n",
       "</style>\n",
       "<table border=\"1\" class=\"dataframe\">\n",
       "  <thead>\n",
       "    <tr style=\"text-align: right;\">\n",
       "      <th></th>\n",
       "      <th>Ranking</th>\n",
       "      <th>University Name</th>\n",
       "      <th>National/Regional Rank</th>\n",
       "      <th>Total Score</th>\n",
       "      <th>LOGO</th>\n",
       "      <th>University Detail</th>\n",
       "    </tr>\n",
       "  </thead>\n",
       "  <tbody>\n",
       "    <tr>\n",
       "      <th>0</th>\n",
       "      <td>1</td>\n",
       "      <td>Harvard University</td>\n",
       "      <td>1</td>\n",
       "      <td>100.0</td>\n",
       "      <td>http://www.shanghairanking.com/_uni/logo/032bd...</td>\n",
       "      <td>http://www.shanghairanking.com/institution/har...</td>\n",
       "    </tr>\n",
       "    <tr>\n",
       "      <th>1</th>\n",
       "      <td>2</td>\n",
       "      <td>Stanford University</td>\n",
       "      <td>2</td>\n",
       "      <td>76.8</td>\n",
       "      <td>http://www.shanghairanking.com/_uni/logo/13de8...</td>\n",
       "      <td>http://www.shanghairanking.com/institution/sta...</td>\n",
       "    </tr>\n",
       "    <tr>\n",
       "      <th>2</th>\n",
       "      <td>3</td>\n",
       "      <td>Massachusetts Institute of Technology (MIT)</td>\n",
       "      <td>3</td>\n",
       "      <td>70.1</td>\n",
       "      <td>http://www.shanghairanking.com/_uni/logo/79165...</td>\n",
       "      <td>http://www.shanghairanking.com/institution/mas...</td>\n",
       "    </tr>\n",
       "    <tr>\n",
       "      <th>3</th>\n",
       "      <td>4</td>\n",
       "      <td>University of Cambridge</td>\n",
       "      <td>1</td>\n",
       "      <td>69.6</td>\n",
       "      <td>http://www.shanghairanking.com/_uni/logo/8d986...</td>\n",
       "      <td>http://www.shanghairanking.com/institution/uni...</td>\n",
       "    </tr>\n",
       "    <tr>\n",
       "      <th>4</th>\n",
       "      <td>5</td>\n",
       "      <td>University of California, Berkeley</td>\n",
       "      <td>4</td>\n",
       "      <td>65.3</td>\n",
       "      <td>http://www.shanghairanking.com/_uni/logo/0ff17...</td>\n",
       "      <td>http://www.shanghairanking.com/institution/uni...</td>\n",
       "    </tr>\n",
       "  </tbody>\n",
       "</table>\n",
       "</div>"
      ],
      "text/plain": [
       "  Ranking                              University Name National/Regional Rank  \\\n",
       "0       1                           Harvard University                      1   \n",
       "1       2                          Stanford University                      2   \n",
       "2       3  Massachusetts Institute of Technology (MIT)                      3   \n",
       "3       4                      University of Cambridge                      1   \n",
       "4       5           University of California, Berkeley                      4   \n",
       "\n",
       "   Total Score                                               LOGO  \\\n",
       "0        100.0  http://www.shanghairanking.com/_uni/logo/032bd...   \n",
       "1         76.8  http://www.shanghairanking.com/_uni/logo/13de8...   \n",
       "2         70.1  http://www.shanghairanking.com/_uni/logo/79165...   \n",
       "3         69.6  http://www.shanghairanking.com/_uni/logo/8d986...   \n",
       "4         65.3  http://www.shanghairanking.com/_uni/logo/0ff17...   \n",
       "\n",
       "                                  University Detail   \n",
       "0  http://www.shanghairanking.com/institution/har...  \n",
       "1  http://www.shanghairanking.com/institution/sta...  \n",
       "2  http://www.shanghairanking.com/institution/mas...  \n",
       "3  http://www.shanghairanking.com/institution/uni...  \n",
       "4  http://www.shanghairanking.com/institution/uni...  "
      ]
     },
     "metadata": {},
     "output_type": "display_data"
    },
    {
     "data": {
      "text/html": [
       "<div>\n",
       "<style scoped>\n",
       "    .dataframe tbody tr th:only-of-type {\n",
       "        vertical-align: middle;\n",
       "    }\n",
       "\n",
       "    .dataframe tbody tr th {\n",
       "        vertical-align: top;\n",
       "    }\n",
       "\n",
       "    .dataframe thead th {\n",
       "        text-align: right;\n",
       "    }\n",
       "</style>\n",
       "<table border=\"1\" class=\"dataframe\">\n",
       "  <thead>\n",
       "    <tr style=\"text-align: right;\">\n",
       "      <th></th>\n",
       "      <th>World Rank</th>\n",
       "      <th>University Names</th>\n",
       "      <th>Location</th>\n",
       "      <th>National Rank</th>\n",
       "      <th>Educational Rank</th>\n",
       "      <th>Employability Rank</th>\n",
       "      <th>Faculty Rank</th>\n",
       "      <th>Research Rank</th>\n",
       "      <th>Score</th>\n",
       "    </tr>\n",
       "  </thead>\n",
       "  <tbody>\n",
       "    <tr>\n",
       "      <th>0</th>\n",
       "      <td>1Top 0.1%</td>\n",
       "      <td>Harvard University\\n  CWUR Rating System:   Ed...</td>\n",
       "      <td>USA</td>\n",
       "      <td>1</td>\n",
       "      <td>1</td>\n",
       "      <td>1</td>\n",
       "      <td>1</td>\n",
       "      <td>1</td>\n",
       "      <td>100.0</td>\n",
       "    </tr>\n",
       "    <tr>\n",
       "      <th>1</th>\n",
       "      <td>2Top 0.1%</td>\n",
       "      <td>Massachusetts Institute of Technology\\n  Educa...</td>\n",
       "      <td>USA</td>\n",
       "      <td>2</td>\n",
       "      <td>4</td>\n",
       "      <td>12</td>\n",
       "      <td>3</td>\n",
       "      <td>9</td>\n",
       "      <td>96.7</td>\n",
       "    </tr>\n",
       "    <tr>\n",
       "      <th>2</th>\n",
       "      <td>3Top 0.1%</td>\n",
       "      <td>Stanford University\\n  Education: A+; Employab...</td>\n",
       "      <td>USA</td>\n",
       "      <td>3</td>\n",
       "      <td>11</td>\n",
       "      <td>4</td>\n",
       "      <td>2</td>\n",
       "      <td>2</td>\n",
       "      <td>95.2</td>\n",
       "    </tr>\n",
       "    <tr>\n",
       "      <th>3</th>\n",
       "      <td>4Top 0.1%</td>\n",
       "      <td>University of Cambridge\\n  Education: A+; Empl...</td>\n",
       "      <td>United Kingdom</td>\n",
       "      <td>1</td>\n",
       "      <td>3</td>\n",
       "      <td>25</td>\n",
       "      <td>5</td>\n",
       "      <td>11</td>\n",
       "      <td>94.1</td>\n",
       "    </tr>\n",
       "    <tr>\n",
       "      <th>4</th>\n",
       "      <td>5Top 0.1%</td>\n",
       "      <td>University of Oxford\\n  Education: A+; Employa...</td>\n",
       "      <td>United Kingdom</td>\n",
       "      <td>2</td>\n",
       "      <td>7</td>\n",
       "      <td>27</td>\n",
       "      <td>9</td>\n",
       "      <td>4</td>\n",
       "      <td>93.3</td>\n",
       "    </tr>\n",
       "  </tbody>\n",
       "</table>\n",
       "</div>"
      ],
      "text/plain": [
       "  World Rank                                   University Names  \\\n",
       "0  1Top 0.1%  Harvard University\\n  CWUR Rating System:   Ed...   \n",
       "1  2Top 0.1%  Massachusetts Institute of Technology\\n  Educa...   \n",
       "2  3Top 0.1%  Stanford University\\n  Education: A+; Employab...   \n",
       "3  4Top 0.1%  University of Cambridge\\n  Education: A+; Empl...   \n",
       "4  5Top 0.1%  University of Oxford\\n  Education: A+; Employa...   \n",
       "\n",
       "        Location   National Rank Educational Rank Employability Rank  \\\n",
       "0             USA              1                1                  1   \n",
       "1             USA              2                4                 12   \n",
       "2             USA              3               11                  4   \n",
       "3  United Kingdom              1                3                 25   \n",
       "4  United Kingdom              2                7                 27   \n",
       "\n",
       "  Faculty Rank Research Rank  Score  \n",
       "0            1             1  100.0  \n",
       "1            3             9   96.7  \n",
       "2            2             2   95.2  \n",
       "3            5            11   94.1  \n",
       "4            9             4   93.3  "
      ]
     },
     "metadata": {},
     "output_type": "display_data"
    }
   ],
   "source": [
    "display(Uni_df['THE'].head())\n",
    "display(Uni_df['ARWU'].head())\n",
    "display(Uni_df['CWUR'].head())"
   ]
  },
  {
   "cell_type": "markdown",
   "metadata": {},
   "source": [
    "## 1. Data Profiling:\n",
    "Data profiling is a comprehensive process of examining the data available in an existing dataset and collecting statistics and information about that data. "
   ]
  },
  {
   "cell_type": "markdown",
   "metadata": {},
   "source": [
    "### What we learned (so far):\n",
    ".We have three data sources each one of them rank the Universities based on different criteria.<br>\n",
    ".In the Times Higher Education dataset we don't know which score is for which.<br>\n",
    ".We have alot of null values in the Times Higher Education dataset.<br>\n",
    ".We have type missmatch where we have scores as objects where they should be integers of floats across all the 3 datasets."
   ]
  },
  {
   "cell_type": "code",
   "execution_count": 8,
   "metadata": {},
   "outputs": [
    {
     "name": "stdout",
     "output_type": "stream",
     "text": [
      "<class 'pandas.core.frame.DataFrame'>\n",
      "RangeIndex: 1591 entries, 0 to 1590\n",
      "Data columns (total 20 columns):\n",
      " #   Column                          Non-Null Count  Dtype  \n",
      "---  ------                          --------------  -----  \n",
      " 0   Rank                            1591 non-null   object \n",
      " 1   University Name                 1591 non-null   object \n",
      " 2   ranking-institution-title href  1500 non-null   object \n",
      " 3   Location                        1500 non-null   object \n",
      " 4   sdg-score-multi__number         867 non-null    float64\n",
      " 5   sdg-score-multi__value          867 non-null    object \n",
      " 6   sdg-score-multi__number 2       826 non-null    float64\n",
      " 7   sdg-score-multi__value 2        825 non-null    object \n",
      " 8   sdg-score-multi__number 3       812 non-null    float64\n",
      " 9   sdg-score-multi__value 3        805 non-null    object \n",
      " 10  sdg-score-multi__value 4        1583 non-null   object \n",
      " 11  scores                          1591 non-null   object \n",
      " 12  sdg-score-multi__number 5       565 non-null    float64\n",
      " 13  sdg-score-multi__value 5        557 non-null    object \n",
      " 14  sdg-score-multi__number 6       498 non-null    float64\n",
      " 15  sdg-score-multi__value 6        496 non-null    object \n",
      " 16  sdg-score-multi__number 7       439 non-null    float64\n",
      " 17  sdg-score-multi__value 7        439 non-null    object \n",
      " 18  sdg-score-multi__number 8       483 non-null    float64\n",
      " 19  sdg-score-multi__value 8        483 non-null    object \n",
      "dtypes: float64(7), object(13)\n",
      "memory usage: 248.7+ KB\n"
     ]
    },
    {
     "data": {
      "text/plain": [
       "'THE'"
      ]
     },
     "metadata": {},
     "output_type": "display_data"
    },
    {
     "data": {
      "text/plain": [
       "None"
      ]
     },
     "metadata": {},
     "output_type": "display_data"
    },
    {
     "name": "stdout",
     "output_type": "stream",
     "text": [
      "<class 'pandas.core.frame.DataFrame'>\n",
      "RangeIndex: 1000 entries, 0 to 999\n",
      "Data columns (total 6 columns):\n",
      " #   Column                  Non-Null Count  Dtype  \n",
      "---  ------                  --------------  -----  \n",
      " 0   Ranking                 1000 non-null   object \n",
      " 1   University Name         1000 non-null   object \n",
      " 2   National/Regional Rank  1000 non-null   object \n",
      " 3   Total Score             1000 non-null   float64\n",
      " 4   LOGO                    1000 non-null   object \n",
      " 5   University Detail       1000 non-null   object \n",
      "dtypes: float64(1), object(5)\n",
      "memory usage: 47.0+ KB\n"
     ]
    },
    {
     "data": {
      "text/plain": [
       "'ARWU'"
      ]
     },
     "metadata": {},
     "output_type": "display_data"
    },
    {
     "data": {
      "text/plain": [
       "None"
      ]
     },
     "metadata": {},
     "output_type": "display_data"
    },
    {
     "name": "stdout",
     "output_type": "stream",
     "text": [
      "<class 'pandas.core.frame.DataFrame'>\n",
      "RangeIndex: 2000 entries, 0 to 1999\n",
      "Data columns (total 9 columns):\n",
      " #   Column              Non-Null Count  Dtype  \n",
      "---  ------              --------------  -----  \n",
      " 0   World Rank          2000 non-null   object \n",
      " 1   University Names    2000 non-null   object \n",
      " 2   Location            2000 non-null   object \n",
      " 3   National Rank       2000 non-null   int64  \n",
      " 4   Educational Rank    2000 non-null   object \n",
      " 5   Employability Rank  2000 non-null   object \n",
      " 6   Faculty Rank        2000 non-null   object \n",
      " 7   Research Rank       2000 non-null   object \n",
      " 8   Score               2000 non-null   float64\n",
      "dtypes: float64(1), int64(1), object(7)\n",
      "memory usage: 140.8+ KB\n"
     ]
    },
    {
     "data": {
      "text/plain": [
       "'CWUR'"
      ]
     },
     "metadata": {},
     "output_type": "display_data"
    },
    {
     "data": {
      "text/plain": [
       "None"
      ]
     },
     "metadata": {},
     "output_type": "display_data"
    }
   ],
   "source": [
    "display(\"THE\", Uni_df['THE'].info())\n",
    "display(\"ARWU\", Uni_df['ARWU'].info())\n",
    "display(\"CWUR\", Uni_df['CWUR'].info())"
   ]
  },
  {
   "cell_type": "code",
   "execution_count": 9,
   "metadata": {},
   "outputs": [
    {
     "data": {
      "text/plain": [
       "'THE'"
      ]
     },
     "metadata": {},
     "output_type": "display_data"
    },
    {
     "data": {
      "text/plain": [
       "(1591, 20)"
      ]
     },
     "metadata": {},
     "output_type": "display_data"
    },
    {
     "data": {
      "text/plain": [
       "'ARWU'"
      ]
     },
     "metadata": {},
     "output_type": "display_data"
    },
    {
     "data": {
      "text/plain": [
       "(1000, 6)"
      ]
     },
     "metadata": {},
     "output_type": "display_data"
    },
    {
     "data": {
      "text/plain": [
       "'CWUR'"
      ]
     },
     "metadata": {},
     "output_type": "display_data"
    },
    {
     "data": {
      "text/plain": [
       "(2000, 9)"
      ]
     },
     "metadata": {},
     "output_type": "display_data"
    }
   ],
   "source": [
    "display(\"THE\", Uni_df['THE'].shape)\n",
    "display(\"ARWU\", Uni_df['ARWU'].shape)\n",
    "display(\"CWUR\", Uni_df['CWUR'].shape)"
   ]
  },
  {
   "cell_type": "code",
   "execution_count": 10,
   "metadata": {},
   "outputs": [
    {
     "data": {
      "text/plain": [
       "'THE'"
      ]
     },
     "metadata": {},
     "output_type": "display_data"
    },
    {
     "data": {
      "text/html": [
       "<div>\n",
       "<style scoped>\n",
       "    .dataframe tbody tr th:only-of-type {\n",
       "        vertical-align: middle;\n",
       "    }\n",
       "\n",
       "    .dataframe tbody tr th {\n",
       "        vertical-align: top;\n",
       "    }\n",
       "\n",
       "    .dataframe thead th {\n",
       "        text-align: right;\n",
       "    }\n",
       "</style>\n",
       "<table border=\"1\" class=\"dataframe\">\n",
       "  <thead>\n",
       "    <tr style=\"text-align: right;\">\n",
       "      <th></th>\n",
       "      <th>sdg-score-multi__number</th>\n",
       "      <th>sdg-score-multi__number 2</th>\n",
       "      <th>sdg-score-multi__number 3</th>\n",
       "      <th>sdg-score-multi__number 5</th>\n",
       "      <th>sdg-score-multi__number 6</th>\n",
       "      <th>sdg-score-multi__number 7</th>\n",
       "      <th>sdg-score-multi__number 8</th>\n",
       "    </tr>\n",
       "  </thead>\n",
       "  <tbody>\n",
       "    <tr>\n",
       "      <th>count</th>\n",
       "      <td>867.000000</td>\n",
       "      <td>826.000000</td>\n",
       "      <td>812.000000</td>\n",
       "      <td>565.000000</td>\n",
       "      <td>498.000000</td>\n",
       "      <td>439.000000</td>\n",
       "      <td>483.000000</td>\n",
       "    </tr>\n",
       "    <tr>\n",
       "      <th>mean</th>\n",
       "      <td>8.193772</td>\n",
       "      <td>8.446731</td>\n",
       "      <td>7.902709</td>\n",
       "      <td>5.488496</td>\n",
       "      <td>6.777108</td>\n",
       "      <td>7.596811</td>\n",
       "      <td>5.962733</td>\n",
       "    </tr>\n",
       "    <tr>\n",
       "      <th>std</th>\n",
       "      <td>4.240660</td>\n",
       "      <td>4.786111</td>\n",
       "      <td>4.403411</td>\n",
       "      <td>3.151375</td>\n",
       "      <td>3.230968</td>\n",
       "      <td>4.278980</td>\n",
       "      <td>3.346928</td>\n",
       "    </tr>\n",
       "    <tr>\n",
       "      <th>min</th>\n",
       "      <td>1.000000</td>\n",
       "      <td>1.000000</td>\n",
       "      <td>1.000000</td>\n",
       "      <td>1.000000</td>\n",
       "      <td>1.000000</td>\n",
       "      <td>1.000000</td>\n",
       "      <td>3.000000</td>\n",
       "    </tr>\n",
       "    <tr>\n",
       "      <th>25%</th>\n",
       "      <td>4.000000</td>\n",
       "      <td>4.000000</td>\n",
       "      <td>5.000000</td>\n",
       "      <td>3.000000</td>\n",
       "      <td>4.000000</td>\n",
       "      <td>4.000000</td>\n",
       "      <td>4.000000</td>\n",
       "    </tr>\n",
       "    <tr>\n",
       "      <th>50%</th>\n",
       "      <td>9.000000</td>\n",
       "      <td>8.000000</td>\n",
       "      <td>8.000000</td>\n",
       "      <td>5.000000</td>\n",
       "      <td>6.000000</td>\n",
       "      <td>7.000000</td>\n",
       "      <td>4.000000</td>\n",
       "    </tr>\n",
       "    <tr>\n",
       "      <th>75%</th>\n",
       "      <td>11.000000</td>\n",
       "      <td>12.000000</td>\n",
       "      <td>11.000000</td>\n",
       "      <td>8.000000</td>\n",
       "      <td>8.000000</td>\n",
       "      <td>10.000000</td>\n",
       "      <td>7.000000</td>\n",
       "    </tr>\n",
       "    <tr>\n",
       "      <th>max</th>\n",
       "      <td>16.000000</td>\n",
       "      <td>16.000000</td>\n",
       "      <td>16.000000</td>\n",
       "      <td>16.000000</td>\n",
       "      <td>16.000000</td>\n",
       "      <td>16.000000</td>\n",
       "      <td>16.000000</td>\n",
       "    </tr>\n",
       "  </tbody>\n",
       "</table>\n",
       "</div>"
      ],
      "text/plain": [
       "       sdg-score-multi__number  sdg-score-multi__number 2  \\\n",
       "count               867.000000                 826.000000   \n",
       "mean                  8.193772                   8.446731   \n",
       "std                   4.240660                   4.786111   \n",
       "min                   1.000000                   1.000000   \n",
       "25%                   4.000000                   4.000000   \n",
       "50%                   9.000000                   8.000000   \n",
       "75%                  11.000000                  12.000000   \n",
       "max                  16.000000                  16.000000   \n",
       "\n",
       "       sdg-score-multi__number 3  sdg-score-multi__number 5  \\\n",
       "count                 812.000000                 565.000000   \n",
       "mean                    7.902709                   5.488496   \n",
       "std                     4.403411                   3.151375   \n",
       "min                     1.000000                   1.000000   \n",
       "25%                     5.000000                   3.000000   \n",
       "50%                     8.000000                   5.000000   \n",
       "75%                    11.000000                   8.000000   \n",
       "max                    16.000000                  16.000000   \n",
       "\n",
       "       sdg-score-multi__number 6  sdg-score-multi__number 7  \\\n",
       "count                 498.000000                 439.000000   \n",
       "mean                    6.777108                   7.596811   \n",
       "std                     3.230968                   4.278980   \n",
       "min                     1.000000                   1.000000   \n",
       "25%                     4.000000                   4.000000   \n",
       "50%                     6.000000                   7.000000   \n",
       "75%                     8.000000                  10.000000   \n",
       "max                    16.000000                  16.000000   \n",
       "\n",
       "       sdg-score-multi__number 8  \n",
       "count                 483.000000  \n",
       "mean                    5.962733  \n",
       "std                     3.346928  \n",
       "min                     3.000000  \n",
       "25%                     4.000000  \n",
       "50%                     4.000000  \n",
       "75%                     7.000000  \n",
       "max                    16.000000  "
      ]
     },
     "metadata": {},
     "output_type": "display_data"
    },
    {
     "data": {
      "text/plain": [
       "'ARWU'"
      ]
     },
     "metadata": {},
     "output_type": "display_data"
    },
    {
     "data": {
      "text/html": [
       "<div>\n",
       "<style scoped>\n",
       "    .dataframe tbody tr th:only-of-type {\n",
       "        vertical-align: middle;\n",
       "    }\n",
       "\n",
       "    .dataframe tbody tr th {\n",
       "        vertical-align: top;\n",
       "    }\n",
       "\n",
       "    .dataframe thead th {\n",
       "        text-align: right;\n",
       "    }\n",
       "</style>\n",
       "<table border=\"1\" class=\"dataframe\">\n",
       "  <thead>\n",
       "    <tr style=\"text-align: right;\">\n",
       "      <th></th>\n",
       "      <th>Total Score</th>\n",
       "    </tr>\n",
       "  </thead>\n",
       "  <tbody>\n",
       "    <tr>\n",
       "      <th>count</th>\n",
       "      <td>1000.000000</td>\n",
       "    </tr>\n",
       "    <tr>\n",
       "      <th>mean</th>\n",
       "      <td>5.943500</td>\n",
       "    </tr>\n",
       "    <tr>\n",
       "      <th>std</th>\n",
       "      <td>12.379624</td>\n",
       "    </tr>\n",
       "    <tr>\n",
       "      <th>min</th>\n",
       "      <td>0.000000</td>\n",
       "    </tr>\n",
       "    <tr>\n",
       "      <th>25%</th>\n",
       "      <td>0.000000</td>\n",
       "    </tr>\n",
       "    <tr>\n",
       "      <th>50%</th>\n",
       "      <td>0.000000</td>\n",
       "    </tr>\n",
       "    <tr>\n",
       "      <th>75%</th>\n",
       "      <td>7.500000</td>\n",
       "    </tr>\n",
       "    <tr>\n",
       "      <th>max</th>\n",
       "      <td>100.000000</td>\n",
       "    </tr>\n",
       "  </tbody>\n",
       "</table>\n",
       "</div>"
      ],
      "text/plain": [
       "       Total Score\n",
       "count  1000.000000\n",
       "mean      5.943500\n",
       "std      12.379624\n",
       "min       0.000000\n",
       "25%       0.000000\n",
       "50%       0.000000\n",
       "75%       7.500000\n",
       "max     100.000000"
      ]
     },
     "metadata": {},
     "output_type": "display_data"
    },
    {
     "data": {
      "text/plain": [
       "'CWUR'"
      ]
     },
     "metadata": {},
     "output_type": "display_data"
    },
    {
     "data": {
      "text/html": [
       "<div>\n",
       "<style scoped>\n",
       "    .dataframe tbody tr th:only-of-type {\n",
       "        vertical-align: middle;\n",
       "    }\n",
       "\n",
       "    .dataframe tbody tr th {\n",
       "        vertical-align: top;\n",
       "    }\n",
       "\n",
       "    .dataframe thead th {\n",
       "        text-align: right;\n",
       "    }\n",
       "</style>\n",
       "<table border=\"1\" class=\"dataframe\">\n",
       "  <thead>\n",
       "    <tr style=\"text-align: right;\">\n",
       "      <th></th>\n",
       "      <th>National Rank</th>\n",
       "      <th>Score</th>\n",
       "    </tr>\n",
       "  </thead>\n",
       "  <tbody>\n",
       "    <tr>\n",
       "      <th>count</th>\n",
       "      <td>2000.000000</td>\n",
       "      <td>2000.00000</td>\n",
       "    </tr>\n",
       "    <tr>\n",
       "      <th>mean</th>\n",
       "      <td>69.245000</td>\n",
       "      <td>71.75555</td>\n",
       "    </tr>\n",
       "    <tr>\n",
       "      <th>std</th>\n",
       "      <td>85.538608</td>\n",
       "      <td>5.03880</td>\n",
       "    </tr>\n",
       "    <tr>\n",
       "      <th>min</th>\n",
       "      <td>1.000000</td>\n",
       "      <td>66.00000</td>\n",
       "    </tr>\n",
       "    <tr>\n",
       "      <th>25%</th>\n",
       "      <td>9.750000</td>\n",
       "      <td>67.90000</td>\n",
       "    </tr>\n",
       "    <tr>\n",
       "      <th>50%</th>\n",
       "      <td>33.000000</td>\n",
       "      <td>70.40000</td>\n",
       "    </tr>\n",
       "    <tr>\n",
       "      <th>75%</th>\n",
       "      <td>89.000000</td>\n",
       "      <td>74.30000</td>\n",
       "    </tr>\n",
       "    <tr>\n",
       "      <th>max</th>\n",
       "      <td>332.000000</td>\n",
       "      <td>100.00000</td>\n",
       "    </tr>\n",
       "  </tbody>\n",
       "</table>\n",
       "</div>"
      ],
      "text/plain": [
       "       National Rank       Score\n",
       "count    2000.000000  2000.00000\n",
       "mean       69.245000    71.75555\n",
       "std        85.538608     5.03880\n",
       "min         1.000000    66.00000\n",
       "25%         9.750000    67.90000\n",
       "50%        33.000000    70.40000\n",
       "75%        89.000000    74.30000\n",
       "max       332.000000   100.00000"
      ]
     },
     "metadata": {},
     "output_type": "display_data"
    }
   ],
   "source": [
    "display(\"THE\", Uni_df['THE'].describe())\n",
    "display(\"ARWU\", Uni_df['ARWU'].describe())\n",
    "display(\"CWUR\", Uni_df['CWUR'].describe())"
   ]
  },
  {
   "cell_type": "code",
   "execution_count": 11,
   "metadata": {},
   "outputs": [
    {
     "data": {
      "text/plain": [
       "'THE'"
      ]
     },
     "metadata": {},
     "output_type": "display_data"
    },
    {
     "data": {
      "text/plain": [
       "Index(['Rank', 'University Name ', 'ranking-institution-title href',\n",
       "       'Location', 'sdg-score-multi__number', 'sdg-score-multi__value',\n",
       "       'sdg-score-multi__number 2', 'sdg-score-multi__value 2',\n",
       "       'sdg-score-multi__number 3', 'sdg-score-multi__value 3',\n",
       "       'sdg-score-multi__value 4', 'scores', 'sdg-score-multi__number 5',\n",
       "       'sdg-score-multi__value 5', 'sdg-score-multi__number 6',\n",
       "       'sdg-score-multi__value 6', 'sdg-score-multi__number 7',\n",
       "       'sdg-score-multi__value 7', 'sdg-score-multi__number 8',\n",
       "       'sdg-score-multi__value 8'],\n",
       "      dtype='object')"
      ]
     },
     "metadata": {},
     "output_type": "display_data"
    },
    {
     "data": {
      "text/plain": [
       "'ARWU'"
      ]
     },
     "metadata": {},
     "output_type": "display_data"
    },
    {
     "data": {
      "text/plain": [
       "Index(['Ranking', 'University Name', 'National/Regional Rank', 'Total Score',\n",
       "       'LOGO', 'University Detail '],\n",
       "      dtype='object')"
      ]
     },
     "metadata": {},
     "output_type": "display_data"
    },
    {
     "data": {
      "text/plain": [
       "'CWUR'"
      ]
     },
     "metadata": {},
     "output_type": "display_data"
    },
    {
     "data": {
      "text/plain": [
       "Index(['World Rank', 'University Names', 'Location ', 'National Rank',\n",
       "       'Educational Rank', 'Employability Rank', 'Faculty Rank',\n",
       "       'Research Rank', 'Score'],\n",
       "      dtype='object')"
      ]
     },
     "metadata": {},
     "output_type": "display_data"
    }
   ],
   "source": [
    "display(\"THE\", Uni_df['THE'].columns)\n",
    "display(\"ARWU\", Uni_df['ARWU'].columns)\n",
    "display(\"CWUR\", Uni_df['CWUR'].columns)"
   ]
  },
  {
   "cell_type": "markdown",
   "metadata": {},
   "source": [
    "### Data Quality Checks\n",
    "Data quality checks involve the process of ensuring that the data is accurate, complete, consistent, relevant, and reliable. \n",
    "\n",
    "\n",
    "**Here are typical steps involved in checking data quality:**"
   ]
  },
  {
   "cell_type": "markdown",
   "metadata": {},
   "source": [
    "#### 1. Reliability:\n",
    "Evaluate the data's source and collection process to determine its trustworthiness."
   ]
  },
  {
   "cell_type": "code",
   "execution_count": null,
   "metadata": {},
   "outputs": [],
   "source": []
  }
 ],
 "metadata": {
  "kernelspec": {
   "display_name": "Python 3",
   "language": "python",
   "name": "python3"
  },
  "language_info": {
   "codemirror_mode": {
    "name": "ipython",
    "version": 3
   },
   "file_extension": ".py",
   "mimetype": "text/x-python",
   "name": "python",
   "nbconvert_exporter": "python",
   "pygments_lexer": "ipython3",
   "version": "3.11.9"
  }
 },
 "nbformat": 4,
 "nbformat_minor": 2
}
